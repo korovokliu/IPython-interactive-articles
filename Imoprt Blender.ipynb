{
 "cells": [
  {
   "cell_type": "markdown",
   "metadata": {},
   "source": [
    "Хочу как-то импортировать Blender файлы для манипуляции им в Юпитере. Как это сделать?<br>\n",
    "Инфа, которая может пригодиться:<br>\n",
    "https://docs.blender.org/api/current/info_quickstart.html<br>\n",
    "https://docs.blender.org/api/blender_python_api_2_77_0/info_overview.html<br>\n",
    "https://docs.blender.org/api/current/info_best_practice.html<br>\n",
    "https://docs.blender.org/api/current/bgl.html<br>\n",
    "https://docs.pyvista.org/getting-started/simple.html<br>\n",
    "https://github.com/InsightSoftwareConsortium/itkwidgets<br>\n",
    "\n",
    "Самое важное: использовать PyVista и itkwidgets<br>\n",
    "https://superuser.com/questions/1161307/3d-graphics-in-jupyter-notebook-ipynb\n",
    "<br><br>\n",
    "Но у меня не работает, см пример ниже:"
   ]
  },
  {
   "cell_type": "code",
   "execution_count": 2,
   "metadata": {},
   "outputs": [
    {
     "ename": "ModuleNotFoundError",
     "evalue": "No module named 'vtk'",
     "output_type": "error",
     "traceback": [
      "\u001B[1;31m---------------------------------------------------------------------------\u001B[0m",
      "\u001B[1;31mModuleNotFoundError\u001B[0m                       Traceback (most recent call last)",
      "\u001B[1;32m<ipython-input-2-7beb18c79b8a>\u001B[0m in \u001B[0;36m<module>\u001B[1;34m\u001B[0m\n\u001B[1;32m----> 1\u001B[1;33m \u001B[1;32mimport\u001B[0m \u001B[0mpyvista\u001B[0m\u001B[1;33m\u001B[0m\u001B[1;33m\u001B[0m\u001B[0m\n\u001B[0m\u001B[0;32m      2\u001B[0m \u001B[1;32mfrom\u001B[0m \u001B[0mpyvista\u001B[0m \u001B[1;32mimport\u001B[0m \u001B[0mexamples\u001B[0m\u001B[1;33m\u001B[0m\u001B[1;33m\u001B[0m\u001B[0m\n\u001B[0;32m      3\u001B[0m \u001B[1;32mfrom\u001B[0m \u001B[0mitkwidgets\u001B[0m \u001B[1;32mimport\u001B[0m \u001B[0mview\u001B[0m\u001B[1;33m\u001B[0m\u001B[1;33m\u001B[0m\u001B[0m\n\u001B[0;32m      4\u001B[0m \u001B[0mdataset\u001B[0m \u001B[1;33m=\u001B[0m \u001B[0mexamples\u001B[0m\u001B[1;33m.\u001B[0m\u001B[0mload_uniform\u001B[0m\u001B[1;33m(\u001B[0m\u001B[1;33m)\u001B[0m\u001B[1;33m\u001B[0m\u001B[1;33m\u001B[0m\u001B[0m\n\u001B[0;32m      5\u001B[0m \u001B[0mdataset\u001B[0m\u001B[1;33m\u001B[0m\u001B[1;33m\u001B[0m\u001B[0m\n",
      "\u001B[1;32mc:\\users\\acer\\appdata\\local\\programs\\python\\python38-32\\lib\\site-packages\\pyvista\\__init__.py\u001B[0m in \u001B[0;36m<module>\u001B[1;34m\u001B[0m\n\u001B[0;32m      4\u001B[0m \u001B[1;32mimport\u001B[0m \u001B[0mappdirs\u001B[0m\u001B[1;33m\u001B[0m\u001B[1;33m\u001B[0m\u001B[0m\n\u001B[0;32m      5\u001B[0m \u001B[1;32mfrom\u001B[0m \u001B[0mpyvista\u001B[0m\u001B[1;33m.\u001B[0m\u001B[0m_version\u001B[0m \u001B[1;32mimport\u001B[0m \u001B[0m__version__\u001B[0m\u001B[1;33m\u001B[0m\u001B[1;33m\u001B[0m\u001B[0m\n\u001B[1;32m----> 6\u001B[1;33m \u001B[1;32mfrom\u001B[0m \u001B[0mpyvista\u001B[0m\u001B[1;33m.\u001B[0m\u001B[0mplotting\u001B[0m \u001B[1;32mimport\u001B[0m \u001B[1;33m*\u001B[0m\u001B[1;33m\u001B[0m\u001B[1;33m\u001B[0m\u001B[0m\n\u001B[0m\u001B[0;32m      7\u001B[0m \u001B[1;32mfrom\u001B[0m \u001B[0mpyvista\u001B[0m\u001B[1;33m.\u001B[0m\u001B[0mutilities\u001B[0m \u001B[1;32mimport\u001B[0m \u001B[1;33m*\u001B[0m\u001B[1;33m\u001B[0m\u001B[1;33m\u001B[0m\u001B[0m\n\u001B[0;32m      8\u001B[0m \u001B[1;32mfrom\u001B[0m \u001B[0mpyvista\u001B[0m\u001B[1;33m.\u001B[0m\u001B[0mcore\u001B[0m \u001B[1;32mimport\u001B[0m \u001B[1;33m*\u001B[0m\u001B[1;33m\u001B[0m\u001B[1;33m\u001B[0m\u001B[0m\n",
      "\u001B[1;32mc:\\users\\acer\\appdata\\local\\programs\\python\\python38-32\\lib\\site-packages\\pyvista\\plotting\\__init__.py\u001B[0m in \u001B[0;36m<module>\u001B[1;34m\u001B[0m\n\u001B[0;32m      3\u001B[0m from .colors import (color_char_to_word, get_cmap_safe, hex_to_rgb, hexcolors,\n\u001B[0;32m      4\u001B[0m                      string_to_rgb, PARAVIEW_BACKGROUND)\n\u001B[1;32m----> 5\u001B[1;33m \u001B[1;32mfrom\u001B[0m \u001B[1;33m.\u001B[0m\u001B[0mexport_vtkjs\u001B[0m \u001B[1;32mimport\u001B[0m \u001B[0mexport_plotter_vtkjs\u001B[0m\u001B[1;33m,\u001B[0m \u001B[0mget_vtkjs_url\u001B[0m\u001B[1;33m\u001B[0m\u001B[1;33m\u001B[0m\u001B[0m\n\u001B[0m\u001B[0;32m      6\u001B[0m \u001B[1;32mfrom\u001B[0m \u001B[1;33m.\u001B[0m\u001B[0mhelpers\u001B[0m \u001B[1;32mimport\u001B[0m \u001B[0mplot\u001B[0m\u001B[1;33m,\u001B[0m \u001B[0mplot_arrows\u001B[0m\u001B[1;33m,\u001B[0m \u001B[0mplot_compare_four\u001B[0m\u001B[1;33m,\u001B[0m \u001B[0mplot_itk\u001B[0m\u001B[1;33m\u001B[0m\u001B[1;33m\u001B[0m\u001B[0m\n\u001B[0;32m      7\u001B[0m \u001B[1;32mfrom\u001B[0m \u001B[1;33m.\u001B[0m\u001B[0mitkplotter\u001B[0m \u001B[1;32mimport\u001B[0m \u001B[0mPlotterITK\u001B[0m\u001B[1;33m\u001B[0m\u001B[1;33m\u001B[0m\u001B[0m\n",
      "\u001B[1;32mc:\\users\\acer\\appdata\\local\\programs\\python\\python38-32\\lib\\site-packages\\pyvista\\plotting\\export_vtkjs.py\u001B[0m in \u001B[0;36m<module>\u001B[1;34m\u001B[0m\n\u001B[0;32m     53\u001B[0m \u001B[1;32mimport\u001B[0m \u001B[0mzipfile\u001B[0m\u001B[1;33m\u001B[0m\u001B[1;33m\u001B[0m\u001B[0m\n\u001B[0;32m     54\u001B[0m \u001B[1;33m\u001B[0m\u001B[0m\n\u001B[1;32m---> 55\u001B[1;33m \u001B[1;32mimport\u001B[0m \u001B[0mvtk\u001B[0m\u001B[1;33m\u001B[0m\u001B[1;33m\u001B[0m\u001B[0m\n\u001B[0m\u001B[0;32m     56\u001B[0m \u001B[1;33m\u001B[0m\u001B[0m\n\u001B[0;32m     57\u001B[0m \u001B[0mFILENAME_EXTENSION\u001B[0m \u001B[1;33m=\u001B[0m \u001B[1;34m'.vtkjs'\u001B[0m\u001B[1;33m\u001B[0m\u001B[1;33m\u001B[0m\u001B[0m\n",
      "\u001B[1;31mModuleNotFoundError\u001B[0m: No module named 'vtk'"
     ]
    }
   ],
   "source": [
    "import pyvista\n",
    "from pyvista import examples\n",
    "from itkwidgets import view\n",
    "dataset = examples.load_uniform()\n",
    "dataset\n",
    "view(dataset, slicing_planes=True, ui_collapsed=True, shadow=False)"
   ]
  },
  {
   "cell_type": "markdown",
   "metadata": {},
   "source": [
    "Как работать с VTK, который встроен в PyVista - хз"
   ]
  },
  {
   "cell_type": "code",
   "execution_count": null,
   "metadata": {},
   "outputs": [],
   "source": []
  }
 ],
 "metadata": {
  "kernelspec": {
   "display_name": "Python 3",
   "language": "python",
   "name": "python3"
  },
  "language_info": {
   "codemirror_mode": {
    "name": "ipython",
    "version": 3
   },
   "file_extension": ".py",
   "mimetype": "text/x-python",
   "name": "python",
   "nbconvert_exporter": "python",
   "pygments_lexer": "ipython3",
   "version": "3.8.1"
  }
 },
 "nbformat": 4,
 "nbformat_minor": 4
}

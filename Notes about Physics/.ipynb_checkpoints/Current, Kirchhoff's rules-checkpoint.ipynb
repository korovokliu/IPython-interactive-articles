{
 "cells": [
  {
   "cell_type": "markdown",
   "metadata": {},
   "source": [
    "# Направление тока и напряжения\n",
    "\n",
    "Самой большой путаницей в начале изучения было определение направления тока. Оказывается, ток движется одновременно в обе стороны, поэтому за положительное (отрицательное) направление можно выбрать любое из направлений: "
   ]
  },
  {
   "cell_type": "code",
   "execution_count": null,
   "metadata": {},
   "outputs": [],
   "source": [
    "%%HTML\n",
    "<iframe width=\"560\" height=\"315\" src=\"https://www.youtube.com/embed/KoZ61FujkRk\" frameborder=\"0\" allow=\"accelerometer; autoplay; clipboard-write; encrypted-media; gyroscope; picture-in-picture\" allowfullscreen></iframe>\n",
    "\n",
    "<iframe width=\"560\" height=\"315\" src=\"https://www.youtube.com/embed/hrpPKCDLRN0\" frameborder=\"0\" allow=\"accelerometer; autoplay; clipboard-write; encrypted-media; gyroscope; picture-in-picture\" allowfullscreen></iframe>"
   ]
  },
  {
   "cell_type": "markdown",
   "metadata": {},
   "source": [
    "<details style=\"cursor: pointer; border: 2px ridge #385947; padding: 1px; display: inline-block; margin: 0px 1px 0px 1px; background: #ceffe7;\"> <summary style=\"padding: 0px 7px 0px 0px;\">суммарное напряжение внутри каждого замкнутого контура равно нулю</summary>Другая формулировка: cумма падений напряжений в контуре равна сумме всех ЭДС</details><br>Как и в случае с токами соблюдается правило знаков: направление тока от высокого напряжения к низкому -V (падение напряжения), от низкого к высокому +V"
   ]
  },
  {
   "cell_type": "markdown",
   "metadata": {},
   "source": [
    "Кстати, понимать суть движения \"дырок\" (положительного заряда) и элеткронов (отрицательного заряда) очень важно для понимания работы диодов и транзисторов. Так же важно представлять мысленно понятие напряжения на атомном и бытовом уровне, чтобы представлять, что означает течения тока в место с низкой потенциальной энергией и с высокой потенциальной энергией\n",
    "\n",
    "## Первый и второй законы Кирхгофа (Kirchhoff's Circuit Law, Kirchhoff's Voltage Law)\n",
    "\n",
    "В таком случае, при выборе <b style=\"color: rgb(3, 70, 0);\">направления тока (для расчета по KCL)</b> и <b style=\"color: rgb(150, 1, 21);\">направления обхода замкнутого контура (для расчета по KVL)</b> абсолютно все равно, какое направление выбрать, главное, чтобы <b style=\"color: rgb(3, 70, 0);\">алгебраическая сумма всех токов в узле равна нулю (KCL) по <i>закону сохранения заряда</i></b>, так же как и <b style=\"color: rgb(150, 1, 21);\">алгебраическая сумма всех напряжений внутри замкнутого контура была равна нулю (KVL) по <i>закону сохранения энергии</i></b>.\n",
    "\n",
    "<img src=\"phys_pic/kirchhoffs01.png\">"
   ]
  },
  {
   "cell_type": "markdown",
   "metadata": {},
   "source": [
    "Выбрали знаки для токов: +I -направление в узел, -I - направление из узла<br>\n",
    "Выбрали рандомное направление обохода из точки A<br>\n",
    "При обходе будем следить за потенциалами точек в узлах:\n",
    "$$\n",
    "\\begin{cases}\n",
    "   φ_{A} = φ_{D} + ε₁ - I₁R₁ \\\\\n",
    "   φ_{B} = φ_{A} + ε₂ - I₂R₂ \\\\\n",
    "   φ_{C} = φ_{B} + ε₃ - I₃R₃ \\\\\n",
    "   φ_{D} = φ_{C} + ε₄ - I₄R₄ \\\\\n",
    " \\end{cases}\\\\\n",
    "φ_{A} + φ_{B} + φ_{C}+φ_{D} = (φ_{A} + φ_{B} + φ_{C}+φ_{D}) + (ε₁+ε₂+ε₃+ε₄) -(I₁R₁+I₂R₂+I₃R₃+I₄R₄) \\\\\n",
    "ε₁+ε₂+ε₃+ε₄ = I₁R₁+I₂R₂+I₃R₃+I₄R₄\n",
    "$$\n",
    "<div style=\"border: 4px outset magenta; padding: 3px;\">\n",
    "<ol>\n",
    "Правила использования законов Кирхгофа:\n",
    "    <li>Кол-во уравнений (по первому и второму закону вместе) должно равняться кол-ву неизветсных</li>\n",
    "    <li> Каждые следующие уравнения системы должны включать в себя по крайней мере один элемент, который не был описан в предыдущем (чтобы уравнения не были линейно зависимы) </li>\n",
    "    <li>Положительное направление токов в участках цепи выбирается произвольно</li>\n",
    "    <li>Положительное направление обходов контуров выбирается произвольно</li>\n",
    "    <li>ЭДС берется со знаком \"+\", если она создает ток, совпадающий по направлению с положительным направлением обхода контура</li>\n",
    "</ol>\n",
    "</div>"
   ]
  },
  {
   "cell_type": "markdown",
   "metadata": {},
   "source": [
    "## Пример 1\n",
    "<img style=\"display: float; float: left; padding-right: 3px;\" src=\"phys_pic\\ex_kirchhoffs_01.png\">\n",
    "<br>\n",
    "ε₁ = 5[V]<br>\n",
    "ε₂ = 10[V]<br>\n",
    "R₁ = 1[Ω]<br>\n",
    "R₂ = 20[Ω]<br>\n",
    "R₃ = 5[Ω]<br>\n",
    "<br>Найти: I₁, I₂, I₃<br>\n",
    "<img style=\"display: float; float:; right; padding-right: 3px;\" src=\"phys_pic\\ex_kirchhoffs_02.png\">"
   ]
  },
  {
   "cell_type": "markdown",
   "metadata": {},
   "source": [
    "## Пример 2\n",
    "<img src=\"phys_pic\\ex_kirchhoffs_03.png\">"
   ]
  },
  {
   "cell_type": "markdown",
   "metadata": {},
   "source": [
    "## Урок 264. Соединение источников тока в батареи\n",
    "д/з: Гельфгат № 11.25, 11.27, 11.28, 11.32, 11.33<br><br>\n",
    "<div style=\"border: 5px inset blue;\">\n",
    "<u><b>Последовательное соединение</b></u><br>\n",
    "    Положительный полюс каждого последующего элемента соединен с отрицательным полюсом предыдущего<br>\n",
    "    ЭДС такой батареи: ε\n",
    "    Внутреннее сопротивление:\n",
    "</div>"
   ]
  },
  {
   "cell_type": "code",
   "execution_count": null,
   "metadata": {},
   "outputs": [],
   "source": []
  }
 ],
 "metadata": {
  "kernelspec": {
   "display_name": "Python 3",
   "language": "python",
   "name": "python3"
  },
  "language_info": {
   "codemirror_mode": {
    "name": "ipython",
    "version": 3
   },
   "file_extension": ".py",
   "mimetype": "text/x-python",
   "name": "python",
   "nbconvert_exporter": "python",
   "pygments_lexer": "ipython3",
   "version": "3.8.1"
  }
 },
 "nbformat": 4,
 "nbformat_minor": 4
}

{
 "cells": [
  {
   "cell_type": "markdown",
   "id": "f96bf19a",
   "metadata": {},
   "source": [
    "## Функторы\n",
    "Чтобы сделать экземпляр класса вызываемым, нужно реализовать метод `__call__()`"
   ]
  },
  {
   "cell_type": "code",
   "execution_count": 6,
   "id": "6beeba7e",
   "metadata": {},
   "outputs": [
    {
     "data": {
      "text/plain": [
       "'Hello, J'"
      ]
     },
     "execution_count": 6,
     "metadata": {},
     "output_type": "execute_result"
    }
   ],
   "source": [
    "class StripChars:\n",
    "    def __init__(self, chars):\n",
    "        self.__chars = chars\n",
    "        \n",
    "    def __call__(self, *args, **kwargs):\n",
    "        if not isinstance(args[0], str):\n",
    "            raise ValueError(\"Аргумент должен быть строкой\")\n",
    "            \n",
    "        return args[0].strip(self.__chars)\n",
    "    \n",
    "    def __str__(self):\n",
    "        return self.__chars\n",
    "    \n",
    "s1 = StripChars(\"!?^jo\")\n",
    "s1(\"Hello, Jojo!\") # вызываем экземпляр класса"
   ]
  },
  {
   "cell_type": "code",
   "execution_count": 7,
   "id": "5512c556",
   "metadata": {},
   "outputs": [
    {
     "name": "stdout",
     "output_type": "stream",
     "text": [
      "!?^jo\n"
     ]
    }
   ],
   "source": [
    "print(s1)"
   ]
  },
  {
   "cell_type": "code",
   "execution_count": 13,
   "id": "c7214e69",
   "metadata": {},
   "outputs": [
    {
     "name": "stdout",
     "output_type": "stream",
     "text": [
      "Hello Jojo! Hello Jojo! Hello Jojo!\n",
      "Hello J\n"
     ]
    },
    {
     "ename": "TypeError",
     "evalue": "__init__() takes 2 positional arguments but 3 were given",
     "output_type": "error",
     "traceback": [
      "\u001b[1;31m---------------------------------------------------------------------------\u001b[0m",
      "\u001b[1;31mTypeError\u001b[0m                                 Traceback (most recent call last)",
      "\u001b[1;32m<ipython-input-13-2671240f9f93>\u001b[0m in \u001b[0;36m<module>\u001b[1;34m\u001b[0m\n\u001b[0;32m     14\u001b[0m \u001b[0ms1\u001b[0m \u001b[1;33m=\u001b[0m \u001b[0mStripChars\u001b[0m\u001b[1;33m(\u001b[0m\u001b[1;34m\"!?^jo\"\u001b[0m\u001b[1;33m)\u001b[0m\u001b[1;33m\u001b[0m\u001b[1;33m\u001b[0m\u001b[0m\n\u001b[0;32m     15\u001b[0m \u001b[0mprint\u001b[0m\u001b[1;33m(\u001b[0m\u001b[0ms1\u001b[0m\u001b[1;33m(\u001b[0m\u001b[1;34m\"Hello Jojo!\"\u001b[0m\u001b[1;33m)\u001b[0m\u001b[1;33m)\u001b[0m\u001b[1;33m\u001b[0m\u001b[1;33m\u001b[0m\u001b[0m\n\u001b[1;32m---> 16\u001b[1;33m \u001b[0ms2\u001b[0m \u001b[1;33m=\u001b[0m \u001b[0mStripChars\u001b[0m\u001b[1;33m(\u001b[0m\u001b[1;34m\"!!!!\"\u001b[0m\u001b[1;33m,\u001b[0m \u001b[1;34m\"jkjkjkjk\"\u001b[0m\u001b[1;33m)\u001b[0m\u001b[1;33m\u001b[0m\u001b[1;33m\u001b[0m\u001b[0m\n\u001b[0m\u001b[0;32m     17\u001b[0m \u001b[0mprint\u001b[0m\u001b[1;33m(\u001b[0m\u001b[0ms2\u001b[0m\u001b[1;33m(\u001b[0m\u001b[1;34m\"Hello jk\"\u001b[0m\u001b[1;33m)\u001b[0m\u001b[1;33m)\u001b[0m\u001b[1;33m\u001b[0m\u001b[1;33m\u001b[0m\u001b[0m\n",
      "\u001b[1;31mTypeError\u001b[0m: __init__() takes 2 positional arguments but 3 were given"
     ]
    }
   ],
   "source": [
    "class StripChars:\n",
    "    def __init__(self, chars):\n",
    "        self.__chars = chars\n",
    "        \n",
    "    def __call__(self, *args):\n",
    "        if not isinstance(args[0], str):\n",
    "            raise ValueError(\"Аргумент должен быть строкой\")\n",
    "        return args[0].strip(self.__chars)\n",
    "    \n",
    "    def __str__(self):\n",
    "        return self.__chars\n",
    "    \n",
    "s1 = StripChars(\"!?^jo\")\n",
    "print(s1(\"Hello Jojo!\"))\n",
    "s2 = StripChars(\"!!!!\", \"jkjkjkjk\")\n",
    "print(s2(\"Hello jk\"))"
   ]
  },
  {
   "cell_type": "code",
   "execution_count": null,
   "id": "4deb069e",
   "metadata": {},
   "outputs": [],
   "source": []
  }
 ],
 "metadata": {
  "kernelspec": {
   "display_name": "Python 3",
   "language": "python",
   "name": "python3"
  },
  "language_info": {
   "codemirror_mode": {
    "name": "ipython",
    "version": 3
   },
   "file_extension": ".py",
   "mimetype": "text/x-python",
   "name": "python",
   "nbconvert_exporter": "python",
   "pygments_lexer": "ipython3",
   "version": "3.8.8"
  }
 },
 "nbformat": 4,
 "nbformat_minor": 5
}

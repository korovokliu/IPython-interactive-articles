{
 "cells": [
  {
   "cell_type": "markdown",
   "id": "0daac53e",
   "metadata": {},
   "source": [
    "# @property"
   ]
  },
  {
   "cell_type": "markdown",
   "id": "b58710e7",
   "metadata": {},
   "source": [
    "Этот декоратор позволяет взаимодействовать с методами как с атрибутами. Когда пользоваться декоратором @property:\n",
    "<ol>\n",
    "    <li>\n",
    "<div style=\"border: 3px solid #0bcaff; padding: 2px;\">\n",
    "Если через этот атрибут определяются другие атрибуты и при изменении первого, зависящие от него не переопределяются сразу (например, они записаны в методе <tt>__init__</tt>, который вызывается только один раз при создании экземпляра класса)</div></li>\n",
    "<li>\n",
    "    <div style=\"border: 3px solid #aaff00; padding: 2px;\">\n",
    "Если мы сначала написали код без геттеров и сеттеров (изменяли значение атрибута напрямую), а потом обнаружили, что нужно добавить какое-то условие или функцию, которая обрабатывает введенное значение\n",
    "    </div>\n",
    "        </li>\n",
    "</ol>\n"
   ]
  },
  {
   "cell_type": "markdown",
   "id": "8fd20bf3",
   "metadata": {},
   "source": [
    "<div style=\"background: #0bcaff; text-align: center; font-size: 112%;\">Первый пример: есть зависимые атрибуты</div>"
   ]
  },
  {
   "cell_type": "code",
   "execution_count": 96,
   "id": "9cdff5c3",
   "metadata": {},
   "outputs": [],
   "source": [
    "class Employee:\n",
    "    \n",
    "    def __init__(self, first, last):\n",
    "        self.name = first\n",
    "        self.surname = last\n",
    "        self.email = f'{self.name}_{self.surname}@email.com'\n",
    "    \n",
    "    def fullname(self):\n",
    "        return f'{self.name} {self.surname}'\n",
    "\n",
    "emp1 = Employee('John', 'Smith')"
   ]
  },
  {
   "cell_type": "code",
   "execution_count": null,
   "id": "17535167",
   "metadata": {},
   "outputs": [],
   "source": [
    "@property\n",
    "def name():\n",
    "    "
   ]
  },
  {
   "cell_type": "code",
   "execution_count": 97,
   "id": "1cfd4ce6",
   "metadata": {},
   "outputs": [
    {
     "data": {
      "text/plain": [
       "('John', 'Smith', 'John_Smith@email.com', 'John Smith')"
      ]
     },
     "execution_count": 97,
     "metadata": {},
     "output_type": "execute_result"
    }
   ],
   "source": [
    "emp1.name, emp1.surname, emp1.email, emp1.fullname()"
   ]
  },
  {
   "cell_type": "code",
   "execution_count": 98,
   "id": "24bbc604",
   "metadata": {},
   "outputs": [],
   "source": [
    "emp1.name = 'Jorge'"
   ]
  },
  {
   "cell_type": "code",
   "execution_count": 99,
   "id": "dcbf49f5",
   "metadata": {},
   "outputs": [
    {
     "data": {
      "text/plain": [
       "('Jorge', 'Smith', 'John_Smith@email.com', 'Jorge Smith')"
      ]
     },
     "execution_count": 99,
     "metadata": {},
     "output_type": "execute_result"
    }
   ],
   "source": [
    "emp1.name, emp1.surname, emp1.email, emp1.fullname()"
   ]
  },
  {
   "cell_type": "markdown",
   "id": "67b6533e",
   "metadata": {},
   "source": [
    "Как видим, атрибут `email`, зависящий от `name` и `surname`, не обновился, потому что был определен в ```__init__```, который был вызван только один раз при создании экземпляра и больше не вызывался (в отличие от метода ```fullname()```, который вызвался вручную после изменения атрибута и взял актуальные значения атрибутов).\n",
    "\n",
    "Если мы хотим обращаться к `email` как к атрибуту, но при этом сделать так, чтобы при обращении к нему он вызывался заново как любая функция (брал актуальные данные как метод `fullname()`), то нужно использовать написать его как метод, обернув в декоратор `@property`:"
   ]
  },
  {
   "cell_type": "code",
   "execution_count": 1,
   "id": "64b6eba2",
   "metadata": {},
   "outputs": [],
   "source": [
    "class Employee:\n",
    "    \n",
    "    def __init__(self, first, last):\n",
    "        self.name = first\n",
    "        self.surname = last\n",
    "    \n",
    "    @property\n",
    "    def email(self):\n",
    "        return f'{self.name}_{self.surname}@email.com'\n",
    "\n",
    "emp2 = Employee('Melissa', 'Smith')"
   ]
  },
  {
   "cell_type": "code",
   "execution_count": 6,
   "id": "404f5e0f",
   "metadata": {},
   "outputs": [
    {
     "data": {
      "text/plain": [
       "('Melissa', 'Smith', 'Melissa_Smith@email.com')"
      ]
     },
     "execution_count": 6,
     "metadata": {},
     "output_type": "execute_result"
    }
   ],
   "source": [
    "emp2.name, emp2.surname, emp2.email"
   ]
  },
  {
   "cell_type": "code",
   "execution_count": 7,
   "id": "bc4330a3",
   "metadata": {},
   "outputs": [
    {
     "data": {
      "text/plain": [
       "'Melissa_Evans@email.com'"
      ]
     },
     "execution_count": 7,
     "metadata": {},
     "output_type": "execute_result"
    }
   ],
   "source": [
    "emp2.surname = 'Evans'\n",
    "emp2.email"
   ]
  },
  {
   "cell_type": "markdown",
   "id": "7d156a4c",
   "metadata": {},
   "source": [
    "<div style=\"background: #aaff00; text-align: center; font-size: 112%;\">Второй пример: нужно проверить удовлетворение условия перед изменением значения</div>"
   ]
  },
  {
   "cell_type": "code",
   "execution_count": 122,
   "id": "f5d68a14",
   "metadata": {},
   "outputs": [
    {
     "name": "stdout",
     "output_type": "stream",
     "text": [
      "{'rgb_value': '#ff0000', 'name': 'bright red'}\n"
     ]
    }
   ],
   "source": [
    "class Color:\n",
    "    \n",
    "    @staticmethod\n",
    "    def check(val):\n",
    "        if not val:\n",
    "            raise Exception(\"Invalid Name\")\n",
    "        return val\n",
    "    \n",
    "    \n",
    "    def __init__(self, rgb_value, name):\n",
    "        self.rgb_value = rgb_value\n",
    "        self.name = check(name)\n",
    "                \n",
    "c1 = Color(\"#ff0000\", \"bright red\")\n",
    "print(c1.__dict__)"
   ]
  },
  {
   "cell_type": "code",
   "execution_count": 123,
   "id": "d20838ba",
   "metadata": {},
   "outputs": [
    {
     "ename": "Exception",
     "evalue": "Invalid Name",
     "output_type": "error",
     "traceback": [
      "\u001b[1;31m---------------------------------------------------------------------------\u001b[0m",
      "\u001b[1;31mException\u001b[0m                                 Traceback (most recent call last)",
      "\u001b[1;32m<ipython-input-123-8ef82e9f64d8>\u001b[0m in \u001b[0;36m<module>\u001b[1;34m\u001b[0m\n\u001b[1;32m----> 1\u001b[1;33m \u001b[0mc2\u001b[0m \u001b[1;33m=\u001b[0m \u001b[0mColor\u001b[0m\u001b[1;33m(\u001b[0m\u001b[1;34m\"#ff0000\"\u001b[0m\u001b[1;33m,\u001b[0m \u001b[1;34m\"\"\u001b[0m\u001b[1;33m)\u001b[0m\u001b[1;33m\u001b[0m\u001b[1;33m\u001b[0m\u001b[0m\n\u001b[0m",
      "\u001b[1;32m<ipython-input-122-fe55e4d14fce>\u001b[0m in \u001b[0;36m__init__\u001b[1;34m(self, rgb_value, name)\u001b[0m\n\u001b[0;32m     10\u001b[0m     \u001b[1;32mdef\u001b[0m \u001b[0m__init__\u001b[0m\u001b[1;33m(\u001b[0m\u001b[0mself\u001b[0m\u001b[1;33m,\u001b[0m \u001b[0mrgb_value\u001b[0m\u001b[1;33m,\u001b[0m \u001b[0mname\u001b[0m\u001b[1;33m)\u001b[0m\u001b[1;33m:\u001b[0m\u001b[1;33m\u001b[0m\u001b[1;33m\u001b[0m\u001b[0m\n\u001b[0;32m     11\u001b[0m         \u001b[0mself\u001b[0m\u001b[1;33m.\u001b[0m\u001b[0mrgb_value\u001b[0m \u001b[1;33m=\u001b[0m \u001b[0mrgb_value\u001b[0m\u001b[1;33m\u001b[0m\u001b[1;33m\u001b[0m\u001b[0m\n\u001b[1;32m---> 12\u001b[1;33m         \u001b[0mself\u001b[0m\u001b[1;33m.\u001b[0m\u001b[0mname\u001b[0m \u001b[1;33m=\u001b[0m \u001b[0mcheck\u001b[0m\u001b[1;33m(\u001b[0m\u001b[0mname\u001b[0m\u001b[1;33m)\u001b[0m\u001b[1;33m\u001b[0m\u001b[1;33m\u001b[0m\u001b[0m\n\u001b[0m\u001b[0;32m     13\u001b[0m \u001b[1;33m\u001b[0m\u001b[0m\n\u001b[0;32m     14\u001b[0m \u001b[0mc1\u001b[0m \u001b[1;33m=\u001b[0m \u001b[0mColor\u001b[0m\u001b[1;33m(\u001b[0m\u001b[1;34m\"#ff0000\"\u001b[0m\u001b[1;33m,\u001b[0m \u001b[1;34m\"bright red\"\u001b[0m\u001b[1;33m)\u001b[0m\u001b[1;33m\u001b[0m\u001b[1;33m\u001b[0m\u001b[0m\n",
      "\u001b[1;32m<ipython-input-117-41a90e2aa8cb>\u001b[0m in \u001b[0;36mcheck\u001b[1;34m(val)\u001b[0m\n\u001b[0;32m      1\u001b[0m \u001b[1;32mdef\u001b[0m \u001b[0mcheck\u001b[0m\u001b[1;33m(\u001b[0m\u001b[0mval\u001b[0m\u001b[1;33m)\u001b[0m\u001b[1;33m:\u001b[0m\u001b[1;33m\u001b[0m\u001b[1;33m\u001b[0m\u001b[0m\n\u001b[0;32m      2\u001b[0m     \u001b[1;32mif\u001b[0m \u001b[1;32mnot\u001b[0m \u001b[0mval\u001b[0m\u001b[1;33m:\u001b[0m\u001b[1;33m\u001b[0m\u001b[1;33m\u001b[0m\u001b[0m\n\u001b[1;32m----> 3\u001b[1;33m         \u001b[1;32mraise\u001b[0m \u001b[0mException\u001b[0m\u001b[1;33m(\u001b[0m\u001b[1;34m\"Invalid Name\"\u001b[0m\u001b[1;33m)\u001b[0m\u001b[1;33m\u001b[0m\u001b[1;33m\u001b[0m\u001b[0m\n\u001b[0m\u001b[0;32m      4\u001b[0m     \u001b[1;32mreturn\u001b[0m \u001b[0mval\u001b[0m\u001b[1;33m\u001b[0m\u001b[1;33m\u001b[0m\u001b[0m\n\u001b[0;32m      5\u001b[0m \u001b[1;33m\u001b[0m\u001b[0m\n",
      "\u001b[1;31mException\u001b[0m: Invalid Name"
     ]
    }
   ],
   "source": [
    "c2 = Color(\"#ff0000\", \"\")"
   ]
  },
  {
   "cell_type": "code",
   "execution_count": 124,
   "id": "8109a9c3",
   "metadata": {},
   "outputs": [
    {
     "data": {
      "text/plain": [
       "{'rgb_value': '#ff0000', 'name': 'blue'}"
      ]
     },
     "execution_count": 124,
     "metadata": {},
     "output_type": "execute_result"
    }
   ],
   "source": [
    "c1.name = 'blue'\n",
    "c1.__dict__"
   ]
  },
  {
   "cell_type": "code",
   "execution_count": 125,
   "id": "79e2a3e6",
   "metadata": {},
   "outputs": [
    {
     "data": {
      "text/plain": [
       "{'rgb_value': '#ff0000', 'name': ''}"
      ]
     },
     "execution_count": 125,
     "metadata": {},
     "output_type": "execute_result"
    }
   ],
   "source": [
    "c1.name = ''\n",
    "c1.__dict__"
   ]
  },
  {
   "cell_type": "markdown",
   "id": "f3aed587",
   "metadata": {},
   "source": [
    "Как видим, реализовать нужную логику без помощью отдельного метода, созданного специального для того, чтобы изменять значение атрибута, не получится. При первой инициализации мы передали атрибуту результат функции `check(name)`, но если мы захоим изменить атрибут, ничто не помешает нам просто присвоить этому имени что угодно, и вызов при первом объявлении атрибута нам никак не поможет. Можем вызывать каждый раз этот `check(name)` вручную перед его присвоением , но тогда смысл использовать атрибут вместо метода? \n",
    "\n",
    "_Кстати, мы не можем для такой простой функции использовать lambda или просто написать `self.name = name if name else raise Exception('Invalid Name')`, т.к. в выражениях-генераторах и лямбда-функциях запрещены команды ``return``, `pass`, `assert`, `raise`_"
   ]
  },
  {
   "cell_type": "code",
   "execution_count": null,
   "id": "06514aac",
   "metadata": {},
   "outputs": [],
   "source": [
    "# используем синтаксис декоратора"
   ]
  },
  {
   "cell_type": "markdown",
   "id": "5b70d305",
   "metadata": {},
   "source": [
    "# Но вообще-то, @property ограничивается не только этим..."
   ]
  },
  {
   "cell_type": "markdown",
   "id": "bc7c0ef9",
   "metadata": {},
   "source": [
    "В основе синтаксиса декоратора всегда лежит какая-то функция. То есть сначала создали функцию, потом дали ей возможно обертывать не так: `f_outside(f_inside())`\n",
    "А вот так:\n",
    "<code>\n",
    "@f_outside\n",
    "f_inside()\n",
    "</code>\n",
    "(Нахуя, а главное зачем - см. \"Что такое декораторы, как и когда их создавать\")"
   ]
  },
  {
   "cell_type": "code",
   "execution_count": 8,
   "id": "70c32f3e",
   "metadata": {},
   "outputs": [],
   "source": [
    "class Employee:\n",
    "    \n",
    "    def __init__(self, first, last):\n",
    "        self.name = first\n",
    "        self.surname = last\n",
    "    \n",
    "    def _email(self): # _\"приватный метод\", означает, что метод нужен \n",
    "        # для внутренней работы и не предназначен для вызова напрямую\n",
    "        return f'{self.name}_{self.surname}@email.com'\n",
    "    \n",
    "    def _fullname(self):\n",
    "        return f'{self.name} {self.surname}'\n",
    "    \n",
    "    email = property(_email) # а вот и сам интерефейс, который \n",
    "    # использует приватные методы, определенные выше\n",
    "    fullname = property(_fullname)\n",
    "\n",
    "emp1 = Employee('John', 'Smith')"
   ]
  },
  {
   "cell_type": "code",
   "execution_count": 9,
   "id": "673fd636",
   "metadata": {},
   "outputs": [
    {
     "data": {
      "text/plain": [
       "('John', 'Smith', 'John_Smith@email.com', 'John Smith')"
      ]
     },
     "execution_count": 9,
     "metadata": {},
     "output_type": "execute_result"
    }
   ],
   "source": [
    "emp1.name, emp1.surname, emp1.email, emp1.fullname\n",
    "# пользуемся интерфейсом, предоставляемым функцией property: вместо вызова\n",
    "# функции обращаемся к атрибутам"
   ]
  },
  {
   "cell_type": "markdown",
   "id": "e50f1d88",
   "metadata": {},
   "source": [
    "Поэтому в первом примере атрибут `email` нужно представить как функцию, подобную `fullname()`, получающую при вызове актуальные значения. Как функцию нужно предстаивть также атрибут `name`, в которой будет заключена проверка введенного значения. Но если мы хотим сохранить интерфейс (синтаксис) обращения к атрибуту, нужно использовать функцию <tt><b>property(getter, setter, deleter)</b></tt>, который может записываться в виде декораторов <tt><b>@property</b></tt>, <tt><b>@attr_name.setter</b></tt>, <tt><b>@attr_name.deleter</b></tt>."
   ]
  },
  {
   "cell_type": "code",
   "execution_count": 133,
   "id": "737aeb22",
   "metadata": {},
   "outputs": [],
   "source": [
    "emp1.name = 'Jorge'"
   ]
  },
  {
   "cell_type": "code",
   "execution_count": 134,
   "id": "bc7198ed",
   "metadata": {},
   "outputs": [
    {
     "data": {
      "text/plain": [
       "('Jorge', 'Smith', 'Jorge_Smith@email.com', 'Jorge Smith')"
      ]
     },
     "execution_count": 134,
     "metadata": {},
     "output_type": "execute_result"
    }
   ],
   "source": [
    "emp1.name, emp1.surname, emp1.email, emp1.fullname"
   ]
  },
  {
   "cell_type": "markdown",
   "id": "634018d9",
   "metadata": {},
   "source": [
    "<div style=\"background:#0bcaff; text-align: center; font-size: 112%;\"><tt>property()</tt> для первого примера</div>"
   ]
  },
  {
   "cell_type": "markdown",
   "id": "3740e655",
   "metadata": {},
   "source": [
    "Чем еще хорошо обращение к атрибуту вместо метода: с помощью встроенного метода `__dict__` мы можем возвращать список доступных атрибутов с их значениями:"
   ]
  },
  {
   "cell_type": "code",
   "execution_count": 135,
   "id": "16c34126",
   "metadata": {},
   "outputs": [
    {
     "data": {
      "text/plain": [
       "{'name': 'Jorge', 'surname': 'Smith'}"
      ]
     },
     "execution_count": 135,
     "metadata": {},
     "output_type": "execute_result"
    }
   ],
   "source": [
    "emp1.__dict__"
   ]
  },
  {
   "cell_type": "markdown",
   "id": "af0b0269",
   "metadata": {},
   "source": [
    "Тогда как результат вызова метода или переменные класса никак в `__dict__` не фиксируются:"
   ]
  },
  {
   "cell_type": "code",
   "execution_count": 138,
   "id": "0f9454e5",
   "metadata": {},
   "outputs": [
    {
     "data": {
      "text/plain": [
       "{}"
      ]
     },
     "execution_count": 138,
     "metadata": {},
     "output_type": "execute_result"
    }
   ],
   "source": [
    "class Example:\n",
    "    CLS_VAR = 'bee'\n",
    "    def vmethod(self, val):\n",
    "        return int(val)*3\n",
    "v1 = Example()\n",
    "v1.vmethod(4)\n",
    "v1.__dict__"
   ]
  },
  {
   "cell_type": "markdown",
   "id": "47f9eb68",
   "metadata": {},
   "source": [
    "<div style=\"background: #aaff00; text-align: center; font-size: 112%;\"><tt>property()</tt> для второго примера</div>"
   ]
  },
  {
   "cell_type": "code",
   "execution_count": 127,
   "id": "407d9334",
   "metadata": {},
   "outputs": [],
   "source": [
    "class Color:\n",
    "\n",
    "    def __init__(self, rgb_value, name):\n",
    "        self._rgb_value = rgb_value\n",
    "        self._name = name\n",
    "\n",
    "    def _set_name(self, name):\n",
    "        if not name:\n",
    "            raise Exception(\"Invalid Name\")\n",
    "        self._name = name\n",
    "\n",
    "    def _get_name(self):\n",
    "        return self._name\n",
    "    \n",
    "    name = property(_get_name, _set_name)"
   ]
  },
  {
   "cell_type": "code",
   "execution_count": 128,
   "id": "528e97e5",
   "metadata": {},
   "outputs": [
    {
     "data": {
      "text/plain": [
       "'bright red'"
      ]
     },
     "execution_count": 128,
     "metadata": {},
     "output_type": "execute_result"
    }
   ],
   "source": [
    "c = Color(\"#ff0000\", \"bright red\")\n",
    "c.name # заметь, что мы не обращаемся к приватному атрибуту \n",
    "#(name вместо _name), а используем интерфейс, который предоставляет \n",
    "# функция property "
   ]
  },
  {
   "cell_type": "code",
   "execution_count": 129,
   "id": "52ad2dd9",
   "metadata": {},
   "outputs": [
    {
     "data": {
      "text/plain": [
       "'red'"
      ]
     },
     "execution_count": 129,
     "metadata": {},
     "output_type": "execute_result"
    }
   ],
   "source": [
    "c.name = \"red\"\n",
    "c.name"
   ]
  },
  {
   "cell_type": "code",
   "execution_count": 130,
   "id": "dc8032df",
   "metadata": {},
   "outputs": [
    {
     "ename": "Exception",
     "evalue": "Invalid Name",
     "output_type": "error",
     "traceback": [
      "\u001b[1;31m---------------------------------------------------------------------------\u001b[0m",
      "\u001b[1;31mException\u001b[0m                                 Traceback (most recent call last)",
      "\u001b[1;32m<ipython-input-130-b036305fa6cd>\u001b[0m in \u001b[0;36m<module>\u001b[1;34m\u001b[0m\n\u001b[1;32m----> 1\u001b[1;33m \u001b[0mc\u001b[0m\u001b[1;33m.\u001b[0m\u001b[0mname\u001b[0m \u001b[1;33m=\u001b[0m \u001b[1;34m''\u001b[0m\u001b[1;33m\u001b[0m\u001b[1;33m\u001b[0m\u001b[0m\n\u001b[0m\u001b[0;32m      2\u001b[0m \u001b[0mc\u001b[0m\u001b[1;33m.\u001b[0m\u001b[0mname\u001b[0m\u001b[1;33m\u001b[0m\u001b[1;33m\u001b[0m\u001b[0m\n",
      "\u001b[1;32m<ipython-input-127-2c4b591b9373>\u001b[0m in \u001b[0;36m_set_name\u001b[1;34m(self, name)\u001b[0m\n\u001b[0;32m      7\u001b[0m     \u001b[1;32mdef\u001b[0m \u001b[0m_set_name\u001b[0m\u001b[1;33m(\u001b[0m\u001b[0mself\u001b[0m\u001b[1;33m,\u001b[0m \u001b[0mname\u001b[0m\u001b[1;33m)\u001b[0m\u001b[1;33m:\u001b[0m\u001b[1;33m\u001b[0m\u001b[1;33m\u001b[0m\u001b[0m\n\u001b[0;32m      8\u001b[0m         \u001b[1;32mif\u001b[0m \u001b[1;32mnot\u001b[0m \u001b[0mname\u001b[0m\u001b[1;33m:\u001b[0m\u001b[1;33m\u001b[0m\u001b[1;33m\u001b[0m\u001b[0m\n\u001b[1;32m----> 9\u001b[1;33m             \u001b[1;32mraise\u001b[0m \u001b[0mException\u001b[0m\u001b[1;33m(\u001b[0m\u001b[1;34m\"Invalid Name\"\u001b[0m\u001b[1;33m)\u001b[0m\u001b[1;33m\u001b[0m\u001b[1;33m\u001b[0m\u001b[0m\n\u001b[0m\u001b[0;32m     10\u001b[0m         \u001b[0mself\u001b[0m\u001b[1;33m.\u001b[0m\u001b[0m_name\u001b[0m \u001b[1;33m=\u001b[0m \u001b[0mname\u001b[0m\u001b[1;33m\u001b[0m\u001b[1;33m\u001b[0m\u001b[0m\n\u001b[0;32m     11\u001b[0m \u001b[1;33m\u001b[0m\u001b[0m\n",
      "\u001b[1;31mException\u001b[0m: Invalid Name"
     ]
    }
   ],
   "source": [
    "c.name = ''\n",
    "c.name"
   ]
  },
  {
   "cell_type": "markdown",
   "id": "901a644c",
   "metadata": {},
   "source": [
    "Минус использования вызова функции вместо декоратора в том, что мы все еще можем получить прямой доступ к атрибуту во втором примере, изменив его напрямую:"
   ]
  },
  {
   "cell_type": "code",
   "execution_count": null,
   "id": "144d9a50",
   "metadata": {},
   "outputs": [],
   "source": []
  },
  {
   "cell_type": "markdown",
   "id": "2ae84746",
   "metadata": {},
   "source": [
    "Есть зависимые атрибуты"
   ]
  },
  {
   "cell_type": "code",
   "execution_count": null,
   "id": "821cd6f9",
   "metadata": {},
   "outputs": [],
   "source": []
  },
  {
   "cell_type": "markdown",
   "id": "1b387d5a",
   "metadata": {},
   "source": [
    "Пример, когда может понадобиться декоратор **@property**:"
   ]
  },
  {
   "cell_type": "code",
   "execution_count": 41,
   "id": "fa8b1eae",
   "metadata": {},
   "outputs": [],
   "source": [
    "class Employee:\n",
    "    \n",
    "    def __init__(self, first, last):\n",
    "        self.name = first\n",
    "        self.surname = last\n",
    "    \n",
    "    @property\n",
    "    def email(self):\n",
    "        return f'{self.name}_{self.surname}@email.com'\n",
    "    \n",
    "    @property\n",
    "    def fullname(self):\n",
    "        return f'{self.name} {self.surname}'\n",
    "\n",
    "emp1 = Employee('John', 'Smith')"
   ]
  },
  {
   "cell_type": "code",
   "execution_count": 42,
   "id": "73de66f8",
   "metadata": {},
   "outputs": [
    {
     "data": {
      "text/plain": [
       "('John', 'Smith', 'John_Smith@email.com', 'John Smith')"
      ]
     },
     "execution_count": 42,
     "metadata": {},
     "output_type": "execute_result"
    }
   ],
   "source": [
    "emp1.name, emp1.surname, emp1.email, emp1.fullname"
   ]
  },
  {
   "cell_type": "code",
   "execution_count": 43,
   "id": "aa3252ba",
   "metadata": {},
   "outputs": [],
   "source": [
    "emp1.name = 'Jorge'"
   ]
  },
  {
   "cell_type": "code",
   "execution_count": 44,
   "id": "ce3fe41b",
   "metadata": {},
   "outputs": [
    {
     "data": {
      "text/plain": [
       "('Jorge', 'Smith', 'Jorge_Smith@email.com', 'Jorge Smith')"
      ]
     },
     "execution_count": 44,
     "metadata": {},
     "output_type": "execute_result"
    }
   ],
   "source": [
    "emp1.name, emp1.surname, emp1.email, emp1.fullname"
   ]
  },
  {
   "cell_type": "markdown",
   "id": "f1cc8ca6",
   "metadata": {},
   "source": [
    "Но теперь мы не можем обращаться к атрибуту напрямую:"
   ]
  },
  {
   "cell_type": "code",
   "execution_count": 45,
   "id": "e8fb3b25",
   "metadata": {},
   "outputs": [
    {
     "ename": "AttributeError",
     "evalue": "can't set attribute",
     "output_type": "error",
     "traceback": [
      "\u001b[1;31m---------------------------------------------------------------------------\u001b[0m",
      "\u001b[1;31mAttributeError\u001b[0m                            Traceback (most recent call last)",
      "\u001b[1;32m<ipython-input-45-e3444311941a>\u001b[0m in \u001b[0;36m<module>\u001b[1;34m\u001b[0m\n\u001b[1;32m----> 1\u001b[1;33m \u001b[0memp1\u001b[0m\u001b[1;33m.\u001b[0m\u001b[0memail\u001b[0m \u001b[1;33m=\u001b[0m \u001b[1;34m\"someone@gmail.com\"\u001b[0m\u001b[1;33m\u001b[0m\u001b[1;33m\u001b[0m\u001b[0m\n\u001b[0m",
      "\u001b[1;31mAttributeError\u001b[0m: can't set attribute"
     ]
    }
   ],
   "source": [
    "emp1.email = \"someone@gmail.com\""
   ]
  },
  {
   "cell_type": "markdown",
   "id": "c55cff74",
   "metadata": {},
   "source": [
    "Для этого придется написать еще одну функцию с декоратором, которая будет предназначена для ручной установки значения атрибута:"
   ]
  },
  {
   "cell_type": "code",
   "execution_count": 1,
   "id": "35102a18",
   "metadata": {},
   "outputs": [],
   "source": [
    "class Employee:\n",
    "    \n",
    "    def __init__(self, first, last):\n",
    "        self.name = first\n",
    "        self.surname = last\n",
    "        self.__bek = 'fjdkfd'\n",
    "    \n",
    "    @property\n",
    "    def email(self):\n",
    "        print(\"Hello\")\n",
    "        return f'{self.name}_{self.surname}@email.com'\n",
    "    \n",
    "    @email.setter\n",
    "    def email(self, email):\n",
    "        self.email = email      \n",
    "    \n",
    "    @property\n",
    "    def fullname(self):\n",
    "        return f'{self.name} {self.surname}'\n",
    "    \n",
    "    @fullname.setter\n",
    "    def fullname(self, set_name):\n",
    "        first, last = set_name.split(' ')\n",
    "        self.name = first\n",
    "        self.surname = last\n",
    "        \n",
    "emp1 = Employee('John', 'Smith')"
   ]
  },
  {
   "cell_type": "code",
   "execution_count": 8,
   "id": "c7edcf2b",
   "metadata": {},
   "outputs": [
    {
     "data": {
      "text/plain": [
       "'fjdkfd'"
      ]
     },
     "execution_count": 8,
     "metadata": {},
     "output_type": "execute_result"
    }
   ],
   "source": [
    "emp1._Employee__bek"
   ]
  },
  {
   "cell_type": "code",
   "execution_count": 4,
   "id": "7c4d9dc5",
   "metadata": {},
   "outputs": [
    {
     "data": {
      "text/plain": [
       "'John'"
      ]
     },
     "execution_count": 4,
     "metadata": {},
     "output_type": "execute_result"
    }
   ],
   "source": [
    "emp1.name"
   ]
  },
  {
   "cell_type": "code",
   "execution_count": 7,
   "id": "c4f63687",
   "metadata": {},
   "outputs": [
    {
     "ename": "TypeError",
     "evalue": "__init__() missing 1 required positional argument: 'last'",
     "output_type": "error",
     "traceback": [
      "\u001b[1;31m---------------------------------------------------------------------------\u001b[0m",
      "\u001b[1;31mTypeError\u001b[0m                                 Traceback (most recent call last)",
      "\u001b[1;32m<ipython-input-7-326f28c79d1a>\u001b[0m in \u001b[0;36m<module>\u001b[1;34m\u001b[0m\n\u001b[1;32m----> 1\u001b[1;33m \u001b[0mEmployee\u001b[0m\u001b[1;33m(\u001b[0m\u001b[0memp1\u001b[0m\u001b[1;33m)\u001b[0m\u001b[1;33m.\u001b[0m\u001b[0m__bek\u001b[0m\u001b[1;33m\u001b[0m\u001b[1;33m\u001b[0m\u001b[0m\n\u001b[0m",
      "\u001b[1;31mTypeError\u001b[0m: __init__() missing 1 required positional argument: 'last'"
     ]
    }
   ],
   "source": []
  },
  {
   "cell_type": "code",
   "execution_count": 60,
   "id": "d2679b2f",
   "metadata": {},
   "outputs": [
    {
     "data": {
      "text/plain": [
       "'John Smith'"
      ]
     },
     "execution_count": 60,
     "metadata": {},
     "output_type": "execute_result"
    }
   ],
   "source": [
    "emp1.fullname"
   ]
  },
  {
   "cell_type": "code",
   "execution_count": 61,
   "id": "a135f019",
   "metadata": {},
   "outputs": [],
   "source": [
    "emp1.fullname = 'Johnny Berk'"
   ]
  },
  {
   "cell_type": "code",
   "execution_count": 62,
   "id": "d064131d",
   "metadata": {},
   "outputs": [
    {
     "data": {
      "text/plain": [
       "'Johnny Berk'"
      ]
     },
     "execution_count": 62,
     "metadata": {},
     "output_type": "execute_result"
    }
   ],
   "source": [
    "emp1.fullname"
   ]
  },
  {
   "cell_type": "code",
   "execution_count": 63,
   "id": "331510ec",
   "metadata": {},
   "outputs": [
    {
     "data": {
      "text/plain": [
       "'Johnny_Berk@email.com'"
      ]
     },
     "execution_count": 63,
     "metadata": {},
     "output_type": "execute_result"
    }
   ],
   "source": [
    "emp1.email"
   ]
  },
  {
   "cell_type": "code",
   "execution_count": 4,
   "id": "143a0355",
   "metadata": {},
   "outputs": [],
   "source": [
    "class WorkingMachine:\n",
    "    def __init__(self) -> None:\n",
    "        self._state: int\n",
    "        # у атрибута есть type hint, но нет значения,\n",
    "        # поскольку присвоением занимается метод setter,\n",
    "        # это просто подсказка для программиста, что у объекта\n",
    "        # далее будет реализовано такое свойство\n",
    "\n",
    "    @property\n",
    "    def name(self) -> int:\n",
    "        \"\"\"This is a silly property\"\"\"\n",
    "        print(f\"Machine state is {self._state}'s State\")\n",
    "        return self._state\n",
    "\n",
    "    @name.setter\n",
    "    def name(self, state: int) -> None:\n",
    "        if state.__class__ != int:\n",
    "            raise ValueError(\"State must be integer value\")\n",
    "        self._state = state\n",
    "        print(f\"Setting {self._state}\")\n",
    "\n",
    "    @name.deleter\n",
    "    def name(self):\n",
    "        del self._state\n",
    "        print(\"Now machine without state\")"
   ]
  }
 ],
 "metadata": {
  "kernelspec": {
   "display_name": "Python 3 (ipykernel)",
   "language": "python",
   "name": "python3"
  },
  "language_info": {
   "codemirror_mode": {
    "name": "ipython",
    "version": 3
   },
   "file_extension": ".py",
   "mimetype": "text/x-python",
   "name": "python",
   "nbconvert_exporter": "python",
   "pygments_lexer": "ipython3",
   "version": "3.8.12"
  }
 },
 "nbformat": 4,
 "nbformat_minor": 5
}

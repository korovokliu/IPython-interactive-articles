{
 "cells": [
  {
   "cell_type": "code",
   "execution_count": 16,
   "id": "a7aa12d2",
   "metadata": {},
   "outputs": [],
   "source": [
    "class One:\n",
    "    pass\n",
    "\n",
    "class Two:\n",
    "    def __init__(self, x):\n",
    "        pass"
   ]
  },
  {
   "cell_type": "code",
   "execution_count": 22,
   "id": "3b94a67f",
   "metadata": {},
   "outputs": [
    {
     "ename": "TypeError",
     "evalue": "One() takes no arguments",
     "output_type": "error",
     "traceback": [
      "\u001b[1;31m---------------------------------------------------------------------------\u001b[0m",
      "\u001b[1;31mTypeError\u001b[0m                                 Traceback (most recent call last)",
      "\u001b[1;32m<ipython-input-22-ad6be47d2eab>\u001b[0m in \u001b[0;36m<module>\u001b[1;34m\u001b[0m\n\u001b[1;32m----> 1\u001b[1;33m \u001b[0mone\u001b[0m \u001b[1;33m=\u001b[0m \u001b[0mOne\u001b[0m\u001b[1;33m(\u001b[0m\u001b[1;34m'f'\u001b[0m\u001b[1;33m)\u001b[0m\u001b[1;33m\u001b[0m\u001b[1;33m\u001b[0m\u001b[0m\n\u001b[0m",
      "\u001b[1;31mTypeError\u001b[0m: One() takes no arguments"
     ]
    }
   ],
   "source": [
    "one = One('f')"
   ]
  },
  {
   "cell_type": "code",
   "execution_count": 23,
   "id": "30cc17f2",
   "metadata": {},
   "outputs": [],
   "source": [
    "two = Two('f')"
   ]
  },
  {
   "cell_type": "code",
   "execution_count": 25,
   "id": "c75bec35",
   "metadata": {},
   "outputs": [
    {
     "data": {
      "text/plain": [
       "{}"
      ]
     },
     "execution_count": 25,
     "metadata": {},
     "output_type": "execute_result"
    }
   ],
   "source": [
    "one.__dict__()"
   ]
  },
  {
   "cell_type": "code",
   "execution_count": 31,
   "id": "120712cb",
   "metadata": {},
   "outputs": [
    {
     "data": {
      "text/plain": [
       "mappingproxy({'_generate_next_value_': <function enum.Enum._generate_next_value_(name, start, count, last_values)>,\n",
       "              '__module__': '__main__',\n",
       "              '__doc__': 'An enumeration.',\n",
       "              '_member_names_': ['a', 'b', 'c'],\n",
       "              '_member_map_': {'a': <Color1.a: 1>,\n",
       "               'b': <Color1.b: 'hj'>,\n",
       "               'c': <Color1.c: 4>},\n",
       "              '_member_type_': object,\n",
       "              '_value2member_map_': {1: <Color1.a: 1>,\n",
       "               'hj': <Color1.b: 'hj'>,\n",
       "               4: <Color1.c: 4>},\n",
       "              'a': <Color1.a: 1>,\n",
       "              'b': <Color1.b: 'hj'>,\n",
       "              'c': <Color1.c: 4>,\n",
       "              '__new__': <function enum.Enum.__new__(cls, value)>})"
      ]
     },
     "execution_count": 31,
     "metadata": {},
     "output_type": "execute_result"
    }
   ],
   "source": [
    "from enum import Enum\n",
    "class Color1(Enum):\n",
    "    a = 1\n",
    "    b = 'hj'\n",
    "    c = 4\n",
    "    \n",
    "Color1.__dict__"
   ]
  },
  {
   "cell_type": "code",
   "execution_count": 32,
   "id": "281b0449",
   "metadata": {},
   "outputs": [
    {
     "data": {
      "text/plain": [
       "mappingproxy({'__module__': '__main__',\n",
       "              'a': 1,\n",
       "              'b': 'hj',\n",
       "              '__dict__': <attribute '__dict__' of 'Color2' objects>,\n",
       "              '__weakref__': <attribute '__weakref__' of 'Color2' objects>,\n",
       "              '__doc__': None})"
      ]
     },
     "execution_count": 32,
     "metadata": {},
     "output_type": "execute_result"
    }
   ],
   "source": [
    "class Color2:\n",
    "    a = 1\n",
    "    b = 'hj'\n",
    "    \n",
    "Color2.__dict__"
   ]
  },
  {
   "cell_type": "code",
   "execution_count": null,
   "id": "9e70ac73",
   "metadata": {},
   "outputs": [],
   "source": []
  }
 ],
 "metadata": {
  "kernelspec": {
   "display_name": "Python 3 (ipykernel)",
   "language": "python",
   "name": "python3"
  },
  "language_info": {
   "codemirror_mode": {
    "name": "ipython",
    "version": 3
   },
   "file_extension": ".py",
   "mimetype": "text/x-python",
   "name": "python",
   "nbconvert_exporter": "python",
   "pygments_lexer": "ipython3",
   "version": "3.8.12"
  }
 },
 "nbformat": 4,
 "nbformat_minor": 5
}

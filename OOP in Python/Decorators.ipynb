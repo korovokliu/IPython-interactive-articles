{
 "cells": [
  {
   "cell_type": "markdown",
   "metadata": {},
   "source": [
    "Декоратор, по сути, это обёртка к функции, которая добавляет исходной функции новый код, не меняя исходную функцию. Просто синтаксис ее вызова можно написать так:\n",
    "\n",
    "result = new_func(old_func(args))\n",
    "\n",
    "А можно через собачку:\n",
    "\n",
    "@new_func\n",
    "old_func(args) \n",
    "Иногда функция может вызываться с кучей параметров или иметь свои параметры по умолчанию, для этого в определении new_func() написаны *args, **kwargs – он принимает все возможные аргументы, которые никак не перечислить и не предугадать заранее \n",
    "Допустим\n",
    "\n",
    "def greetings(name='Тёма', message='Привет,\", end_char=\"!\"):\n",
    "return name+message+end_char\n",
    "\n",
    "Можно вызвать как\n",
    "greetings()\n",
    "или\n",
    "greetings('Катя')\n",
    "или\n",
    "greetings(name=['Катя', 'Лена', 'Джон'], end_char='!!!!!!!!!')\n",
    "\n",
    "Заранее сказать нельзя, так что просто передаём все аргументы в виде *args и все значения по умолчанию в виде **kwargs"
   ]
  },
  {
   "cell_type": "markdown",
   "metadata": {},
   "source": [
    "Кстати, смари как можно посчитать числа Фибоначчи, с помощью декортора"
   ]
  },
  {
   "cell_type": "code",
   "execution_count": 1,
   "metadata": {},
   "outputs": [
    {
     "name": "stdout",
     "output_type": "stream",
     "text": [
      "Wall time: 6.12 s\n"
     ]
    },
    {
     "data": {
      "text/plain": [
       "9227465"
      ]
     },
     "execution_count": 1,
     "metadata": {},
     "output_type": "execute_result"
    }
   ],
   "source": [
    "%%time\n",
    "def fib(n: int) -> int:  # уже на 35 считает капец долго\n",
    "    if n < 2: # базовый (стартовый) случай рекусрии\n",
    "        return n\n",
    "    return fib(n-2) + fib(n-1)\n",
    "\n",
    "fib(35)"
   ]
  },
  {
   "cell_type": "code",
   "execution_count": null,
   "metadata": {},
   "outputs": [],
   "source": [
    "Можно сохранять уже посчитанные результаты в словарь (и снова модуль для бесполезной статической типизации в силе XD)"
   ]
  },
  {
   "cell_type": "code",
   "execution_count": null,
   "metadata": {},
   "outputs": [],
   "source": [
    "%%time \n",
    "from typing import Dict\n",
    "memo: Dict[int, int] = {0: 0, 1: 1}  # базовые случаи рекурсии\n",
    "\n",
    "def fib_memo(n: int) -> int:\n",
    "    if n not in memo:\n",
    "        memo[n] = fib_memo(n-1) + fib_memo(n-2)\n",
    "    return memo[n]\n",
    "\n",
    "fib(35)"
   ]
  },
  {
   "cell_type": "markdown",
   "metadata": {},
   "source": [
    "А можно юзать готовый декоратор кеша:"
   ]
  },
  {
   "cell_type": "code",
   "execution_count": null,
   "metadata": {},
   "outputs": [],
   "source": [
    "%%time\n",
    "from functools import lru_cache\n",
    "\n",
    "@lru_cache(maxsize=None)  # и так значение по умолчанию, но можно задать размер\n",
    "def fib_cache(n: int) -> int:\n",
    "    if n < 2:  # базовый случай\n",
    "        return 2\n",
    "    return fib_cache(n-2) + fib_cache(n-1)  # рекурсивный случай\n",
    "\n",
    "fib_cache(50)"
   ]
  },
  {
   "cell_type": "markdown",
   "metadata": {},
   "source": [
    "Или даже написать свой!"
   ]
  },
  {
   "cell_type": "code",
   "execution_count": null,
   "metadata": {},
   "outputs": [],
   "source": [
    "%%time\n",
    "def my_decorator(func):  # принимает функцию\n",
    "    cache = {}\n",
    "    def wrapper(*args, **kwargs):  # принимает\n",
    "# все аргуементы и значения по умолчанию, которые есть у декорируемой функции\n",
    "        key = str(args) + str(kwargs)\n",
    "        if key not in cache:\n",
    "            cache[key] = func(*args, **kwargs)\n",
    "        return cache[key]\n",
    "    return wrapper\n",
    "\n",
    "@my_decorator\n",
    "def fib_my(n):\n",
    "    return fib_my(n-2) + fib_my(n-1)\n",
    "\n",
    "fib_my(10)"
   ]
  },
  {
   "cell_type": "code",
   "execution_count": null,
   "metadata": {},
   "outputs": [],
   "source": [
    "def decorator_example(old_func):\n",
    "    def wrapper(old_func_arg):\n",
    "        old_func_arg + 10\n",
    "        return old_func(old_func_arg)\n",
    "    return wrapper\n",
    "\n",
    "\n",
    "@decorator_example\n",
    "def product(x: int) -> int:\n",
    "    return x ** 2\n",
    "\n",
    "product(3)"
   ]
  },
  {
   "cell_type": "markdown",
   "metadata": {},
   "source": [
    "В модуле ipywidgets тоже есть декоратор @interact "
   ]
  },
  {
   "cell_type": "markdown",
   "metadata": {},
   "source": [
    "Допустим, мы создали кнопку, складывает два числа."
   ]
  },
  {
   "cell_type": "code",
   "execution_count": 34,
   "metadata": {},
   "outputs": [],
   "source": [
    "import ipywidgets as ipw\n",
    "\n",
    "btn = ipw.Button(description=\"Вызову функцию\")\n",
    "\n",
    "def hello(b): # нужна фиктивная переменная\n",
    "    print(\"Просто сообщение\")\n",
    "\n",
    "btn.on_click(hello)"
   ]
  },
  {
   "cell_type": "code",
   "execution_count": 35,
   "metadata": {},
   "outputs": [
    {
     "data": {
      "application/vnd.jupyter.widget-view+json": {
       "model_id": "e04a7395f174474aafd48bb740f7eb32",
       "version_major": 2,
       "version_minor": 0
      },
      "text/plain": [
       "Button(description='Вызову функцию', style=ButtonStyle())"
      ]
     },
     "metadata": {},
     "output_type": "display_data"
    },
    {
     "name": "stdout",
     "output_type": "stream",
     "text": [
      "Просто сообщение\n"
     ]
    }
   ],
   "source": [
    "btn"
   ]
  },
  {
   "cell_type": "code",
   "execution_count": 24,
   "metadata": {},
   "outputs": [
    {
     "name": "stdout",
     "output_type": "stream",
     "text": [
      "4\n",
      "5\n"
     ]
    }
   ],
   "source": [
    "import ipywidgets as ipw\n",
    "\n",
    "btn2 = ipw.Button(description=\"Вызову вашу функцию\")\n",
    "\n",
    "def return_complex(a=input(), b=input()):\n",
    "    print(\"напиши число реальной и мнимой части\")\n",
    "    num = complex(f\"{str(a)}+{str(b)}j\").conjugate()\n",
    "    print(num)\n",
    "    return num, num.__class__\n",
    "\n",
    "btn.on_click(return_complex)"
   ]
  },
  {
   "cell_type": "code",
   "execution_count": null,
   "metadata": {},
   "outputs": [],
   "source": [
    "class Calculator:\n",
    "    def __init__(self, question):\n",
    "        self.what_do_we_count = question\n",
    "        \n",
    "    def convert(func):\n",
    "        if func \n",
    "        \n",
    "    def calc():\n",
    "        "
   ]
  },
  {
   "cell_type": "code",
   "execution_count": 38,
   "metadata": {},
   "outputs": [
    {
     "name": "stdout",
     "output_type": "stream",
     "text": [
      "The description: A silly function\n",
      "The name: my_function\n",
      "The class: <class 'function'>\n",
      "The Function Was Called\n",
      "Now I'll call the function passed in: None\n",
      "\n",
      "The description: A sillier function.\n",
      "The name: second_function\n",
      "The class: <class 'function'>\n",
      "The second was called\n",
      "Now I'll call the function passed in: None\n",
      "\n"
     ]
    }
   ],
   "source": [
    "def my_function():\n",
    "    print(\"The Function Was Called\")\n",
    "\n",
    "my_function.description = \"A silly function\"\n",
    "\n",
    "def second_function():\n",
    "    print(\"The second was called\")\n",
    "    \n",
    "second_function.description = \"A sillier function.\"\n",
    "\n",
    "\n",
    "def another_function(function):\n",
    "    print(f\"The description: {function.description}\")\n",
    "    print(f\"The name: {function.__name__}\")\n",
    "    print(f\"The class: {function.__class__}\")\n",
    "    print(f\"Now I'll call the function passed in: {function()}\\n\")\n",
    "    \n",
    "\n",
    "another_function(my_function)\n",
    "another_function(second_function)"
   ]
  },
  {
   "cell_type": "code",
   "execution_count": 39,
   "metadata": {},
   "outputs": [],
   "source": [
    "import datetime\n",
    "import time\n",
    "\n",
    "class TimedEvent:\n",
    "    def __init__(self, endtime, callback):\n",
    "        self.endtime = endtime\n",
    "        self.callback = callback\n",
    "\n",
    "    def ready(self):\n",
    "        return self.endtime <= datetime.datetime.now()\n",
    "\n",
    "class Timer:\n",
    "    def __init__(self):\n",
    "        self.events = []\n",
    "\n",
    "    def call_after(self, delay, callback):\n",
    "        end_time = datetime.datetime.now() + \\\n",
    "                datetime.timedelta(seconds=delay)\n",
    "                \n",
    "        self.events.append(TimedEvent(end_time, callback))\n",
    "\n",
    "    def run(self):\n",
    "        while True:\n",
    "            ready_events = (e for e in self.events if e.ready())\n",
    "            for event in ready_events:\n",
    "                event.callback(self)\n",
    "                self.events.remove(event)\n",
    "            time.sleep(0.5)"
   ]
  },
  {
   "cell_type": "code",
   "execution_count": 40,
   "metadata": {},
   "outputs": [
    {
     "name": "stdout",
     "output_type": "stream",
     "text": [
      "03:19:32: Starting\n",
      "03:19:33: Called One\n",
      "03:19:34: Called One\n",
      "03:19:34: Called Two\n",
      "03:19:35: Called Three\n",
      "03:19:36: Called Two\n",
      "03:19:37: repeat 0\n",
      "03:19:38: Called Three\n",
      "03:19:42: repeat 1\n",
      "03:19:47: repeat 2\n",
      "03:19:52: repeat 3\n"
     ]
    },
    {
     "ename": "KeyboardInterrupt",
     "evalue": "",
     "output_type": "error",
     "traceback": [
      "\u001B[1;31m---------------------------------------------------------------------------\u001B[0m",
      "\u001B[1;31mKeyboardInterrupt\u001B[0m                         Traceback (most recent call last)",
      "\u001B[1;32m<ipython-input-40-f37d053e9fd6>\u001B[0m in \u001B[0;36m<module>\u001B[1;34m\u001B[0m\n\u001B[0;32m     30\u001B[0m \u001B[0mtimer\u001B[0m\u001B[1;33m.\u001B[0m\u001B[0mcall_after\u001B[0m\u001B[1;33m(\u001B[0m\u001B[1;36m5\u001B[0m\u001B[1;33m,\u001B[0m \u001B[0mrepeater\u001B[0m\u001B[1;33m.\u001B[0m\u001B[0mrepeater\u001B[0m\u001B[1;33m)\u001B[0m\u001B[1;33m\u001B[0m\u001B[1;33m\u001B[0m\u001B[0m\n\u001B[0;32m     31\u001B[0m \u001B[0mformat_time\u001B[0m\u001B[1;33m(\u001B[0m\u001B[1;34m\"{now}: Starting\"\u001B[0m\u001B[1;33m)\u001B[0m\u001B[1;33m\u001B[0m\u001B[1;33m\u001B[0m\u001B[0m\n\u001B[1;32m---> 32\u001B[1;33m \u001B[0mtimer\u001B[0m\u001B[1;33m.\u001B[0m\u001B[0mrun\u001B[0m\u001B[1;33m(\u001B[0m\u001B[1;33m)\u001B[0m\u001B[1;33m\u001B[0m\u001B[1;33m\u001B[0m\u001B[0m\n\u001B[0m",
      "\u001B[1;32m<ipython-input-39-3b4b4f8af3ae>\u001B[0m in \u001B[0;36mrun\u001B[1;34m(self)\u001B[0m\n\u001B[0;32m     26\u001B[0m                 \u001B[0mevent\u001B[0m\u001B[1;33m.\u001B[0m\u001B[0mcallback\u001B[0m\u001B[1;33m(\u001B[0m\u001B[0mself\u001B[0m\u001B[1;33m)\u001B[0m\u001B[1;33m\u001B[0m\u001B[1;33m\u001B[0m\u001B[0m\n\u001B[0;32m     27\u001B[0m                 \u001B[0mself\u001B[0m\u001B[1;33m.\u001B[0m\u001B[0mevents\u001B[0m\u001B[1;33m.\u001B[0m\u001B[0mremove\u001B[0m\u001B[1;33m(\u001B[0m\u001B[0mevent\u001B[0m\u001B[1;33m)\u001B[0m\u001B[1;33m\u001B[0m\u001B[1;33m\u001B[0m\u001B[0m\n\u001B[1;32m---> 28\u001B[1;33m             \u001B[0mtime\u001B[0m\u001B[1;33m.\u001B[0m\u001B[0msleep\u001B[0m\u001B[1;33m(\u001B[0m\u001B[1;36m0.5\u001B[0m\u001B[1;33m)\u001B[0m\u001B[1;33m\u001B[0m\u001B[1;33m\u001B[0m\u001B[0m\n\u001B[0m",
      "\u001B[1;31mKeyboardInterrupt\u001B[0m: "
     ]
    }
   ],
   "source": [
    "def format_time(message, *args):\n",
    "    now = datetime.datetime.now().strftime(\"%I:%M:%S\")\n",
    "    print(message.format(*args, now=now))\n",
    "\n",
    "def one(timer):\n",
    "    format_time(\"{now}: Called One\")\n",
    "\n",
    "def two(timer):\n",
    "    format_time(\"{now}: Called Two\")\n",
    "\n",
    "def three(timer):\n",
    "    format_time(\"{now}: Called Three\")\n",
    "\n",
    "class Repeater:\n",
    "    def __init__(self):\n",
    "        self.count = 0\n",
    "    def repeater(self, timer):\n",
    "        format_time(\"{now}: repeat {0}\", self.count)\n",
    "        self.count += 1\n",
    "        timer.call_after(5, self.repeater)\n",
    "\n",
    "timer = Timer()\n",
    "timer.call_after(1, one)\n",
    "timer.call_after(2, one)\n",
    "timer.call_after(2, two)\n",
    "timer.call_after(4, two)\n",
    "timer.call_after(3, three)\n",
    "timer.call_after(6, three)\n",
    "repeater = Repeater()\n",
    "timer.call_after(5, repeater.repeater)\n",
    "format_time(\"{now}: Starting\")\n",
    "timer.run()"
   ]
  },
  {
   "cell_type": "code",
   "execution_count": null,
   "metadata": {},
   "outputs": [],
   "source": []
  }
 ],
 "metadata": {
  "kernelspec": {
   "display_name": "Python 3",
   "language": "python",
   "name": "python3"
  },
  "language_info": {
   "codemirror_mode": {
    "name": "ipython",
    "version": 3
   },
   "file_extension": ".py",
   "mimetype": "text/x-python",
   "name": "python",
   "nbconvert_exporter": "python",
   "pygments_lexer": "ipython3",
   "version": "3.8.8"
  }
 },
 "nbformat": 4,
 "nbformat_minor": 4
}

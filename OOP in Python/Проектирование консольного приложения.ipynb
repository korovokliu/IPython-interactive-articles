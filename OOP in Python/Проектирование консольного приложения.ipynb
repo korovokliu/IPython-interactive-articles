{
 "cells": [
  {
   "cell_type": "markdown",
   "id": "d4dfbdd1",
   "metadata": {},
   "source": [
    "<h2>\n",
    "   <div style=\"display: inline-block; width: 35%; text-align:center; vertical-align: middle;\"> \n",
    "       <span style=\"background: rgb(52, 203, 142);\">Наследование</span>\n",
    "    </div> \n",
    "        vs &nbsp;\n",
    "    <div style=\"display: inline-block; width: 50%; text-align: center; vertical-align: middle;\">\n",
    "        <span style=\"background: rgb(255, 255, 0);\">ассоциация</span> &\n",
    "        <span style=\"background: rgb(255, 185, 0);\">аггрегация</span> &<br>\n",
    "        <span style=\"background: rgb(250, 150, 94);\">композиция</span>\n",
    "    </div>   \n",
    "</h2>"
   ]
  },
  {
   "cell_type": "markdown",
   "id": "e462f86f",
   "metadata": {},
   "source": [
    "<h3>Наследование</h3>"
   ]
  },
  {
   "attachments": {},
   "cell_type": "markdown",
   "id": "a165ea48",
   "metadata": {},
   "source": [
    "<span style=\"background: rgb(52, 203, 142);\"><b>Наследование</b> применяется в том случае, когда можно сказать: \"класс B является экземпляром класса A\" или <b>\"B is A\"</b></span>. Иногда эту концепцию называют *обобщение←конкретизация*\n",
    "\n",
    "<img style=\"display: inline-block; padding-right: 1px; width: 40%;\" src=\"2021-12-26_19-02-31.png\">\n",
    "<img style=\"display: inline-block; padding-left: 1px; width: 55%;\" src=\"2021-12-26_19-29-00.png\">\n",
    "\n",
    "<i>Вместо создании отдельных подклассов `BarkingDog` и `YodelingDog` можно было бы реализовать `bark` и `yodel` как <b style=\"background: rgb(255, 192, 203);\">интерфейс</b>. Нужно находить компромисс между более точной моделью (глубокая иерархия наследования) и менее сложной реализацией. Часто более точная модель не оправдывает повышение сложности, но если потом придется уточнять модель, то придется переделывать больше кода</i>\n",
    "\n",
    "\n",
    "Если код изменился в родительском классе, то автоматически изменился и в дочерних. \n",
    "\n",
    "<span style=\"background: rgb(52, 203, 142);\">Проблема наследования в том, что иногда дочерние классы наследуют те атрибуты и методы, которые им не характерны</span>, а удалить их нельзя. Если их переопределить, то для читающего этот код название атрибута/метода не будет иметь ожидаемого поведения/хранить ожидаемое значение.\n",
    "\n",
    "Создадим класс `Bird`, содержащий метод `fly`. Что делать с пингвином или страусом? Они являются птицами, но не умеют летать. Можно переопределить этот метод локально, но имя у него `fly`, метод будет либо пустым и не иметь смысла, либо иметь неожиданное поведение: пингвин спрыгнул с обрыва, вызвал `fly`, а вместо полета получил ходьбу вперевалку из-за перопределенного метода.\n",
    "\n",
    "Наследование еще не любят за то, что оно, по сути, ослабляет инкапсуляцию (у класса должен быть открытый интерфейс и закрытая реализация - т.е. скрывается все, что не нужно знать другим классам): реализацию от суперкласса наследуют все дочерние классы. Т.к. инкапсуляция упрощает системы тестирования...\n",
    "\n",
    "[стр 149. чета непонятно]"
   ]
  },
  {
   "cell_type": "markdown",
   "id": "548ff45c",
   "metadata": {},
   "source": [
    "<h3><span style=\"background: rgb(255, 255, 0);\">Ассоциация</span>, \n",
    "    <span style=\"background: rgb(255, 185, 0);\">аггрегация</span>, \n",
    "    <span style=\"background: rgb(250, 150, 94);\">композиция</span>\n",
    "</h3>"
   ]
  },
  {
   "cell_type": "markdown",
   "id": "0cc934f1",
   "metadata": {},
   "source": [
    "<img src=\"UML_association_aggregation_composition.png\">\n",
    "<img style=\"display: float; float: left; padding-right: 3px; width: 270px;\" src=\"UML_association_aggregation_composition2.png\">\n",
    "Кто-то говорит, что <span style=\"background: rgb(255, 255, 0);\">ассоциация</span> и аггрегация - форма композиции, хотя некоторые авторы говорят наоборот, что аггрегация и композиция - это форма <span style=\"background: rgb(255, 255, 0);\">ассоциации</span> и вкладывают эти концепции друг в друга как в матрешку. "
   ]
  },
  {
   "cell_type": "markdown",
   "id": "6625af85",
   "metadata": {},
   "source": [
    "В одном объекте <b>содержатся</b> другие объекты, но они вполне самостоятельны, как компьютер и ssd накопитель в нем.\n",
    "\n",
    "*Во всех случаях, когда определенный объект состоит из других объектов, которые включены как объектные поля, новый объект называется составным, агрегированным или обобщенным.*\n",
    "\n",
    "Ромб на стороне класса `Car` означает, что `Car` включает (<b>содержит как часть</b>) `SteeringWheel`"
   ]
  },
  {
   "cell_type": "markdown",
   "id": "4ea88744-b8d5-48b7-98f5-a6286d3b91c0",
   "metadata": {},
   "source": [
    "## Проектирование консольного приложения (DOS-based program) для поиска книги "
   ]
  },
  {
   "cell_type": "markdown",
   "id": "fce59b72-3cf8-4b29-b4a5-58a98c4c4988",
   "metadata": {},
   "source": [
    "Т.к. у книги может быть не один автор, а у каждого автора может быть не одна книга, то между классом `Book` и классом `Author` нужно установлена <b style=\"background: yellow;\"> &nbsp;ассоциация&nbsp;</b> (их экземпляры ссылаются на атрибуты друг друга). <span style=\"font-size: 90%; font-style: italic; color: gray;\">\n",
    "<ul>\n",
    "    <li>Эта связь не <b>наследование</b>, т.к. мы не можем сказать, что книга - это автор или автор - это книга. Наследование характирузует связь \"is a\".</li>\n",
    "    <li>Это не аггрегация (aggregation), более узкий подтип ассоциации, потому что\n",
    "    </ul>\n",
    " "
   ]
  },
  {
   "cell_type": "code",
   "execution_count": 1,
   "id": "88018c1d-2df2-4c1a-a38e-515bf4352959",
   "metadata": {},
   "outputs": [
    {
     "ename": "NameError",
     "evalue": "name 'ё' is not defined",
     "output_type": "error",
     "traceback": [
      "\u001b[1;31m---------------------------------------------------------------------------\u001b[0m",
      "\u001b[1;31mNameError\u001b[0m                                 Traceback (most recent call last)",
      "\u001b[1;32m<ipython-input-1-d7a553a08805>\u001b[0m in \u001b[0;36m<module>\u001b[1;34m\u001b[0m\n\u001b[1;32m----> 1\u001b[1;33m \u001b[0mё\u001b[0m\u001b[1;33m\u001b[0m\u001b[1;33m\u001b[0m\u001b[0m\n\u001b[0m",
      "\u001b[1;31mNameError\u001b[0m: name 'ё' is not defined"
     ]
    }
   ],
   "source": []
  },
  {
   "cell_type": "markdown",
   "id": "08aa1858-12c7-4514-96cf-c10491b914d0",
   "metadata": {},
   "source": [
    "В библиотеке хрянтся не только книги, но и CD, DVD-диски и журналы."
   ]
  },
  {
   "cell_type": "markdown",
   "id": "e6071766-257f-4d0d-b54a-92286becd02b",
   "metadata": {},
   "source": [
    "----------------"
   ]
  },
  {
   "cell_type": "code",
   "execution_count": null,
   "id": "d4a41738-b96e-4d9a-8774-51a1cced61c1",
   "metadata": {},
   "outputs": [],
   "source": []
  }
 ],
 "metadata": {
  "kernelspec": {
   "display_name": "Python 3",
   "language": "python",
   "name": "python3"
  },
  "language_info": {
   "codemirror_mode": {
    "name": "ipython",
    "version": 3
   },
   "file_extension": ".py",
   "mimetype": "text/x-python",
   "name": "python",
   "nbconvert_exporter": "python",
   "pygments_lexer": "ipython3",
   "version": "3.8.8"
  }
 },
 "nbformat": 4,
 "nbformat_minor": 5
}

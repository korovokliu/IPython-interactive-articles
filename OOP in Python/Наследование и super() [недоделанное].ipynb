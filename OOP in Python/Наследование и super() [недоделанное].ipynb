{
 "cells": [
  {
   "cell_type": "markdown",
   "id": "7ce58562",
   "metadata": {},
   "source": [
    "# Наcледование и использовние функции super()"
   ]
  },
  {
   "cell_type": "code",
   "execution_count": 2,
   "id": "81add7db",
   "metadata": {},
   "outputs": [],
   "source": [
    "class Person:\n",
    "    def __init__(self, name, age):\n",
    "        self.name = name\n",
    "        self.age = age\n",
    "        print(\"Person class created\")\n",
    "    \n",
    "    def greeting(self):\n",
    "        print(f\"{self.name} says 'Hello!'\")"
   ]
  },
  {
   "cell_type": "code",
   "execution_count": 4,
   "id": "b3fd5e39",
   "metadata": {},
   "outputs": [
    {
     "name": "stdout",
     "output_type": "stream",
     "text": [
      "Person class created\n",
      "Mike says 'Hello!'\n"
     ]
    }
   ],
   "source": [
    "class Student(Person):\n",
    "    pass\n",
    "        \n",
    "s1 = Student(\"Mike\", 32)\n",
    "s1.greeting()"
   ]
  },
  {
   "cell_type": "markdown",
   "id": "38e9ce19",
   "metadata": {},
   "source": [
    "Если метод не перезаписывается, то все методы, в т.ч. `__init__`, наследуются от родительского класса. Функцию super() нужно вызывать только в том случае, когда в дочернем классе создается метод с тем же именем, что и в родительском, и мы хотим использовать часть функционала из родительского класса:"
   ]
  },
  {
   "cell_type": "code",
   "execution_count": 7,
   "id": "9ab8bfbe",
   "metadata": {},
   "outputs": [
    {
     "name": "stdout",
     "output_type": "stream",
     "text": [
      "Person class created\n",
      "Mike says 'Hello!'\n",
      "Я учусь в школе №1432\n"
     ]
    }
   ],
   "source": [
    "class Student(Person):\n",
    "    def __init__(self, name, age, school):\n",
    "        super().__init__(name, age)\n",
    "        self.s_num = school\n",
    "        \n",
    "    def greeting(self):\n",
    "        super().greeting()\n",
    "        print(f\"Я учусь в школе №{self.s_num}\")\n",
    "\n",
    "s1 = Student(\"Mike\", 32, 1432)\n",
    "s1.greeting()"
   ]
  },
  {
   "cell_type": "markdown",
   "id": "8c231c36",
   "metadata": {},
   "source": [
    "# Как работает функция `super()`\n",
    "\n",
    "У функции `super()` на самом деле есть два параметра: <span style=\"background: #8FFF4B;\">тот класс, у чьего <b>родителя</b> надо взять определенный метод</span>, и <span style=\"background: #8AFFF8;\">экземпляр класса, из которого этот метод будет вызываться</span>. По умолчанию первым параметром является <span style=\"background: #8FFF4b;\">текущий класс (с родителем которого будем работать)</span>, а <span style=\"background: #8AFFF8;\">экземепляром является тот же self, из которого вызывается метод с super()</span>. \n",
    "\n",
    "То есть `super().__init__(name, age)` - это то же самое, что и `super(Person, self).__init__(name, age)`\n",
    "\n",
    "При желании можно указать другие параметры:"
   ]
  },
  {
   "cell_type": "code",
   "execution_count": 4,
   "id": "d2fcc7fa",
   "metadata": {},
   "outputs": [
    {
     "name": "stdout",
     "output_type": "stream",
     "text": [
      "Person class created\n",
      "Mike says 'Hello!'\n",
      "Я учусь в школе №1432\n",
      "Person class created\n"
     ]
    },
    {
     "ename": "TypeError",
     "evalue": "super(type, obj): obj must be an instance or subtype of type",
     "output_type": "error",
     "traceback": [
      "\u001b[0;31m---------------------------------------------------------------------------\u001b[0m",
      "\u001b[0;31mTypeError\u001b[0m                                 Traceback (most recent call last)",
      "\u001b[0;32m<ipython-input-4-6daddf00dd52>\u001b[0m in \u001b[0;36m<module>\u001b[0;34m\u001b[0m\n\u001b[1;32m     22\u001b[0m \u001b[0;34m\u001b[0m\u001b[0m\n\u001b[1;32m     23\u001b[0m \u001b[0ms2\u001b[0m \u001b[0;34m=\u001b[0m \u001b[0mSixthGrader\u001b[0m\u001b[0;34m(\u001b[0m\u001b[0;34m\"Gosha\"\u001b[0m\u001b[0;34m,\u001b[0m \u001b[0;36m12\u001b[0m\u001b[0;34m,\u001b[0m \u001b[0;34m[\u001b[0m\u001b[0;34m'География'\u001b[0m\u001b[0;34m,\u001b[0m \u001b[0;34m'Биология'\u001b[0m\u001b[0;34m]\u001b[0m\u001b[0;34m)\u001b[0m\u001b[0;34m\u001b[0m\u001b[0;34m\u001b[0m\u001b[0m\n\u001b[0;32m---> 24\u001b[0;31m \u001b[0ms2\u001b[0m\u001b[0;34m.\u001b[0m\u001b[0mgreeting\u001b[0m\u001b[0;34m(\u001b[0m\u001b[0;34m)\u001b[0m\u001b[0;34m\u001b[0m\u001b[0;34m\u001b[0m\u001b[0m\n\u001b[0m",
      "\u001b[0;32m<ipython-input-4-6daddf00dd52>\u001b[0m in \u001b[0;36mgreeting\u001b[0;34m(self)\u001b[0m\n\u001b[1;32m     18\u001b[0m \u001b[0;34m\u001b[0m\u001b[0m\n\u001b[1;32m     19\u001b[0m     \u001b[0;32mdef\u001b[0m \u001b[0mgreeting\u001b[0m\u001b[0;34m(\u001b[0m\u001b[0mself\u001b[0m\u001b[0;34m)\u001b[0m\u001b[0;34m:\u001b[0m\u001b[0;34m\u001b[0m\u001b[0;34m\u001b[0m\u001b[0m\n\u001b[0;32m---> 20\u001b[0;31m         \u001b[0msuper\u001b[0m\u001b[0;34m(\u001b[0m\u001b[0mSixthGrader\u001b[0m\u001b[0;34m,\u001b[0m \u001b[0ms1\u001b[0m\u001b[0;34m)\u001b[0m\u001b[0;34m.\u001b[0m\u001b[0mgreeting\u001b[0m\u001b[0;34m(\u001b[0m\u001b[0;34m)\u001b[0m\u001b[0;34m\u001b[0m\u001b[0;34m\u001b[0m\u001b[0m\n\u001b[0m\u001b[1;32m     21\u001b[0m         \u001b[0mprint\u001b[0m\u001b[0;34m(\u001b[0m\u001b[0;34m\"j\"\u001b[0m\u001b[0;34m)\u001b[0m\u001b[0;34m\u001b[0m\u001b[0;34m\u001b[0m\u001b[0m\n\u001b[1;32m     22\u001b[0m \u001b[0;34m\u001b[0m\u001b[0m\n",
      "\u001b[0;31mTypeError\u001b[0m: super(type, obj): obj must be an instance or subtype of type"
     ]
    }
   ],
   "source": [
    "class Student(Person): \n",
    "    def __init__(self, name, age, school):\n",
    "        super(Student, self).__init__(name, age)\n",
    "        # то же, что и super().__init__(name, age)\n",
    "        self.s_num = school\n",
    "        \n",
    "    def greeting(self):\n",
    "        super().greeting()\n",
    "        print(f\"Я учусь в школе №{self.s_num}\")\n",
    "\n",
    "s1 = Student(\"Mike\", 32, 1432)\n",
    "s1.greeting()        \n",
    "        \n",
    "class SixthGrader(Student):\n",
    "    def __init__(self, name, age, subjects):\n",
    "        super(Student, self).__init__(name, age)\n",
    "        self.subjects = subjects\n",
    "        \n",
    "    def greeting(self):\n",
    "        super(SixthGrader, s1).greeting()\n",
    "        print(\"j\")\n",
    "        \n",
    "s2 = SixthGrader(\"Gosha\", 12, ['География', 'Биология'])\n",
    "s2.greeting()"
   ]
  },
  {
   "cell_type": "markdown",
   "id": "b00922c5",
   "metadata": {},
   "source": [
    "*почему-то не работает...*"
   ]
  },
  {
   "cell_type": "code",
   "execution_count": 3,
   "id": "e4780b99",
   "metadata": {},
   "outputs": [
    {
     "name": "stdout",
     "output_type": "stream",
     "text": [
      "Person class created\n",
      "Mike says 'Hello!'\n",
      "Я учусь в школе №1432\n"
     ]
    }
   ],
   "source": [
    "class Dog:\n",
    "    def bark(self):\n",
    "        print(\"Гав!\")\n",
    "        \n",
    "\n",
    "class Student(Person):\n",
    "    def __init__(self, name, age, school):\n",
    "        super().__init__(name, age)\n",
    "        self.s_num = school\n",
    "        \n",
    "    def greeting(self):\n",
    "        super().greeting()\n",
    "        print(f\"Я учусь в школе №{self.s_num}\")\n",
    "    \n",
    "s1 = Student(\"Mike\", 32, 1432)\n",
    "s1.greeting()"
   ]
  },
  {
   "cell_type": "code",
   "execution_count": 9,
   "id": "ee0a652f",
   "metadata": {},
   "outputs": [
    {
     "name": "stdout",
     "output_type": "stream",
     "text": [
      "Base\n",
      "Grandchild\n",
      "2\n",
      "wow\n"
     ]
    }
   ],
   "source": [
    "class Base:\n",
    "    def __init__(self):\n",
    "        self.num = 1\n",
    "        print(\"Base\")\n",
    "        \n",
    "class Child(Base):\n",
    "    def __init__(self):\n",
    "        super().__init__()\n",
    "        self.num += 1\n",
    "        print(\"Child\")\n",
    "        \n",
    "    def greeting(self):\n",
    "        print(\"wow\")\n",
    "        \n",
    "class Grandchild1(Child):\n",
    "    def __init__(self):\n",
    "        super(Child, self).__init__()\n",
    "        self.num +=1\n",
    "        print(\"Grandchild\")\n",
    "        \n",
    "        \n",
    "g = Grandchild1()\n",
    "print(g.num)\n",
    "g.greeting()"
   ]
  },
  {
   "cell_type": "code",
   "execution_count": null,
   "id": "44e99a1e",
   "metadata": {},
   "outputs": [],
   "source": []
  }
 ],
 "metadata": {
  "kernelspec": {
   "display_name": "Python 3",
   "language": "python",
   "name": "python3"
  },
  "language_info": {
   "codemirror_mode": {
    "name": "ipython",
    "version": 3
   },
   "file_extension": ".py",
   "mimetype": "text/x-python",
   "name": "python",
   "nbconvert_exporter": "python",
   "pygments_lexer": "ipython3",
   "version": "3.8.8"
  }
 },
 "nbformat": 4,
 "nbformat_minor": 5
}

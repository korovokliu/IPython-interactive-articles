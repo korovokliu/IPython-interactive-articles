{
 "cells": [
  {
   "cell_type": "markdown",
   "metadata": {},
   "source": [
    "Абстрактный класс используется, чтобы описать штуки, которые должен иметь класс, для того, чтобы утиная типизация работала как мы задумали. В Python есть библиотека абстрактных классов, которая говорит, какие атрибуты и методы обязательно должен иметь тот или иной тип."
   ]
  },
  {
   "cell_type": "code",
   "execution_count": 1,
   "metadata": {},
   "outputs": [],
   "source": [
    "import abc\n",
    "\n",
    "class MediaLoader(metaclass=abc.ABCMeta):\n",
    "    @abc.abstractmethod\n",
    "    def play(self):\n",
    "        pass\n",
    "    \n",
    "    @abc.abstractproperty\n",
    "    def ext(self):\n",
    "        pass\n",
    "    \n",
    "    @classmethod  # декоратор, который показывает, что этот метод \n",
    "    # является методом класса, то есть его необязательно вызывать из экземпляра\n",
    "    def __subclasshook__(cls, C): # является ли класс С подклассом cls\n",
    "        if cls is MediaLoader:\n",
    "            attrs = set(dir(C))\n",
    "            if set(cls.__abstractmethods__) <= attrs: # если множество методов,\n",
    "                # которые есть у суперкласса и у всех его родителей, меньше \n",
    "                # количества методов, которые есть у предполагаемого субкласса. то\n",
    "                return True # С подкласс cls \n",
    "            \n",
    "        return NotImplemented  # если не выполнено какое-то из условий, то класс \n",
    "    # не реализован"
   ]
  },
  {
   "cell_type": "code",
   "execution_count": 5,
   "metadata": {},
   "outputs": [],
   "source": [
    "class Ogg():\n",
    "    ext = \"ogg\"\n",
    "    def play(self):\n",
    "        print(\"playing {} as ogg\".format(self.filename))"
   ]
  },
  {
   "cell_type": "code",
   "execution_count": 6,
   "metadata": {},
   "outputs": [
    {
     "data": {
      "text/plain": [
       "True"
      ]
     },
     "execution_count": 6,
     "metadata": {},
     "output_type": "execute_result"
    }
   ],
   "source": [
    "issubclass(Ogg, MediaLoader)"
   ]
  },
  {
   "cell_type": "code",
   "execution_count": 7,
   "metadata": {},
   "outputs": [
    {
     "data": {
      "text/plain": [
       "True"
      ]
     },
     "execution_count": 7,
     "metadata": {},
     "output_type": "execute_result"
    }
   ],
   "source": [
    "isinstance(Ogg(), MediaLoader)"
   ]
  },
  {
   "cell_type": "code",
   "execution_count": null,
   "metadata": {},
   "outputs": [],
   "source": []
  }
 ],
 "metadata": {
  "kernelspec": {
   "display_name": "Python 3",
   "language": "python",
   "name": "python3"
  },
  "language_info": {
   "codemirror_mode": {
    "name": "ipython",
    "version": 3
   },
   "file_extension": ".py",
   "mimetype": "text/x-python",
   "name": "python",
   "nbconvert_exporter": "python",
   "pygments_lexer": "ipython3",
   "version": "3.8.1"
  }
 },
 "nbformat": 4,
 "nbformat_minor": 4
}

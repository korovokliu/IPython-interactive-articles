{
 "cells": [
  {
   "cell_type": "markdown",
   "metadata": {},
   "source": [
    "## Socket"
   ]
  },
  {
   "cell_type": "code",
   "execution_count": null,
   "metadata": {},
   "outputs": [],
   "source": [
    "\"\"\"Код сервера\"\"\"\n",
    "import socket\n",
    "\n",
    "sock = socket.socket()\n",
    "sock.bind(('', 9090))\n",
    "sock.listen(1)\n",
    "conn, addr = sock.accept()\n",
    "\n",
    "print('connected:', addr)\n",
    "\n",
    "while True:\n",
    "    data = conn.recv(1024)\n",
    "    if not data:\n",
    "        break\n",
    "    conn.send(data.upper())\n",
    "\n",
    "conn.close()"
   ]
  },
  {
   "cell_type": "code",
   "execution_count": null,
   "metadata": {},
   "outputs": [],
   "source": [
    "\"\"\"Код клиента\"\"\"\n",
    "import socket\n",
    "\n",
    "sock = socket.socket()\n",
    "sock.connect(('localhost', 9090))\n",
    "sock.send('hello, world!')\n",
    "\n",
    "data = sock.recv(1024)\n",
    "sock.close()\n",
    "\n",
    "print(data)"
   ]
  },
  {
   "cell_type": "markdown",
   "metadata": {},
   "source": [
    "## Iterator pattern"
   ]
  },
  {
   "cell_type": "code",
   "execution_count": 3,
   "metadata": {},
   "outputs": [
    {
     "name": "stdout",
     "output_type": "stream",
     "text": [
      "['H', 'He', 'Li'] [1.008, 4.003, 6.94]\n"
     ]
    }
   ],
   "source": []
  },
  {
   "cell_type": "code",
   "execution_count": 5,
   "metadata": {},
   "outputs": [
    {
     "name": "stdout",
     "output_type": "stream",
     "text": [
      "H 1.008\n",
      "He 4.003\n",
      "Li 6.94\n"
     ]
    }
   ],
   "source": [
    "elements = [('H', 1.008), ('He', 4.003), ('Li', 6.94)] \n",
    "for tup in elements:\n",
    "    symbol, weight = tup\n",
    "    print(symbol, weight)"
   ]
  },
  {
   "cell_type": "code",
   "execution_count": 6,
   "metadata": {},
   "outputs": [
    {
     "name": "stdout",
     "output_type": "stream",
     "text": [
      "H 1.008\n",
      "He 4.003\n",
      "Li 6.94\n"
     ]
    }
   ],
   "source": [
    "elements = [('H', 1.008), ('He', 4.003), ('Li', 6.94)] \n",
    "for symbol, weight in elements:\n",
    "    print(symbol, weight)"
   ]
  },
  {
   "cell_type": "code",
   "execution_count": 12,
   "metadata": {},
   "outputs": [
    {
     "name": "stdout",
     "output_type": "stream",
     "text": [
      "dict_items([('H', 1.008), ('He', 4.003), ('Li', 6.94)])\n",
      "H 1.008\n",
      "He 4.003\n",
      "Li 6.94\n"
     ]
    }
   ],
   "source": [
    "d = {'H': 1.008, 'He': 4.003, 'Li': 6.94}\n",
    "print(d.items())\n",
    "for symbol, weight in d.items(): \n",
    "    print(symbol, weight) "
   ]
  },
  {
   "cell_type": "code",
   "execution_count": 10,
   "metadata": {},
   "outputs": [
    {
     "name": "stdout",
     "output_type": "stream",
     "text": [
      "{0: None, 2: None, 4: None, 6: None, 8: None, 10: None, 12: None, 14: None, 16: None, 18: None, 20: None, 22: None, 24: None, 26: None, 28: None, 30: None, 32: None, 34: None, 36: None, 38: None, 40: None, 42: None, 44: None, 46: None, 48: None, 50: None, 52: None, 54: None, 56: None, 58: None, 60: None, 62: None, 64: None, 66: None, 68: None, 70: None, 72: None, 74: None, 76: None, 78: None, 80: None, 82: None, 84: None, 86: None, 88: None, 90: None, 92: None, 94: None, 96: None, 98: None, 100: None, 102: None, 104: None, 106: None, 108: None, 110: None, 112: None, 114: None, 116: None, 118: None, 120: None, 122: None, 124: None, 126: None, 128: None, 130: None, 132: None, 134: None, 136: None, 138: None, 140: None, 142: None, 144: None, 146: None, 148: None, 150: None, 152: None, 154: None, 156: None, 158: None, 160: None, 162: None, 164: None, 166: None, 168: None, 170: None, 172: None, 174: None, 176: None, 178: None, 180: None, 182: None, 184: None, 186: None, 188: None, 190: None, 192: None, 194: None, 196: None, 198: None, 200: None, 202: None, 204: None, 206: None, 208: None, 210: None, 212: None, 214: None, 216: None, 218: None, 220: None, 222: None, 224: None, 226: None, 228: None, 230: None, 232: None, 234: None, 236: None, 238: None, 240: None, 242: None, 244: None, 246: None, 248: None, 250: None, 252: None, 254: None, 256: None, 258: None, 260: None, 262: None, 264: None, 266: None, 268: None, 270: None, 272: None, 274: None, 276: None, 278: None, 280: None, 282: None, 284: None, 286: None, 288: None, 290: None, 292: None, 294: None, 296: None, 298: None, 300: None, 302: None, 304: None, 306: None, 308: None, 310: None, 312: None, 314: None, 316: None, 318: None, 320: None, 322: None, 324: None, 326: None, 328: None, 330: None, 332: None, 334: None, 336: None, 338: None, 340: None, 342: None, 344: None, 346: None, 348: None, 350: None, 352: None, 354: None, 356: None, 358: None, 360: None, 362: None, 364: None, 366: None, 368: None, 370: None, 372: None, 374: None, 376: None, 378: None, 380: None, 382: None, 384: None, 386: None, 388: None, 390: None, 392: None, 394: None, 396: None, 398: None, 400: None, 402: None, 404: None, 406: None, 408: None, 410: None, 412: None, 414: None, 416: None, 418: None, 420: None, 422: None, 424: None, 426: None, 428: None, 430: None, 432: None, 434: None, 436: None, 438: None, 440: None, 442: None, 444: None, 446: None, 448: None, 450: None, 452: None, 454: None, 456: None, 458: None, 460: None, 462: None, 464: None, 466: None, 468: None, 470: None, 472: None, 474: None, 476: None, 478: None, 480: None, 482: None, 484: None, 486: None, 488: None, 490: None, 492: None, 494: None, 496: None, 498: None, 500: None, 502: None, 504: None, 506: None, 508: None, 510: None, 512: None, 514: None, 516: None, 518: None, 520: None, 522: None, 524: None, 526: None, 528: None, 530: None, 532: None, 534: None, 536: None, 538: None, 540: None, 542: None, 544: None, 546: None, 548: None, 550: None, 552: None, 554: None, 556: None, 558: None, 560: None, 562: None, 564: None, 566: None, 568: None, 570: None, 572: None, 574: None, 576: None, 578: None, 580: None, 582: None, 584: None, 586: None, 588: None, 590: None, 592: None, 594: None, 596: None, 598: None, 600: None, 602: None, 604: None, 606: None, 608: None, 610: None, 612: None, 614: None, 616: None, 618: None, 620: None, 622: None, 624: None, 626: None, 628: None, 630: None, 632: None, 634: None, 636: None, 638: None, 640: None, 642: None, 644: None, 646: None, 648: None, 650: None, 652: None, 654: None, 656: None, 658: None, 660: None, 662: None, 664: None, 666: None, 668: None, 670: None, 672: None, 674: None, 676: None, 678: None, 680: None, 682: None, 684: None, 686: None, 688: None, 690: None, 692: None, 694: None, 696: None, 698: None, 700: None, 702: None, 704: None, 706: None, 708: None, 710: None, 712: None, 714: None, 716: None, 718: None, 720: None, 722: None, 724: None, 726: None, 728: None, 730: None, 732: None, 734: None, 736: None, 738: None, 740: None, 742: None, 744: None, 746: None, 748: None, 750: None, 752: None, 754: None, 756: None, 758: None, 760: None, 762: None, 764: None, 766: None, 768: None, 770: None, 772: None, 774: None, 776: None, 778: None, 780: None, 782: None, 784: None, 786: None, 788: None, 790: None, 792: None, 794: None, 796: None, 798: None, 800: None, 802: None, 804: None, 806: None, 808: None, 810: None, 812: None, 814: None, 816: None, 818: None, 820: None, 822: None, 824: None, 826: None, 828: None, 830: None, 832: None, 834: None, 836: None, 838: None, 840: None, 842: None, 844: None, 846: None, 848: None, 850: None, 852: None, 854: None, 856: None, 858: None, 860: None, 862: None, 864: None, 866: None, 868: None, 870: None, 872: None, 874: None, 876: None, 878: None, 880: None, 882: None, 884: None, 886: None, 888: None, 890: None, 892: None, 894: None, 896: None, 898: None, 900: None, 902: None, 904: None, 906: None, 908: None, 910: None, 912: None, 914: None, 916: None, 918: None, 920: None, 922: None, 924: None, 926: None, 928: None, 930: None, 932: None, 934: None, 936: None, 938: None, 940: None, 942: None, 944: None, 946: None, 948: None, 950: None, 952: None, 954: None, 956: None, 958: None, 960: None, 962: None, 964: None, 966: None, 968: None, 970: None, 972: None, 974: None, 976: None, 978: None, 980: None, 982: None, 984: None, 986: None, 988: None, 990: None, 992: None, 994: None, 996: None, 998: None}\n"
     ]
    }
   ],
   "source": []
  },
  {
   "cell_type": "code",
   "execution_count": null,
   "metadata": {},
   "outputs": [],
   "source": []
  }
 ],
 "metadata": {
  "kernelspec": {
   "display_name": "Python 3",
   "language": "python",
   "name": "python3"
  },
  "language_info": {
   "codemirror_mode": {
    "name": "ipython",
    "version": 3
   },
   "file_extension": ".py",
   "mimetype": "text/x-python",
   "name": "python",
   "nbconvert_exporter": "python",
   "pygments_lexer": "ipython3",
   "version": "3.8.1"
  }
 },
 "nbformat": 4,
 "nbformat_minor": 4
}

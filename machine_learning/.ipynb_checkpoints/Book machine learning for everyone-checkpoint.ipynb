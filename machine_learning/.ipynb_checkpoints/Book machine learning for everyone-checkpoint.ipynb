{
 "cells": [
  {
   "cell_type": "code",
   "execution_count": 4,
   "id": "ffc98e90",
   "metadata": {},
   "outputs": [
    {
     "data": {
      "text/plain": [
       "<scipy.stats._discrete_distns.binom_gen at 0x1cadd0f1a90>"
      ]
     },
     "execution_count": 4,
     "metadata": {},
     "output_type": "execute_result"
    }
   ],
   "source": [
    "import scipy.stats as ss\n",
    "b = ss.distributions.binom\n",
    "b"
   ]
  },
  {
   "cell_type": "code",
   "execution_count": null,
   "id": "141c3382",
   "metadata": {},
   "outputs": [],
   "source": []
  },
  {
   "cell_type": "markdown",
   "id": "17b5b40c",
   "metadata": {},
   "source": [
    "$n ≥ 0$ - число испытаний<br>\n",
    "$0 ≤ p ≤ 1$ - вероятность успеха, $q = 1-q$ - вероятность проигрыша<br>\n",
    "${\\displaystyle f(k) = \\binom{n}{k} p^k (1-p)^{n-k}}$, где ${\\displaystyle \\binom{n}{k} = \\frac{n!}{k!(n-k)!}}$"
   ]
  },
  {
   "cell_type": "markdown",
   "id": "740d1990",
   "metadata": {},
   "source": [
    "A six-sided die is rolled 12 times. What is the probability of getting a 4 five times?\n",
    "Выпадение 4 при каждом броске не зависит от предыдущего броска. "
   ]
  }
 ],
 "metadata": {
  "kernelspec": {
   "display_name": "Python 3",
   "language": "python",
   "name": "python3"
  },
  "language_info": {
   "codemirror_mode": {
    "name": "ipython",
    "version": 3
   },
   "file_extension": ".py",
   "mimetype": "text/x-python",
   "name": "python",
   "nbconvert_exporter": "python",
   "pygments_lexer": "ipython3",
   "version": "3.8.8"
  },
  "latex_envs": {
   "LaTeX_envs_menu_present": true,
   "autoclose": false,
   "autocomplete": true,
   "bibliofile": "biblio.bib",
   "cite_by": "apalike",
   "current_citInitial": 1,
   "eqLabelWithNumbers": true,
   "eqNumInitial": 1,
   "hotkeys": {
    "equation": "Ctrl-E",
    "itemize": "Ctrl-I"
   },
   "labels_anchors": false,
   "latex_user_defs": false,
   "report_style_numbering": false,
   "user_envs_cfg": false
  }
 },
 "nbformat": 4,
 "nbformat_minor": 5
}

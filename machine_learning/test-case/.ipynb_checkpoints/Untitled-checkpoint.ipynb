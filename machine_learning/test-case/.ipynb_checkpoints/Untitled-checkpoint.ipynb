{
 "cells": [
  {
   "cell_type": "code",
   "execution_count": 5,
   "id": "8adffbf1",
   "metadata": {},
   "outputs": [],
   "source": [
    "import pandas as pd\n",
    "import matplotlib as plt"
   ]
  },
  {
   "cell_type": "code",
   "execution_count": 4,
   "id": "0b9e3a35",
   "metadata": {},
   "outputs": [
    {
     "data": {
      "text/html": [
       "<div>\n",
       "<style scoped>\n",
       "    .dataframe tbody tr th:only-of-type {\n",
       "        vertical-align: middle;\n",
       "    }\n",
       "\n",
       "    .dataframe tbody tr th {\n",
       "        vertical-align: top;\n",
       "    }\n",
       "\n",
       "    .dataframe thead th {\n",
       "        text-align: right;\n",
       "    }\n",
       "</style>\n",
       "<table border=\"1\" class=\"dataframe\">\n",
       "  <thead>\n",
       "    <tr style=\"text-align: right;\">\n",
       "      <th></th>\n",
       "      <th>FIO</th>\n",
       "      <th>Месяц</th>\n",
       "      <th>Профессия</th>\n",
       "      <th>Разряд</th>\n",
       "      <th>Оборудование</th>\n",
       "      <th>Вредность (балл.)</th>\n",
       "      <th>Объем производства</th>\n",
       "      <th>Доход</th>\n",
       "    </tr>\n",
       "  </thead>\n",
       "  <tbody>\n",
       "    <tr>\n",
       "      <th>0</th>\n",
       "      <td>Абрамов Е. Д.</td>\n",
       "      <td>января 2009</td>\n",
       "      <td>Уборщик</td>\n",
       "      <td>3</td>\n",
       "      <td>Пилигримовые станы</td>\n",
       "      <td>18</td>\n",
       "      <td>580</td>\n",
       "      <td>16 638</td>\n",
       "    </tr>\n",
       "    <tr>\n",
       "      <th>1</th>\n",
       "      <td>Абрамов Е. Д.</td>\n",
       "      <td>февраля 2009</td>\n",
       "      <td>Уборщик</td>\n",
       "      <td>3</td>\n",
       "      <td>Пилигримовые станы</td>\n",
       "      <td>18</td>\n",
       "      <td>790</td>\n",
       "      <td>16 638</td>\n",
       "    </tr>\n",
       "    <tr>\n",
       "      <th>2</th>\n",
       "      <td>Абрамов Е. Д.</td>\n",
       "      <td>марта 2009</td>\n",
       "      <td>Уборщик</td>\n",
       "      <td>3</td>\n",
       "      <td>Пилигримовые станы</td>\n",
       "      <td>18</td>\n",
       "      <td>820</td>\n",
       "      <td>16 638</td>\n",
       "    </tr>\n",
       "    <tr>\n",
       "      <th>3</th>\n",
       "      <td>Абрамов Е. Д.</td>\n",
       "      <td>апреля 2009</td>\n",
       "      <td>Уборщик</td>\n",
       "      <td>3</td>\n",
       "      <td>Пилигримовые станы</td>\n",
       "      <td>18</td>\n",
       "      <td>1200</td>\n",
       "      <td>19 396</td>\n",
       "    </tr>\n",
       "    <tr>\n",
       "      <th>4</th>\n",
       "      <td>Абрамов Е. Д.</td>\n",
       "      <td>мая 2009</td>\n",
       "      <td>Уборщик</td>\n",
       "      <td>3</td>\n",
       "      <td>Пилигримовые станы</td>\n",
       "      <td>18</td>\n",
       "      <td>1250</td>\n",
       "      <td>19 790</td>\n",
       "    </tr>\n",
       "  </tbody>\n",
       "</table>\n",
       "</div>"
      ],
      "text/plain": [
       "             FIO         Месяц Профессия  Разряд        Оборудование  \\\n",
       "0  Абрамов Е. Д.   января 2009   Уборщик       3  Пилигримовые станы   \n",
       "1  Абрамов Е. Д.  февраля 2009   Уборщик       3  Пилигримовые станы   \n",
       "2  Абрамов Е. Д.    марта 2009   Уборщик       3  Пилигримовые станы   \n",
       "3  Абрамов Е. Д.   апреля 2009   Уборщик       3  Пилигримовые станы   \n",
       "4  Абрамов Е. Д.      мая 2009   Уборщик       3  Пилигримовые станы   \n",
       "\n",
       "   Вредность (балл.)  Объем производства      Доход  \n",
       "0                 18                 580    16 638   \n",
       "1                 18                 790    16 638   \n",
       "2                 18                 820    16 638   \n",
       "3                 18                1200    19 396   \n",
       "4                 18                1250    19 790   "
      ]
     },
     "execution_count": 4,
     "metadata": {},
     "output_type": "execute_result"
    }
   ],
   "source": [
    "file = pd.read_csv(\"Задание 5.0 2 версия.xlsx - Sheet 1.csv\")\n",
    "file.head()"
   ]
  },
  {
   "cell_type": "code",
   "execution_count": null,
   "id": "7319827c",
   "metadata": {},
   "outputs": [],
   "source": []
  }
 ],
 "metadata": {
  "kernelspec": {
   "display_name": "Python 3",
   "language": "python",
   "name": "python3"
  },
  "language_info": {
   "codemirror_mode": {
    "name": "ipython",
    "version": 3
   },
   "file_extension": ".py",
   "mimetype": "text/x-python",
   "name": "python",
   "nbconvert_exporter": "python",
   "pygments_lexer": "ipython3",
   "version": "3.8.8"
  }
 },
 "nbformat": 4,
 "nbformat_minor": 5
}

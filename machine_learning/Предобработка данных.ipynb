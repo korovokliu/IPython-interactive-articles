{
 "cells": [
  {
   "cell_type": "markdown",
   "id": "82a40c03",
   "metadata": {},
   "source": [
    "## Бинаризация - преобразования значение в 0 и 1"
   ]
  },
  {
   "cell_type": "code",
   "execution_count": 1,
   "id": "0367fcba",
   "metadata": {},
   "outputs": [],
   "source": [
    "import numpy as np\n",
    "from sklearn import preprocessing  # модуль для нормализации данных в sklearn\n",
    "\n",
    "input_data = np.array([[5.1, -2.9, 3.3],\n",
    "                      [-1.2, 7.8, -6.1],\n",
    "                      [3.9, 0.4, 2.1]])"
   ]
  },
  {
   "cell_type": "code",
   "execution_count": 3,
   "id": "1cdb2e09",
   "metadata": {},
   "outputs": [
    {
     "name": "stdout",
     "output_type": "stream",
     "text": [
      "[[1. 0. 1.]\n",
      " [0. 1. 0.]\n",
      " [1. 0. 0.]]\n"
     ]
    }
   ],
   "source": [
    "binarized_data = preprocessing.Binarizer(threshold=2.1).transform(input_data)\n",
    "# разделитель = 2.1 - все значения выше 2.1 трактуются как True (1)\n",
    "print(binarized_data) "
   ]
  },
  {
   "cell_type": "markdown",
   "id": "237093f4",
   "metadata": {},
   "source": [
    "## Исключение среднего - каждый признак (feature) центрируется в 0"
   ]
  },
  {
   "cell_type": "code",
   "execution_count": 11,
   "id": "29291208",
   "metadata": {},
   "outputs": [
    {
     "data": {
      "text/plain": [
       "True"
      ]
     },
     "execution_count": 11,
     "metadata": {},
     "output_type": "execute_result"
    }
   ],
   "source": [
    "np.array([18, 2, 3]).mean() == (18+2+3)/3\n",
    "# находит среднее арифметическое значение плоского (одномерного) массива"
   ]
  },
  {
   "cell_type": "code",
   "execution_count": 17,
   "id": "476d0290",
   "metadata": {},
   "outputs": [
    {
     "data": {
      "text/plain": [
       "array([ True,  True,  True])"
      ]
     },
     "execution_count": 17,
     "metadata": {},
     "output_type": "execute_result"
    }
   ],
   "source": [
    "# Если массив не сплющен (flattened array), то надо указать ось, вдоль которой надо вычислить \n",
    "# среднее значение. axis=0 - среднее в колонках, axis=1 - среднее в строках\n",
    "np.array([[18, 2, 3],\n",
    "          [1, 2, 3]]).mean(axis=0) == [(18+1)/2, (2+2)/2, (3+3)/2]"
   ]
  },
  {
   "cell_type": "code",
   "execution_count": 23,
   "id": "7154ebf0",
   "metadata": {},
   "outputs": [
    {
     "name": "stdout",
     "output_type": "stream",
     "text": [
      "[ 2.6         1.76666667 -0.23333333] 1.1889408088351496\n"
     ]
    }
   ],
   "source": [
    "means_along_columns = input_data.mean(axis=0)\n",
    "scaled_data_along_columns = means_along_columns.std(axis=0)\n",
    "print(means_along_columns, scaled_data_along_columns)"
   ]
  },
  {
   "cell_type": "markdown",
   "id": "e6ce418c",
   "metadata": {},
   "source": [
    "## Масштарование - принимаем средние значения за 0"
   ]
  },
  {
   "cell_type": "markdown",
   "id": "c90ae21a",
   "metadata": {},
   "source": [
    "## Когда может потребоваться обработка данных?"
   ]
  },
  {
   "cell_type": "markdown",
   "id": "aaf4d616",
   "metadata": {},
   "source": [
    "Допустим, у нас изображение $28\\cdot 28$ пикселей, т.е. всего 256 пикселей."
   ]
  },
  {
   "cell_type": "markdown",
   "id": "dec42abb",
   "metadata": {},
   "source": [
    "# Tensor vs Array vs DataFrame"
   ]
  },
  {
   "cell_type": "code",
   "execution_count": null,
   "id": "57c85951",
   "metadata": {},
   "outputs": [],
   "source": []
  }
 ],
 "metadata": {
  "kernelspec": {
   "display_name": "Python 3",
   "language": "python",
   "name": "python3"
  },
  "language_info": {
   "codemirror_mode": {
    "name": "ipython",
    "version": 3
   },
   "file_extension": ".py",
   "mimetype": "text/x-python",
   "name": "python",
   "nbconvert_exporter": "python",
   "pygments_lexer": "ipython3",
   "version": "3.8.8"
  },
  "latex_envs": {
   "LaTeX_envs_menu_present": true,
   "autoclose": false,
   "autocomplete": true,
   "bibliofile": "biblio.bib",
   "cite_by": "apalike",
   "current_citInitial": 1,
   "eqLabelWithNumbers": true,
   "eqNumInitial": 1,
   "hotkeys": {
    "equation": "Ctrl-E",
    "itemize": "Ctrl-I"
   },
   "labels_anchors": false,
   "latex_user_defs": false,
   "report_style_numbering": false,
   "user_envs_cfg": false
  }
 },
 "nbformat": 4,
 "nbformat_minor": 5
}

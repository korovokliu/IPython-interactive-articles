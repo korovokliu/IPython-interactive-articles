{
 "cells": [
  {
   "cell_type": "markdown",
   "id": "b708f0d8",
   "metadata": {},
   "source": [
    "## Series"
   ]
  },
  {
   "cell_type": "markdown",
   "id": "f4b10652",
   "metadata": {},
   "source": [
    "**Series** - **одномерный массив**, имеющий специальные метки (индексы) и способные хранить данные любого типа"
   ]
  },
  {
   "cell_type": "code",
   "execution_count": 1,
   "id": "c43e6d60",
   "metadata": {},
   "outputs": [
    {
     "data": {
      "text/plain": [
       "0                       2\n",
       "1                   False\n",
       "2                     3.1\n",
       "3    у меня разные данные\n",
       "4                     NaN\n",
       "5                       0\n",
       "dtype: object"
      ]
     },
     "execution_count": 1,
     "metadata": {},
     "output_type": "execute_result"
    }
   ],
   "source": [
    "import pandas as pd\n",
    "import numpy as np\n",
    "pd.Series([2, False, 3.1, 'у меня разные данные', np.nan, 0])"
   ]
  },
  {
   "cell_type": "markdown",
   "id": "daf3f36d",
   "metadata": {},
   "source": [
    "По дефолту мало чем отличается от обычных списков, просто индексы списка функция `print()` не выводит. Индексы поменять (будет как словарь с парой ключ:значение)"
   ]
  },
  {
   "cell_type": "code",
   "execution_count": 2,
   "id": "cf66c7ed",
   "metadata": {},
   "outputs": [
    {
     "data": {
      "text/plain": [
       "a     6\n",
       "b    10\n",
       "c     2\n",
       "d     5\n",
       "e    10\n",
       "dtype: int32"
      ]
     },
     "execution_count": 2,
     "metadata": {},
     "output_type": "execute_result"
    }
   ],
   "source": [
    "pd.Series(np.random.randint(1, 13, 5), index=[i for i in 'abcde'])"
   ]
  },
  {
   "cell_type": "code",
   "execution_count": 3,
   "id": "f64fa4f8",
   "metadata": {
    "scrolled": false
   },
   "outputs": [
    {
     "data": {
      "text/plain": [
       "-0.494666    a\n",
       " 0.844596    b\n",
       "-1.340067    c\n",
       " 0.777414    d\n",
       "-0.447223    e\n",
       "-0.212243    f\n",
       " 1.769210    g\n",
       "dtype: object"
      ]
     },
     "execution_count": 3,
     "metadata": {},
     "output_type": "execute_result"
    }
   ],
   "source": [
    "p = pd.Series({k:v for k, v in zip(np.random.randn(7), 'abcdefg')}) \n",
    "# можно передавать индексы и значения в генераторе словаря\n",
    "p # тут индексами являются рандомные числа, а значениями алфавит"
   ]
  },
  {
   "cell_type": "markdown",
   "id": "f8b828dd",
   "metadata": {},
   "source": [
    "**В Series ключами являются индексы, которые располагаются в строку, в DataFrame ключами являются названия колонок**\n",
    "\n",
    "Когда индексами являются числа с плавающей точкой, то это может быть проблемой, т.к. в превью ключа число с плавающей точкой округляется. Если ввести это округленное для представления значение, то pandas выдаст ошибку"
   ]
  },
  {
   "cell_type": "code",
   "execution_count": 4,
   "id": "4e049bcb",
   "metadata": {},
   "outputs": [
    {
     "ename": "KeyError",
     "evalue": "-0.494666",
     "output_type": "error",
     "traceback": [
      "\u001b[1;31m---------------------------------------------------------------------------\u001b[0m",
      "\u001b[1;31mKeyError\u001b[0m                                  Traceback (most recent call last)",
      "\u001b[1;32mD:\\Anaconda\\lib\\site-packages\\pandas\\core\\indexes\\base.py\u001b[0m in \u001b[0;36mget_loc\u001b[1;34m(self, key, method, tolerance)\u001b[0m\n\u001b[0;32m   3079\u001b[0m             \u001b[1;32mtry\u001b[0m\u001b[1;33m:\u001b[0m\u001b[1;33m\u001b[0m\u001b[1;33m\u001b[0m\u001b[0m\n\u001b[1;32m-> 3080\u001b[1;33m                 \u001b[1;32mreturn\u001b[0m \u001b[0mself\u001b[0m\u001b[1;33m.\u001b[0m\u001b[0m_engine\u001b[0m\u001b[1;33m.\u001b[0m\u001b[0mget_loc\u001b[0m\u001b[1;33m(\u001b[0m\u001b[0mcasted_key\u001b[0m\u001b[1;33m)\u001b[0m\u001b[1;33m\u001b[0m\u001b[1;33m\u001b[0m\u001b[0m\n\u001b[0m\u001b[0;32m   3081\u001b[0m             \u001b[1;32mexcept\u001b[0m \u001b[0mKeyError\u001b[0m \u001b[1;32mas\u001b[0m \u001b[0merr\u001b[0m\u001b[1;33m:\u001b[0m\u001b[1;33m\u001b[0m\u001b[1;33m\u001b[0m\u001b[0m\n",
      "\u001b[1;32mpandas\\_libs\\index.pyx\u001b[0m in \u001b[0;36mpandas._libs.index.IndexEngine.get_loc\u001b[1;34m()\u001b[0m\n",
      "\u001b[1;32mpandas\\_libs\\index.pyx\u001b[0m in \u001b[0;36mpandas._libs.index.IndexEngine.get_loc\u001b[1;34m()\u001b[0m\n",
      "\u001b[1;32mpandas\\_libs\\hashtable_class_helper.pxi\u001b[0m in \u001b[0;36mpandas._libs.hashtable.Float64HashTable.get_item\u001b[1;34m()\u001b[0m\n",
      "\u001b[1;32mpandas\\_libs\\hashtable_class_helper.pxi\u001b[0m in \u001b[0;36mpandas._libs.hashtable.Float64HashTable.get_item\u001b[1;34m()\u001b[0m\n",
      "\u001b[1;31mKeyError\u001b[0m: -0.494666",
      "\nThe above exception was the direct cause of the following exception:\n",
      "\u001b[1;31mKeyError\u001b[0m                                  Traceback (most recent call last)",
      "\u001b[1;32m<ipython-input-4-5efcc43e6d50>\u001b[0m in \u001b[0;36m<module>\u001b[1;34m\u001b[0m\n\u001b[1;32m----> 1\u001b[1;33m \u001b[0mp\u001b[0m\u001b[1;33m[\u001b[0m\u001b[1;33m-\u001b[0m\u001b[1;36m0.494666\u001b[0m\u001b[1;33m]\u001b[0m \u001b[1;31m# выдаст ошибку, что такого ключа нет\u001b[0m\u001b[1;33m\u001b[0m\u001b[1;33m\u001b[0m\u001b[0m\n\u001b[0m",
      "\u001b[1;32mD:\\Anaconda\\lib\\site-packages\\pandas\\core\\series.py\u001b[0m in \u001b[0;36m__getitem__\u001b[1;34m(self, key)\u001b[0m\n\u001b[0;32m    851\u001b[0m \u001b[1;33m\u001b[0m\u001b[0m\n\u001b[0;32m    852\u001b[0m         \u001b[1;32melif\u001b[0m \u001b[0mkey_is_scalar\u001b[0m\u001b[1;33m:\u001b[0m\u001b[1;33m\u001b[0m\u001b[1;33m\u001b[0m\u001b[0m\n\u001b[1;32m--> 853\u001b[1;33m             \u001b[1;32mreturn\u001b[0m \u001b[0mself\u001b[0m\u001b[1;33m.\u001b[0m\u001b[0m_get_value\u001b[0m\u001b[1;33m(\u001b[0m\u001b[0mkey\u001b[0m\u001b[1;33m)\u001b[0m\u001b[1;33m\u001b[0m\u001b[1;33m\u001b[0m\u001b[0m\n\u001b[0m\u001b[0;32m    854\u001b[0m \u001b[1;33m\u001b[0m\u001b[0m\n\u001b[0;32m    855\u001b[0m         \u001b[1;32mif\u001b[0m \u001b[0mis_hashable\u001b[0m\u001b[1;33m(\u001b[0m\u001b[0mkey\u001b[0m\u001b[1;33m)\u001b[0m\u001b[1;33m:\u001b[0m\u001b[1;33m\u001b[0m\u001b[1;33m\u001b[0m\u001b[0m\n",
      "\u001b[1;32mD:\\Anaconda\\lib\\site-packages\\pandas\\core\\series.py\u001b[0m in \u001b[0;36m_get_value\u001b[1;34m(self, label, takeable)\u001b[0m\n\u001b[0;32m    959\u001b[0m \u001b[1;33m\u001b[0m\u001b[0m\n\u001b[0;32m    960\u001b[0m         \u001b[1;31m# Similar to Index.get_value, but we do not fall back to positional\u001b[0m\u001b[1;33m\u001b[0m\u001b[1;33m\u001b[0m\u001b[1;33m\u001b[0m\u001b[0m\n\u001b[1;32m--> 961\u001b[1;33m         \u001b[0mloc\u001b[0m \u001b[1;33m=\u001b[0m \u001b[0mself\u001b[0m\u001b[1;33m.\u001b[0m\u001b[0mindex\u001b[0m\u001b[1;33m.\u001b[0m\u001b[0mget_loc\u001b[0m\u001b[1;33m(\u001b[0m\u001b[0mlabel\u001b[0m\u001b[1;33m)\u001b[0m\u001b[1;33m\u001b[0m\u001b[1;33m\u001b[0m\u001b[0m\n\u001b[0m\u001b[0;32m    962\u001b[0m         \u001b[1;32mreturn\u001b[0m \u001b[0mself\u001b[0m\u001b[1;33m.\u001b[0m\u001b[0mindex\u001b[0m\u001b[1;33m.\u001b[0m\u001b[0m_get_values_for_loc\u001b[0m\u001b[1;33m(\u001b[0m\u001b[0mself\u001b[0m\u001b[1;33m,\u001b[0m \u001b[0mloc\u001b[0m\u001b[1;33m,\u001b[0m \u001b[0mlabel\u001b[0m\u001b[1;33m)\u001b[0m\u001b[1;33m\u001b[0m\u001b[1;33m\u001b[0m\u001b[0m\n\u001b[0;32m    963\u001b[0m \u001b[1;33m\u001b[0m\u001b[0m\n",
      "\u001b[1;32mD:\\Anaconda\\lib\\site-packages\\pandas\\core\\indexes\\numeric.py\u001b[0m in \u001b[0;36mget_loc\u001b[1;34m(self, key, method, tolerance)\u001b[0m\n\u001b[0;32m    393\u001b[0m             \u001b[1;32mreturn\u001b[0m \u001b[0mnan_idxs\u001b[0m\u001b[1;33m\u001b[0m\u001b[1;33m\u001b[0m\u001b[0m\n\u001b[0;32m    394\u001b[0m \u001b[1;33m\u001b[0m\u001b[0m\n\u001b[1;32m--> 395\u001b[1;33m         \u001b[1;32mreturn\u001b[0m \u001b[0msuper\u001b[0m\u001b[1;33m(\u001b[0m\u001b[1;33m)\u001b[0m\u001b[1;33m.\u001b[0m\u001b[0mget_loc\u001b[0m\u001b[1;33m(\u001b[0m\u001b[0mkey\u001b[0m\u001b[1;33m,\u001b[0m \u001b[0mmethod\u001b[0m\u001b[1;33m=\u001b[0m\u001b[0mmethod\u001b[0m\u001b[1;33m,\u001b[0m \u001b[0mtolerance\u001b[0m\u001b[1;33m=\u001b[0m\u001b[0mtolerance\u001b[0m\u001b[1;33m)\u001b[0m\u001b[1;33m\u001b[0m\u001b[1;33m\u001b[0m\u001b[0m\n\u001b[0m\u001b[0;32m    396\u001b[0m \u001b[1;33m\u001b[0m\u001b[0m\n\u001b[0;32m    397\u001b[0m     \u001b[1;31m# ----------------------------------------------------------------\u001b[0m\u001b[1;33m\u001b[0m\u001b[1;33m\u001b[0m\u001b[1;33m\u001b[0m\u001b[0m\n",
      "\u001b[1;32mD:\\Anaconda\\lib\\site-packages\\pandas\\core\\indexes\\base.py\u001b[0m in \u001b[0;36mget_loc\u001b[1;34m(self, key, method, tolerance)\u001b[0m\n\u001b[0;32m   3080\u001b[0m                 \u001b[1;32mreturn\u001b[0m \u001b[0mself\u001b[0m\u001b[1;33m.\u001b[0m\u001b[0m_engine\u001b[0m\u001b[1;33m.\u001b[0m\u001b[0mget_loc\u001b[0m\u001b[1;33m(\u001b[0m\u001b[0mcasted_key\u001b[0m\u001b[1;33m)\u001b[0m\u001b[1;33m\u001b[0m\u001b[1;33m\u001b[0m\u001b[0m\n\u001b[0;32m   3081\u001b[0m             \u001b[1;32mexcept\u001b[0m \u001b[0mKeyError\u001b[0m \u001b[1;32mas\u001b[0m \u001b[0merr\u001b[0m\u001b[1;33m:\u001b[0m\u001b[1;33m\u001b[0m\u001b[1;33m\u001b[0m\u001b[0m\n\u001b[1;32m-> 3082\u001b[1;33m                 \u001b[1;32mraise\u001b[0m \u001b[0mKeyError\u001b[0m\u001b[1;33m(\u001b[0m\u001b[0mkey\u001b[0m\u001b[1;33m)\u001b[0m \u001b[1;32mfrom\u001b[0m \u001b[0merr\u001b[0m\u001b[1;33m\u001b[0m\u001b[1;33m\u001b[0m\u001b[0m\n\u001b[0m\u001b[0;32m   3083\u001b[0m \u001b[1;33m\u001b[0m\u001b[0m\n\u001b[0;32m   3084\u001b[0m         \u001b[1;32mif\u001b[0m \u001b[0mtolerance\u001b[0m \u001b[1;32mis\u001b[0m \u001b[1;32mnot\u001b[0m \u001b[1;32mNone\u001b[0m\u001b[1;33m:\u001b[0m\u001b[1;33m\u001b[0m\u001b[1;33m\u001b[0m\u001b[0m\n",
      "\u001b[1;31mKeyError\u001b[0m: -0.494666"
     ]
    }
   ],
   "source": [
    "p[-0.494666] # выдаст ошибку, что такого ключа нет"
   ]
  },
  {
   "cell_type": "markdown",
   "id": "cd1aaca3",
   "metadata": {},
   "source": [
    "Посмотрим список всех атрибутов:"
   ]
  },
  {
   "cell_type": "code",
   "execution_count": 5,
   "id": "41d80f13",
   "metadata": {},
   "outputs": [
    {
     "data": {
      "text/plain": [
       "{'_is_copy': None,\n",
       " '_mgr': SingleBlockManager\n",
       " Items: Float64Index([ -0.4946664814683758,   0.8445961696643061,  -1.3400667655866814,\n",
       "                 0.7774142764991754, -0.44722271853339957,  -0.2122426565789188,\n",
       "                  1.769210482531311],\n",
       "              dtype='float64')\n",
       " ObjectBlock: 7 dtype: object,\n",
       " '_item_cache': {},\n",
       " '_attrs': {},\n",
       " '_flags': <Flags(allows_duplicate_labels=True)>,\n",
       " '_name': None,\n",
       " '_index': Float64Index([ -0.4946664814683758,   0.8445961696643061,  -1.3400667655866814,\n",
       "                 0.7774142764991754, -0.44722271853339957,  -0.2122426565789188,\n",
       "                  1.769210482531311],\n",
       "              dtype='float64')}"
      ]
     },
     "execution_count": 5,
     "metadata": {},
     "output_type": "execute_result"
    }
   ],
   "source": [
    "p.__dict__"
   ]
  },
  {
   "cell_type": "markdown",
   "id": "6d5ab5e1",
   "metadata": {},
   "source": [
    "Среди них выведем все индексы:"
   ]
  },
  {
   "cell_type": "code",
   "execution_count": 6,
   "id": "b22616c1",
   "metadata": {},
   "outputs": [
    {
     "data": {
      "text/plain": [
       "Float64Index([ -0.4946664814683758,   0.8445961696643061,  -1.3400667655866814,\n",
       "                0.7774142764991754, -0.44722271853339957,  -0.2122426565789188,\n",
       "                 1.769210482531311],\n",
       "             dtype='float64')"
      ]
     },
     "execution_count": 6,
     "metadata": {},
     "output_type": "execute_result"
    }
   ],
   "source": [
    "p._index"
   ]
  },
  {
   "cell_type": "code",
   "execution_count": 7,
   "id": "7f1ccdae",
   "metadata": {},
   "outputs": [
    {
     "data": {
      "text/plain": [
       "'a'"
      ]
     },
     "execution_count": 7,
     "metadata": {},
     "output_type": "execute_result"
    }
   ],
   "source": [
    "p[-0.4946664814683758] # теперь верно отобразит значения"
   ]
  },
  {
   "cell_type": "markdown",
   "id": "7231dfeb",
   "metadata": {},
   "source": [
    "Фильтр по значеням - говорим условия для `p`:"
   ]
  },
  {
   "cell_type": "code",
   "execution_count": 8,
   "id": "08992407",
   "metadata": {},
   "outputs": [
    {
     "data": {
      "text/plain": [
       " 0.844596    b\n",
       "-1.340067    c\n",
       " 0.777414    d\n",
       "-0.447223    e\n",
       "-0.212243    f\n",
       " 1.769210    g\n",
       "dtype: object"
      ]
     },
     "execution_count": 8,
     "metadata": {},
     "output_type": "execute_result"
    }
   ],
   "source": [
    "p[p!='a']"
   ]
  },
  {
   "cell_type": "code",
   "execution_count": 9,
   "id": "bbb3d45a",
   "metadata": {},
   "outputs": [
    {
     "data": {
      "text/plain": [
       "-1.340067    c\n",
       "-0.447223    e\n",
       "-0.212243    f\n",
       "dtype: object"
      ]
     },
     "execution_count": 9,
     "metadata": {},
     "output_type": "execute_result"
    }
   ],
   "source": [
    "p[(p>'b') & (p!='d') & (p<'g')] \n",
    "# Важно брать в скобки, иначе не поймет синтаксис\n",
    "# для логического \"ИЛИ\" используется | вместо or"
   ]
  },
  {
   "cell_type": "markdown",
   "id": "ceda64b8",
   "metadata": {},
   "source": [
    "## DataFrame"
   ]
  },
  {
   "cell_type": "markdown",
   "id": "512f6179",
   "metadata": {},
   "source": [
    "**DataFrame** - это **двумерный массив (матрица, таблица)**, который хранит в своих столбцах данные разных типов"
   ]
  },
  {
   "cell_type": "code",
   "execution_count": 10,
   "id": "fe4de800",
   "metadata": {},
   "outputs": [
    {
     "data": {
      "text/html": [
       "<div>\n",
       "<style scoped>\n",
       "    .dataframe tbody tr th:only-of-type {\n",
       "        vertical-align: middle;\n",
       "    }\n",
       "\n",
       "    .dataframe tbody tr th {\n",
       "        vertical-align: top;\n",
       "    }\n",
       "\n",
       "    .dataframe thead th {\n",
       "        text-align: right;\n",
       "    }\n",
       "</style>\n",
       "<table border=\"1\" class=\"dataframe\">\n",
       "  <thead>\n",
       "    <tr style=\"text-align: right;\">\n",
       "      <th></th>\n",
       "      <th>max_speed</th>\n",
       "      <th>shield</th>\n",
       "    </tr>\n",
       "  </thead>\n",
       "  <tbody>\n",
       "    <tr>\n",
       "      <th>cobra</th>\n",
       "      <td>2</td>\n",
       "      <td>3</td>\n",
       "    </tr>\n",
       "    <tr>\n",
       "      <th>viper</th>\n",
       "      <td>5</td>\n",
       "      <td>6</td>\n",
       "    </tr>\n",
       "    <tr>\n",
       "      <th>sidewinder</th>\n",
       "      <td>8</td>\n",
       "      <td>9</td>\n",
       "    </tr>\n",
       "  </tbody>\n",
       "</table>\n",
       "</div>"
      ],
      "text/plain": [
       "            max_speed  shield\n",
       "cobra               2       3\n",
       "viper               5       6\n",
       "sidewinder          8       9"
      ]
     },
     "execution_count": 10,
     "metadata": {},
     "output_type": "execute_result"
    }
   ],
   "source": [
    "df = pd.DataFrame([[2, 3], [5, 6], [8, 9]],\n",
    "     index=['cobra', 'viper', 'sidewinder'],\n",
    "     columns=['max_speed', 'shield'])\n",
    "df"
   ]
  },
  {
   "attachments": {},
   "cell_type": "markdown",
   "id": "75087e0b",
   "metadata": {},
   "source": [
    "<img src=\"pandas-dataframe-loc.png\">"
   ]
  },
  {
   "cell_type": "markdown",
   "id": "77f67e30",
   "metadata": {},
   "source": [
    "Чтобы создавать DataFrame из словаря, нужно у класса **DataFrame** использовать метод `from_dict()`."
   ]
  },
  {
   "cell_type": "code",
   "execution_count": 11,
   "id": "fe135a64",
   "metadata": {},
   "outputs": [
    {
     "data": {
      "text/plain": [
       "['Нейро́н',\n",
       " 'Си́напс',\n",
       " '<a href=\"/w/index.php?title=%D0%91%D0%B5%D0%B7%D0%B0%D0%BA%D1%81%D0%BE%D0%BD%D0%BD%D1%8B%D0%B5_%D0%BD%D0%B5%D0%B9%D1%80%D0%BE%D0%BD%D1%8B&amp;action=edit&amp;redlink=1\" class=\"new\" title=\"Безаксонные нейроны (страница отсутствует)\">Безаксонные нейроны</a>',\n",
       " '<a href=\"/w/index.php?title=%D0%A3%D0%BD%D0%B8%D0%BF%D0%BE%D0%BB%D1%8F%D1%80%D0%BD%D1%8B%D0%B5_%D0%BD%D0%B5%D0%B9%D1%80%D0%BE%D0%BD%D1%8B&amp;action=edit&amp;redlink=1\" class=\"new\" title=\"Униполярные нейроны (страница отсутствует)\">Униполярные нейроны</a>',\n",
       " '<a href=\"/wiki/%D0%91%D0%B8%D0%BF%D0%BE%D0%BB%D1%8F%D1%80%D0%BD%D1%8B%D0%B5_%D0%BD%D0%B5%D0%B9%D1%80%D0%BE%D0%BD%D1%8B\" title=\"Биполярные нейроны\">Биполярные нейроны</a>',\n",
       " '<a href=\"/w/index.php?title=%D0%9C%D1%83%D0%BB%D1%8C%D1%82%D0%B8%D0%BF%D0%BE%D0%BB%D1%8F%D1%80%D0%BD%D1%8B%D0%B5_%D0%BD%D0%B5%D0%B9%D1%80%D0%BE%D0%BD%D1%8B&amp;action=edit&amp;redlink=1\" class=\"new\" title=\"Мультиполярные нейроны (страница отсутствует)\">Мультиполярные нейроны</a>',\n",
       " '<a href=\"/w/index.php?title=%D0%9F%D1%81%D0%B5%D0%B2%D0%B4%D0%BE%D1%83%D0%BD%D0%B8%D0%BF%D0%BE%D0%BB%D1%8F%D1%80%D0%BD%D1%8B%D0%B5_%D0%BD%D0%B5%D0%B9%D1%80%D0%BE%D0%BD%D1%8B&amp;action=edit&amp;redlink=1\" class=\"new\" title=\"Псевдоуниполярные нейроны (страница отсутствует)\">Псевдоуниполярные нейроны</a>',\n",
       " 'Афферентные нейроны',\n",
       " 'Эфферентные нейроны',\n",
       " 'Ассоциативные нейроны',\n",
       " '<a href=\"/wiki/%D0%A1%D0%B5%D0%BA%D1%80%D0%B5%D1%82%D0%BE%D1%80%D0%BD%D1%8B%D0%B5_%D0%BD%D0%B5%D0%B9%D1%80%D0%BE%D0%BD%D1%8B\" title=\"Секреторные нейроны\">Секреторные нейроны</a>']"
      ]
     },
     "execution_count": 11,
     "metadata": {},
     "output_type": "execute_result"
    }
   ],
   "source": [
    "\"\"\"Допустим, мы хотим спарсить таблицу со списком терминов с Википедии \n",
    "- они чаще всего каждый находятся в отдельном абзаце <p> и выделены жирным шрифтом <b>. \n",
    "С beutifulsoup парсить теги проще, но его надо устанавливать, в этом примере можно регулярки использовать\"\"\"\n",
    "import re\n",
    "import requests\n",
    "terms = re.findall(r\"<p><b>(.*?)<\\/b>\", \n",
    "                    requests.get(\"https://ru.wikipedia.org/wiki/%D0%9D%D0%B5%D0%B9%D1%80%D0%BE%D0%BD\").text)\n",
    "terms"
   ]
  },
  {
   "cell_type": "code",
   "execution_count": 12,
   "id": "ead79413",
   "metadata": {},
   "outputs": [
    {
     "data": {
      "text/plain": [
       "['Нейро́н',\n",
       " 'Си́напс',\n",
       " 'Безаксонные нейроны',\n",
       " 'Униполярные нейроны',\n",
       " 'Биполярные нейроны',\n",
       " 'Мультиполярные нейроны',\n",
       " 'Псевдоуниполярные нейроны',\n",
       " 'Афферентные нейроны',\n",
       " 'Эфферентные нейроны',\n",
       " 'Ассоциативные нейроны',\n",
       " 'Секреторные нейроны']"
      ]
     },
     "execution_count": 12,
     "metadata": {},
     "output_type": "execute_result"
    }
   ],
   "source": [
    "\"\"\"Удалим в найденном всю разметку, если они есть, на пустую строку \n",
    "с помощью re.sub(find_pattern, replace_to, original_text), \"\"\"\n",
    "\n",
    "cleared_terms = [i if not re.search(\"<.*?>\", i) else re.sub(\"<.*?>\", \"\", i) for i in terms]\n",
    "cleared_terms"
   ]
  },
  {
   "cell_type": "code",
   "execution_count": 13,
   "id": "d9e5ab44",
   "metadata": {},
   "outputs": [
    {
     "data": {
      "text/html": [
       "<div>\n",
       "<style scoped>\n",
       "    .dataframe tbody tr th:only-of-type {\n",
       "        vertical-align: middle;\n",
       "    }\n",
       "\n",
       "    .dataframe tbody tr th {\n",
       "        vertical-align: top;\n",
       "    }\n",
       "\n",
       "    .dataframe thead th {\n",
       "        text-align: right;\n",
       "    }\n",
       "</style>\n",
       "<table border=\"1\" class=\"dataframe\">\n",
       "  <thead>\n",
       "    <tr style=\"text-align: right;\">\n",
       "      <th></th>\n",
       "      <th>Термины</th>\n",
       "      <th>Определение</th>\n",
       "      <th>Номер билета</th>\n",
       "    </tr>\n",
       "  </thead>\n",
       "  <tbody>\n",
       "    <tr>\n",
       "      <th>0</th>\n",
       "      <td>Нейро́н</td>\n",
       "      <td>NaN</td>\n",
       "      <td>25</td>\n",
       "    </tr>\n",
       "    <tr>\n",
       "      <th>1</th>\n",
       "      <td>Си́напс</td>\n",
       "      <td>NaN</td>\n",
       "      <td>20</td>\n",
       "    </tr>\n",
       "    <tr>\n",
       "      <th>2</th>\n",
       "      <td>Безаксонные нейроны</td>\n",
       "      <td>NaN</td>\n",
       "      <td>54</td>\n",
       "    </tr>\n",
       "    <tr>\n",
       "      <th>3</th>\n",
       "      <td>Униполярные нейроны</td>\n",
       "      <td>NaN</td>\n",
       "      <td>52</td>\n",
       "    </tr>\n",
       "    <tr>\n",
       "      <th>4</th>\n",
       "      <td>Биполярные нейроны</td>\n",
       "      <td>NaN</td>\n",
       "      <td>56</td>\n",
       "    </tr>\n",
       "    <tr>\n",
       "      <th>5</th>\n",
       "      <td>Мультиполярные нейроны</td>\n",
       "      <td>NaN</td>\n",
       "      <td>77</td>\n",
       "    </tr>\n",
       "    <tr>\n",
       "      <th>6</th>\n",
       "      <td>Псевдоуниполярные нейроны</td>\n",
       "      <td>NaN</td>\n",
       "      <td>32</td>\n",
       "    </tr>\n",
       "    <tr>\n",
       "      <th>7</th>\n",
       "      <td>Афферентные нейроны</td>\n",
       "      <td>NaN</td>\n",
       "      <td>60</td>\n",
       "    </tr>\n",
       "    <tr>\n",
       "      <th>8</th>\n",
       "      <td>Эфферентные нейроны</td>\n",
       "      <td>NaN</td>\n",
       "      <td>60</td>\n",
       "    </tr>\n",
       "    <tr>\n",
       "      <th>9</th>\n",
       "      <td>Ассоциативные нейроны</td>\n",
       "      <td>NaN</td>\n",
       "      <td>66</td>\n",
       "    </tr>\n",
       "    <tr>\n",
       "      <th>10</th>\n",
       "      <td>Секреторные нейроны</td>\n",
       "      <td>NaN</td>\n",
       "      <td>82</td>\n",
       "    </tr>\n",
       "  </tbody>\n",
       "</table>\n",
       "</div>"
      ],
      "text/plain": [
       "                      Термины  Определение  Номер билета\n",
       "0                     Нейро́н          NaN            25\n",
       "1                     Си́напс          NaN            20\n",
       "2         Безаксонные нейроны          NaN            54\n",
       "3         Униполярные нейроны          NaN            52\n",
       "4          Биполярные нейроны          NaN            56\n",
       "5      Мультиполярные нейроны          NaN            77\n",
       "6   Псевдоуниполярные нейроны          NaN            32\n",
       "7         Афферентные нейроны          NaN            60\n",
       "8         Эфферентные нейроны          NaN            60\n",
       "9       Ассоциативные нейроны          NaN            66\n",
       "10        Секреторные нейроны          NaN            82"
      ]
     },
     "execution_count": 13,
     "metadata": {},
     "output_type": "execute_result"
    }
   ],
   "source": [
    "\"\"\"Теперь создаем из этого таблицу\"\"\"\n",
    "table = pd.DataFrame.from_dict({\"Термины\": cleared_terms, \n",
    "                                \"Определение\": np.nan, \n",
    "                                \"Номер билета\": [np.random.randint(1, 100) for i in range(len(cleared_terms))]})\n",
    "table"
   ]
  },
  {
   "cell_type": "code",
   "execution_count": 14,
   "id": "32b9fafe",
   "metadata": {},
   "outputs": [
    {
     "name": "stdout",
     "output_type": "stream",
     "text": [
      "<class 'pandas.core.frame.DataFrame'>\n",
      "RangeIndex: 11 entries, 0 to 10\n",
      "Data columns (total 3 columns):\n",
      " #   Column        Non-Null Count  Dtype  \n",
      "---  ------        --------------  -----  \n",
      " 0   Термины       11 non-null     object \n",
      " 1   Определение   0 non-null      float64\n",
      " 2   Номер билета  11 non-null     int64  \n",
      "dtypes: float64(1), int64(1), object(1)\n",
      "memory usage: 392.0+ bytes\n"
     ]
    }
   ],
   "source": [
    "table.info()"
   ]
  },
  {
   "cell_type": "code",
   "execution_count": 15,
   "id": "7c622bf6",
   "metadata": {},
   "outputs": [
    {
     "data": {
      "text/plain": [
       "(11, 3)"
      ]
     },
     "execution_count": 15,
     "metadata": {},
     "output_type": "execute_result"
    }
   ],
   "source": [
    "table.shape # атрибут (количество_строк, количество_колонок)"
   ]
  },
  {
   "cell_type": "code",
   "execution_count": 16,
   "id": "69de9767",
   "metadata": {},
   "outputs": [
    {
     "data": {
      "text/plain": [
       "Термины          object\n",
       "Определение     float64\n",
       "Номер билета      int64\n",
       "dtype: object"
      ]
     },
     "execution_count": 16,
     "metadata": {},
     "output_type": "execute_result"
    }
   ],
   "source": [
    "table.dtypes # атрибут - типы колонок"
   ]
  },
  {
   "cell_type": "markdown",
   "id": "b6fdbf21",
   "metadata": {},
   "source": [
    "Можно сказать, что якобы Series могут хранить данные разных типов, но если посмотреть на нее как на транспонированный датафрейм, только у каждой колонки просто одна ячейка со значением, то станет понятно, что у Series так же как и DataFrame имеет один тип для каждой колонки."
   ]
  },
  {
   "cell_type": "markdown",
   "id": "497668fc",
   "metadata": {},
   "source": [
    "У DataFrame есть `@property` loc, с помощью которого мы можем выбрать определенную ячейку (двойные индексы как для вложенного списка или массива numpy, например, здесь не работают) или группу ячеек. "
   ]
  },
  {
   "cell_type": "code",
   "execution_count": 17,
   "id": "da50638b",
   "metadata": {},
   "outputs": [
    {
     "data": {
      "text/plain": [
       "Термины         Нейро́н\n",
       "Определение         NaN\n",
       "Номер билета         25\n",
       "Name: 0, dtype: object"
      ]
     },
     "execution_count": 17,
     "metadata": {},
     "output_type": "execute_result"
    }
   ],
   "source": [
    "table.loc[0] # по умолчанию принимает индекс"
   ]
  },
  {
   "cell_type": "code",
   "execution_count": 18,
   "id": "4e8b48e0",
   "metadata": {},
   "outputs": [
    {
     "data": {
      "text/html": [
       "<div>\n",
       "<style scoped>\n",
       "    .dataframe tbody tr th:only-of-type {\n",
       "        vertical-align: middle;\n",
       "    }\n",
       "\n",
       "    .dataframe tbody tr th {\n",
       "        vertical-align: top;\n",
       "    }\n",
       "\n",
       "    .dataframe thead th {\n",
       "        text-align: right;\n",
       "    }\n",
       "</style>\n",
       "<table border=\"1\" class=\"dataframe\">\n",
       "  <thead>\n",
       "    <tr style=\"text-align: right;\">\n",
       "      <th></th>\n",
       "      <th>Термины</th>\n",
       "      <th>Определение</th>\n",
       "      <th>Номер билета</th>\n",
       "    </tr>\n",
       "  </thead>\n",
       "  <tbody>\n",
       "    <tr>\n",
       "      <th>0</th>\n",
       "      <td>Нейро́н</td>\n",
       "      <td>NaN</td>\n",
       "      <td>25</td>\n",
       "    </tr>\n",
       "    <tr>\n",
       "      <th>4</th>\n",
       "      <td>Биполярные нейроны</td>\n",
       "      <td>NaN</td>\n",
       "      <td>56</td>\n",
       "    </tr>\n",
       "  </tbody>\n",
       "</table>\n",
       "</div>"
      ],
      "text/plain": [
       "              Термины  Определение  Номер билета\n",
       "0             Нейро́н          NaN            25\n",
       "4  Биполярные нейроны          NaN            56"
      ]
     },
     "execution_count": 18,
     "metadata": {},
     "output_type": "execute_result"
    }
   ],
   "source": [
    "table.loc[[0, 4]] # либо список индексов"
   ]
  },
  {
   "cell_type": "code",
   "execution_count": 19,
   "id": "874227e6",
   "metadata": {},
   "outputs": [
    {
     "data": {
      "text/plain": [
       "'Нейро́н'"
      ]
     },
     "execution_count": 19,
     "metadata": {},
     "output_type": "execute_result"
    }
   ],
   "source": [
    "table.loc[0, 'Термины'] \n",
    "# если две переменные передать вне скобок, то первую будет воспринимать как индекс, а вторую как label"
   ]
  },
  {
   "cell_type": "code",
   "execution_count": 20,
   "id": "ee343494",
   "metadata": {},
   "outputs": [
    {
     "data": {
      "text/html": [
       "<div>\n",
       "<style scoped>\n",
       "    .dataframe tbody tr th:only-of-type {\n",
       "        vertical-align: middle;\n",
       "    }\n",
       "\n",
       "    .dataframe tbody tr th {\n",
       "        vertical-align: top;\n",
       "    }\n",
       "\n",
       "    .dataframe thead th {\n",
       "        text-align: right;\n",
       "    }\n",
       "</style>\n",
       "<table border=\"1\" class=\"dataframe\">\n",
       "  <thead>\n",
       "    <tr style=\"text-align: right;\">\n",
       "      <th></th>\n",
       "      <th>Термины</th>\n",
       "    </tr>\n",
       "  </thead>\n",
       "  <tbody>\n",
       "    <tr>\n",
       "      <th>5</th>\n",
       "      <td>Мультиполярные нейроны</td>\n",
       "    </tr>\n",
       "    <tr>\n",
       "      <th>6</th>\n",
       "      <td>Псевдоуниполярные нейроны</td>\n",
       "    </tr>\n",
       "  </tbody>\n",
       "</table>\n",
       "</div>"
      ],
      "text/plain": [
       "                     Термины\n",
       "5     Мультиполярные нейроны\n",
       "6  Псевдоуниполярные нейроны"
      ]
     },
     "execution_count": 20,
     "metadata": {},
     "output_type": "execute_result"
    }
   ],
   "source": [
    "table.loc[[5, 6], [\"Термины\"]] "
   ]
  },
  {
   "cell_type": "code",
   "execution_count": 22,
   "id": "e9699809",
   "metadata": {},
   "outputs": [
    {
     "data": {
      "text/plain": [
       "0     False\n",
       "1     False\n",
       "2      True\n",
       "3      True\n",
       "4      True\n",
       "5      True\n",
       "6     False\n",
       "7      True\n",
       "8      True\n",
       "9      True\n",
       "10     True\n",
       "Name: Номер билета, dtype: bool"
      ]
     },
     "execution_count": 22,
     "metadata": {},
     "output_type": "execute_result"
    }
   ],
   "source": [
    "table['Номер билета'] > 35"
   ]
  },
  {
   "cell_type": "code",
   "execution_count": 23,
   "id": "1a68e548",
   "metadata": {},
   "outputs": [
    {
     "data": {
      "text/html": [
       "<div>\n",
       "<style scoped>\n",
       "    .dataframe tbody tr th:only-of-type {\n",
       "        vertical-align: middle;\n",
       "    }\n",
       "\n",
       "    .dataframe tbody tr th {\n",
       "        vertical-align: top;\n",
       "    }\n",
       "\n",
       "    .dataframe thead th {\n",
       "        text-align: right;\n",
       "    }\n",
       "</style>\n",
       "<table border=\"1\" class=\"dataframe\">\n",
       "  <thead>\n",
       "    <tr style=\"text-align: right;\">\n",
       "      <th></th>\n",
       "      <th>Термины</th>\n",
       "      <th>Определение</th>\n",
       "      <th>Номер билета</th>\n",
       "    </tr>\n",
       "  </thead>\n",
       "  <tbody>\n",
       "    <tr>\n",
       "      <th>2</th>\n",
       "      <td>Безаксонные нейроны</td>\n",
       "      <td>NaN</td>\n",
       "      <td>54</td>\n",
       "    </tr>\n",
       "    <tr>\n",
       "      <th>3</th>\n",
       "      <td>Униполярные нейроны</td>\n",
       "      <td>NaN</td>\n",
       "      <td>52</td>\n",
       "    </tr>\n",
       "    <tr>\n",
       "      <th>4</th>\n",
       "      <td>Биполярные нейроны</td>\n",
       "      <td>NaN</td>\n",
       "      <td>56</td>\n",
       "    </tr>\n",
       "    <tr>\n",
       "      <th>5</th>\n",
       "      <td>Мультиполярные нейроны</td>\n",
       "      <td>NaN</td>\n",
       "      <td>77</td>\n",
       "    </tr>\n",
       "    <tr>\n",
       "      <th>7</th>\n",
       "      <td>Афферентные нейроны</td>\n",
       "      <td>NaN</td>\n",
       "      <td>60</td>\n",
       "    </tr>\n",
       "    <tr>\n",
       "      <th>8</th>\n",
       "      <td>Эфферентные нейроны</td>\n",
       "      <td>NaN</td>\n",
       "      <td>60</td>\n",
       "    </tr>\n",
       "    <tr>\n",
       "      <th>9</th>\n",
       "      <td>Ассоциативные нейроны</td>\n",
       "      <td>NaN</td>\n",
       "      <td>66</td>\n",
       "    </tr>\n",
       "    <tr>\n",
       "      <th>10</th>\n",
       "      <td>Секреторные нейроны</td>\n",
       "      <td>NaN</td>\n",
       "      <td>82</td>\n",
       "    </tr>\n",
       "  </tbody>\n",
       "</table>\n",
       "</div>"
      ],
      "text/plain": [
       "                   Термины  Определение  Номер билета\n",
       "2      Безаксонные нейроны          NaN            54\n",
       "3      Униполярные нейроны          NaN            52\n",
       "4       Биполярные нейроны          NaN            56\n",
       "5   Мультиполярные нейроны          NaN            77\n",
       "7      Афферентные нейроны          NaN            60\n",
       "8      Эфферентные нейроны          NaN            60\n",
       "9    Ассоциативные нейроны          NaN            66\n",
       "10     Секреторные нейроны          NaN            82"
      ]
     },
     "execution_count": 23,
     "metadata": {},
     "output_type": "execute_result"
    }
   ],
   "source": [
    "table[table['Номер билета'] > 35]"
   ]
  },
  {
   "cell_type": "markdown",
   "id": "92551bc0",
   "metadata": {},
   "source": [
    "Метод `.isin()` фильтрует строки в колонках на значения, которые содержатся в переданном ей множестве:"
   ]
  },
  {
   "cell_type": "code",
   "execution_count": 24,
   "id": "27273b88",
   "metadata": {},
   "outputs": [
    {
     "data": {
      "text/html": [
       "<div>\n",
       "<style scoped>\n",
       "    .dataframe tbody tr th:only-of-type {\n",
       "        vertical-align: middle;\n",
       "    }\n",
       "\n",
       "    .dataframe tbody tr th {\n",
       "        vertical-align: top;\n",
       "    }\n",
       "\n",
       "    .dataframe thead th {\n",
       "        text-align: right;\n",
       "    }\n",
       "</style>\n",
       "<table border=\"1\" class=\"dataframe\">\n",
       "  <thead>\n",
       "    <tr style=\"text-align: right;\">\n",
       "      <th></th>\n",
       "      <th>Термины</th>\n",
       "      <th>Определение</th>\n",
       "      <th>Номер билета</th>\n",
       "    </tr>\n",
       "  </thead>\n",
       "  <tbody>\n",
       "    <tr>\n",
       "      <th>3</th>\n",
       "      <td>Униполярные нейроны</td>\n",
       "      <td>NaN</td>\n",
       "      <td>52</td>\n",
       "    </tr>\n",
       "    <tr>\n",
       "      <th>4</th>\n",
       "      <td>Биполярные нейроны</td>\n",
       "      <td>NaN</td>\n",
       "      <td>56</td>\n",
       "    </tr>\n",
       "  </tbody>\n",
       "</table>\n",
       "</div>"
      ],
      "text/plain": [
       "               Термины  Определение  Номер билета\n",
       "3  Униполярные нейроны          NaN            52\n",
       "4   Биполярные нейроны          NaN            56"
      ]
     },
     "execution_count": 24,
     "metadata": {},
     "output_type": "execute_result"
    }
   ],
   "source": [
    "table[table['Термины'].isin(['Биполярные нейроны', 'Униполярные нейроны'])]"
   ]
  },
  {
   "cell_type": "markdown",
   "id": "fc98608c",
   "metadata": {},
   "source": [
    "# Копирование"
   ]
  },
  {
   "cell_type": "markdown",
   "id": "8a54819c",
   "metadata": {},
   "source": [
    "Если таблицу нужно изменить, нужно сделать ее копию. Если просто присвоить новой переменной старую таблицу (по типу `new_table = table`), то объект в памяти останется тем же, на него просто появится новая ссылка, а не создаться дубль объекта. Это относится вообще к языку Python, а не только к библиотеке Pandas.\n",
    "\n",
    "**Глубокая копия (deep copy)** создает новую и отдельную копию всего объекта или списка со своим уникальным адресом памяти. Любые изменения, внесенные вами в новую копию объекта или списка, не будут отражаться в исходной. Этот процесс происходит следующим образом: сначала создается новый объект, а затем рекурсивно копируются все элементы из исходного в новый.\n",
    "Для глубокого копирования в python используют модуль `copy`"
   ]
  },
  {
   "cell_type": "code",
   "execution_count": 25,
   "id": "30f3055f",
   "metadata": {},
   "outputs": [
    {
     "name": "stdout",
     "output_type": "stream",
     "text": [
      "[1, 3, 9] [1, 3, 9] True\n",
      "[1, 3, 9] ['string', 3, 9] False\n"
     ]
    }
   ],
   "source": [
    "a = [2, 3, 9]\n",
    "b = a\n",
    "b[0] = 1 # изменит 2 на 1 в исходном списке, т.к. b - просто ссылка, а не новый объект\n",
    "print(a, b, id(a)==id(b))\n",
    "\n",
    "import copy\n",
    "c = copy.deepcopy(a) # создает новый объект в памяти\n",
    "c[0] = 'string'\n",
    "print(a, c, id(a)==id(c))"
   ]
  },
  {
   "cell_type": "markdown",
   "id": "d7dd0615",
   "metadata": {},
   "source": [
    "**Поверхностная копия (shallow copy)** - это промежуточный вариант между просто созданием ссылки и глубоким копированием: он создает новый объект списка, но элементы в нем имеют те же адреса в памяти, что и исходный список. "
   ]
  },
  {
   "cell_type": "code",
   "execution_count": 26,
   "id": "839b60dd",
   "metadata": {},
   "outputs": [
    {
     "name": "stdout",
     "output_type": "stream",
     "text": [
      "[[1, 2, 3], [5, 4]]\n",
      "[[1, 2, 3], [5, 4], 'new'] - добавление нового элемента не меняет исходный список\n",
      "--------------\n",
      "[['value', 2, 3], [5, 4]]\n",
      "[['value', 2, 3], [5, 4], 'new'] - зато модификация вложенного меняет исходный, т.к. вложенный является тем же объектом\n"
     ]
    }
   ],
   "source": [
    "inner = [[1, 2, 3], [5, 4]]\n",
    "e = copy.copy(inner)\n",
    "e.append(\"new\")\n",
    "print(f\"{inner}\\n{e} - добавление нового элемента не меняет исходный список\")\n",
    "e[0][0] = \"value\"\n",
    "print(f'--------------\\n{inner}\\n{e} - зато модификация вложенного меняет исходный, т.к. вложенный является тем же объектом')"
   ]
  },
  {
   "cell_type": "code",
   "execution_count": 27,
   "id": "58b0ffe1",
   "metadata": {
    "scrolled": true
   },
   "outputs": [
    {
     "data": {
      "text/html": [
       "<div>\n",
       "<style scoped>\n",
       "    .dataframe tbody tr th:only-of-type {\n",
       "        vertical-align: middle;\n",
       "    }\n",
       "\n",
       "    .dataframe tbody tr th {\n",
       "        vertical-align: top;\n",
       "    }\n",
       "\n",
       "    .dataframe thead th {\n",
       "        text-align: right;\n",
       "    }\n",
       "</style>\n",
       "<table border=\"1\" class=\"dataframe\">\n",
       "  <thead>\n",
       "    <tr style=\"text-align: right;\">\n",
       "      <th></th>\n",
       "      <th>Термины</th>\n",
       "      <th>Определение</th>\n",
       "      <th>Номер билета</th>\n",
       "    </tr>\n",
       "  </thead>\n",
       "  <tbody>\n",
       "    <tr>\n",
       "      <th>0</th>\n",
       "      <td>Нейро́н</td>\n",
       "      <td>NaN</td>\n",
       "      <td>25</td>\n",
       "    </tr>\n",
       "    <tr>\n",
       "      <th>1</th>\n",
       "      <td>Си́напс</td>\n",
       "      <td>NaN</td>\n",
       "      <td>20</td>\n",
       "    </tr>\n",
       "    <tr>\n",
       "      <th>2</th>\n",
       "      <td>Безаксонные нейроны</td>\n",
       "      <td>NaN</td>\n",
       "      <td>54</td>\n",
       "    </tr>\n",
       "    <tr>\n",
       "      <th>3</th>\n",
       "      <td>Униполярные нейроны</td>\n",
       "      <td>нейроны с одним отростком, присутствуют, напри...</td>\n",
       "      <td>52</td>\n",
       "    </tr>\n",
       "  </tbody>\n",
       "</table>\n",
       "</div>"
      ],
      "text/plain": [
       "               Термины                                        Определение  \\\n",
       "0              Нейро́н                                                NaN   \n",
       "1              Си́напс                                                NaN   \n",
       "2  Безаксонные нейроны                                                NaN   \n",
       "3  Униполярные нейроны  нейроны с одним отростком, присутствуют, напри...   \n",
       "\n",
       "   Номер билета  \n",
       "0            25  \n",
       "1            20  \n",
       "2            54  \n",
       "3            52  "
      ]
     },
     "execution_count": 27,
     "metadata": {},
     "output_type": "execute_result"
    }
   ],
   "source": [
    "\"\"\"Для копирования (вместо создания новой ссылки) используется функция copy, которая по умолчанию \n",
    "является поверхностной копией объекта. Чтобы сделать глубокую копию, нужно присвоить флажку deep=True\"\"\"\n",
    "tmp_table = table.copy(deep=True)\n",
    "\n",
    "\"\"\"Для присваивания нового значения пользуются атрибутом loc, но вызывают ее не как \"\"\"\n",
    "tmp_table.loc[[3], [\"Определение\"]]= \"нейроны с одним отростком, присутствуют, например в сенсорном ядре тройничного нерва (проходит вдоль челюсти) в среднем мозге\"\n",
    "tmp_table.head(4)"
   ]
  },
  {
   "cell_type": "code",
   "execution_count": 28,
   "id": "11a98e31",
   "metadata": {},
   "outputs": [
    {
     "data": {
      "text/html": [
       "<div>\n",
       "<style scoped>\n",
       "    .dataframe tbody tr th:only-of-type {\n",
       "        vertical-align: middle;\n",
       "    }\n",
       "\n",
       "    .dataframe tbody tr th {\n",
       "        vertical-align: top;\n",
       "    }\n",
       "\n",
       "    .dataframe thead th {\n",
       "        text-align: right;\n",
       "    }\n",
       "</style>\n",
       "<table border=\"1\" class=\"dataframe\">\n",
       "  <thead>\n",
       "    <tr style=\"text-align: right;\">\n",
       "      <th></th>\n",
       "      <th>Термины</th>\n",
       "      <th>Определение</th>\n",
       "    </tr>\n",
       "  </thead>\n",
       "  <tbody>\n",
       "    <tr>\n",
       "      <th>0</th>\n",
       "      <td>Нейро́н</td>\n",
       "      <td>NaN</td>\n",
       "    </tr>\n",
       "    <tr>\n",
       "      <th>1</th>\n",
       "      <td>Си́напс</td>\n",
       "      <td>NaN</td>\n",
       "    </tr>\n",
       "    <tr>\n",
       "      <th>2</th>\n",
       "      <td>Безаксонные нейроны</td>\n",
       "      <td>NaN</td>\n",
       "    </tr>\n",
       "    <tr>\n",
       "      <th>3</th>\n",
       "      <td>Униполярные нейроны</td>\n",
       "      <td>нейроны с одним отростком, присутствуют, напри...</td>\n",
       "    </tr>\n",
       "    <tr>\n",
       "      <th>4</th>\n",
       "      <td>Биполярные нейроны</td>\n",
       "      <td>NaN</td>\n",
       "    </tr>\n",
       "    <tr>\n",
       "      <th>5</th>\n",
       "      <td>Мультиполярные нейроны</td>\n",
       "      <td>NaN</td>\n",
       "    </tr>\n",
       "    <tr>\n",
       "      <th>6</th>\n",
       "      <td>Псевдоуниполярные нейроны</td>\n",
       "      <td>NaN</td>\n",
       "    </tr>\n",
       "    <tr>\n",
       "      <th>7</th>\n",
       "      <td>Афферентные нейроны</td>\n",
       "      <td>NaN</td>\n",
       "    </tr>\n",
       "    <tr>\n",
       "      <th>8</th>\n",
       "      <td>Эфферентные нейроны</td>\n",
       "      <td>NaN</td>\n",
       "    </tr>\n",
       "    <tr>\n",
       "      <th>9</th>\n",
       "      <td>Ассоциативные нейроны</td>\n",
       "      <td>NaN</td>\n",
       "    </tr>\n",
       "    <tr>\n",
       "      <th>10</th>\n",
       "      <td>Секреторные нейроны</td>\n",
       "      <td>NaN</td>\n",
       "    </tr>\n",
       "  </tbody>\n",
       "</table>\n",
       "</div>"
      ],
      "text/plain": [
       "                      Термины  \\\n",
       "0                     Нейро́н   \n",
       "1                     Си́напс   \n",
       "2         Безаксонные нейроны   \n",
       "3         Униполярные нейроны   \n",
       "4          Биполярные нейроны   \n",
       "5      Мультиполярные нейроны   \n",
       "6   Псевдоуниполярные нейроны   \n",
       "7         Афферентные нейроны   \n",
       "8         Эфферентные нейроны   \n",
       "9       Ассоциативные нейроны   \n",
       "10        Секреторные нейроны   \n",
       "\n",
       "                                          Определение  \n",
       "0                                                 NaN  \n",
       "1                                                 NaN  \n",
       "2                                                 NaN  \n",
       "3   нейроны с одним отростком, присутствуют, напри...  \n",
       "4                                                 NaN  \n",
       "5                                                 NaN  \n",
       "6                                                 NaN  \n",
       "7                                                 NaN  \n",
       "8                                                 NaN  \n",
       "9                                                 NaN  \n",
       "10                                                NaN  "
      ]
     },
     "execution_count": 28,
     "metadata": {},
     "output_type": "execute_result"
    }
   ],
   "source": [
    "tmp_table.drop(labels=\"Номер билета\", axis=1)"
   ]
  },
  {
   "attachments": {},
   "cell_type": "markdown",
   "id": "9e200aaf",
   "metadata": {},
   "source": [
    "<img src=\"2022-04-14_21-29-30.png\" style=\"display: inline-block; float: left; margin-right: 20px;\">\n",
    "Pandas умеет читать данные с JSON, pickle, html, sql, excel, csv и т.п. Для полного списка в jupyter нужно написать `pd.read_` и нажать `tab`"
   ]
  }
 ],
 "metadata": {
  "kernelspec": {
   "display_name": "Python 3",
   "language": "python",
   "name": "python3"
  },
  "language_info": {
   "codemirror_mode": {
    "name": "ipython",
    "version": 3
   },
   "file_extension": ".py",
   "mimetype": "text/x-python",
   "name": "python",
   "nbconvert_exporter": "python",
   "pygments_lexer": "ipython3",
   "version": "3.8.8"
  },
  "latex_envs": {
   "LaTeX_envs_menu_present": true,
   "autoclose": false,
   "autocomplete": true,
   "bibliofile": "biblio.bib",
   "cite_by": "apalike",
   "current_citInitial": 1,
   "eqLabelWithNumbers": true,
   "eqNumInitial": 1,
   "hotkeys": {
    "equation": "Ctrl-E",
    "itemize": "Ctrl-I"
   },
   "labels_anchors": false,
   "latex_user_defs": false,
   "report_style_numbering": false,
   "user_envs_cfg": false
  }
 },
 "nbformat": 4,
 "nbformat_minor": 5
}

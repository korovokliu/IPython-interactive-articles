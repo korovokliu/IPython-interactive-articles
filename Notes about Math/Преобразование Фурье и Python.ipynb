{
 "cells": [
  {
   "cell_type": "markdown",
   "id": "61f6ca1c",
   "metadata": {},
   "source": [
    "## Проверка ортогональности функций"
   ]
  },
  {
   "cell_type": "code",
   "execution_count": 2,
   "id": "30f94f0f",
   "metadata": {},
   "outputs": [],
   "source": [
    "from math import pi, sin\n",
    "sinx = [round(sin(n*pi/8), 2) for n in range(0, 17)]\n",
    "sin2x = [round(sin(2*n*pi/8), 2) for n in range(0, 17)]\n",
    "dot_product = [round(sinx[i]*sin2x[i], 2) for i in range(len(sinx))]"
   ]
  },
  {
   "cell_type": "code",
   "execution_count": 3,
   "id": "d9366eb2",
   "metadata": {},
   "outputs": [
    {
     "name": "stdout",
     "output_type": "stream",
     "text": [
      "[0.0, 0.38, 0.71, 0.92, 1.0, 0.92, 0.71, 0.38, 0.0, -0.38, -0.71, -0.92, -1.0, -0.92, -0.71, -0.38, -0.0]\n",
      "[0.0, 0.71, 1.0, 0.71, 0.0, -0.71, -1.0, -0.71, -0.0, 0.71, 1.0, 0.71, 0.0, -0.71, -1.0, -0.71, -0.0]\n",
      "-1.1102230246251565e-16\n"
     ]
    }
   ],
   "source": [
    "print(sinx, sin2x, sum(dot_product), sep=\"\\n\")"
   ]
  },
  {
   "cell_type": "markdown",
   "id": "b207dfe4",
   "metadata": {},
   "source": [
    "Число -1.1102230246251565e-16 - это 0.00000000000001, то есть 0, но т.к. десятичное число не всегда можно разложить в конечную сумму степеней двойки (напр. 0.1 в десятичной системе в двоичной будет записываться как бесконечное периодическое число 0.000110011...), то питон без округления будет давать результат с погрешностью.\n",
    "\n",
    "Кроме округления можно использовать еще тип данных `Decimal` из класса `decimal`"
   ]
  },
  {
   "cell_type": "code",
   "execution_count": 4,
   "id": "742c1df1",
   "metadata": {},
   "outputs": [
    {
     "name": "stdout",
     "output_type": "stream",
     "text": [
      "0.00\n",
      "-0.0\n"
     ]
    }
   ],
   "source": [
    "from decimal import Decimal\n",
    "exact = sum([Decimal(str(i)) for i in dot_product])\n",
    "rounded_float = round(sum(dot_product), 2)\n",
    "print(exact, rounded_float, sep=\"\\n\")"
   ]
  },
  {
   "cell_type": "code",
   "execution_count": null,
   "id": "f58bb05e",
   "metadata": {},
   "outputs": [],
   "source": []
  }
 ],
 "metadata": {
  "kernelspec": {
   "display_name": "Python 3",
   "language": "python",
   "name": "python3"
  },
  "language_info": {
   "codemirror_mode": {
    "name": "ipython",
    "version": 3
   },
   "file_extension": ".py",
   "mimetype": "text/x-python",
   "name": "python",
   "nbconvert_exporter": "python",
   "pygments_lexer": "ipython3",
   "version": "3.8.8"
  }
 },
 "nbformat": 4,
 "nbformat_minor": 5
}

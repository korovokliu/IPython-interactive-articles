{
 "cells": [
  {
   "cell_type": "markdown",
   "metadata": {},
   "source": [
    "## Кортеж, декартовое произведение, вектор, размерность"
   ]
  },
  {
   "cell_type": "code",
   "execution_count": 1,
   "metadata": {},
   "outputs": [
    {
     "name": "stdout",
     "output_type": "stream",
     "text": [
      "183 183 183\n"
     ]
    }
   ],
   "source": [
    "a = 183 # чтобы описать объект, нужно назвать одно число\n",
    "b = [183, 2, 183]  # теперь у объекта есть еще и положение - 183 в начале ≠ 183 в конце (одномерный массив)\n",
    "c = [2, [2, 183]] # три числа (двумерный массив)\n",
    "print(a, b[2], c[1][1])"
   ]
  },
  {
   "cell_type": "markdown",
   "metadata": {},
   "source": [
    "Такие упорядоченные числа называются <b><i>кортежами</i></b>\n",
    "<br><br>\n",
    "Если числа в этих кортежах беруться последовательно (первое число из первого множества, второе число из второго и т.д.), то такой кортеж называется <b>декартовым произведением множеств</b>.<br>\n",
    "A×B = {(a, b) | a ∈ A, b ∈ B}<br>"
   ]
  },
  {
   "cell_type": "code",
   "execution_count": 2,
   "metadata": {},
   "outputs": [
    {
     "name": "stdout",
     "output_type": "stream",
     "text": [
      "cartesian product of two sets:  [(1, 'd'), (1, 'b'), (1, 'c'), (1, 'a'), (2, 'd'), (2, 'b'), (2, 'c'), (2, 'a'), (6, 'd'), (6, 'b'), (6, 'c'), (6, 'a')]\n",
      "cartesian product of three sets:  [(1, 'd', 0), (1, 'b', 0), (1, 'c', 0), (1, 'a', 0), (2, 'd', 0), (2, 'b', 0), (2, 'c', 0), (2, 'a', 0), (6, 'd', 0), (6, 'b', 0), (6, 'c', 0), (6, 'a', 0)]\n"
     ]
    }
   ],
   "source": [
    "A = {1, 2, 6}\n",
    "B = {'a', 'b', 'c', 'd'}\n",
    "C = {0, False}\n",
    "print('cartesian product of two sets: ', [(a, b) for a in A for b in B])\n",
    "print('cartesian product of three sets: ', [(a, b, c) for a in A for b in B for c in C])"
   ]
  },
  {
   "cell_type": "markdown",
   "metadata": {},
   "source": [
    "Если все множества в декартовом произведении равны, то множество всех кортежей длины $n$, где элементы из взяты из множества $A$ записывается так:\n",
    "$$A_1 \\times \\dots \\times A_n = A^n = \\{(a_1, \\dots ,a_n) \\mid a_i \\in A_i, i \\in \\{1, \\dots ,n\\}\\}$$"
   ]
  },
  {
   "cell_type": "code",
   "execution_count": 3,
   "metadata": {},
   "outputs": [
    {
     "name": "stdout",
     "output_type": "stream",
     "text": [
      "A×A = A² =  [(1, 1), (1, 2), (1, 6), (2, 1), (2, 2), (2, 6), (6, 1), (6, 2), (6, 6)]\n"
     ]
    }
   ],
   "source": [
    "print('A×A = A² = ', [(x, y) for x in A for y in A])"
   ]
  },
  {
   "cell_type": "markdown",
   "metadata": {},
   "source": [
    "Количество элементов n в каждом кортеже определяет <b>размерность</b> кортежа. \n",
    "Кортеж можно рассматривать как <b>вектор</b>:<br>\n",
    "<br>\n",
    "Двухмерный вектор: X×Y = ℝ×ℝ = ℝ² = {(x, y) | x, y ∈ ℝ}<br>\n",
    "Трехмерный вектор:  X×Y×Z = ℝ×ℝ×ℝ = ℝ³ = {(x, y, z) | x, y, z ∈ ℝ}<br>"
   ]
  },
  {
   "cell_type": "markdown",
   "metadata": {},
   "source": [
    "# ---------- QUIZ 1 --------------"
   ]
  },
  {
   "cell_type": "markdown",
   "metadata": {},
   "source": [
    "## Отношение, отображение, операция "
   ]
  },
  {
   "cell_type": "markdown",
   "metadata": {},
   "source": [
    "Чтобы как-то представить действия с матрицами (что такое сложение/умножение/транспонирование матриц), нужно сначала понять, что это вообще такое \"сложение\" и \"умножение\" и другие операции. Т.е. нам нужно обобщить все возможные действия, которые можно произвести над множествами математических объектов.\n",
    "При чем, как в программировании на Python - <i><b>всё есть объект</b></i>, так и в математике - <i><b>всё есть множество</b></i>."
   ]
  },
  {
   "cell_type": "markdown",
   "metadata": {},
   "source": [
    "<img style=\"display: float; float: right; padding-left: 3px; width: 300px;\" src=\"relation.png\">\n",
    "\n",
    "<div style=\"border-left: 6px solid tomato; padding-left: 6px;\">\n",
    "<blockquote><span style=\"background: #bdb5ff;\">\n",
    "        <b>Отношение R</b></span> из <span style=\"background: #ffa3a3;\">множества\n",
    "        <b>А</b></span> во <span style=\"background: #d1f4b7;\"><b>множество B</b></span> - это подмножество среди упорядоченных пар декартова произведения A×B, на котором выполянется данное свойство\n",
    "    </blockquote>\n",
    "\n",
    "! <i>В английском \"отношение\", где A≠B, - это \"finitary relation\". Если A=B, то, а в английском используется \"relation / homogeneous relation\".</i>\n",
    "    <br><br><details style=\"cursor: pointer; border: 3px ridge #FF6347; border-radius: 2px; box-shadow: 1px 1px 1px black; padding: 3px; display: inline-block; margin: 1px; background: #ffded8;\"> <summary style=\"padding: 0px 7px 0px 0px;\">Пример</summary><br>\n",
    "Допустим, у вас есть два мешка с яблоками.<br>\n",
    "    $A = \\{a_1, a_2, a_3\\}$<br>\n",
    "    $B = \\{b_1, b_2, b_3\\}$<br>\n",
    "Нужно с этими яблоками что-то сделать, например, сравнить вес первых яблок со вторыми.<br>\n",
    "$R$ = множество всех яблок, в которых первое яблоко больше второго.<br>\n",
    "1) Достали яблоко $a_1$ из мешка $A$. Сравнили с яблоком $b_1$ из мешка B. Если яблоко $a₁$ &gt; яблока $b₁$, записываем в тетрадь: $(a_1, b_1)∈R$.<br>\n",
    "2) Теперь сравниваем $a_1$ c $b_2$. Если $a_1$ &gt; $b_2$ запишем $(a_1, b_2) ∈ R$<br>\n",
    "3) Повторим это для $a_1$ и $b_3$. Когда сравнение с первым яблоком всех остальных покончено, сравниваем оставшиеся $a₂$ и $a₃$ из мешка $A$ с яблоками $b₁, b₂, b₃$ из мешка $B$.<br><br>\n",
    "Итого, мы перебрали все пары $A×B = \\{(a₁, b₁), (a₁, b₂), (a₁, b₃), (a₂, b₁), (a₂, b₂), (a₂, b₃), (a₃, b₁), (a₃, b₂), (a₃, b₃)\\}$<br>\n",
    "И нашли из них те, которые отвечают свойству \"первое яблоко больше второго, где первое яблоко взято из мешка $A$, а второе взято из мешка $B$\" $C = \\{(a₁, b₁), (a₁, b₂), (a₂, b₁), (a₃, b₃)\\}$<br>\n",
    "<br>\n",
    "    $R$ - подмножество декартового произведения $A×B$ с определенными свойствами. Т.е. $R$ - <b><i>отношение</i></b> на множестве $A×B$\n",
    "</details>\n",
    "<br><br>\n",
    "Определить отношение $R \\subseteq A×B$ можно по-разному.<br>\n",
    "Например, описать словестно:<br>\n",
    "<blockquote>\n",
    "$A = \\{1, 2\\}$<br>\n",
    "$B = \\{1, 2, 3\\}$<br>\n",
    "Отношение $R$ такое, что для всех пар $(a, b) ∈ A×B$, если $b/a$ равно четному числу, то эта пара принадлежит множеству $R$.\n",
    "    </blockquote>\n",
    "</div>"
   ]
  },
  {
   "cell_type": "code",
   "execution_count": 2,
   "metadata": {},
   "outputs": [
    {
     "name": "stdout",
     "output_type": "stream",
     "text": [
      "A×B = [(1, 1), (1, 2), (1, 3), (2, 1), (2, 2), (2, 3)]\n",
      "\n",
      "R⊆A×B =[(1, 2)]\n"
     ]
    }
   ],
   "source": [
    "A = {1, 2}\n",
    "B = {1, 2, 3}\n",
    "cartesian_product = [(a, b) for a in A for b in B]\n",
    "relation_on_cartesian_product = [(a,b) for a in A for b in B if (b/a)%2==0]\n",
    "print(f'A×B = {cartesian_product}\\n') # используются f-строки и перенос строки с помощью специального символа \\n\n",
    "print(f'R⊆A×B ={relation_on_cartesian_product}')"
   ]
  },
  {
   "cell_type": "markdown",
   "metadata": {},
   "source": [
    "<div style=\"border-left: 6px solid tomato; padding-left: 6px;\">\n",
    "Или в виде таблицы:\n",
    "    <blockquote>\n",
    "    <br>$1$ - принадлежит отношению $(a, b)∈R$,<br> $0$ - не принадлежит отношению$(a, b)∉R$:\n",
    "    <table style=\"border: 1px solid black;\">\n",
    "    <tr>\n",
    "        <td>a > b</td>\n",
    "        <td style=\"background-color: greenyellow\">яблоко b₁</td><td style=\"background-color: greenyellow\">яблоко b₂</td><td style=\"background-color: greenyellow\">яблоко b₃</td></tr>\n",
    "    <tr><td style=\"background-color: #ff9999;\">яблоко a₁</td><td>1</td><td>1</td><td>0</td></tr>\n",
    "    <tr><td style=\"background-color: #ff9999;\">яблоко a₂</td><td>1</td><td>0</td><td>0</td></tr>\n",
    "    <tr><td style=\"background-color: #ff9999;\">яблоко a₃</td><td>0</td><td>0</td><td>1</td></tr>\n",
    "</table>\n",
    "    </blockquote>\n",
    "<br>\n",
    "Ещё отношение можно записывать с помощью <i>функциональной записи</i>: $P(a) = \\{b: (a, b)∈P\\}$<br>\n",
    "Например, из примера с яблоками можно составить такую функциональную запись:\n",
    "$$P(a₁) = \\{b₁, b₂\\} \\\\\n",
    "P(a₂) = \\{b₁\\} \\\\\n",
    "P(a₃) = \\{b₃\\}$$\n",
    "</div>"
   ]
  },
  {
   "cell_type": "markdown",
   "metadata": {},
   "source": [
    "# -------------- QUIZ 2 --------------"
   ]
  },
  {
   "cell_type": "markdown",
   "metadata": {},
   "source": []
  },
  {
   "cell_type": "markdown",
   "metadata": {},
   "source": [
    "<div style=\"border-left: 6px solid #8700ff; padding-left: 6px;\">\n",
    "    <blockquote>\n",
    "        <img style=\"display: float; float: right; padding-right: 3px; width: 200px;\" src=\"function.png\">\n",
    "Функция (отображение) $f$ - это такой тип отношения $R$ двух множеств среди упорядоченных пар на $A×B$, в котором <b>ВСЕМ</b> элементам из множества $A$ сопостовляется <b>ТОЛЬКО ОДИН</b> элемент из множества $B$\n",
    "$$ f \\subset A×B = \\{∀a, b, c | (a, b) ∈ f, (a, c) ∈ f ⇔ b = c\\}$$\n",
    "    </blockquote>\n",
    "\n",
    "Является ли отношение \"яблоко из первого мешка больше яблока из второго мешка\" функцией? Нет, потому что, хотя для каждого яблока из A, можно найти яблоко из B, оно не является единственным $$(𝑎₁,𝑏₁), (𝑎₁,𝑏₂) ∈ R \\subseteq A×B ≠ f$$\n",
    "\n",
    "Таким образом, функцию можно записать:\n",
    "<ul>\n",
    "<li>Как подмножество декартова произведния: $f \\subset A×B$<br>\n",
    "Пример: $f = \\{(1, 1), (2, 4), (3, 9), (4, 16)\\} ⊂ ℕ×ℕ $, где $f := x²$</li>\n",
    "<br><br>\n",
    "<li>Как отображение на множестве, где из всех элементов из A выходит ровно одна стрелка в B:\n",
    "\n",
    "<li>В виде таблицы:\n",
    "    <table style=\"display: float; float: right; border: 1px solid black;\">\n",
    "    <tr>\n",
    "        <td>(sin x)+2</td>\n",
    "        <td style=\"background-color: greenyellow\">b₁ = 2.909297</td><td style=\"background-color: greenyellow\">b₂ = 2.6569865</td><td style=\"background-color: greenyellow\">b₃ = 1.2431975</td></tr>\n",
    "    <tr><td style=\"background-color: #ff9999;\">a₁ = 2</td><td>1</td><td>0</td><td>0</td></tr>\n",
    "    <tr><td style=\"background-color: #ff9999;\">a₂ = 7</td><td>0</td><td>1</td><td>0</td></tr>\n",
    "    <tr><td style=\"background-color: #ff9999;\">a₃ = 4</td><td>0</td><td>0</td><td>1</td></tr>\n",
    "</table>\n",
    "$$A = \\{2, 7, 4\\}\\\\\n",
    "B = \\{2.909297, 2.6569865, 1.2431975\\} \\\\\n",
    "1 - (a, b) ∈ A×B, (a, b) ∈ f⊂A×B \\\\\n",
    "0 - (a, b) ∈ A×B, (a, b) ∉ f⊂A×B $$\n",
    " </li>\n",
    "<li>Используя функциональную запись:\n",
    "    \n",
    "    $f(x) = y$\n",
    "    </li>\n",
    "</ul>\n",
    "    </div>"
   ]
  },
  {
   "cell_type": "code",
   "execution_count": null,
   "metadata": {},
   "outputs": [],
   "source": []
  }
 ],
 "metadata": {
  "kernelspec": {
   "display_name": "Python 3",
   "language": "python",
   "name": "python3"
  },
  "language_info": {
   "codemirror_mode": {
    "name": "ipython",
    "version": 3
   },
   "file_extension": ".py",
   "mimetype": "text/x-python",
   "name": "python",
   "nbconvert_exporter": "python",
   "pygments_lexer": "ipython3",
   "version": "3.8.1"
  }
 },
 "nbformat": 4,
 "nbformat_minor": 4
}

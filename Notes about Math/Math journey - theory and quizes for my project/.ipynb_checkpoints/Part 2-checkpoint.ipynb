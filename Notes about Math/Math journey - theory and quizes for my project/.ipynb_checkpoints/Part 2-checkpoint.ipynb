{
 "cells": [
  {
   "cell_type": "markdown",
   "metadata": {},
   "source": [
    "Выше, когда мы записывали отношение $R \\subseteq A×B$ в виде таблицы. Т.к. матрица - это просто компактная запись таблицы, отношение можно выразить с помощью нее, где 1 - принадлежит отношению, 0 - не принадлежит\n",
    "$M_R = [m_{ij}], \\; где \\; m_{ij} = \\left\\{ \\begin{array}{cc} 1 ⇔ (a_i, b_j)∈R \\\\ 0 ⇔ (a_i, b_j)∉R \\end{array} \\right\\}$"
   ]
  },
  {
   "cell_type": "markdown",
   "metadata": {},
   "source": [
    "Пример:\n",
    "$A = \\{0, 1, 2\\} \\\\\n",
    "B = \\{1, 2, 3, 4\\} \\\\\n",
    "R \\subseteq A×B = \\{(0, 1), (0, 3), (1, 1), (1, 2), (1, 4), (2, 2)\\}$\n",
    "Тогда матрица, демонстрирующая отношение R:<br>\n",
    "$M_R = \\left[ \\begin{array}{cccc}  0&0&1&1&1 \\\\ 1&0&0&1&0 \\\\ 1&0&1&0&1 \\end{array} \\right] $"
   ]
  },
  {
   "cell_type": "markdown",
   "metadata": {},
   "source": [
    "Вопросы:\n",
    "1) $A = \\{a_1, a_2, a_3\\}, B = {b_1, b_2, b_3, b_4, b_5\\}\\\\\n",
    "M_R = \\left[ \\begin{array}{ccccc}  1&0&1&0 \\\\ 1&1&0&1 \\\\ 0&1&0&0 \\end{array} \\right]$ Написать R в виде подмножества упорядоченных пар<br>\n",
    "$R = \\{(a_1, b_3), (a_1, b_4), (a_1, b_5), (a_2, b_1), (a_2, b_4), (a_3, b_1), (a_3, b_3), (a_3, b_5)\\}$"
   ]
  },
  {
   "attachments": {},
   "cell_type": "markdown",
   "metadata": {},
   "source": [
    "В чем преимущество записывать отношение в виде матрицы? Благодаря такой записи сразу видны свойства отношений. Например, рефлексивность - это $(a, a) ∈ R$, а это значит, главная диагональ матрицы будет обязательно будет состоять единиц (антирфлексивность $(a, a)∉R$, наоброт, будет выдавать нули по главной диагонали матрицы)\n",
    "<div style=\"display: flex; flex-wrap: wrap; justify-content: flex-start; align-items: baseline; align-content: flex-start;\">\n",
    "<table style=\"border: 1px solid black; display: flex; flex-basis: auto; align-self: flex-start;\">\n",
    "    <tr>\n",
    "        <td>R</td>\n",
    "        <td style=\"background-color: greenyellow\">b₁</td><td style=\"background-color: greenyellow\">b₂</td><td style=\"background-color: greenyellow\">b₃</td></tr>\n",
    "    <tr><td style=\"background-color: #ff9999;\">a₁</td><td>1</td><td>...</td><td>...</td></tr>\n",
    "    <tr><td style=\"background-color: #ff9999;\">a₂</td><td>...</td><td>1</td><td>...</td></tr>\n",
    "    <tr><td style=\"background-color: #ff9999;\">a₃</td><td>...</td><td>...</td><td>1</td></tr>\n",
    "</table>\n",
    "<div style=\"display: flex; align: bottom;\">$M_R = \\left[ \\begin{array}{ccc}  1&...&... \\\\ ...&1&... \\\\ ...&...&1 \\end{array}\\right]$</div>\n",
    "    </div>\n",
    "Симметричность $(a, b) ∈  R, (b, a)∈$ так же покажет симметричность вдоль главной диагонали (если транспонривать матрицу, получится то же самое $M_R = (M_R)^t$\n",
    "$M = M^T = \\left[ \\begin{array}{cc}  a_1&a_2 \\\\ a_2&a_1 \\end{array}\\right], [m_{ij}] = [m_{ji}]$\n",
    "Пример:\n",
    "$\\left[ \\begin{array}{ccc}  1&3&8 \\\\ 3&8&-4 \\\\8&-4&6 \\end{array}\\right] = \\left[ \\begin{array}{ccc}  1&3&8 \\\\ 3&8&-4 \\\\8&-4&6 \\end{array}\\right]^T\n",
    "$<br>\n",
    "Если M^T = -M, то матрица называется <b>кососимметричной</b>, а отношение R, которое описывает эта матрица, антисимметрично (т.е. если $(a, b)∈R$ и $(b, a)∈R$, то $a=b$\n",
    "Пример:\n",
    "$\\left[ \\begin{array}{ccc}  0&-6&4 \\\\ -6&0&7 \\\\4&7&0 \\end{array}\\right] = -\\left[ \\begin{array}{ccc}  0&-6&4 \\\\ -6&0&7 \\\\4&7&0 \\end{array}\\right]^T\n",
    "$<br>"
   ]
  },
  {
   "cell_type": "code",
   "execution_count": null,
   "metadata": {},
   "outputs": [],
   "source": []
  }
 ],
 "metadata": {
  "kernelspec": {
   "display_name": "Python 3",
   "language": "python",
   "name": "python3"
  },
  "language_info": {
   "codemirror_mode": {
    "name": "ipython",
    "version": 3
   },
   "file_extension": ".py",
   "mimetype": "text/x-python",
   "name": "python",
   "nbconvert_exporter": "python",
   "pygments_lexer": "ipython3",
   "version": "3.8.1"
  }
 },
 "nbformat": 4,
 "nbformat_minor": 4
}

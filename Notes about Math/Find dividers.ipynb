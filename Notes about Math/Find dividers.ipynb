{
 "cells": [
  {
   "cell_type": "markdown",
   "metadata": {},
   "source": [
    "# Теория"
   ]
  },
  {
   "cell_type": "markdown",
   "metadata": {},
   "source": [
    "Как цзнать количество делителей числа?<br>\n",
    "Допустим, возьмем число 60 и разложим его на множители:<br>\n",
    "60 = 2·2·5·3<br>\n",
    "2²·5¹·3 = (2+1)(1+1)(1+1)\n",
    "\n",
    "Число 10¹⁰ = (2·5)¹⁰ = 2¹⁰·5¹⁰<br>\n",
    "Эти множители можно расписать так:"
   ]
  },
  {
   "cell_type": "markdown",
   "metadata": {},
   "source": [
    "## Задача 1"
   ]
  },
  {
   "cell_type": "markdown",
   "metadata": {},
   "source": [
    "Напишите программу, которая ищет среди целых чисел, принадлежащих числовому отрезку [174457; 174505], числа, имеющие ровно два различных натуральных делителя, не считая единицы и самого числа. Для каждого найденного числа запишите эти два делителя в два соседних столбца на экране с новой строки в порядке возрастания произведения этих двух делителей. Делители в строке также должны следовать в порядке возрастания.\n",
    "\n",
    "Например, в диапазоне [5; 9] ровно два различных натуральных делителя имеют числа 6 и 8, поэтому для этого диапазона вывод на экране должна содержать следующие значения:\n",
    "\n",
    "2 3<br>\n",
    "2 4"
   ]
  },
  {
   "cell_type": "code",
   "execution_count": 4,
   "metadata": {},
   "outputs": [
    {
     "name": "stdout",
     "output_type": "stream",
     "text": [
      "[[17, 9013], [73, 2099], [67, 2287], [31, 4943], [293, 523], [11, 13931], [5, 30649], [7, 21893], [331, 463], [13, 11789], [2, 76631], [11, 13933]]\n",
      "Wall time: 1.64 s\n"
     ]
    }
   ],
   "source": [
    "%%time\n",
    "all_divisors = []\n",
    "for i in range(153217, 153285+1):\n",
    "    divisors = []\n",
    "    for j in range(2, i):\n",
    "        if i%j == 0:\n",
    "            divisors.append(j)\n",
    "        if len(divisors)>2:\n",
    "            break\n",
    "    if len(divisors) == 2:\n",
    "        all_divisors.append(divisors)\n",
    "print(all_divisors)"
   ]
  },
  {
   "cell_type": "code",
   "execution_count": 12,
   "metadata": {},
   "outputs": [
    {
     "name": "stdout",
     "output_type": "stream",
     "text": [
      "[[107, 11449, 1225043], [109, 11881, 1295029], [113, 12769, 1442897]]\n",
      "Wall time: 2min 37s\n"
     ]
    }
   ],
   "source": [
    "%%time\n",
    "all_divisors = []\n",
    "for i in range(123456789, 223456789+1):\n",
    "    divisors = []\n",
    "    if int(i**(1/4))==i**(1/4): # есть число в четвертой степени\n",
    "        divisors.append(int(i**(1/2)))\n",
    "    else: # если такого числа нет, то делителей точно не 5\n",
    "        continue\n",
    "    for j in range(2, int(i**(1/2))):\n",
    "        if i%j == 0:\n",
    "            divisors.append(j)\n",
    "            divisors.append(i//j)\n",
    "        if len(divisors)>3:\n",
    "            break\n",
    "    if len(divisors) == 3:\n",
    "        all_divisors.append(divisors)\n",
    "        divisors.sort()\n",
    "print(all_divisors)"
   ]
  },
  {
   "cell_type": "markdown",
   "metadata": {},
   "source": [
    "Все равно достаточно долго. Во-первых по причине того, что число в четвертой степени, которое мы нашли, может не являться простым, а во-вторых потому, что диапазон чисел, которых м"
   ]
  },
  {
   "cell_type": "code",
   "execution_count": 18,
   "metadata": {},
   "outputs": [
    {
     "name": "stdout",
     "output_type": "stream",
     "text": [
      "[107, 11449, 1225043]\n",
      "[109, 11881, 1295029]\n",
      "[113, 12769, 1442897]\n",
      "Wall time: 0 ns\n"
     ]
    }
   ],
   "source": [
    "%%time\n",
    "'''Начинаем int(123456789**(1/4))+1, т.к. int отбросил дробную часть в меньшую \n",
    "сторону, поэтому может выдать число, которое меньше 123456789. Заканчиваем \n",
    "int(223456789**(1/4))+1, потому что проходит до последнего числа не включая'''\n",
    "for i in range (int(123456789**(1/4))+1, int(223456789**(1/4))+1):\n",
    "    prime_num = True\n",
    "    for j in range(2, int(i**(1/2))+1):\n",
    "        if i%j==0:\n",
    "            prime_num = False\n",
    "            break # если число из этого диапазона на что-то кроме себя и 1 \n",
    "            # делится, то оно не является простым\n",
    "    if prime_num == True:\n",
    "        print([i, i**2, i**3])"
   ]
  },
  {
   "cell_type": "markdown",
   "metadata": {},
   "source": [
    "Напишите программу, которая ищет среди целых чисел, принадлежащих числовому отрезку [11275; 16328], числа, имеющие ровно 5 различных делителей. Выведите эти делители для каждого найденного числа в порядке возрастания.\n",
    "\n",
    "Например, для диапазона [16, 18] подошло бы число 16. Поэтому для этого диапазона вывод на экране должен содержать следующие значения:\n",
    "\n",
    "1 2 4 8 16 "
   ]
  },
  {
   "cell_type": "code",
   "execution_count": 67,
   "metadata": {},
   "outputs": [
    {
     "name": "stdout",
     "output_type": "stream",
     "text": [
      "1 11 121 1331 14641\n",
      "Wall time: 12 ms\n"
     ]
    }
   ],
   "source": [
    "%%time\n",
    "\"\"\"Пять делителей - нечетное число делителей, значит есть \n",
    "целочисленный корень. Т.к. диапазон дан большой, надо использовать \n",
    "теорему о количестве делителей: 5 должно получится при перемножении \n",
    "количества степеней простых множителей, на которое раскладывается \n",
    "число. Так само 5 - число простое, то единственный вариант - это \n",
    "какое-то простое число в степени до 5: x⁰ · x¹ · x² · ... · x⁵\n",
    "Значит, первым делом смотрим, есть ли у числа корень четвертой\n",
    "степени (x⁰ не учитываем).\"\"\"\n",
    "for i in range(11275, 16328+1):\n",
    "    divisors = []\n",
    "    if int(i**(1/4)) != i**(1/4):\n",
    "        continue\n",
    "    else:\n",
    "        divisors.append(int(i**(1/2)))\n",
    "    for j in range(1, int(i**(1/2))): # корень не включаем\n",
    "        if i%j==0:\n",
    "            divisors.append(j)\n",
    "            divisors.append(i//j)\n",
    "        if len(divisors) > 5:\n",
    "            break\n",
    "    if len(divisors)==5:\n",
    "        divisors.sort()\n",
    "        print(*divisors)"
   ]
  },
  {
   "cell_type": "code",
   "execution_count": 64,
   "metadata": {},
   "outputs": [
    {
     "name": "stdout",
     "output_type": "stream",
     "text": [
      "1 11 121 1331 14641 \n",
      "Wall time: 8.38 s\n"
     ]
    }
   ],
   "source": [
    "%%time\n",
    "a=[0]*5\n",
    "for i in range(11275, 16329):\n",
    "    k=0\n",
    "    for j in range(1, i + 1):\n",
    "        if (i % j == 0):\n",
    "            k = k + 1\n",
    "            if k > 5:\n",
    "                break\n",
    "            else:\n",
    "                a[k-1]=j\n",
    "    if k == 5:\n",
    "        for j in range(5):\n",
    "            print(a[j], end=' ')\n",
    "        print()"
   ]
  },
  {
   "cell_type": "code",
   "execution_count": 62,
   "metadata": {},
   "outputs": [
    {
     "name": "stdout",
     "output_type": "stream",
     "text": [
      "('0', '1', '0', '1')\n",
      "('0', '1', '1', '0')\n",
      "('0', '0', '1', '1')\n",
      "('0', '0', '1', '1')\n",
      "('0', '1', '1', '0')\n",
      "('0', '1', '0', '1')\n",
      "('1', '0', '0', '1')\n",
      "('1', '0', '1', '0')\n",
      "('1', '0', '0', '1')\n",
      "('1', '0', '1', '0')\n",
      "('1', '1', '0', '0')\n",
      "('1', '1', '0', '0')\n",
      "('0', '0', '1', '1')\n",
      "('0', '0', '1', '1')\n",
      "('0', '1', '0', '1')\n",
      "('0', '1', '1', '0')\n",
      "('0', '1', '0', '1')\n",
      "('0', '1', '1', '0')\n",
      "('1', '0', '1', '0')\n",
      "('1', '0', '0', '1')\n",
      "('1', '1', '0', '0')\n",
      "('1', '1', '0', '0')\n",
      "('1', '0', '0', '1')\n",
      "('1', '0', '1', '0')\n",
      "{'0110', '1001', '1100', '1010', '0011', '0101'} 6 {'0110', '1001', '1100', '1010', '0011', '0101'} 6\n",
      "Wall time: 3 ms\n"
     ]
    }
   ],
   "source": [
    "%%time\n",
    "va = ['0', '1']*2\n",
    "s = ''\n",
    "l1=set()\n",
    "l2=[]\n",
    "from itertools import permutations\n",
    "p = permutations(va, 4)\n",
    "for i in p:\n",
    "    print(i)\n",
    "    s+=(i[0]+i[1]+i[2]+i[3])\n",
    "    l1.add(s)\n",
    "    l2.append(s)\n",
    "    s=''\n",
    "print(l1, len(l1), set(l2), len(set(l2)))"
   ]
  },
  {
   "cell_type": "markdown",
   "metadata": {},
   "source": [
    "Почему перестановки не выдают 1111, 0000, 1000, 0001 и т.п.? (Должно быть 16 комбинаций всего)"
   ]
  },
  {
   "cell_type": "code",
   "execution_count": 24,
   "metadata": {},
   "outputs": [
    {
     "name": "stdout",
     "output_type": "stream",
     "text": [
      "1 5 31 3085 19127 95635\n",
      "1 7 13 7357 13663 95641\n",
      "1 3 9 10627 31881 95643\n",
      "1 3 19 2517 15941 47823\n"
     ]
    }
   ],
   "source": [
    "for i in range(95632, 95650+1):\n",
    "    divisors = []\n",
    "    odd_divs = []\n",
    "    if int(i**(1/3)) == i**(1/3):\n",
    "        divisors.append(int(i**(1/3)))\n",
    "    for j in range (1, int(i**(1/3))):\n",
    "        if i%j==0:\n",
    "            divisors.append(j)\n",
    "            divisors.append(i//j)\n",
    "    for d in divisors:\n",
    "        if d%2==1:\n",
    "            odd_divs.append(d)\n",
    "    if len(odd_divs) == 6:\n",
    "        odd_divs.sort()\n",
    "        print(*odd_divs)"
   ]
  },
  {
   "cell_type": "markdown",
   "metadata": {},
   "source": [
    "Последовательность натуральных чисел характеризуется числом Х — наибольшим числом, кратным 14 и являющимся произведением двух элементов последовательности с различными номерами. Гарантируется, что хотя бы одно такое произведение в последовательности есть.\n",
    "\n",
    "Входные данные:\n",
    "Даны два входных файла (файл A и файл B), каждый из которых содержит в первой строке количество чисел N (1 ≤ N ≤ 100000). В каждой из последующих N строк записано одно натуральное число, не превышающее 1000.\n",
    "\n",
    "Пример организации исходных данных во входном файле:\n",
    "5\n",
    "40\n",
    "1000\n",
    "7\n",
    "28\n",
    "55\n",
    "Пример выходных данных для приведённого выше примера входных данных:\n",
    "28000\n",
    "В ответе укажите два числа: сначала значение искомого произведения для файла А, затем для файла B."
   ]
  },
  {
   "cell_type": "markdown",
   "metadata": {},
   "source": [
    "Число кратно 14, если делится на 7 и на 2, или на 14.\n",
    "Два числа могут быть либо двумя наибольшими, которые делятся либо на 7, либо на 2, либо из этих двух чисел одно делится на 14, другое на 1. \n",
    "\n",
    "Перебираем все числа, делящиеся на 7 и все числа, делящиеся на 2, заносим их в отдельный список. Выбираем из них наибольшее."
   ]
  },
  {
   "cell_type": "code",
   "execution_count": 26,
   "metadata": {},
   "outputs": [
    {
     "ename": "FileNotFoundError",
     "evalue": "[Errno 2] No such file or directory: 'file_A_27_27891.txt'",
     "output_type": "error",
     "traceback": [
      "\u001B[1;31m---------------------------------------------------------------------------\u001B[0m",
      "\u001B[1;31mFileNotFoundError\u001B[0m                         Traceback (most recent call last)",
      "\u001B[1;32m<ipython-input-26-bbd56465efab>\u001B[0m in \u001B[0;36m<module>\u001B[1;34m\u001B[0m\n\u001B[1;32m----> 1\u001B[1;33m \u001B[0mf\u001B[0m \u001B[1;33m=\u001B[0m \u001B[0mopen\u001B[0m\u001B[1;33m(\u001B[0m\u001B[1;34m'file_A_27_27891.txt'\u001B[0m\u001B[1;33m)\u001B[0m\u001B[1;33m\u001B[0m\u001B[1;33m\u001B[0m\u001B[0m\n\u001B[0m\u001B[0;32m      2\u001B[0m \u001B[0mhow_many\u001B[0m \u001B[1;33m=\u001B[0m \u001B[0mf\u001B[0m\u001B[1;33m.\u001B[0m\u001B[0mreadline\u001B[0m\u001B[1;33m(\u001B[0m\u001B[1;33m)\u001B[0m\u001B[1;33m\u001B[0m\u001B[1;33m\u001B[0m\u001B[0m\n\u001B[0;32m      3\u001B[0m \u001B[0mmax_all\u001B[0m \u001B[1;33m=\u001B[0m \u001B[1;36m0\u001B[0m\u001B[1;33m\u001B[0m\u001B[1;33m\u001B[0m\u001B[0m\n\u001B[0;32m      4\u001B[0m \u001B[0mdiv_by_7\u001B[0m \u001B[1;33m=\u001B[0m \u001B[1;33m[\u001B[0m\u001B[1;33m]\u001B[0m\u001B[1;33m\u001B[0m\u001B[1;33m\u001B[0m\u001B[0m\n\u001B[0;32m      5\u001B[0m \u001B[0mdiv_by_2\u001B[0m \u001B[1;33m=\u001B[0m \u001B[1;33m[\u001B[0m\u001B[1;33m]\u001B[0m\u001B[1;33m\u001B[0m\u001B[1;33m\u001B[0m\u001B[0m\n",
      "\u001B[1;31mFileNotFoundError\u001B[0m: [Errno 2] No such file or directory: 'file_A_27_27891.txt'"
     ]
    }
   ],
   "source": [
    "f = open('file_A_27_27891.txt')\n",
    "how_many = f.readline()\n",
    "max_all = 0\n",
    "div_by_7 = []\n",
    "div_by_2 = []\n",
    "div_by_14 = []\n",
    "for i in f:\n",
    "    if i > max_all and i%14==0:\n",
    "        max_all = i\n",
    "    if i%14==0:\n",
    "        div_by_14.append(i)\n",
    "    elif i%7==0:\n",
    "        div_by_7.append(i)\n",
    "    elif i%2==0:\n",
    "        div_by_2.append(i)\n",
    "div_by_14.sort(reverse=True)\n",
    "div_by_7.sort(reverse=True)\n",
    "div_by_2.sort(reverse=True)\n",
    "\n",
    "max_all_and_div_by_14 = div_by_14[0]\n",
    "\n",
    "print(max_all_and_div_by_14, max_all, div_by_7[0], div_by_2[0])"
   ]
  },
  {
   "cell_type": "code",
   "execution_count": 25,
   "metadata": {},
   "outputs": [
    {
     "ename": "NameError",
     "evalue": "name 'sort' is not defined",
     "output_type": "error",
     "traceback": [
      "\u001B[1;31m---------------------------------------------------------------------------\u001B[0m",
      "\u001B[1;31mNameError\u001B[0m                                 Traceback (most recent call last)",
      "\u001B[1;32m<ipython-input-25-2d9e7e9926a2>\u001B[0m in \u001B[0;36m<module>\u001B[1;34m\u001B[0m\n\u001B[0;32m      1\u001B[0m \u001B[0ma\u001B[0m \u001B[1;33m=\u001B[0m \u001B[1;33m[\u001B[0m\u001B[1;36m8\u001B[0m\u001B[1;33m,\u001B[0m \u001B[1;36m5\u001B[0m\u001B[1;33m,\u001B[0m \u001B[1;36m7\u001B[0m\u001B[1;33m,\u001B[0m \u001B[1;33m-\u001B[0m\u001B[1;36m1\u001B[0m\u001B[1;33m]\u001B[0m\u001B[1;33m\u001B[0m\u001B[1;33m\u001B[0m\u001B[0m\n\u001B[0;32m      2\u001B[0m \u001B[0mb\u001B[0m \u001B[1;33m=\u001B[0m \u001B[1;33m[\u001B[0m\u001B[1;36m30\u001B[0m\u001B[1;33m,\u001B[0m \u001B[1;36m48\u001B[0m\u001B[1;33m,\u001B[0m \u001B[1;36m12\u001B[0m\u001B[1;33m,\u001B[0m \u001B[1;36m95\u001B[0m\u001B[1;33m]\u001B[0m\u001B[1;33m\u001B[0m\u001B[1;33m\u001B[0m\u001B[0m\n\u001B[1;32m----> 3\u001B[1;33m \u001B[0mk\u001B[0m \u001B[1;33m=\u001B[0m \u001B[0mmap\u001B[0m\u001B[1;33m(\u001B[0m\u001B[0msort\u001B[0m\u001B[1;33m(\u001B[0m\u001B[0mreverse\u001B[0m\u001B[1;33m=\u001B[0m\u001B[1;32mTrue\u001B[0m\u001B[1;33m)\u001B[0m\u001B[1;33m,\u001B[0m \u001B[1;33m[\u001B[0m\u001B[0ma\u001B[0m\u001B[1;33m,\u001B[0m \u001B[0mb\u001B[0m\u001B[1;33m]\u001B[0m\u001B[1;33m)\u001B[0m\u001B[1;33m\u001B[0m\u001B[1;33m\u001B[0m\u001B[0m\n\u001B[0m",
      "\u001B[1;31mNameError\u001B[0m: name 'sort' is not defined"
     ]
    }
   ],
   "source": [
    "a = [8, 5, 7, -1]\n",
    "b = [30, 48, 12, 95]\n",
    "k = map(sort(reverse=True))"
   ]
  },
  {
   "cell_type": "code",
   "execution_count": 103,
   "metadata": {},
   "outputs": [
    {
     "name": "stdout",
     "output_type": "stream",
     "text": [
      "68591\n",
      "198636596\n"
     ]
    }
   ],
   "source": [
    "def oct_not_3(file):\n",
    "    f = open(file)\n",
    "    how_many = f.readline()\n",
    "    min_diffs = []\n",
    "    all_sum = 0 \n",
    "    for i in f:\n",
    "        a, b = map(int, i.split())\n",
    "        if a<b:\n",
    "            all_sum+=a\n",
    "        else:\n",
    "            all_sum+=b\n",
    "        min_diffs.append(abs(a-b))   \n",
    "    min_diffs.sort() \n",
    "    new_all_summ = all_sum   \n",
    "    for i in min_diffs:\n",
    "        if oct(new_all_summ)[-1] == '3':\n",
    "            new_all_summ = all_sum - i\n",
    "        else:\n",
    "            print(new_all_summ)\n",
    "            break\n",
    "\n",
    "oct_not_3('27A-восмиричн_не_конч_3.txt')\n",
    "oct_not_3('27B-восмиричн_не_конч_3.txt')"
   ]
  },
  {
   "cell_type": "code",
   "execution_count": 124,
   "metadata": {},
   "outputs": [
    {
     "name": "stdout",
     "output_type": "stream",
     "text": [
      "864 961\n"
     ]
    }
   ],
   "source": [
    "f = open('26-2-1_отличники_хорошисты.txt')\n",
    "particip, group = map(int, f.readline().split())\n",
    "all_marks = []\n",
    "aver_a, aver_b = 0, 0\n",
    "for i in f:\n",
    "    all_marks.append(int(i))\n",
    "all_marks.sort(reverse=True)\n",
    "for i in range(group):\n",
    "    aver_a += int(all_marks[i])\n",
    "for i in range(group, group*2):\n",
    "    aver_b += int(all_marks[i])\n",
    "print(aver_b//group, aver_a//group)"
   ]
  },
  {
   "cell_type": "code",
   "execution_count": 120,
   "metadata": {},
   "outputs": [
    {
     "name": "stdout",
     "output_type": "stream",
     "text": [
      "864 961\n"
     ]
    }
   ],
   "source": [
    "f = open('26-2-1_отличники_хорошисты.txt')\n",
    "particip, group = map(int, f.readline().split())\n",
    "all_marks = []\n",
    "marks_a, marks_b = [], []\n",
    "for i in f:\n",
    "    all_marks.append(int(i))\n",
    "all_marks.sort(reverse=True)\n",
    "for i in range(group):\n",
    "    marks_a.append(all_marks[i])\n",
    "del all_marks[0:group]\n",
    "for i in range(group):\n",
    "    marks_b.append(all_marks[i])\n",
    "#for i in range(group, group*2):\n",
    "#    marks_b.append(all_marks[group:i])\n",
    "print(sum(marks_b)//group, sum(marks_a)//group)"
   ]
  },
  {
   "cell_type": "code",
   "execution_count": 125,
   "metadata": {},
   "outputs": [
    {
     "name": "stdout",
     "output_type": "stream",
     "text": [
      "864\n",
      "961\n"
     ]
    }
   ],
   "source": [
    "f = open('26-2-1_отличники_хорошисты.txt')\n",
    "particip, group = map(int, f.readline().split())\n",
    "all_marks = []\n",
    "for i in f:\n",
    "    all_marks.append(int(i))\n",
    "all_marks.sort(reverse=True)\n",
    "print(sum(all_marks[group:group*2])//group)\n",
    "print(sum(all_marks[0:group])//group)"
   ]
  },
  {
   "cell_type": "code",
   "execution_count": null,
   "metadata": {},
   "outputs": [],
   "source": []
  }
 ],
 "metadata": {
  "kernelspec": {
   "display_name": "Python 3",
   "language": "python",
   "name": "python3"
  },
  "language_info": {
   "codemirror_mode": {
    "name": "ipython",
    "version": 3
   },
   "file_extension": ".py",
   "mimetype": "text/x-python",
   "name": "python",
   "nbconvert_exporter": "python",
   "pygments_lexer": "ipython3",
   "version": "3.8.8"
  }
 },
 "nbformat": 4,
 "nbformat_minor": 4
}

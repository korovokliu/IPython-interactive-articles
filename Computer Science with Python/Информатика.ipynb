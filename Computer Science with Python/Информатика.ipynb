{
 "cells": [
  {
   "cell_type": "markdown",
   "metadata": {},
   "source": [
    "В текстовом файле находится цепочка из символов латинского алфавита A, B, C, D, E, F. Найдите количество цепочек длины 3, в которых символы не совпадают."
   ]
  },
  {
   "cell_type": "code",
   "execution_count": 129,
   "metadata": {},
   "outputs": [
    {
     "name": "stdout",
     "output_type": "stream",
     "text": [
      "['EDC', 'DCA', 'CAF', 'AFA', 'ACE', 'CEC', 'ECA', 'EAC', 'ACA', 'CAC', 'ACE', 'CEC', 'ECA', 'CAC', 'CED', 'DCB', 'CBF', 'BFB', 'FBD', 'BDF', 'FAD', 'ADA', 'DAF', 'FED', 'EDC', 'DCA', 'CAD', 'ADC', 'DCA', 'CAE', 'AEC', 'ECF', 'CFC', 'FCA', 'CAE', 'AED', 'DED', 'EDF', 'DFD', 'FDE', 'EDF', 'DFC', 'CEB', 'EBA', 'BAB', 'ABF', 'BFA', 'AFA', 'FAC', 'ACA', 'CAE', 'AEA', 'EAD', 'ADC', 'CFA', 'FAE', 'AEB', 'ECD', 'CDC', 'DCE', 'CEA', 'CAB', 'BDC', 'DCD', 'CDE', 'DEB', 'EBF', 'FCD', 'DBF', 'BFA', 'FAD', 'DAD', 'DBF', 'BFA', 'FAC', 'ACB', 'CBD', 'DAC', 'CDB', 'DBD', 'BDC', 'DCD', 'CDC', 'DCA', 'CAE', 'AEB', 'EBD', 'EBF', 'BFC', 'FCA', 'CAE', 'AED', 'EDE', 'DEA', 'EAB', 'ABF', 'FAD', 'ADA', 'AFB', 'FBE', 'BEF', 'EFB', 'FBC', 'BCD', 'CDC', 'DCD', 'CDC', 'CAF', 'AFB', 'FBE', 'BEA', 'EAC', 'CFA', 'FAF', 'AFE', 'FEB', 'EBD', 'BDB', 'DBA', 'BAE', 'AED', 'ABE', 'BEC', 'ECE', 'CEF', 'EFA', 'FAE', 'BFE', 'FED', 'EDF', 'DFC', 'FCD', 'CDF', 'DFB', 'FBF', 'FBE', 'BEC', 'ECD', 'CDF', 'DFE', 'FEB', 'BDF', 'FEB', 'BCD', 'CDB', 'DBF', 'BFD', 'FDF', 'FDC', 'DCA', 'CAD', 'ADC', 'CDC', 'DCE', 'CED', 'EDB', 'DBE', 'EAB', 'ABE', 'BEC', 'ADC', 'BEC', 'ECE', 'CEB', 'EBD', 'DAB', 'BFD', 'FDC', 'DCB', 'CBA', 'BAB', 'ABF', 'BFE', 'FEC', 'ECF', 'CFD', 'FDA', 'DAE', 'AEF', 'EFE', 'FED', 'DAC', 'ACB', 'CBD', 'BDF', 'DFC', 'FCD', 'CDE', 'ADB', 'DBC', 'BCE', 'ECD', 'CDF', 'DFA', 'FAF', 'AFC', 'FCE', 'CEA', 'EAE', 'AEF', 'EFC', 'CAD', 'ADE', 'DED', 'EDB', 'BCD', 'ABF', 'BFA', 'FAE', 'EDB', 'DBE', 'EDB', 'BDF', 'DFA', 'FAD', 'ADF', 'DFC', 'FCB', 'CBE', 'EBF', 'BFE', 'FEF', 'FAD', 'ADA', 'DAC', 'ACB', 'BCF', 'CFA', 'FAB', 'ABD', 'BDA', 'DAF', 'AFE', 'FEB', 'EBC', 'BCF', 'CFB', 'FBC', 'BCF', 'CFD', 'FDE', 'DEF', 'EFC', 'FCA', 'CAB', 'BFE', 'ECF', 'FED', 'EDC', 'DCF', 'CFE', 'FEF', 'EFE', 'FEF', 'EFE', 'FEC', 'ECD', 'CDB', 'DBE', 'BEC', 'ECE', 'CEA', 'EAC', 'ACE', 'CEC', 'ECA', 'CAE', 'AEF', 'EFB', 'FBA', 'BAB', 'CBE', 'EBD', 'BDB', 'DBF', 'BFD', 'FDA', 'ABE', 'BEB', 'BFD', 'FDA', 'DAD', 'ADA', 'AED', 'EDA', 'AFC', 'CBA', 'BAF', 'AFA', 'FAD', 'ADF', 'DFB', 'FBA', 'BAC', 'CFB', 'FBE', 'BEA', 'EAB', 'ABF', 'DAB', 'BEA', 'EAE', 'AEF', 'EFD', 'FDC', 'DCD', 'CDA', 'ACB', 'CBF', 'BFE', 'EDC', 'DCF', 'CFD', 'FDF', 'DFC', 'CFE', 'FEC', 'ECB', 'CBC', 'BCB', 'CBA', 'BAB', 'ABC', 'BCB', 'CBC', 'BCF', 'FDE', 'DEF', 'EFE', 'FEB', 'EBF', 'BFD', 'DAE', 'AED', 'EDB', 'DBA', 'BAF', 'FEB', 'EBC', 'CBA', 'BAC', 'ACD', 'DFA', 'FAF', 'AFB', 'FBA', 'BAC', 'CFC', 'FCF', 'CFC', 'FCD', 'CDF', 'DFC', 'FCB', 'ACB', 'CBE', 'BEA', 'EAD', 'ADF', 'DFC', 'FCB', 'CDE', 'DEB', 'EBA', 'BAE', 'AEC', 'ECD', 'CDC', 'CAE', 'AEA', 'EAF', 'AFB', 'BFD', 'DFD', 'FDF', 'DFC', 'FCA', 'CAB', 'ABC', 'BCA', 'CAF', 'AFB', 'FBA', 'BAF', 'AFB', 'FBF', 'BFC', 'FCF', 'CFA', 'FAE', 'AEB', 'EBD', 'BDF', 'DFD', 'FDA', 'DAD', 'ADE', 'DEA', 'EAB', 'ABD', 'BDF', 'DFC', 'FCB', 'BAE', 'AEF', 'EFD', 'DEC', 'ECE', 'EAB', 'ABF', 'FDB', 'DBF', 'BFE', 'FED', 'EDF', 'DFC', 'FCD', 'DFA', 'ADC', 'DCB', 'CAD', 'DAE', 'AEF', 'EFE', 'FED', 'EDB', 'CFE', 'FEC', 'ECB', 'CBC', 'BCB', 'CBF', 'BFB', 'BEF', 'EFA', 'ABE', 'BEA', 'EAE', 'AEB', 'EBE', 'BEB', 'BAD', 'ADF', 'DFE', 'FEA', 'EAB', 'BEF', 'EFE', 'FEF', 'EFD', 'DAE', 'EFE', 'FEF', 'EFA', 'FAE', 'AEB', 'EBC', 'BCB', 'CBD', 'BDE', 'DED', 'EDA', 'ADE', 'ECB', 'CBC', 'BCD', 'CDF', 'DFC', 'FCE', 'CEA', 'EAE', 'FBD', 'BDE', 'DEB', 'EBD', 'BDE', 'ECB', 'CBF', 'BFB', 'BEA', 'EAB', 'ABD', 'BDF', 'DFC', 'FCD', 'CDF', 'FEB', 'BCE', 'CEA', 'EAF', 'AFC', 'FCE', 'ECE', 'CED', 'EDF', 'DFC', 'CBF', 'BFD', 'DEA', 'EAD', 'ADA', 'DAB', 'ABF', 'BFC', 'FCB', 'CBD', 'BDA', 'DAE', 'AEC', 'ECE', 'CEB', 'EBA', 'BAB', 'ABC', 'BCB', 'BFA', 'FAC', 'ACE', 'CED', 'EDB', 'BFC', 'FCF', 'CFB', 'FBD', 'BDB', 'DBA', 'BAF', 'FED', 'EDE', 'DEB', 'BAB', 'ABC', 'BCD', 'CDB', 'BCD', 'CDE', 'DEA', 'DCE', 'CEB', 'EBD', 'BDC', 'DCD', 'CDA', 'ACD', 'DBD', 'DFC', 'FCD', 'CDE', 'DED', 'BCD', 'DCF', 'CFA', 'ACA', 'AFC', 'FCB', 'CBA', 'ACB', 'CBF', 'FAB', 'BFC', 'FCB', 'CBF', 'BFD', 'FDB', 'DBC', 'BCD', 'CDE', 'DEB', 'BAB', 'ABE', 'EBD', 'BDC', 'DCA', 'CAB', 'ABA', 'BAB', 'ABF', 'FEF', 'EFD', 'FDF', 'DFC', 'FCA', 'CAE', 'AEA', 'AFC', 'FCB', 'CBE', 'BEB', 'EBE', 'BEF', 'EFC', 'CEA', 'EAC', 'CBD', 'BDF', 'FCA', 'CAC', 'ACF', 'FBD', 'BDB', 'DBD', 'BDE', 'DEB', 'BED', 'EDE', 'DED', 'EDC', 'CDE', 'DEF', 'EFB', 'FBF', 'BFA', 'FAC', 'ACB', 'CBD', 'BDB', 'EAE', 'AED', 'AFB', 'FBC', 'BCE', 'CEC', 'ECF', 'CFB', 'FBD', 'BDB', 'DBC', 'BCD', 'CDA', 'DAC', 'ACE', 'CEB', 'EBA', 'BAC', 'ACB', 'CBC', 'CBA', 'BAB', 'ABE', 'BEF', 'EFD', 'FDC', 'DCB', 'CBF', 'FCB', 'CBA', 'AFB', 'FBF', 'BFC', 'FCF', 'CFB', 'FBE', 'BEC', 'ECB', 'CBA', 'BAF', 'AFE', 'FEC', 'ECB', 'CBD', 'BDA', 'DAC', 'ACF', 'CFB', 'FBC', 'CAC', 'CAB', 'ECD', 'CDE', 'DED', 'EDC', 'DCD', 'CDE', 'DEA', 'AEB', 'EBE', 'BEB', 'EBA', 'ACD', 'CDE', 'DEF', 'EFA', 'FAC', 'ACD', 'CDA', 'DAE', 'AEB', 'EBC', 'BCE', 'CEB', 'EBE', 'BEA', 'EAE', 'AEC', 'ECE', 'CEB', 'EBC', 'BCB', 'CBF', 'FDF', 'DFA', 'ABD', 'BDE', 'DEF', 'EFE', 'FEA', 'EAF', 'AFE', 'FEC', 'ECF', 'CFC', 'CBA', 'ADC', 'DCA', 'CAE', 'AEA', 'EAE', 'AEA', 'EAB', 'ABA', 'BAF', 'AFB', 'FBE', 'BED', 'DBF', 'BAF', 'AFD', 'FDC', 'DCF', 'CFA', 'ADA', 'DAC', 'ACB', 'CBF', 'BFE', 'FEC', 'CBF', 'BFB', 'FBC', 'BCD', 'DBC', 'BCB', 'CBC', 'BCA', 'CAE', 'AEC', 'ECA', 'CAC', 'ACF', 'CFA', 'FAC', 'ACA', 'CAC', 'ACB', 'CBC', 'BCF', 'CFC', 'FCE', 'CEF', 'EFA', 'FAE', 'EFD', 'FDA', 'DAB', 'ABA', 'BAC', 'ACE', 'CEA', 'EAB', 'ABE', 'BEA', 'EAF', 'AFE', 'EDE', 'CEC', 'CDB', 'DBD', 'BDF', 'FAB', 'ABF', 'BFC', 'FCD', 'CDB', 'DBD', 'BDA', 'DAF', 'AFC', 'FCE', 'EFA', 'FAC', 'ACB', 'CBD', 'BDC', 'DCE', 'EDF', 'DFE', 'FEC', 'ECA', 'CAE', 'AEF', 'EFA', 'FAB', 'ABD', 'BDB', 'DBA', 'BAD', 'ADE', 'DEC', 'ECD', 'CDA', 'DAF', 'AFC', 'FCD', 'CDA', 'DAC', 'ACA', 'CAC', 'ACA', 'CAF', 'AFA', 'FAF', 'FCD', 'CDB', 'BCB', 'CBF', 'BFD', 'FDF', 'DFB', 'FBD', 'BDC', 'CDA', 'DAC', 'ACF', 'CFE', 'FEF', 'EFA', 'FAD', 'ADC', 'DCE', 'CED', 'EDB', 'DBC', 'CBE', 'BEB', 'EBD', 'BDB', 'DBE', 'BEB', 'EBF', 'BFD', 'FDE', 'DEF', 'FEF', 'FEF', 'FEC', 'ECA', 'CAC', 'CBA', 'BAC', 'CDE', 'DEC', 'CAD', 'CAF', 'AFA', 'FAC', 'ACE', 'CEA', 'EAC', 'ACE', 'EBE', 'BEF', 'EFE', 'FEF', 'EFE', 'FEA', 'EAC', 'ACA', 'CAE', 'EDB', 'DBD', 'BDE', 'DEC', 'CDC', 'DCD', 'CDA', 'DAF', 'AFB', 'FBF', 'BFE', 'FEA', 'EAB', 'ABE', 'BEA', 'BDB', 'DBA', 'BAB', 'BAD', 'ADC', 'DCD', 'CDF', 'DFB', 'FBE', 'BEC', 'ECB', 'BAC', 'ACA', 'CAC', 'CFA', 'FAE', 'AED', 'EDB', 'DBA', 'ACA', 'CAC', 'ACE', 'EBD', 'BDA', 'DAB', 'ABF', 'BFC', 'FCF', 'CFE', 'FEC', 'ECA', 'CAC', 'ACA', 'CAC', 'ACB', 'CBA', 'ACB', 'CBA', 'BAE', 'AEA', 'EAE', 'AEC', 'ECF', 'CFA', 'FAB', 'BAC', 'ACD', 'CDA', 'AFA', 'FAE', 'AED', 'EDF', 'DFB', 'FBE', 'BEB', 'BCB', 'CBD', 'BDE', 'DEB', 'EBD', 'BDA', 'AEF', 'EFD', 'FDE', 'DEF', 'EFC', 'FCD', 'CDF', 'FAE', 'AEF', 'EFC', 'CAE', 'AEB', 'EBF', 'FDF', 'DFA', 'FAC', 'ACB', 'CBD', 'BDF', 'DFB', 'BAE', 'AEC', 'CAC', 'BEC', 'ECE', 'CEC', 'ECA', 'CAE', 'AEA', 'EAF', 'AFC', 'FCF', 'CFD', 'FDA', 'DAD', 'ADE', 'DED', 'EDC', 'DCF', 'BDB', 'DBC', 'BCA', 'CAC', 'ACA', 'CAF', 'AFE', 'EFE', 'FED', 'DCD', 'ACB', 'CBA', 'BAB', 'BFA', 'FAE', 'AEA', 'EAB', 'ABF', 'BFC', 'CDA', 'DAD', 'ADA', 'DAE', 'EDF', 'FBD', 'BDC', 'CED', 'DCE', 'CED', 'DBD', 'BDA', 'ACA', 'CAB', 'ABD', 'BDF', 'DFE', 'FED', 'EDA', 'DAC', 'ACD', 'CDB', 'DBF', 'BFD', 'FDC', 'DCB', 'CBE', 'BEC', 'ECD', 'CDF', 'DFC', 'FCD', 'CDE', 'DEA', 'EAB', 'ABF', 'BFD', 'FDB', 'DBF', 'BFD', 'FDB', 'DBE', 'EBA', 'ABE', 'BEF', 'AFA', 'FAB', 'ABC', 'BCE', 'CEA', 'EAF', 'AFD', 'FDA', 'DAC', 'ACB', 'CBA', 'BAE', 'AEF', 'EFB', 'FBF', 'BFB', 'FBD', 'BDC', 'DCD', 'CDF', 'DFB', 'FBF', 'BFA', 'FAC', 'ACA', 'CAE', 'AEA', 'EAD', 'ADF', 'DFC', 'FCA', 'CAE', 'AED', 'EDC', 'CEC', 'ECE', 'ECF', 'CFC', 'FCF', 'FCA', 'CAF', 'AFD', 'FDC', 'DCE', 'CEF', 'EFB', 'FBA', 'BAF', 'AFD', 'FDB', 'DBA', 'BAE', 'EFE', 'FEB', 'EBE', 'EFE', 'ECE', 'CED', 'EDB', 'DBF', 'BFB', 'AEB', 'EBE', 'BEC', 'ECF', 'FBD', 'BDB', 'BDC', 'DCD', 'CDC', 'DCD', 'CDE', 'DEA', 'EAD', 'EBF', 'BFC', 'FCB', 'DFA', 'FAB', 'ABC', 'BCF', 'CFE', 'EFC', 'FCD', 'CDE', 'DEC', 'ECB', 'BFE', 'FEC', 'ECA', 'EAF', 'AFE', 'FEB', 'EBF', 'BFE', 'FEC', 'CBC', 'BCD', 'CDC', 'DCE', 'CEF', 'EFE', 'ADA', 'DAB', 'ABF', 'BFB', 'FBF', 'FDF', 'DFD', 'FDA', 'AFE', 'FED', 'EDE', 'DED', 'CAE', 'AEA', 'EAB', 'ABF', 'BFD', 'FDF', 'DFB', 'FBC', 'BCB', 'CBF', 'BFE', 'FEB', 'EBD', 'BDC', 'DCE', 'CEA', 'ADA', 'DAB', 'ABD', 'BDC', 'BEA', 'EAC', 'CAE', 'AEB', 'EBF', 'FED', 'EDB', 'BEA', 'AFA', 'FAE', 'AEC', 'EDC', 'DCF', 'DCD', 'CDE', 'DEC', 'CED', 'EDA', 'DAC', 'ACA', 'CAF', 'AFB', 'EFC', 'FCA', 'CAE', 'AEC', 'ECA', 'ADC', 'DCA', 'CAE', 'AEC', 'ECD', 'CDC', 'BDB', 'DBE', 'BEA', 'EAD', 'DED', 'EDA', 'DAF', 'FEA', 'EAC', 'ACD', 'DAE', 'AEA', 'ACD', 'CDE', 'DED', 'EDE', 'DEB', 'EBF', 'BFB', 'FBC', 'BCF', 'FDC', 'DCB', 'CBE', 'BED', 'EDB', 'DBA', 'BAE', 'AED', 'EDC', 'DCF', 'CFD', 'DEB', 'EBA', 'ACF', 'FBD', 'BDF', 'DFE', 'FEC', 'CEF', 'EFC', 'FCE', 'CEA', 'EAD', 'ADF', 'DFD', 'FDF', 'DFC', 'FCF', 'CFE', 'FED', 'EDB', 'DBF', 'BFA', 'FAB', 'ABE', 'BEA', 'EAF', 'AFE', 'FEC', 'CFD', 'DBF', 'BFA', 'FAF', 'AFE', 'FED', 'EDF', 'DFA', 'FAD', 'ADA', 'DAB', 'ABA', 'BAD', 'ADB', 'DBE', 'EFE', 'FEF', 'EFA', 'AEB', 'BFE', 'FEA', 'EAB', 'ABC', 'BCF', 'FAF', 'AFD', 'DCE', 'CEA', 'EAF', 'AFE', 'FEF', 'EFD', 'FDC', 'DCD', 'CDE', 'DED', 'EDC', 'DCD', 'CDB', 'DBE', 'BEF', 'EFC', 'FCF', 'CFA', 'FAB', 'BEF', 'EFB', 'FBE', 'BEA', 'EAE', 'AEF', 'EFE', 'FEC', 'ECE', 'CDA', 'ACE', 'CEC', 'CED', 'FBC', 'BCF', 'CFB', 'BCF', 'CFA', 'ACF', 'FDF', 'DFC', 'FCA', 'CAD', 'ADA', 'DAB', 'ABD', 'BDE', 'DEA', 'EAE', 'AEA', 'EAC', 'ACF', 'CFE', 'EAD', 'ADC', 'DCE', 'CEA', 'EAF', 'FEB', 'EBE', 'BEC', 'CAE', 'AEA', 'EAD', 'ADF', 'DFE', 'FEA', 'EAF', 'AFE', 'FEB', 'EBF', 'BFB', 'CFA', 'FAE', 'AED', 'EDF', 'DFA', 'FAD', 'DBA', 'BAE', 'AEB', 'EBE', 'BEB', 'EBE', 'BEC', 'ECB', 'DBD', 'BDE', 'DEF', 'FBD', 'BDF', 'DFB', 'FBC', 'BCE', 'CEF', 'EFC', 'FCD', 'CDB', 'DBF', 'BFC', 'FCB', 'CBC', 'BCA', 'CAF', 'AFA', 'FAC', 'CBA', 'BAD', 'ADC', 'DCA', 'CAB', 'ABD', 'BDC', 'DCA', 'ADE', 'DEF', 'EFB', 'FBA', 'BAE', 'AEF', 'EFB', 'FBF', 'BFE', 'EBD', 'BDA', 'DAB', 'FCA', 'AFA', 'FAE', 'AEA', 'EAC', 'ACD', 'CDB', 'DBA', 'AEA', 'EAD', 'ADA', 'CAE', 'AEA', 'EAE', 'AEA', 'EAB', 'ABF', 'BFC', 'CFC', 'FCD', 'DBD', 'BDF', 'DFD', 'FDA', 'DAF', 'AFE', 'FED', 'DAF', 'AFD', 'FDE', 'EAC', 'CFA', 'FAC', 'ACF', 'CFC', 'FCF', 'CFA', 'ABD', 'BDC', 'DCF', 'CFD', 'FDF', 'DFA', 'FAC', 'ACB', 'CBF', 'BFB', 'FBA', 'CEB', 'EAE', 'AEF', 'EFC', 'FCF', 'CFA', 'FAC', 'ACD', 'DEB', 'EBF', 'BFE', 'FEA', 'ABA', 'ABD', 'BDE', 'EBF', 'BFD', 'FDB', 'DBF', 'BFE', 'FED', 'EDC', 'DCF', 'FCB', 'CBC', 'BCA', 'CAF', 'AFC', 'FCD', 'CDF', 'FCB', 'CBC', 'BCA', 'CAD', 'DBA', 'BAC', 'ACD', 'CDC', 'DCE', 'CED', 'EDE', 'DEB', 'EBD', 'BDF', 'DFC', 'FCE', 'CEB', 'EBD', 'BDA', 'DAB', 'ABD', 'BDF', 'DFE', 'FEF', 'EFB', 'FBA', 'BAF', 'AFC', 'FCB', 'CBF', 'BFC', 'FCA', 'CAE', 'EAF', 'AFE', 'DAF', 'AFC', 'FCE', 'CEF', 'EFD', 'FDB', 'DBA', 'BAB', 'ABE', 'BEB', 'BDC', 'CDB', 'DBC', 'BCE', 'CEC', 'ECA', 'CAD', 'ADC', 'DCD', 'CDB', 'DBE', 'BEA', 'CBE', 'BEF', 'FBC', 'BCE', 'CEC', 'CBA', 'BAF', 'AFC', 'FCE', 'CEA', 'EAC', 'ACF', 'CFB', 'FBD', 'BDF', 'DFB', 'BDE', 'DEC', 'ECD', 'DBF', 'BFA', 'FAD', 'ADA', 'ABF', 'BFE', 'FEC', 'ECB', 'FAD', 'ADB', 'BAD', 'ADE', 'DEB', 'EBD', 'BDC', 'DCA', 'CAE', 'AEA', 'EAD', 'ADA', 'DAB', 'ABA', 'ABC', 'CAD', 'DBC', 'BCF', 'DAD', 'ADF', 'FBF', 'BFA', 'FAD', 'ADA', 'DAD', 'DAF', 'AFC', 'FCF', 'CFE', 'FEA', 'EAC', 'ACA', 'CAD', 'ADE', 'DEC', 'ECE', 'AFC', 'FCD', 'CDF', 'DFD', 'FDC', 'DCF', 'CFB', 'FBC', 'BCA', 'ABF', 'BFA', 'FAD', 'ADC', 'DCB', 'CBE', 'BEF', 'EFD', 'FDE', 'DEC', 'ECF', 'FCA', 'ABA', 'BAD', 'ADB', 'DBF', 'FBE', 'EBE', 'BEC', 'ECD', 'CDB', 'DBF', 'BFE', 'FEC', 'ECA', 'CAF', 'AFC', 'FCD', 'CDA', 'DAB', 'ABC', 'BCB', 'CBD', 'BDF', 'DFC', 'FCE', 'CEF', 'EFE', 'FEA', 'EAD', 'ADB', 'BCF', 'CFD', 'FDE', 'DEB', 'EBF', 'BFD', 'FDB', 'DBF', 'BFB', 'FBF', 'BFE', 'FEB', 'EBA', 'BAE', 'EAB', 'ABE', 'BEF', 'EFE', 'EFB', 'FBA', 'BAD', 'ADC', 'DCD', 'CDE', 'DED', 'EDA', 'DAF', 'AFE', 'FEB', 'EBD', 'BDE', 'DED', 'EDF', 'FBD', 'DBE', 'BEA', 'EAF', 'CAE', 'EBF', 'BFD', 'FDE', 'DEA', 'EAC', 'ACB', 'CBD', 'BDC', 'ADB', 'DBA', 'BAB', 'ABE', 'BEB', 'EBE', 'BEC', 'ECB', 'CBE', 'BED', 'EDF', 'DFA', 'FAF', 'FCD', 'CDC', 'DCA', 'CAB', 'BCA', 'CAC', 'ACA', 'CAE', 'AEB', 'EBE', 'BEB', 'EBD', 'BDF', 'DAC', 'ACE', 'DBC', 'BCA', 'ACE', 'EDA', 'DAC', 'ACD', 'CDE', 'DEC', 'CFC', 'FCB', 'CBC', 'BCD', 'CDA', 'DAF', 'AFA', 'FAC', 'ACF', 'CFC', 'FCD', 'CDF', 'DFB', 'FBE', 'EBC', 'BCB', 'CBA', 'BAF', 'AFB', 'BFA', 'FAC', 'ACB', 'CBD', 'EAF', 'AFC', 'FCB', 'CBA', 'BAB', 'ABA', 'BAD', 'ADF', 'DFA', 'FAF', 'AFA', 'FAF', 'AFB', 'FBC', 'DEA', 'EAF', 'AFA', 'FAF', 'AFA', 'DCE', 'CEB', 'BCD', 'CDB', 'BCE', 'CEB', 'EBC', 'CFD', 'FDC', 'DCA', 'CAD', 'ADF', 'DFE', 'FEC', 'ECB', 'BAF', 'AFB', 'FBA', 'BAE', 'AED', 'EDB', 'DBE', 'BEB', 'EBD', 'BDF', 'DFC', 'FCD', 'CDE', 'DEA', 'EAF', 'AFD', 'DAD', 'DBF', 'BFC', 'FCE', 'CEB', 'BFC', 'FCA', 'CAF', 'AFE', 'FEA', 'EAE', 'AEF', 'EFC', 'FCB', 'CBF', 'BFE', 'FEF', 'EFA', 'FAC', 'ACA', 'CAE', 'FAD', 'ADB', 'DBC', 'CFA', 'FAF', 'AFE', 'FEF', 'EFE', 'FEA', 'EAC', 'ACA', 'CAD', 'ADE', 'DEB', 'EBA', 'BAE', 'AEC', 'ECF', 'CFD', 'DAB', 'ABE', 'BEF', 'FDB', 'BED', 'EDA', 'DAC', 'ACA', 'CAB', 'ABF', 'BFB', 'FBD', 'BDC', 'DCB', 'BAC', 'ACB', 'CBA', 'BAD', 'ADF', 'DFD', 'FDC', 'DCE', 'CEB', 'EBA', 'BAF', 'AFA', 'ABF', 'BFB', 'FBC', 'CDA', 'DAD', 'ADC', 'DCA', 'CAF', 'FDF', 'DFD', 'DBE', 'BEA', 'EAF', 'AFE', 'FEC', 'ECB', 'CBE', 'BED', 'EDF', 'DFB', 'FBA', 'ACD', 'CDB', 'DBA', 'BAD', 'ADF', 'DFA', 'FAC', 'ACF', 'CFD', 'FDC', 'DCA', 'CAC', 'CDF', 'DFC', 'FCB', 'BAD', 'ADA', 'DAE', 'AEA', 'EAF', 'AFA', 'FAF', 'AFB', 'FBE', 'BEF', 'EFD', 'FDB', 'DBA', 'BAF', 'FEC', 'ECF', 'CFB', 'FBE', 'BED', 'EDC', 'DCF', 'CFA', 'FAC', 'CAE', 'AED', 'EDE', 'EFE', 'FEF', 'EFD', 'FDE', 'DEA', 'EAE', 'AEC', 'ECA', 'CAB', 'ABD', 'BDA', 'DAC', 'ACA', 'CAC', 'ACA', 'CAF', 'AFB', 'FBA', 'BAE', 'EAB', 'ABF', 'BFB', 'FBD', 'BDE', 'DED', 'EDF', 'DFD', 'FDE', 'DEC', 'ECF', 'CFE', 'FEA', 'EAE', 'EDF', 'DFA', 'FAE', 'AED', 'DEC', 'ECE', 'CED', 'EDB', 'DBD', 'BDF', 'DFA', 'FDC', 'DCF', 'CFE', 'FEF', 'EFD', 'FDE', 'DEA', 'EAE', 'AEB', 'EBE', 'BEA', 'EAD', 'ADE', 'DEA', 'EAE', 'AEF', 'EFD', 'FDE', 'EFE', 'FEC', 'CDF', 'DBF', 'BFD', 'FDC', 'DCB', 'BAB', 'ABD', 'BDA', 'DAC', 'ACD', 'DAF', 'AFE', 'FEC', 'CBD', 'BDC', 'DCF', 'CFA', 'ABE', 'BEA', 'EAE', 'AED', 'EDF', 'DFA', 'FAE', 'AEB', 'BEC', 'ECB', 'CBE', 'BED', 'EDF', 'FEF', 'EFE', 'FEC', 'ECE', 'CEB', 'EBF', 'BFA', 'FAD', 'ADC', 'DCA', 'CAF', 'AFE', 'FEC', 'ECA', 'CAB', 'BFD', 'FDE', 'DEF', 'FEF', 'EFB', 'FBF', 'BFD', 'FDE', 'DED', 'EDA', 'DAE', 'AEC', 'ECB', 'CBC', 'CDB', 'DBD', 'BDB', 'DBF', 'BFD', 'FDE', 'DEF', 'EFA', 'FAE', 'AED', 'EDC', 'DCF', 'CFD', 'FDE', 'DED', 'EDE', 'DEA', 'EAD', 'ADE', 'EBF', 'BFE', 'FED', 'EDA', 'DAC', 'ACB', 'CBE', 'EFE', 'FEF', 'EFD', 'FDE', 'DEB', 'EBF', 'BFE', 'FED', 'EDE', 'EAC', 'BDE', 'DEA', 'EAE', 'AEA', 'ADF', 'DFE', 'ECE', 'CEA', 'EAD', 'ADC', 'DCD', 'CDF', 'DFB', 'FBE', 'BEF', 'EFC', 'FCE', 'CEF', 'EFE', 'FEB', 'EBC', 'BCB', 'CBF', 'FEF', 'EFD', 'FDB', 'DBF', 'BFB', 'FBC', 'BCE', 'CEC', 'ECB', 'CBD', 'BDC', 'FCF', 'CFE', 'FEA', 'EAE', 'EDE', 'DEC', 'ECE', 'CED', 'EDF', 'DFD', 'FDE', 'DEA', 'EAD', 'ADE', 'EDC', 'DCF', 'FBC', 'BCE', 'CEF', 'FEA', 'AED', 'BEC', 'ECE', 'CEC', 'ECF', 'CFA', 'ABD', 'BDE', 'EBC', 'BCA', 'CAC', 'ACB', 'CBA', 'BAB', 'ABD', 'BDC', 'CBF', 'BFB', 'FBA', 'BAF', 'AFB', 'FBA', 'BAD', 'ADA', 'DAE', 'AEF', 'EFD', 'FDC', 'DCB', 'BDC', 'DCA', 'AFD', 'FDF', 'DFB', 'FBF', 'BFA', 'FAE', 'ECB', 'CBC', 'BCA', 'CAE', 'AEC', 'ECF', 'CFE', 'FEA', 'EAD', 'ADB', 'DBF', 'BFD', 'FDA', 'DAE', 'AED', 'EDA', 'DAB', 'ABA', 'BAC', 'ACF', 'CFB', 'FBF', 'BFE', 'FED', 'EDB', 'DBE', 'BEA', 'EAE', 'AEA', 'AEF', 'FDE', 'DEA', 'EAD', 'DAD', 'ADA', 'DAE', 'AEA', 'EAE', 'AEA', 'AEF', 'EFE', 'FEF', 'EFB', 'FBD', 'BDE', 'EBE', 'BEC', 'ECD', 'DEC', 'ECA', 'CAE', 'AEB', 'EBA', 'AFA', 'FAC', 'CAB', 'BFD', 'FDC', 'DCF', 'CFE', 'FEB', 'EBA', 'ABE', 'BEA', 'EAD', 'ADF', 'FAB', 'ABC', 'BCB', 'CBE', 'EBF', 'BFD', 'DCD', 'CDA', 'DAB', 'ABA', 'BAF', 'AFA', 'FAE', 'AED', 'EDF', 'DFD', 'FDC', 'DCE', 'CED', 'DFA', 'FAD', 'ADC', 'DCF', 'CFA', 'FAF', 'AFE', 'FEF', 'EFE', 'FEC', 'ECD', 'CDA', 'DAE', 'AEF', 'EFE', 'EDA', 'DAF', 'AFE', 'EBD', 'BDF', 'CEA', 'EAB', 'ABA', 'BAB', 'ABE', 'BEA', 'EAD', 'ADB', 'DBD', 'BDF', 'DFB', 'FBD', 'BDA', 'DAD', 'ADE', 'DEA', 'EAC', 'ACF', 'CFC', 'FCF', 'CFE', 'FED', 'EDA', 'DAE', 'AEF', 'EFC', 'FCD', 'CDC', 'DCD', 'CDC', 'DCB', 'CBC', 'BCD', 'DFD', 'FDF', 'EFD', 'FDF', 'DFA', 'FAC', 'ACF', 'CFE', 'FEA', 'EAF', 'AFB', 'FBF', 'BFB', 'FBD', 'DEB', 'EBD', 'BDF', 'DFB', 'BEC', 'ECE', 'CEF', 'EFB', 'FBE', 'BEB', 'EBA', 'BAB', 'ABE', 'BEC', 'ECD', 'DEB', 'EBF', 'FEC', 'ECE', 'CEC', 'ECA', 'CAB', 'ABD', 'DBD', 'DCD', 'CDE', 'DEF', 'EFA', 'FAC', 'ACD', 'CDA', 'DAF', 'AFC', 'CED', 'EDF', 'DFD', 'DED', 'EDA', 'DAC', 'ACA', 'CAB', 'ABF', 'BFA', 'ACA', 'CAE', 'EDC', 'CFE', 'EAC', 'ACD', 'CDB', 'BFD', 'FDE', 'DEA', 'EAC', 'ACB', 'CBD', 'BDF', 'FBA', 'BAB', 'BAF', 'AFC', 'FCA', 'CAF', 'AFC', 'FCE', 'ECE', 'EDE', 'DEA', 'ADA', 'DAE', 'AEF', 'EFB', 'FBC', 'BCE', 'CEF', 'EFE', 'FEB', 'EBE', 'EAF', 'AFD', 'FDF', 'DAF', 'AFA', 'FAB', 'ABD', 'BDA', 'DAC', 'ACA', 'CAD', 'ADE', 'DEF', 'FBC', 'CED', 'DAD', 'FBD', 'BDF', 'DFA', 'ABA', 'ADA', 'DAB', 'ABA', 'BAE', 'AEC', 'ECF', 'FEF', 'EFE', 'EAC', 'ACE', 'CED', 'DBF', 'BFC', 'FCE', 'CEC', 'ECE', 'CED', 'EDA', 'DAB', 'ABF', 'BFC', 'FCE', 'CEB', 'EBE', 'BED', 'EDC', 'DCB', 'CBC', 'CDC', 'DCE', 'CEC', 'ECD', 'CDE', 'DEB', 'EBE', 'EFD', 'FDB', 'DBC', 'BCA', 'CAE', 'CEF', 'EFB', 'FBE', 'BEC', 'CEC', 'ECE', 'EBE', 'BED', 'EDC', 'DCD', 'CDB', 'BDE', 'DEB', 'EBF', 'BFD', 'FDA', 'DAF', 'AFE', 'FEA', 'EAE', 'AEC', 'CBC', 'BCB', 'CBF', 'BFD', 'DEF', 'FCB', 'CBA', 'BAB', 'ABE', 'ECB', 'CBD', 'BDF', 'DFB', 'FBF', 'BFA', 'FAF', 'AFD', 'FDA', 'DAE', 'AEC', 'ECB', 'EFE', 'FED', 'EDC', 'DCB', 'CBA', 'BAC', 'CEA', 'EAD', 'ADE', 'EBF', 'BFD', 'FDC', 'DCE', 'EDA', 'DAD', 'ADB', 'BEB', 'EBC', 'BCD', 'CDC', 'DCB', 'CBD', 'BDB', 'DBD', 'BDC', 'DCE', 'CEB', 'EBC', 'BCB', 'CBF', 'BFE', 'FEA', 'EAC', 'ACD', 'CDB', 'DBD', 'BDB', 'DBE', 'BEB', 'EBE', 'BED', 'DAC', 'ACB', 'CBF', 'BFE', 'FEB', 'EBA', 'BAD', 'ADC', 'DCD', 'CDC', 'DCB', 'CBF', 'BFD', 'DCF', 'CFE', 'FED', 'EDE', 'EAB', 'ABF', 'BFE', 'FEF', 'EFC', 'CEA', 'EAC', 'ACA', 'CAD', 'DEA', 'EAE', 'AEA', 'EAE', 'AED', 'EDA', 'DAC', 'ACB', 'CBE', 'BED', 'DED', 'EDE', 'DEF', 'EFE', 'FED', 'EDE', 'EFE', 'FEA', 'EAD', 'ADA', 'AEC', 'ECA', 'CAF', 'DEA', 'EAC', 'ACA', 'CAE', 'EDB', 'DBE', 'BEB', 'EBA', 'BAD', 'ADC', 'DCA', 'CAC', 'ACA', 'CAD', 'ADE', 'CEF', 'EFA', 'AED', 'EDF', 'DFE', 'FEA', 'EAE', 'AEC', 'CBD', 'BDE', 'EFC', 'FCE', 'CEF', 'EFB', 'FBC', 'BCF', 'CFE', 'FED', 'EDE', 'DEC', 'ECA', 'CAE', 'ECD', 'CDC', 'DCF', 'FEB', 'EBF', 'BFE', 'FEF', 'EFA', 'FAB', 'CFD', 'FDE', 'DEB', 'BDB', 'BAD', 'ADA', 'DAF', 'AFC', 'FCF', 'CFD', 'FDA', 'EDC', 'DCD', 'FAD', 'ADE', 'DEA', 'EAB', 'ABA', 'BAD', 'ADF', 'DFD', 'FDA', 'DAE', 'EDF', 'DFB', 'BFB', 'FBA', 'BAF', 'AFC', 'FCD', 'CDA', 'DAC', 'BDE', 'DED', 'EDF', 'DFE', 'FEA', 'AEB', 'EBE', 'BEA', 'EAE', 'AEA', 'EAB', 'ABA', 'BAF', 'AFC', 'FCB', 'CBD', 'BDA', 'DAE', 'AED', 'EDA', 'DAB', 'ABE', 'BEB', 'EBF', 'BFE', 'FEF', 'EFC', 'FCD', 'CDC', 'DCF', 'CFC', 'FCE', 'EFB', 'FBC', 'BCE', 'CED', 'EDB', 'DBE', 'BEF', 'EFB', 'FBF', 'BFA', 'FAB', 'ABC', 'BCB', 'CBF', 'BFA', 'FAB', 'ABF', 'BFB', 'FBE', 'EAE', 'EDB', 'BAE', 'AED', 'EDB', 'DBA', 'BAD', 'DED', 'EDA', 'DAC', 'ACA', 'AFE', 'FEA', 'EAF', 'AFD', 'FDE', 'DEF', 'EFD', 'EFA', 'FAC', 'ACD', 'DFB', 'FBE', 'ECD', 'DBD', 'BDB', 'DBD', 'BDE', 'DEA', 'EAC', 'ACB', 'CBE', 'BED', 'EDF', 'DFE', 'FEB', 'EBF', 'FCB', 'CBF', 'BFD', 'DED', 'EDA', 'AFA', 'ADE', 'DEA', 'EAD', 'DEF', 'EFA', 'FAD', 'ADB', 'BAC', 'ACF', 'CFA', 'FAF', 'FBA', 'BAE', 'AED', 'EDF', 'DFC', 'FCB', 'CBA', 'BAE', 'EAC', 'ACD', 'DBD', 'BDF', 'DFB', 'BDF', 'DFB', 'FBE', 'BEB', 'BDE', 'DEC', 'CBE', 'BED', 'EDB', 'DBD', 'BDF', 'CDB', 'DBD', 'DAC', 'ADF', 'BDE', 'DEB', 'EBD', 'BDB', 'DBA', 'BAB', 'ABA', 'AFA', 'EAC', 'ACA', 'CAE', 'DAF', 'AFB', 'FBF', 'BFE', 'FED', 'EDE', 'DED', 'EDF', 'DFB', 'FBC', 'BCA', 'CAD', 'ADC', 'DCE', 'CEF', 'EFE', 'EFD', 'FDA', 'DAB', 'ABD', 'BDE', 'DEC', 'CFD', 'DCF', 'CFE', 'FEA', 'EAE', 'AED', 'EDB', 'DBD', 'BDA', 'DAD', 'ADE', 'DEA', 'EAB', 'ABC', 'CFD', 'FDC', 'DCA', 'CAF', 'AFD', 'FDB', 'DBE', 'EFA', 'FAE', 'AED', 'DEA', 'EAC', 'CBA', 'BAC', 'CEA', 'EAC', 'ACF', 'CFA', 'FAC', 'ACB', 'BCF', 'CFC', 'FCE', 'CED', 'EDE', 'EFB', 'FBF', 'BFA', 'ACD', 'CDA', 'DAB', 'ABA', 'BAD', 'ADF', 'DFC', 'FCD', 'CDE', 'DEC', 'ECA', 'CAF', 'AFA', 'AFB', 'BEC', 'ECF', 'CFA', 'FAC', 'ACD', 'CDF', 'FCB', 'CBC', 'BCF', 'CFD', 'FDF', 'DFA', 'FAE', 'AEC', 'ECA', 'CAD', 'ADE', 'DEA', 'EAB', 'ABE', 'BEF', 'EFE', 'FEC', 'ECB', 'CBA', 'BAF', 'AFC', 'CEA', 'EAB', 'ABF', 'BFC', 'FCA', 'CAD', 'DAB', 'ABD', 'BDA', 'DAB', 'ABC', 'BCA', 'CAD', 'DCE', 'CEA', 'EAC', 'ACE', 'EFA', 'FAB', 'ABF', 'BFE', 'EAD', 'ADC', 'DCA', 'CAD', 'ADB', 'DBD', 'BDC', 'CFA', 'FAD', 'ADC', 'DCD', 'CDB', 'DBF', 'BFA', 'ADB', 'DBA', 'BAE', 'AEF', 'FDE', 'DEB', 'BDE', 'EAE', 'AEB', 'EBA', 'BAE', 'AEB', 'EBF', 'BFC', 'FCB', 'CBD', 'BDA', 'DAE', 'AEB', 'EBD', 'BDB', 'DBA', 'BAB', 'ABA', 'BAD', 'ADB', 'DBC', 'BCA', 'CAE', 'AEF', 'EFD', 'FDC', 'DCA', 'ABC', 'BCF', 'CFD', 'FDF', 'DFC', 'FCA', 'CAD', 'ADA', 'ADC', 'DCE', 'CED', 'EDC', 'DCD', 'CDC', 'DCA', 'CAC', 'ACF', 'CFD', 'FDF', 'DFB', 'FBF', 'BFD', 'FDA', 'DAC', 'ACB', 'CBD', 'BDC', 'DCF', 'CFE', 'FEF', 'EFD', 'FDE', 'ECB', 'CBC', 'BCA', 'CAB', 'ABC', 'BCE', 'EAF', 'AFC', 'FCF', 'CFE', 'FED', 'EDA', 'DAC', 'ACE', 'CEB', 'EBE', 'EAC', 'ACF', 'FEA', 'ADF', 'DFB', 'FBA', 'BAD', 'ADC', 'DCB', 'CBE', 'EAF', 'FCA', 'AEC', 'ECF', 'CFE', 'FEB', 'EBF', 'BFD', 'FDA', 'DAE', 'ECB', 'CBE', 'EAC', 'ACE', 'CEA', 'EAD', 'ADA', 'DAE', 'AEC', 'ECE', 'CEB', 'EBD', 'BDC', 'DCA', 'CAD', 'ADC', 'DCE', 'CEA', 'EAB', 'ABE', 'BEB', 'BAD', 'ADF', 'DFA', 'FAC', 'ACB', 'CBE', 'BEF', 'EFC', 'FCB', 'CBD', 'BDE', 'DEF', 'EFA', 'FAF', 'AFD', 'FDC', 'DCE', 'EDA', 'DAE', 'AED', 'EDC', 'DCB', 'CBD', 'BDB', 'DBE', 'BED', 'EDB', 'DBE', 'BEC', 'BDA', 'DAF', 'AFE', 'FEF', 'EFD', 'FDC', 'DCA', 'CAE', 'EDA', 'DAE', 'EFB', 'FBE', 'BEB', 'BAC', 'ACD', 'CDF', 'DFD', 'FDC', 'CAB', 'ABA', 'BAD', 'ADC', 'DCE', 'CEC', 'CAC', 'CBC', 'BCA', 'ABF', 'BFE', 'EDA', 'DAC', 'ACD', 'CDF', 'DFD', 'DCF', 'CFA', 'ADF', 'DFC', 'FCD', 'CDA', 'DAF', 'AFE', 'FED', 'EDA', 'DAD', 'ADC', 'DCA', 'CAE', 'AEB', 'EBA', 'ABF', 'FAF', 'FEF', 'EFB', 'FBC', 'BCA', 'CAF', 'AFD', 'FDF', 'DFE', 'FEC', 'CAF', 'AFD', 'FDF', 'DFB', 'FBE', 'BED', 'EDC', 'DCB', 'CBC', 'BCD', 'CDC', 'DCB', 'CBA', 'BAB', 'ABE', 'BED', 'DCA', 'ACD', 'CDE', 'DED', 'EDA', 'DAF', 'AFA', 'FAC', 'ACF', 'CFC', 'FCF', 'FED', 'EDA', 'DAD', 'DEC', 'CAE', 'AED', 'EDF', 'DFE', 'EFE', 'FEA', 'EAC', 'ACD', 'CDE', 'DED', 'EDA', 'AFC', 'FCA', 'CAD', 'ADB', 'DBE', 'BEA', 'EAE', 'AED', 'EDC', 'DCA', 'ACD', 'DCB', 'BEB', 'BEC', 'ECE', 'CEC', 'ECD', 'DAE', 'AEA', 'EAB', 'ABC', 'BCA', 'CAC', 'ACF', 'CFA', 'FAB', 'ABE', 'BEC', 'CAE', 'DEA', 'EAE', 'ECE', 'CEA', 'EAB', 'BDC', 'DCB', 'CBD', 'BDA', 'DAE', 'AEB', 'EBF', 'BFD', 'FDE', 'DED', 'EDB', 'BCF', 'CFD', 'FDE', 'DEB', 'EBD', 'BDF', 'DFE', 'EBE', 'BEB', 'BAD', 'ADA', 'DAC', 'ACB', 'CBF', 'BFC', 'FCA', 'CAC', 'CFE', 'FED', 'DAC', 'ACE', 'CEB', 'EBE', 'BED', 'EDF', 'DFE', 'FEB', 'EBC', 'BCF', 'CFB', 'FBC', 'BCE', 'CEC', 'ECA', 'CAF', 'AFD', 'FDE', 'DEA', 'EAF', 'AFB', 'FBC', 'DCA', 'CAE', 'CEB', 'EBA', 'BAE', 'AED', 'EDF', 'DFC', 'CBC', 'BCE', 'CEB', 'EBE', 'EDB', 'DBA', 'BAC', 'ACB', 'CBF', 'BFB', 'FBA', 'BAC', 'ACD', 'CDC', 'DCE', 'CEC', 'ECF', 'FDF', 'DFD', 'DED', 'EDA', 'DAD', 'ADE', 'DEF', 'EFA', 'CFC', 'FCB', 'CBF', 'BFD', 'FDC', 'DCB', 'CBD', 'BDE', 'DEF', 'EFB', 'FBC', 'BCA', 'CAD', 'DFD', 'FDF', 'DFA', 'FAB', 'BAB', 'ABF', 'BFC', 'FCB', 'CBC', 'BCE', 'CEC', 'ECB', 'CBA', 'BAF', 'EBC', 'BCB', 'CBA', 'BAF', 'AFE', 'FEA', 'EAE', 'AEA', 'EAD', 'DEF', 'FEF', 'EFD', 'FDE', 'DEC', 'ECF', 'CFA', 'FAE', 'AEB', 'EBD', 'BDA', 'DAD', 'ADF', 'DFA', 'FAC', 'ACE', 'CED', 'EDC', 'DCD', 'CDE', 'DEC', 'ECF', 'CFC', 'FCD', 'DBF', 'BFE', 'EBA', 'AFB', 'FBE', 'BED', 'EDC', 'DCA', 'CAE', 'EDE', 'DEF', 'EFC', 'FCF', 'CFC', 'FCA', 'CAF', 'AFE', 'FEF', 'EFC', 'FCA', 'CAC', 'ACF', 'CFB', 'DFE', 'FEF', 'EFC', 'FCE', 'EDA', 'DAE', 'AEF', 'EFA', 'FAE', 'ABE', 'CAD', 'ADC', 'DCB', 'CBC', 'CDB', 'BDC', 'DCD', 'CDF', 'DFB', 'FBC', 'BCB', 'CBF', 'BFA', 'FAB', 'ABC', 'BCD', 'CDC', 'DCA', 'CAC', 'ACB', 'CBD', 'BDF', 'FAC', 'ACB', 'CBE', 'BED', 'EDC', 'DCE', 'CEA', 'EAE', 'AEB', 'EBF', 'BFD', 'FDF', 'DFC', 'CAE', 'ECD', 'CDC', 'DCB', 'CBC', 'CAE', 'AEF', 'EFD', 'DED', 'EDA', 'DAC', 'ACE', 'CEF', 'FEA', 'AFC', 'FCA', 'CAB', 'ABE', 'BED', 'EDA', 'DAE', 'EBD', 'BDB', 'DBD', 'BDE', 'DEA', 'BDB', 'DBD', 'BDB', 'DBD', 'BDB', 'DBA', 'ABC', 'CBC', 'BCE', 'CEC', 'ECA', 'CAF', 'AFA', 'ADB', 'DBF', 'BFC', 'FCB', 'CBA', 'DED', 'EDE', 'DED', 'EDA', 'DAD', 'DBF', 'BFB', 'BEC', 'ECA', 'CAB', 'ABD', 'DFB', 'FBD', 'BDC', 'DCE', 'CEB', 'EBF', 'FCB', 'CBC', 'CAE', 'EBE', 'BEC', 'ECE', 'CEB', 'EBA', 'AFB', 'FBC', 'CBA', 'BAC', 'ACE', 'CEB', 'EBE', 'BED', 'EDF', 'DFC', 'FCD', 'CDF', 'DFB', 'FBD', 'DFC', 'FCF', 'CFA', 'FAF', 'AFE', 'FEC', 'ECD', 'CDB', 'DBE', 'BEB', 'BCF', 'CFA', 'FAB', 'ABE', 'BEA', 'EAB', 'ABA', 'BAB', 'ABA', 'BAE', 'ECF', 'CFE', 'FEF', 'EFD', 'FDA', 'DAB', 'ABD', 'BDF', 'FCE', 'CEB', 'EBE', 'BEC', 'ECF', 'CFC', 'FCD', 'CDC', 'DCA', 'ADA', 'DAC', 'ACF', 'DCD', 'CDA', 'ABF', 'BFC', 'FCE', 'AFA', 'FAB', 'ABA', 'FEC', 'ECE', 'CEA', 'ACD', 'CDB', 'DBD', 'BDA', 'AFB', 'FBA', 'BAC', 'ACA', 'CAE', 'AED', 'DCF', 'CFA', 'FAF', 'AFA', 'FAB', 'BAC', 'CEC', 'ECD', 'CDE', 'DEA', 'EAD', 'EBE', 'BEF', 'EFB', 'FBE', 'BEA', 'EAE', 'ECE', 'CEA', 'EAB', 'ABE', 'BEC', 'CFE', 'FEB', 'EBD', 'DFD', 'FDB', 'DBC', 'BCF', 'CFE', 'FEB', 'EBF', 'BFD', 'DAF', 'AFA', 'FAC', 'ACE', 'EFA', 'FAE', 'AED', 'EDA', 'DAD', 'ADF', 'DFD', 'FDC', 'DCB', 'CBE', 'BEF', 'EFB', 'FBE', 'BEC', 'CDC', 'CDE', 'DEC', 'CDB', 'BDE', 'DEB', 'EBD', 'BDB', 'DBA', 'BAD', 'ADE', 'EAD', 'ADF', 'DFB', 'FBA', 'BAD', 'ADB', 'DBA', 'ABD', 'BDE', 'DEC', 'ECA', 'CAC', 'ACD', 'CDC', 'DCE', 'CED', 'DFB', 'FBF', 'BFE', 'FED', 'EDE', 'BEC', 'ECF', 'CFD', 'FDF', 'DFC', 'CED', 'EDC', 'DCE', 'EBD', 'BDF', 'DFA', 'FAE', 'AEB', 'BDB', 'DBF', 'FAD', 'ADC', 'CFE', 'FEF', 'EFA', 'AFB', 'FBD', 'BAC', 'ACF', 'CFC', 'CED', 'EDE', 'DEF', 'EFC', 'FCA', 'CAC', 'ACE', 'CEB', 'EBC', 'BCE', 'CEF', 'FAD', 'ADF', 'DFE', 'FEA', 'EAB', 'ABD', 'BDB', 'DBD', 'DAC', 'ACB', 'CBF', 'BFB', 'FBE', 'BEB', 'EBA', 'BAB', 'ABA', 'BAE', 'AEA', 'EAD', 'ADC', 'DCE', 'CEF', 'EFB', 'FBA', 'BAF', 'FEB', 'EBF', 'BFB', 'FBC', 'BCE', 'CEC', 'ECD', 'CDB', 'BDC', 'DCA', 'CAD', 'ADC', 'CDC', 'DCD', 'CDF', 'FCD', 'CDF', 'DFC', 'FCD', 'CDF', 'FDC', 'DCA', 'CAF', 'AFE', 'EAF', 'AFC', 'FCB', 'CBE', 'EFB', 'FBC', 'BCE', 'CEF', 'EFE', 'EAE', 'AEF', 'EFD', 'FDB', 'DBC', 'BCE', 'EFE', 'FEB', 'EBE', 'BED', 'DAC', 'ACD', 'CDC', 'DCF', 'CFA', 'FAC', 'ACA', 'CAB', 'ABD', 'BDF', 'DFC', 'FCB', 'CBE', 'BED', 'EDC', 'DCF', 'CFC', 'FCD', 'CDF', 'DFA', 'FAE', 'EFA', 'FAC', 'ACD', 'CDF', 'DFB', 'BFC', 'FCA', 'CAB', 'ABF', 'BFA', 'FAE', 'ECB', 'CBF', 'BFB', 'FBF', 'BFC', 'CEC', 'CFA', 'FAC', 'ACA', 'CAB', 'ABE', 'BEF', 'EFB', 'FBD', 'BDC', 'DCB', 'CBC', 'BCE', 'CED', 'EDE', 'DEA', 'BDB', 'DBC', 'BCE', 'CEB', 'BAE', 'AEF', 'EFB', 'FBF', 'BFC', 'CFA', 'FAE', 'AEF', 'EFD', 'FDB', 'DBF', 'BFC', 'FCB', 'CBD', 'BDE', 'DED', 'EDF', 'DFC', 'FCA', 'CAB', 'ABA', 'BAB', 'ABE', 'BED', 'DAD', 'ADE', 'DEF', 'EFD', 'FDE', 'DEC', 'ECE', 'EBC', 'BCA', 'CAE', 'AEC', 'CBF', 'BFB', 'FBF', 'BFC', 'FCA', 'CAE', 'AED', 'EDC', 'DCB', 'CBD', 'BDC', 'DCA', 'CAC', 'ACD', 'CDA', 'DAF', 'AFE', 'FEB', 'EBA', 'BAC', 'ACE', 'CEF', 'EFC', 'FCB', 'BAF', 'AFA', 'FAB', 'ABF', 'BFD', 'ADC', 'DCF', 'CFD', 'DBF', 'BFE', 'FEB', 'EBE', 'BEF', 'EFE', 'FEC', 'CBA', 'BAD', 'ADB', 'EDA', 'DAC', 'ACF', 'CFC', 'FCB', 'CBE', 'ECE', 'CEF', 'EFA', 'AEA', 'EAF', 'FCD', 'CDC', 'DCA', 'CAF', 'FBF', 'BFE', 'EFC', 'FCF', 'CFA', 'FAE', 'AEF', 'EFC', 'FCE', 'CEF', 'EFB', 'FBD', 'BDC', 'DCE', 'CEA', 'EAC', 'ACE', 'CEF', 'EFC', 'FCE', 'CEF', 'EFB', 'FBD', 'BDA', 'DAC', 'ACA', 'CAB', 'ABE', 'EAF', 'AFC', 'FCE', 'CEF', 'EFE', 'FEA', 'EAF', 'AFA', 'FAE', 'AEC', 'CFC', 'FCB', 'CBF', 'BFD', 'FDF', 'DFD', 'FDA', 'DAB', 'BAD', 'ADB', 'DBE', 'EDA', 'DAD', 'DED', 'EDB', 'DBE', 'BEB', 'EBC', 'BCB', 'CBE', 'FAF', 'AFC', 'FCE', 'CEA', 'EAF', 'AFD', 'FDF', 'DFE', 'FEC', 'ECA', 'CAD', 'DBA', 'BAC', 'ACF', 'CFD', 'FDE', 'DEB', 'EBA', 'BAF', 'AFC', 'FCE', 'CEB', 'BEF', 'EFD', 'DBF', 'BFD', 'FDA', 'AEA', 'EAB', 'ABC', 'BCF', 'CFD', 'FDE', 'BEA', 'EAE', 'AEC', 'ECD', 'CDF', 'DFE', 'FEF', 'EFA', 'AFA', 'AFE', 'FED', 'DFA', 'FAC', 'ACE', 'ECD', 'CDC', 'DCD', 'DCE', 'CEB', 'EBA', 'BAC', 'CAD', 'ADF', 'DFB', 'BEC', 'ECE', 'FCD', 'CDF', 'FEA', 'EAF', 'AFC', 'FCF', 'CFA', 'FAB', 'BCD', 'CDE', 'DEF', 'EFB', 'FBD', 'BDB', 'DBC', 'BCB', 'CBF', 'BFB', 'FBE', 'BED', 'EDA', 'ACD', 'CDC', 'DCE', 'CEA', 'ACE', 'CEC', 'ECF', 'CFA', 'FAF', 'AFE', 'FED', 'EDC', 'DCE', 'CED', 'EDB', 'DBD', 'BDB', 'BEA', 'EAE', 'AEA', 'EAD', 'AEA', 'FCA', 'CAD', 'DAD', 'DED', 'EDC', 'DCF', 'CFD', 'FDB', 'CAC', 'ACA', 'CAF', 'AFB', 'FBA', 'ABA', 'EDF', 'DFC', 'FCA', 'CAF', 'AFC', 'FCE', 'CEF', 'EFA', 'FAE', 'AEF', 'EFE', 'FEF', 'FBA', 'ABF', 'BFE', 'FEB', 'EBE', 'BEB', 'EBD', 'BDB', 'DBD', 'BDE', 'EFE', 'FEC', 'ECF', 'FAD', 'ADB', 'BAE', 'AEF', 'EFC', 'CBE', 'BED', 'EDB', 'DBF', 'BFE', 'FEC', 'ECB', 'BEC', 'ECB', 'CBE', 'EBD', 'BDB', 'DBF', 'BFB', 'FBF', 'BFB', 'FBE', 'EFE', 'FEA', 'EAE', 'AEB', 'FDB', 'BFA', 'FAE', 'AEC', 'ECD', 'CDB', 'DBA', 'BAC', 'ACA', 'CAC', 'ACE', 'EAD', 'ADC', 'DCB', 'CBE', 'BED', 'EDA', 'AFC', 'FCF', 'FEF', 'EFD', 'FDB', 'DBC', 'BCD', 'CDB', 'DBA', 'BAF', 'AFC', 'FCD', 'CDB', 'AFD', 'FDB', 'DBD', 'BDB', 'DBA', 'BAB', 'ABD', 'BDB', 'DBF', 'BFA', 'FAE', 'AEC', 'ECF', 'CFC', 'FCB', 'DEF', 'EFE', 'FEA', 'AEB', 'EBF', 'BFD', 'FDA', 'DAF', 'FEB', 'EBA', 'BAF', 'AFE', 'ACB', 'CBA', 'BAF', 'AFA', 'FAC', 'ACE', 'CEC', 'ECD', 'CDF', 'FAD', 'ADE', 'DEF', 'FAC', 'ACB', 'EBA', 'BAB', 'ABD', 'BDB', 'DBC', 'CFA', 'FAD', 'DCF', 'CFC', 'FCF', 'CFB', 'FBD', 'BDC', 'DCB', 'CBE', 'BEF', 'EFA', 'FAE', 'AEF', 'EFB', 'FBF', 'BFE', 'FEA', 'EAE', 'EFE', 'FEA', 'EAE', 'DAC', 'ACB', 'CBE', 'BEB', 'BAF', 'AFE', 'FED', 'DCD', 'CDA', 'DAB', 'ABD', 'DCB', 'CBE', 'BEC', 'ECD', 'CDB', 'DBF', 'FEC', 'ECF', 'CFC', 'FCA', 'CAE', 'AED', 'EDB', 'DBE', 'BEC', 'ECA', 'CAB', 'ABA', 'BAE', 'AED', 'DEC', 'ECD', 'CDE', 'DCD', 'CDA', 'ACE', 'ECB', 'CBD', 'BDA', 'DAF', 'AFA', 'AEF', 'EFD', 'FDC', 'DCB', 'CBE', 'BEF', 'EDE', 'DEC', 'ECE', 'CEC', 'CEF', 'EFA', 'FAD', 'ADA', 'DAD', 'ADC', 'DCD', 'CDB', 'DBF', 'ABF', 'CBC', 'BCA', 'CAB', 'ABA', 'BAB', 'ABA', 'BAD', 'ADE', 'AFE', 'FEA', 'ACB', 'CBD', 'BDE', 'DED', 'EDF', 'DFB', 'FBD', 'DED', 'EDA', 'DAF', 'AFA', 'FAD', 'ADA', 'DAD', 'ADF', 'DFC', 'FCF', 'CFE', 'FEF', 'EFD', 'DED', 'EDE', 'DEF', 'FAF', 'AFA', 'FAC', 'ACF', 'CFA', 'FAB', 'ABE', 'BEF', 'EFA', 'FAC', 'ACD', 'CDA', 'DAB', 'ABE', 'BEA', 'EAC', 'FBD', 'BDC', 'CEB', 'EBC', 'BCD', 'CDB', 'DBC', 'BCA', 'CAC', 'ACB', 'CBE', 'BEA', 'EAC', 'ACD', 'CDA', 'ABD', 'CFB', 'FBA', 'BAD', 'ADE', 'DEA', 'EAD', 'ADA', 'DAF', 'AFC', 'FCD', 'DAD', 'ADB', 'DBD', 'BDC', 'DCF', 'FCE', 'CED', 'DBC', 'BCB', 'CBF', 'BFC', 'FCE', 'CEF', 'EFB', 'FBA', 'BAB', 'ABD', 'FAD', 'DBC', 'BCE', 'CED', 'EDF', 'FEB', 'EBC', 'BCA', 'CAE', 'AEC', 'BEC', 'ECB', 'CBF', 'BFA', 'FAC', 'ACE', 'CEB', 'EBA', 'FAF', 'AFA', 'FAD', 'ADF', 'DFC', 'FCF', 'CFE', 'FEF', 'EFD', 'DEB', 'EBD', 'BDB', 'DBD', 'BDB', 'DBA', 'BAD', 'DCB', 'CBA', 'BAF', 'AFA', 'AFB', 'FBC', 'BCD', 'CDC', 'CDA', 'DAD', 'DCA', 'CAB', 'BCF', 'CFC', 'FCA', 'CAB', 'BAB', 'ABE', 'BEC', 'ECE', 'EAF', 'AFD', 'FDE', 'DEB', 'EBD', 'BDF', 'DFC', 'FCB', 'CBC', 'BCB', 'BAF', 'AFB', 'FBA', 'BAE', 'AEB', 'EBA', 'BAB', 'ABE', 'BEB', 'EBD', 'DEB', 'EBF', 'BFD', 'FDF', 'FAF', 'AFE', 'FED', 'EDA', 'DAE', 'AEB', 'EBC', 'BCB', 'CBF', 'FBE', 'BEB', 'DBF', 'BFC', 'CEA', 'EAE', 'AED', 'EDC', 'DCD', 'CDC', 'DCD', 'CDF', 'DFB', 'FBF', 'BFA', 'FAB', 'BDA', 'DAC', 'ACA', 'CAF', 'AFB', 'BEB', 'EBC', 'BCD', 'CDC', 'DCF', 'DAC', 'ACB', 'CBD', 'BDF', 'FEA', 'EAE', 'AEF', 'EFA', 'FAD', 'ADA', 'DAD', 'ADF', 'DFA', 'FAD', 'ADE', 'DEC', 'ECB', 'BAD', 'ADC', 'CAC', 'ACA', 'CAB', 'ABE', 'BED', 'EDE', 'DED', 'DFB', 'BAC', 'ACE', 'EDF', 'DFC', 'FCA', 'CAE', 'AEA', 'EAE', 'AEC', 'CEC', 'ECB', 'CBC', 'BCF', 'CFA', 'FAE', 'AEB', 'EBA', 'ABF', 'BFA', 'AFE', 'EDC', 'DCA', 'CAC', 'ACD', 'CDA', 'DAB', 'ABC', 'CEF', 'EFC', 'FCB', 'CBF', 'CFB', 'FBC', 'BCE', 'CEB', 'EBC', 'BCE', 'EFB', 'FBF', 'BFC', 'FCF', 'CFC', 'FCB', 'CBA', 'BAD', 'ADE', 'DEB', 'EBA', 'BAE', 'ECA', 'CAE', 'EDC', 'CFC', 'FCA', 'ADA', 'DAB', 'BED', 'EDE', 'DEC', 'ECF', 'CFC', 'FCF', 'CFA', 'AEA', 'EAD', 'DFD', 'FDC', 'DCB', 'CBC', 'BCA', 'CAC', 'ACE', 'CEC', 'ECF', 'CFD', 'FDC', 'DCA', 'CAD', 'ADB', 'DBA', 'BAD', 'ADC', 'DCD', 'CDB', 'DBF', 'BFA', 'ACE', 'CEB', 'EBA', 'BAE', 'EBC', 'BCB', 'CBD', 'DFE', 'FEF', 'EFC', 'FCA', 'CAE', 'AEC', 'ECD', 'CDF', 'EAF', 'AFB', 'FBE', 'BEA', 'EAB', 'ABE', 'BEF', 'EFC', 'CAB', 'ABF', 'BFE', 'FED', 'EDC', 'DCA', 'CAF', 'AFE', 'FEB', 'EBC', 'BCF', 'CFA', 'FAC', 'ACB', 'BCE', 'CEF', 'EFE', 'FED', 'EDF', 'CBA', 'BAC', 'ACE', 'CEA', 'EAD', 'ADC', 'DCF', 'CFA', 'FAC', 'CBE', 'EBE', 'BEF', 'EFE', 'FEC', 'ECF', 'CFB', 'BEF', 'EFB', 'FBF', 'BFB', 'FBF', 'BFD', 'DBD', 'DFC', 'FCF', 'CFB', 'FBF', 'BFE', 'EDC', 'DCD', 'DFE', 'FEF', 'EFA', 'FAF', 'AFB', 'FBF', 'BFC', 'ACA', 'CAD', 'ADA', 'DAE', 'AEC', 'ECB', 'BFD', 'FDB', 'DBD', 'BDF', 'DFC', 'FCF', 'CFB', 'FBE', 'BEB', 'BCF', 'CFB', 'BAE', 'AEC', 'ECE', 'CEF', 'EFE', 'FEF', 'EFB', 'FBC', 'CFE', 'EFC', 'CAD', 'ADB', 'BCB', 'CBD', 'BDE', 'DEF', 'EFC', 'FCA', 'CAB', 'ABA', 'BAC', 'ACE', 'CEC', 'ECE', 'CED', 'EDE', 'DEC', 'ECD', 'CDA', 'DAD', 'ADA', 'DAF', 'AFD', 'DBC', 'BCE', 'CEC', 'ECD', 'CDC', 'DCE', 'CEA', 'EAB', 'ABA', 'BAE', 'AED', 'DAD', 'ADB', 'DBF', 'BFC', 'FCD', 'CDA', 'DAD', 'ADC', 'DCF', 'CFC', 'FCE', 'CEF', 'EFE', 'FEB', 'EBA', 'BAE', 'AEF', 'EFA', 'FAE', 'AEC', 'FDA', 'DAD', 'ADE', 'DED', 'EDE', 'DEA', 'EAF', 'AFC', 'FCB', 'CBA', 'BAC', 'ACB', 'BCF', 'CFB', 'FBD', 'BDF', 'FAF', 'AFD', 'DCF', 'CFB', 'FBD', 'BDA', 'DAF', 'FBD', 'BDE', 'DEB', 'EBC', 'BCD', 'CDC', 'CFD', 'FDE', 'DEA', 'EAC', 'ACD', 'CDE', 'DED', 'EDF', 'EBE', 'BED', 'DAF', 'AFD', 'FDE', 'DEC', 'ECA', 'ACF', 'FAF', 'AFE', 'FED', 'EDB', 'DBA', 'BAF', 'AFD', 'FDB', 'DBD', 'BDC', 'DCE', 'CEB', 'EBE', 'BEB', 'EBF', 'BFB', 'CBC', 'BCE', 'CEA', 'EAB', 'ABC', 'BCB', 'CBE', 'EBA', 'BAE', 'AEA', 'EAF', 'AFB', 'FBD', 'BDB', 'DBA', 'BAD', 'ADB', 'DBA', 'FCA', 'CAF', 'AFC', 'FCE', 'EFE', 'EFE', 'EDC', 'DCA', 'CAD', 'ADC', 'DCA', 'DFB', 'FBA', 'ACE', 'CEB', 'EBE', 'BEA', 'EAE', 'AEF', 'EFA', 'FAC', 'ACE', 'CEF', 'EFD', 'FDC', 'DCD', 'CDB', 'BFB', 'FBF', 'BFD', 'FDF', 'DFB', 'FBF', 'BFB', 'FBD', 'BDF', 'DFD', 'FDB', 'DBD', 'BDA', 'DAB', 'ABD', 'BDF', 'DFE', 'FEC', 'ECF', 'CFD', 'FDC', 'DCF', 'CFD', 'FDC', 'DCE', 'CEF', 'FAC', 'ACF', 'CFD', 'FDA', 'DAF', 'FDF', 'DFC', 'FCE', 'CEA', 'EAB', 'ABA', 'BAD', 'ADB', 'DBE', 'BEB', 'EBD', 'BDB', 'BAD', 'ADF', 'DFC', 'FCD', 'CDC', 'CFC', 'FCB', 'CBA', 'BAD', 'DCB', 'BFB', 'FBD', 'BDA', 'DAD', 'ADE', 'EFB', 'BEA', 'EAC', 'ACA', 'CAD', 'ADE', 'DEB', 'BAD', 'ADE', 'DEF', 'EFE', 'FEF', 'EFE', 'EDB', 'DBC', 'CFA', 'FAF', 'AFE', 'FEC', 'ECA', 'CAE', 'AED', 'EDB', 'BAC', 'ACE', 'CEB', 'EBC', 'BCA', 'CAC', 'ACE', 'CEA', 'EAB', 'ABA', 'BAC', 'ACE', 'CEA', 'EAC', 'CDF', 'DFA', 'CED', 'EDE', 'DED', 'DEC', 'ECE', 'CED', 'EDA', 'DAF', 'AFB', 'FBF', 'BFD', 'FDC', 'DCD', 'DEB', 'EBA', 'BAC', 'CEB', 'EBE', 'BEB', 'EBD', 'DAB', 'ABA', 'BAC', 'ACD', 'CDE', 'EDB', 'BCD', 'CDC', 'DCF', 'CFA', 'FAC', 'ACD', 'CDC', 'DCF', 'CFA', 'FAC', 'ACF', 'FAE', 'AED', 'EDB', 'DBC', 'BCA', 'CAC', 'ACA', 'CAC', 'ACB', 'BED', 'EDB', 'DBF', 'FDB', 'DBE', 'BED', 'EDB', 'DBD', 'BDF', 'DFC', 'FCD', 'CDE', 'DEF', 'EFB', 'BEB', 'EBE', 'BEC', 'ECF', 'CFE', 'FEB', 'EBA', 'BAD', 'ADB', 'CEB', 'BEC', 'ECE', 'EFA', 'FAD', 'ADA', 'DAF', 'AFB', 'BED', 'EDB', 'DBD', 'BDF', 'DFB', 'FBD', 'BDA', 'DAE', 'AEB', 'BEC', 'ECE', 'CED', 'EDF', 'DFE', 'FED', 'EDA', 'DAB', 'ABE', 'BEC', 'ECD', 'CDF', 'DFE', 'EDA', 'DAF', 'AFE', 'EAB', 'ABA', 'BAB', 'ABD', 'BDA', 'DAB', 'ABC', 'BCE', 'CEF', 'EFA', 'FAE', 'AEB', 'EBE', 'BEB', 'BCD', 'DAF', 'AFB', 'FBC', 'BCA', 'CAC', 'ACA', 'CAC', 'ACF', 'CFB', 'FBF', 'BFD', 'FDF', 'DFA', 'FAC', 'ACA', 'CAB', 'ABE', 'BEF', 'EFB', 'FBE', 'EAD', 'DCB', 'CBA', 'BAC', 'ACE', 'EDE', 'EBA', 'BAB', 'ABA', 'BAB', 'ABF', 'BFA', 'FAC', 'ACE', 'CEF', 'EFA', 'FAD', 'ADE', 'DED', 'EDA', 'DAB', 'ABA', 'ADC', 'DCE', 'CED', 'EDF', 'FDF', 'DFD', 'FDB', 'BDB', 'DBF', 'FDF', 'DFD', 'FDC', 'DCE', 'CEF', 'EFB', 'FBC', 'BCE', 'CEB', 'EBD', 'BDE', 'DEA', 'EAF', 'AFD', 'FDA', 'DAB', 'ABC', 'CDB', 'FAD', 'ADE', 'DEB', 'EBC', 'BCA', 'CAB', 'ABC', 'BCE', 'CEC', 'ECD', 'CDB', 'DBF', 'BFB', 'FBC', 'CEB', 'EBC', 'BCE', 'CEB', 'EBC', 'CEA', 'AFB', 'FBF', 'BFA', 'FAB', 'ABA', 'ACB', 'CBE', 'BEA', 'EAD', 'ADF', 'DFA', 'FAC', 'ACD', 'CDC', 'DCF', 'CFC', 'FAD', 'DBA', 'BAD', 'ADF', 'DFB', 'FBC', 'CEB', 'EBC', 'BCA', 'CAB', 'ABD', 'DAB', 'ABA', 'BAD', 'ADF', 'DFB', 'FBC', 'BCB', 'CBA', 'BAE', 'EFE', 'FEA', 'EAE', 'AEA', 'EAF', 'AFB', 'FBE', 'BEB', 'EBC', 'CDF', 'DFE', 'FED', 'EDE', 'DEA', 'EAC', 'ACE', 'CEC', 'ECA', 'CAC', 'ACD', 'CDC', 'DCE', 'CEF', 'EFC', 'FCB', 'CBC', 'BCF', 'FED', 'EDC', 'DCD', 'CDE', 'DEB', 'EBC', 'BCA', 'CAE', 'AEA', 'ADC', 'DCF', 'CFE', 'FEA', 'EAE', 'AEA', 'EAB', 'ABF', 'FDA', 'DAF', 'FCF', 'FDF', 'DFD', 'FDC', 'DCE', 'CEB', 'EBF', 'BFA', 'FAD', 'DFD', 'FDA', 'ABD', 'BDA', 'DAB', 'ABF', 'BFA', 'FAD', 'ADE', 'DED', 'EDA', 'DAF', 'FEB', 'EBD', 'BDE', 'DEC', 'CEC', 'CAE', 'AEA', 'EAE', 'AEC', 'ECB', 'CBC', 'BCB', 'CBA', 'AFA', 'FAE', 'AED', 'EDC', 'DCB', 'CBF', 'BFE', 'FEF', 'EFB', 'BDE', 'DEF', 'EFB', 'FBC', 'BCA', 'CAC', 'ACF', 'CFC', 'CFE', 'FEA', 'EAE', 'AEC', 'ECB', 'BFC', 'FCF', 'CFC', 'FCA', 'CAB', 'ABC', 'BCD', 'CDC', 'CED', 'EDB', 'DBC', 'BCA', 'CAE', 'AEA', 'EAC', 'ACB', 'CBE', 'BEF', 'EFB', 'FBF', 'FDC', 'CED', 'EDB', 'DBA', 'BAF', 'AFB', 'FBE', 'BEA', 'EAF', 'AFE', 'EDF', 'DFE', 'FEF', 'EFB', 'BCE', 'CEF', 'EFC', 'ADB', 'BFA', 'FAE', 'AEC', 'ECE', 'CEF', 'EFB', 'FBA', 'ABC', 'BCB', 'CBC', 'BCE', 'CEB', 'EBA', 'BAD', 'ADB', 'DBD', 'BDA', 'DAD', 'ADE', 'DEC', 'ECA', 'CAC', 'ACE', 'CEF', 'EFA', 'FAB', 'BDF', 'FCE', 'CEF', 'FCE', 'CEF', 'FEC', 'ECF', 'CFE', 'FEC', 'CAB', 'ABC', 'BCB', 'CBE', 'BEC', 'ECE', 'CEA', 'EAC', 'ACB', 'CBC', 'BCD', 'CDF', 'DFC', 'FCF', 'CFE', 'FEA', 'EAC', 'ACB', 'CBC', 'BCE', 'CEB', 'BCD', 'CDC', 'DCE', 'CED', 'EDA', 'DAC', 'CAC', 'ACB', 'ABC', 'BCB', 'CBE', 'BED', 'EDA', 'DAD', 'ADE', 'DEB', 'EBE', 'BEB', 'EBD', 'DFE', 'FEA', 'ADA', 'DAC', 'ACE', 'DAD', 'AFC', 'FCA', 'CAC', 'ACA', 'CAE', 'AEB', 'EBF', 'BFD', 'FDA', 'DAE', 'AED', 'EDA', 'DAE', 'AEC', 'CAD', 'ADE', 'DED', 'EDF', 'DFC', 'FCE', 'EBE', 'BEB', 'EBD', 'BDE', 'DEC', 'ECB', 'CBE', 'BED', 'EDA', 'DAE', 'AEC', 'ECB', 'CBA', 'BAE', 'AEC', 'CDE', 'DEC', 'ECF', 'EBC', 'CAD', 'ADB', 'BDE', 'DEA', 'EAE', 'EAD', 'ADE', 'DED', 'DEC', 'ECA', 'CAB', 'ABD', 'BDB', 'DBA', 'BAB', 'ABF', 'BFD', 'FDB', 'DBF', 'CDA', 'DAD', 'ADC', 'DFC', 'CDF', 'DFA', 'FAF', 'AFA', 'FAE', 'AEF', 'FDC', 'DCA', 'CAC', 'CDE', 'DEA', 'EAD', 'ADF', 'DFD', 'FDF', 'DFA', 'FAF', 'AFE', 'FEC', 'ECE', 'CEB', 'BDA', 'DAD', 'ADC', 'DCA', 'CAD', 'ADE', 'DEF', 'EFC', 'CBE', 'BEF', 'EFC', 'CFC', 'FCE', 'CEA', 'ACA', 'CAF', 'AFB', 'FBD', 'DCE', 'CEF', 'FAE', 'AEC', 'ECF', 'CFE', 'FEB', 'EBA', 'BAB', 'BDE', 'DEF', 'EFB', 'FBD', 'BDA', 'DAE', 'EFD', 'FDA', 'DAE', 'AEA', 'EAE', 'AEF', 'EFD', 'DFA', 'ACF', 'CFA', 'AEC', 'ECE', 'CEA', 'CDC', 'CDF', 'DFA', 'FAB', 'ABE', 'BEF', 'EFC', 'FCA', 'CAB', 'ABC', 'BCA', 'CAF', 'AFB', 'FBE', 'BEB', 'EBF', 'BFE', 'FEB', 'EBD', 'BDB', 'DBD', 'BDA', 'DAD', 'ADE', 'DEC', 'ECF', 'CFB', 'FBF', 'ADC', 'DCA', 'CAB', 'ECB', 'CBF', 'DBC', 'BCD', 'CDE', 'DED', 'EDC', 'DCE', 'CEC', 'ECA', 'CAF', 'AFC', 'FCF', 'CFD', 'FDC', 'DCB', 'CBD', 'BDC', 'DCF', 'CFC', 'FCB', 'BED', 'EDC', 'DCE', 'CED', 'DEC', 'ECD', 'DCE', 'EAF', 'AFB', 'FBF', 'BFB', 'FBD', 'BDB', 'DBF', 'BFC', 'FCE', 'EBD', 'BDB', 'BDB', 'DBE', 'BEA', 'EAC', 'ACF', 'CFA', 'FAC', 'ACA', 'CAF', 'AFC', 'FCD', 'CDA', 'DAD', 'ADF', 'DFA', 'FAB', 'ABC', 'BCF', 'CFE', 'FED', 'EDE', 'EBF', 'BFB', 'FBF', 'BFE', 'EAF', 'AFE', 'FEB', 'EBD', 'BDC', 'DCB', 'CBE', 'BEB', 'EBE', 'BEB', 'EBF', 'BFD', 'FDB', 'BAD', 'ADF', 'DFA', 'FAB', 'ABE', 'BEB', 'EBA', 'BAC', 'ACE', 'EDF', 'DFB', 'FBC', 'CEF', 'EFA', 'FAC', 'ACD', 'CDA', 'DAD', 'ADC', 'DCE', 'CEA', 'EAD', 'DAC', 'ACA', 'CAD', 'ADB', 'DBF', 'BFB', 'FBF', 'BFD', 'FDC', 'DCE', 'EFB', 'FBF', 'FBA', 'BAE', 'AEA', 'EAE', 'AEA', 'EAE', 'ECF', 'CFE', 'FEF', 'EFE', 'FEA', 'EAF', 'AFD', 'FDC', 'DCA', 'CAD', 'ADA', 'DAE', 'AEB', 'BDB', 'DBA', 'BAD', 'ADA', 'DAC', 'ACF', 'CFB', 'FBE', 'EDE', 'DEC', 'ECA', 'CAB', 'ABC', 'BCA', 'DEA', 'EAC', 'ACE', 'EDF', 'DFE', 'FEC', 'CDC', 'DCA', 'CAE', 'AEF', 'EFA', 'FAE', 'AED', 'DFC', 'FCB', 'CBA', 'BAD', 'ADB', 'DBF', 'BFB', 'FBA', 'BAB', 'ABC', 'BCD', 'CDA', 'DAD', 'ADB', 'DBE', 'BEB', 'BCF', 'CFE', 'FEC', 'ECE', 'CEB', 'EBE', 'BED', 'EDE', 'DED', 'EDE', 'FDC', 'CAE', 'ECE', 'CED', 'DFC', 'CFD', 'FDE', 'DED', 'EDF', 'DFE', 'EBA', 'BAF', 'AFA', 'FAB', 'ABC', 'BCA', 'CAF', 'AFC', 'CDE', 'DEC', 'ECB', 'CBC', 'BCA', 'CAF', 'AFB', 'FBA', 'BAF', 'AFD', 'FDE', 'DEF', 'EFD', 'FDE', 'DEF', 'EFE', 'FEF', 'FCF', 'EFC', 'FCE', 'CEF', 'EFA', 'FAB', 'ABD', 'BDA', 'DAB', 'ABE', 'BEB', 'EBD', 'BDB', 'DBE', 'BEF', 'EFC', 'FCD', 'DBF', 'BFC', 'CBE', 'BEC', 'ECD', 'CDC', 'DCF', 'CFA', 'FAC', 'CEA', 'EAE', 'EFE', 'FEA', 'EAB', 'ABF', 'BFE', 'FEF', 'EFA', 'FAE', 'AED', 'EDE', 'DEA', 'EAE', 'AEA', 'EAE', 'ECD', 'CDC', 'DCF', 'CFC', 'FCD', 'CDC', 'DCD', 'CDC', 'DCB', 'CBD', 'BDE', 'DEB', 'EBA', 'BAD', 'ADC', 'CED', 'EDE', 'FEB', 'EBE', 'BEC', 'ECA', 'CAD', 'ADE', 'DEA', 'ABF', 'BFA', 'FAE', 'AEC', 'ECA', 'CAB', 'ABF', 'BFD', 'FDB', 'DBA', 'BAC', 'ACB', 'CBF', 'BFC', 'FCA', 'CAD', 'ADC', 'DCB', 'CBD', 'BDE', 'DEC', 'ECB', 'CBE', 'BEF', 'EFC', 'CAF', 'AFB', 'FBE', 'BEB', 'EBF', 'BFC', 'CBF', 'BFC', 'FCE', 'CED', 'EDF', 'DFE', 'DCF', 'CFB', 'FBF', 'FAB', 'ABE', 'BEF', 'EFB', 'FBD', 'BDB', 'DBD', 'BDC', 'DCB', 'CBA', 'BAD', 'ACB', 'CBF', 'BFE', 'FED', 'EDE', 'DEF', 'EFE', 'EDC', 'DCD', 'CDF', 'FAE', 'EDC', 'DCF', 'CFB', 'FBC', 'CED', 'DED', 'EDF', 'DFC', 'FCB', 'DAF', 'AFC', 'CBF', 'BFA', 'FAE', 'EDC', 'DCB', 'BAF', 'FAB', 'ABD', 'BDA', 'DAE', 'AEB', 'EBF', 'BFE', 'FEB', 'ADC', 'DCB', 'CBD', 'BDE', 'DEC', 'ECD', 'CDA', 'DAD', 'DBE', 'BEB', 'EBF', 'BFC', 'FCD', 'DAF', 'FED', 'EDF', 'DFB', 'BDC', 'DCB', 'CBE', 'BEB', 'EBC', 'CDF', 'FEA', 'EAC', 'ACF', 'CFE', 'FEC', 'ECA', 'CAB', 'ABE', 'BEF', 'EFE', 'FEF', 'EFB', 'FBC', 'BCE', 'CEB', 'EBE', 'BED', 'EDC', 'DCF', 'CFA', 'FAF', 'AFD', 'FDF', 'DFD', 'FDA', 'AEF', 'EFE', 'FEB', 'BFB', 'FBF', 'BFB', 'BCF', 'BCF', 'CFB', 'FBA', 'ADE', 'DEC', 'ECD', 'CDF', 'FEB', 'BDB', 'FDB', 'DBA', 'BAF', 'ECE', 'CEF', 'EFA', 'FAF', 'FAB', 'ABF', 'BFB', 'FBC', 'BCD', 'EFE', 'FED', 'EDF', 'DFA', 'FAB', 'DBA', 'BAC', 'ACD', 'CDC', 'DCD', 'DCA', 'CAB', 'BCF', 'CFD', 'FDF', 'DAC', 'ACF', 'CFB', 'FBA', 'BAF', 'ECB', 'EBE', 'BEB', 'EBA', 'BAD', 'ADC', 'DCD', 'CDC', 'DCB', 'CBE', 'BEA', 'EAC', 'ACE', 'CEA', 'EAC', 'EAD', 'ADE', 'DEF', 'EFD', 'DCD', 'CDE', 'DEB', 'BEA', 'EAF', 'AFA', 'FAE', 'AED', 'EDF', 'FCB', 'CBF', 'BFD', 'FDB', 'DBE', 'BEA', 'EAC', 'ACA', 'CAF', 'AFA', 'FAE', 'ECF', 'FCE', 'EAD', 'ADC', 'DCE', 'CEC', 'ECA', 'CAB', 'ABD', 'BDF', 'DFA', 'FAD', 'ADC', 'DCB', 'BCE', 'CEC', 'CAE', 'AEF', 'FBA', 'BAF', 'AFB', 'FBF', 'BFC', 'FCE', 'CEB', 'EBE', 'BEA', 'EAE', 'AEB', 'EBA', 'BAB', 'ABE', 'BED', 'EDB', 'DBC', 'CFE', 'EDB', 'DBE', 'BEB', 'EBD', 'BDE', 'DED', 'EDC', 'DCF', 'FDB', 'DBE', 'EDA', 'DAB', 'ABC', 'CFB', 'BCA', 'CAF', 'AFA', 'FAD', 'ADF', 'DFC', 'FCA', 'FDE', 'DEB', 'EBE', 'BEA', 'EAB', 'ABD', 'BDF', 'DFD', 'FDB', 'DBD', 'BDC', 'CAC', 'ACE', 'CEF', 'EFD', 'DCA', 'CAF', 'AFC', 'FCF', 'CFB', 'FBF', 'BFA', 'FAD', 'ADC', 'DCF', 'CFA', 'FAD', 'ADB', 'DBF', 'BFA', 'FAD', 'ADB', 'BDB', 'DBE', 'BEC', 'ECE', 'CED', 'EDA', 'AED', 'EDC', 'DCE', 'EBC', 'BCE', 'CED', 'AFC', 'FCE', 'CEF', 'EFE', 'FEB', 'EBE', 'BEB', 'EBE', 'EBF', 'BFB', 'BFB', 'FBE', 'BED', 'EDF', 'FEF', 'FAF', 'AFE', 'FEA', 'EAB', 'ABA', 'BAB', 'ABA', 'BAF', 'AFE', 'FEB', 'EBF', 'BFB', 'FBA', 'BAD', 'ADB', 'DBD', 'BDC', 'DCA', 'CAE', 'EAC', 'ACA', 'FEA', 'EAB', 'ABF', 'BFE', 'EDC', 'DCB', 'CBF', 'BFC', 'FCF', 'CFC', 'FCD', 'CDB', 'DBF', 'BFA', 'ACA', 'CAB', 'ABC', 'BCE', 'CED', 'EDB', 'DBC', 'BCD', 'CDE', 'DED', 'EDA', 'DAB', 'ABC', 'BCD', 'CDC', 'DCE', 'CEF', 'EFE', 'EFA', 'ABE', 'BEA', 'EAB', 'ABF', 'BFD', 'FDA', 'DAE', 'AEC', 'CBC', 'BCD', 'CDF', 'DFE', 'EFB', 'BAB', 'ABD', 'BDB', 'BFD', 'DED', 'EDC', 'DCF', 'CFE', 'FEA', 'EAD', 'ADC', 'DCF', 'CFE', 'FEF', 'DFD', 'FDA', 'DAF', 'AFA', 'FAC', 'ACD', 'CDB', 'DBD', 'BDE', 'DEA', 'EAC', 'ACA', 'AED', 'DAF', 'AFD', 'FDE', 'DEB', 'BAC', 'ACD', 'CDB', 'DBD', 'BDA', 'DAE', 'AED', 'EDA', 'DAD', 'ADF', 'FCD', 'CDE', 'DED', 'EDC', 'DCA', 'CAC', 'ACF', 'CFE', 'FEF', 'EFA', 'FAF', 'AFD', 'FDC', 'DCF', 'CFC', 'CFB', 'FBD', 'BDA', 'DAF', 'AFA', 'FAD', 'ADE', 'DED', 'ACA', 'CAF', 'FAC', 'ACB', 'CBF', 'BFD', 'FDB', 'DBF', 'BFD', 'DAB', 'ABA', 'BAE', 'EDF', 'DFB', 'BDE', 'DEB', 'EBF', 'BFE', 'FED', 'EDB', 'DBA', 'BAF', 'AFC', 'FCE', 'CED', 'EDE', 'DEB', 'EBE', 'BEF', 'EFA', 'FAC', 'ACD', 'DAE', 'AED', 'EDA', 'DAC', 'CFB', 'BDB', 'DBD', 'BDE', 'BDE', 'DEF', 'EFD', 'FDC', 'DCB', 'CBA', 'BAE', 'EAD', 'ADA', 'DAD', 'ADA', 'DAD', 'ADC', 'DCF', 'CFE', 'FEB', 'EBA', 'BAB', 'ABD', 'BDA', 'DAE', 'AEF', 'EFD', 'FDA', 'DAD', 'ADC', 'BCE', 'CED', 'EDA', 'DAC', 'ACA', 'CAF', 'AFC', 'FCB', 'CBE', 'BEB', 'EBC', 'BCD', 'CDA', 'ACF', 'CFA', 'FAE', 'AEA', 'EAC', 'CFA', 'FAD', 'ADE', 'DEB', 'EBC', 'CFC', 'FCA', 'CAD', 'ADB', 'DBF', 'BFA', 'FAF', 'AFA', 'FAD', 'ADC', 'DCA', 'CAF', 'AFD', 'FDB', 'DBA', 'ABA', 'BAE', 'AEB', 'EBA', 'BAD', 'ADB', 'DBA', 'BAC', 'ACE', 'EDC', 'DCA', 'AFD', 'FDE', 'EBD', 'BDA', 'DAF', 'AFD', 'FDA', 'DAD', 'ADE', 'DEA', 'EAB', 'ABC', 'BCD', 'DED', 'EDE', 'DEA', 'EAC', 'ACA', 'EAB', 'ABF', 'BFC', 'CBF', 'FBF', 'BFA', 'FAE', 'AEA', 'EAB', 'ABD', 'BDF', 'DFB', 'FBD', 'BDE', 'DEA', 'AFB', 'BDB', 'BDA', 'DAB', 'ABA', 'BAC', 'ACB', 'CBF', 'BFE', 'FEB', 'BAF', 'FAD', 'ADA', 'DAF', 'AFE', 'BAB', 'ABA', 'BAF', 'FCE', 'EDE', 'DEC', 'ECD', 'CDE', 'DEF', 'EFC', 'FCE', 'EDF', 'DFE', 'FEF', 'CAF', 'AFB', 'FBA', 'BAE', 'EDA', 'ACF', 'CFD', 'FDB', 'DBE', 'BEA', 'EAB', 'ABA', 'EDC', 'DCD', 'DBE', 'BED', 'EDC', 'DCD', 'CDA', 'DAB', 'ABC', 'BCE', 'CED', 'EDB', 'DBE', 'BED', 'EDF', 'DFA', 'FAF', 'AFC', 'FCA', 'CAD', 'DBC', 'FDF', 'DFE', 'EDA', 'DAC', 'ACE', 'CEF', 'EFA', 'FAC', 'ACA', 'CAC', 'ACD', 'DCD', 'FAE', 'AED', 'EDB', 'BAE', 'EDB', 'DBC', 'CBA', 'BAB', 'ABD', 'BDB', 'DBE', 'BEA', 'ACD', 'CDF', 'DFD', 'FDB', 'BED', 'EDB', 'BAC', 'ACD', 'CDF', 'DFC', 'CEC', 'ECB', 'BCF', 'CFA', 'FAD', 'ADB', 'DBE', 'BEC', 'ECA', 'CAF', 'AFD', 'FDF', 'DFB', 'FBF', 'BFB', 'FBD', 'BDE', 'EBC', 'BCD', 'CDE', 'DEF', 'EFD', 'FDE', 'DEC', 'ECE', 'CEA', 'FCE', 'CEA', 'EAF', 'DCB', 'CBA', 'BAE', 'AED', 'DAB', 'ABD', 'BDA', 'ADF', 'FCE', 'CEA', 'EAC', 'ACD', 'ADB', 'DBD', 'DFA', 'FAB', 'ABE', 'BED', 'EDE', 'DEA', 'EAB', 'ABC', 'BCD', 'CDA', 'DAF', 'AFA', 'FAD', 'ADE', 'DEA', 'EAD', 'ADA', 'DAD', 'DBC', 'BCF', 'CFC', 'FCD', 'CDA', 'DAB', 'ABE', 'BEA', 'EAB', 'ABC', 'BCF', 'CFB', 'FBC', 'BCF', 'FEC', 'ECA', 'CAD', 'ADE', 'EFD', 'FDF', 'DFA', 'FAF', 'FCE', 'CEF', 'EFB', 'FBC', 'BCB', 'CBA', 'BAF', 'AFD', 'FDE', 'DEA', 'EAD', 'ADB', 'DBA', 'BAF', 'FBF', 'BFA', 'FAB', 'ABF', 'FAF', 'AFC', 'FCF', 'CFE', 'FEB', 'EBF', 'BFE', 'ECE', 'CEF', 'FDC', 'DCB', 'BFA', 'ABC', 'BCA', 'AEB', 'EBE', 'BEC', 'ECB', 'CBF', 'BFB', 'FBD', 'DBF', 'BFC', 'FCE', 'CED', 'EDA', 'DAD', 'ADF', 'ACD', 'CDB', 'DBD', 'DEC', 'ECA', 'CAC', 'ABE', 'ECF', 'CFA', 'FAB', 'ABD', 'BDF', 'DFA', 'FAF', 'AFC', 'FCA', 'CAE', 'AEB', 'EBE', 'BEF', 'EFC', 'FCE', 'CEF', 'EFA', 'FAD', 'ADA', 'DAF', 'AFB', 'FBC', 'BCB', 'CBE', 'BEB', 'EBF', 'BFA', 'FAF', 'AFB', 'FBE', 'BEA', 'EAE', 'AEF', 'EFB', 'BFA', 'FAF', 'AFD', 'FDC', 'DCB', 'CBD', 'DCF', 'DEB', 'EBC', 'BCE', 'CEA', 'EAD', 'ADF', 'DFA', 'FAF', 'AFB', 'FBD', 'BDA', 'DAD', 'ADE', 'DEA', 'ADB', 'BDA', 'DAC', 'ACD', 'CDC', 'DCB', 'CBA', 'BAC', 'ACD', 'DAF', 'AFB', 'FBE', 'EBE', 'BEF', 'EFD', 'FDF', 'DFC', 'CDF', 'DFC', 'CAE', 'AEF', 'FDA', 'DAF', 'AFD', 'DBD', 'BDB', 'DBF', 'BDC', 'DCD', 'CDF', 'DFA', 'ACF', 'CFC', 'FCE', 'CED', 'EDE', 'DED', 'EDF', 'FEA', 'EAF', 'AFB', 'FBF', 'BFC', 'FCF', 'CFB', 'BCA', 'CAE', 'AEA', 'EAE', 'AEB', 'EBD', 'BDE', 'DEB', 'EBF', 'BFE', 'FEB', 'EBA', 'BAE', 'AEC', 'ECD', 'CDC', 'DCA', 'CAC', 'ACF', 'CFA', 'FAD', 'ADE', 'DEF', 'FDE', 'DED', 'EDC', 'DCF', 'CFB', 'FBD', 'BDF', 'DFE', 'FED', 'EDE', 'DED', 'DFC', 'FCD', 'CDF', 'DFA', 'FAB', 'BDA', 'DAF', 'AFA', 'FAF', 'AFB', 'FBD', 'DED', 'EDB', 'DBE', 'BEF', 'EFD', 'FDB', 'DBC', 'BCE', 'CEF', 'FAB', 'ABD', 'BDE', 'EFD', 'BCF', 'CFA', 'FAF', 'AFD', 'FDA', 'DAE', 'EAF', 'AFD', 'DEA', 'EAE', 'ECB', 'CBC', 'BCD', 'CDC', 'DCB', 'CBE', 'BEF', 'EFB', 'FBC', 'BCF', 'CFB', 'FBD', 'DEF', 'EFA', 'FAC', 'ACF', 'CFB', 'FBF', 'BFA', 'FAC', 'ACF', 'CFE', 'FEA', 'EAB', 'ABF', 'BFD', 'FDE']\n",
      "6999\n"
     ]
    }
   ],
   "source": [
    "import re\n",
    "f = open('24_8.txt.')\n",
    "s = f.readline()\n",
    "count = 0\n",
    "not_eq = []\n",
    "for i in range(0, len(s)-3):\n",
    "    if s[i] != s[i+1] != s[i+2]:\n",
    "        not_eq.append(s[i]+s[i+1]+s[i+2])\n",
    "        count+=1\n",
    "print(not_eq)\n",
    "print(count)"
   ]
  },
  {
   "cell_type": "markdown",
   "metadata": {},
   "source": [
    "Текстовый файл состоит не более чем из $10^6$ символов X, Y и Z. Определите максимальную длину цепочки вида XYZXYZXYZ... (составленной из фрагментов XYZ, последний фрагмент может быть неполным)."
   ]
  },
  {
   "cell_type": "code",
   "execution_count": 41,
   "metadata": {},
   "outputs": [
    {
     "name": "stdout",
     "output_type": "stream",
     "text": [
      "LDRLDRLDRLDRLDR\n",
      "15\n",
      "Wall time: 175 ms\n"
     ]
    }
   ],
   "source": [
    "%%time\n",
    "import re\n",
    "f = open('24_4_LDRLDR.txt.')\n",
    "ff = f.readline()\n",
    "max_len = 'X'\n",
    "pattern = re.compile(r\"((LDR)+(L|LD)?)\")\n",
    "g = re.findall(pattern, ff)\n",
    "for i in g:\n",
    "    if len(i[0])>len(max_len):\n",
    "        max_len = i[0]\n",
    "print(max_len)\n",
    "print(len(max_len))"
   ]
  },
  {
   "cell_type": "code",
   "execution_count": 42,
   "metadata": {},
   "outputs": [
    {
     "name": "stdout",
     "output_type": "stream",
     "text": [
      "15\n",
      "Wall time: 1.14 s\n"
     ]
    }
   ],
   "source": [
    "%%time\n",
    "f = open('24_4_LDRLDR.txt.')\n",
    "s = f.readline()\n",
    "count = 0\n",
    "count_final = 0\n",
    "i = 0\n",
    "while i < (len(s)):\n",
    "    if s[i:i+3] == \"LDR\":\n",
    "        count += 3\n",
    "        count_final = max(count, count_final)\n",
    "        i+=3\n",
    "    elif s[i:i+2] == \"LD\":\n",
    "        count += 2\n",
    "        count_final = max(count, count_final)\n",
    "        count = 0\n",
    "        i+=2\n",
    "    elif s[i] == \"L\":\n",
    "        count += 1\n",
    "        count_final = max(count, count_final)\n",
    "        count = 0\n",
    "        i+=1\n",
    "    else:\n",
    "        count = 0\n",
    "        i+=1\n",
    "print(count_final)   "
   ]
  },
  {
   "cell_type": "markdown",
   "metadata": {},
   "source": [
    "Задание №1\n",
    "В текстовом файле находится цепочка из символов латинского алфавита A, B, C, D, E. Найдите длину самой длинной подцепочки, состоящей из символов A, B или C (в произвольном порядке)."
   ]
  },
  {
   "cell_type": "markdown",
   "metadata": {},
   "source": [
    "В текстовом файле находится цепочка из символов латинского алфавита A, B, C, D, E, F. Найдите количество цепочек длины 3, удовлетворяющих следующим условиям: \n",
    "\n",
    "1-й символ – один из A, C, E; \n",
    "\n",
    "2-й символ – один из A, D, F, который не совпадает с первым; \n",
    "\n",
    "3-й символ – один из A, B, F, который не совпадает со вторым."
   ]
  },
  {
   "cell_type": "code",
   "execution_count": 95,
   "metadata": {},
   "outputs": [
    {
     "name": "stdout",
     "output_type": "stream",
     "text": [
      "set()\n"
     ]
    }
   ],
   "source": [
    "print(set(l)^set(all_matches))"
   ]
  },
  {
   "cell_type": "code",
   "execution_count": 121,
   "metadata": {},
   "outputs": [
    {
     "name": "stdout",
     "output_type": "stream",
     "text": [
      "798\n",
      "Wall time: 7 ms\n"
     ]
    }
   ],
   "source": [
    "%%time\n",
    "import re\n",
    "f = open('24_7.txt')\n",
    "s = f.readline()\n",
    "pattern = re.compile('[ACE][ADF][ABF]')\n",
    "all_matches = re.findall(pattern, s)\n",
    "final = []\n",
    "for i in all_matches:\n",
    "    if i[0] != i[1] and i[1]!= i[2]:\n",
    "        final.append(i)\n",
    "print(len(final))"
   ]
  },
  {
   "cell_type": "code",
   "execution_count": 119,
   "metadata": {},
   "outputs": [
    {
     "name": "stdout",
     "output_type": "stream",
     "text": [
      "891\n",
      "Wall time: 15 ms\n"
     ]
    }
   ],
   "source": [
    "%%time\n",
    "f = open('24_7.txt')\n",
    "s = f.readline()\n",
    "count = 0\n",
    "for i in range(len(s)-2):\n",
    "    if s[i] in 'ACE' and (s[i+1] in 'ADF' and s[i]!=s[i+1]) and (s[i+2] in 'ABF' and s[i+2]!=s[i+1]):\n",
    "        count +=1\n",
    "    i +=1\n",
    "print(count)"
   ]
  },
  {
   "cell_type": "code",
   "execution_count": null,
   "metadata": {},
   "outputs": [],
   "source": [
    "pattern1 = re.compile(r\"(XYZ)+(X|XY)?\")\n",
    "#pattern2 = re.compile(r\"(?<=XYZ)[X|XY]\")\n",
    "pattern1 = re.compile(r\"(XYZ)+($X|$XY)?\")"
   ]
  },
  {
   "cell_type": "code",
   "execution_count": 27,
   "metadata": {},
   "outputs": [
    {
     "name": "stdout",
     "output_type": "stream",
     "text": [
      "12\n"
     ]
    }
   ],
   "source": [
    "f = open('24_123_XYZXYZ.txt.')\n",
    "s = f.readline()\n",
    "count = 0\n",
    "count_final = 0\n",
    "i = 0\n",
    "while i < (len(s)-3):\n",
    "    if s[i:i+3] == \"XYZ\":\n",
    "        count += 3\n",
    "        count_final = max(count, count_final)\n",
    "        i+=3\n",
    "    else:\n",
    "        count = 0\n",
    "        i+=1\n",
    "print(count_final)       "
   ]
  },
  {
   "cell_type": "code",
   "execution_count": null,
   "metadata": {},
   "outputs": [],
   "source": [
    "f = open('24_123_XYZXYZ.txt.')\n",
    "ff = f.readline()\n",
    "current_len = 0\n",
    "max_len = 0\n",
    "for i in ff:\n",
    "    if i == 'X', i+1 == 'Y', i+2 == Z:\n",
    "        i +=3\n",
    "        current_len += 1\n",
    "        if current_len > max_len:\n",
    "            max_len = current_len\n",
    "    elif i == 'X':\n",
    "        \n",
    "        and i+2 == 'Y') or (i=='X') and current_len !=0:\n",
    "        i+=2\n",
    "        current_len += 1\n",
    "        if current_len > max_len:\n",
    "            max_len = current_len\n",
    "            "
   ]
  },
  {
   "cell_type": "code",
   "execution_count": null,
   "metadata": {},
   "outputs": [],
   "source": [
    "import re\n",
    "f = open('24_123_XYZXYZ.txt.')\n",
    "ff = f.readline()\n"
   ]
  },
  {
   "cell_type": "code",
   "execution_count": 17,
   "metadata": {},
   "outputs": [
    {
     "data": {
      "text/plain": [
       "['', '', '', 'wo', '']"
      ]
     },
     "execution_count": 17,
     "metadata": {},
     "output_type": "execute_result"
    }
   ],
   "source": [
    "sentence = \"Woodman man is claimant that made a woman from toman\"\n",
    "re.findall(r'(wo)*man', sentence)"
   ]
  },
  {
   "cell_type": "code",
   "execution_count": 2,
   "metadata": {},
   "outputs": [],
   "source": [
    "from math import sqrt\n",
    "\n",
    "class Point:\n",
    "    \n",
    "    def __init__(self, x=0, y=0):\n",
    "        self.x = x\n",
    "        self.y = y\n",
    "        \n",
    "    def distance_from_origin(self):\n",
    "        hypot = sqrt(sqrtx**2 + y**2)\n",
    "        return hypot\n",
    "    \n",
    "    def __eq__(self, other):\n",
    "        print(f\"{self.x}={other.x} − {self.x==other.x}\", \n",
    "             f\"{self.y}={other.y} − {self.y==other.y}\", sep=\"\\n\")\n",
    "        return self.x==other.x and self.y==other.y\n",
    "    \n",
    "    def __repr__(self):\n",
    "        return f\"Point x:{self.x}\\nPoint y:{self.y}\""
   ]
  },
  {
   "cell_type": "code",
   "execution_count": 3,
   "metadata": {},
   "outputs": [
    {
     "ename": "ModuleNotFoundError",
     "evalue": "No module named 'Shape'",
     "output_type": "error",
     "traceback": [
      "\u001b[1;31m---------------------------------------------------------------------------\u001b[0m",
      "\u001b[1;31mModuleNotFoundError\u001b[0m                       Traceback (most recent call last)",
      "\u001b[1;32m<ipython-input-3-77e7f5dc7694>\u001b[0m in \u001b[0;36m<module>\u001b[1;34m\u001b[0m\n\u001b[1;32m----> 1\u001b[1;33m \u001b[1;32mimport\u001b[0m \u001b[0mShape\u001b[0m\u001b[1;33m\u001b[0m\u001b[1;33m\u001b[0m\u001b[0m\n\u001b[0m\u001b[0;32m      2\u001b[0m \u001b[0ma\u001b[0m \u001b[1;33m=\u001b[0m \u001b[0mShape\u001b[0m\u001b[1;33m.\u001b[0m\u001b[0mPoint\u001b[0m\u001b[1;33m(\u001b[0m\u001b[1;33m)\u001b[0m\u001b[1;33m\u001b[0m\u001b[1;33m\u001b[0m\u001b[0m\n\u001b[0;32m      3\u001b[0m \u001b[0mrepr\u001b[0m\u001b[1;33m(\u001b[0m\u001b[0ma\u001b[0m\u001b[1;33m)\u001b[0m\u001b[1;33m\u001b[0m\u001b[1;33m\u001b[0m\u001b[0m\n\u001b[0;32m      4\u001b[0m \u001b[0mb\u001b[0m \u001b[1;33m=\u001b[0m \u001b[0mShape\u001b[0m\u001b[1;33m.\u001b[0m\u001b[0mPoint\u001b[0m\u001b[1;33m(\u001b[0m\u001b[1;36m3\u001b[0m\u001b[1;33m,\u001b[0m \u001b[1;36m4\u001b[0m\u001b[1;33m)\u001b[0m\u001b[1;33m\u001b[0m\u001b[1;33m\u001b[0m\u001b[0m\n\u001b[0;32m      5\u001b[0m \u001b[0mstr\u001b[0m\u001b[1;33m(\u001b[0m\u001b[0mb\u001b[0m\u001b[1;33m)\u001b[0m\u001b[1;33m\u001b[0m\u001b[1;33m\u001b[0m\u001b[0m\n",
      "\u001b[1;31mModuleNotFoundError\u001b[0m: No module named 'Shape'"
     ]
    }
   ],
   "source": [
    "import Shape\n",
    "a = Shape.Point()\n",
    "repr(a)\n",
    "b = Shape.Point(3, 4)\n",
    "str(b)\n",
    "b.distance_from_origin()\n",
    "b.x = -19\n",
    "str(b)\n",
    "a == b, a != b "
   ]
  },
  {
   "cell_type": "markdown",
   "metadata": {},
   "source": [
    "# Урок 27 (№24)\n",
    "## Задача 1\n",
    "Текстовый файл состоит не более чем из 10⁶ символов X, Y и Z. Определитемаксимальное количество идущих подряд символов, среди которых каждые два соседних различны.\n",
    "Для выполнения этого задания следует написать программу. Ниже приведён файл, который необходимо обработать с помощью данного алгоритма. "
   ]
  },
  {
   "cell_type": "code",
   "execution_count": 63,
   "metadata": {},
   "outputs": [
    {
     "data": {
      "text/plain": [
       "5"
      ]
     },
     "execution_count": 63,
     "metadata": {},
     "output_type": "execute_result"
    }
   ],
   "source": [
    "class Lesson27:\n",
    "    \n",
    "    def __init__(self):\n",
    "        self.current_len = 1\n",
    "        self.max_len_diff = 1\n",
    "    \n",
    "    def from_string(self, string):\n",
    "\n",
    "        for i in range(0, len(string)-1):\n",
    "            if string[i] != string[i+1]:\n",
    "                current_len += 1\n",
    "                max_len_diff = max(current_len, max_len_diff)\n",
    "            else:\n",
    "                current_len = 1\n",
    "\n",
    "        return max_len_diff\n",
    "    \n",
    "    def from_file(self, string):\n",
    "        \n",
    "        \n",
    "\n",
    "how_many_diff_in_row('Hello_HHHHH_oIoloLLo')\n",
    "\n",
    "if '_name__' == '__main__':\n",
    "    "
   ]
  },
  {
   "cell_type": "code",
   "execution_count": null,
   "metadata": {},
   "outputs": [],
   "source": []
  },
  {
   "cell_type": "markdown",
   "metadata": {},
   "source": [
    "Задача 17"
   ]
  },
  {
   "cell_type": "markdown",
   "metadata": {},
   "source": [
    "Рассматривается множество целых чисел, принадлежащих числовому\n",
    "отрезку [1045; 7886], которые делятся на 3 и не делятся на 7, 11, 19, 23.\n",
    "Найдите количество таких чисел и максимальное из них. В ответе\n",
    "запишите два целых числа: сначала количество, затем максимальное\n",
    "число.\n",
    "Для выполнения этого задания можно написать программу или\n",
    "воспользоваться редактором электронных таблиц.\n",
    "Прикрепи не только краткий ответ, но и код, чтобы куратор мог его\n",
    "проверить"
   ]
  },
  {
   "cell_type": "code",
   "execution_count": 38,
   "metadata": {},
   "outputs": [
    {
     "name": "stdout",
     "output_type": "stream",
     "text": [
      "1613 7884\n"
     ]
    }
   ],
   "source": [
    "not_divide_by = [7, 11, 19, 23]\n",
    "count_of_suitable_numbers = 0\n",
    "max_of_suitable = 0\n",
    "for i in range(1045, 7887):\n",
    "    if i%3==0 and not any(x for x in not_divide_by if i%x==0):\n",
    "            count_of_suitable_numbers+=1\n",
    "            if i > max_of_suitable:\n",
    "                max_of_suitable = i\n",
    "print(count_of_suitable_numbers, max_of_suitable)"
   ]
  },
  {
   "cell_type": "markdown",
   "metadata": {},
   "source": [
    "## Задание №1 (Задание 17)\n",
    "Рассматривается множество целых чисел, принадлежащих числовому отрезку [1016; 7937], которые делятся на 3 и не делятся на 7, 17, 19, 27. Найдите количество таких чисел и максимальное из них. В ответе запишите два целых числа без пробелов и других дополнительных символов: сначала количество, затем максимальное число.\n",
    "\n",
    "Для выполнения этого задания можно написать программу или воспользоваться редактором электронных таблиц.\n",
    "\n",
    "Прикрепи не только краткий ответ, но и код программы файлом в формате .pas, .py, .cpp или .txt , чтобы куратор мог его проверить."
   ]
  },
  {
   "cell_type": "code",
   "execution_count": 39,
   "metadata": {},
   "outputs": [
    {
     "name": "stdout",
     "output_type": "stream",
     "text": [
      "15687935\n"
     ]
    }
   ],
   "source": [
    "not_divide_by = [7, 17, 19, 27]\n",
    "count_of_suitable_numbers = 0\n",
    "max_of_suitable = 0\n",
    "for i in range(1016, 7937):\n",
    "    if i%3==0 and not any(x for x in not_divide_by if i%x==0):\n",
    "            count_of_suitable_numbers+=1\n",
    "            if i > max_of_suitable:\n",
    "                max_of_suitable = i\n",
    "print(count_of_suitable_numbers, max_of_suitable, sep=\"\")"
   ]
  },
  {
   "cell_type": "code",
   "execution_count": 40,
   "metadata": {},
   "outputs": [
    {
     "name": "stdout",
     "output_type": "stream",
     "text": [
      "15687935\n"
     ]
    }
   ],
   "source": [
    "count_of_suitable_numbers = 0\n",
    "max_of_suitable = 0\n",
    "for i in range(1016, 7937):\n",
    "    if i%3==0 and i%7!=0 and i%17!=0 and i%19!=0 and i%27!=0:\n",
    "            count_of_suitable_numbers+=1\n",
    "            if i > max_of_suitable:\n",
    "                max_of_suitable = i\n",
    "print(count_of_suitable_numbers, max_of_suitable, sep=\"\")"
   ]
  },
  {
   "cell_type": "markdown",
   "metadata": {},
   "source": [
    "## Задание №2\n",
    "Рассматривается множество целых чисел, принадлежащих числовому отрезку [5883; 15906], которые делятся на 9 и не делятся на 13, 18, 19, 22. Найдите количество таких чисел и максимальное из них. В ответе запишите два целых числа без пробелов и других дополнительных символов: сначала количество, затем максимальное число.\n",
    "\n",
    "Для выполнения этого задания можно написать программу или воспользоваться редактором электронных таблиц.\n",
    "\n",
    "Прикрепи не только краткий ответ, но и код программы файлом в формате .pas, .py, .cpp или .txt , чтобы куратор мог его проверить."
   ]
  },
  {
   "cell_type": "code",
   "execution_count": 41,
   "metadata": {},
   "outputs": [
    {
     "name": "stdout",
     "output_type": "stream",
     "text": [
      "48715885\n"
     ]
    }
   ],
   "source": [
    "count_of_suitable_numbers = 0\n",
    "max_of_suitable = 0\n",
    "for i in range(5883, 15906):\n",
    "    if i%9==0 and i%13!=0 and i%18!=0 and i%19!=0 and i%22!=0:\n",
    "            count_of_suitable_numbers+=1\n",
    "            if i > max_of_suitable:\n",
    "                max_of_suitable = i\n",
    "print(count_of_suitable_numbers, max_of_suitable, sep=\"\")"
   ]
  },
  {
   "cell_type": "markdown",
   "metadata": {},
   "source": [
    "## Задание №3\n",
    "Рассматривается множество целых чисел, принадлежащих числовому отрезку [1008; 9987], которые делятся на 6 и 4 и не делятся на 11, 20, 22, 29. Найдите количество таких чисел и максимальное из них. В ответе запишите два целых числа без пробелов и других дополнительных символов: сначала количество, затем максимальное число.\n",
    "\n",
    "Для выполнения этого задания можно написать программу или воспользоваться редактором электронных таблиц.\n",
    "\n",
    "Прикрепи не только краткий ответ, но и код программы файлом в формате .pas, .py, .cpp или .txt , чтобы куратор мог его проверить."
   ]
  },
  {
   "cell_type": "code",
   "execution_count": 59,
   "metadata": {},
   "outputs": [
    {
     "data": {
      "text/plain": [
       "10508960"
      ]
     },
     "execution_count": 59,
     "metadata": {},
     "output_type": "execute_result"
    }
   ],
   "source": [
    "class SuitableNumbers:\n",
    "    \n",
    "    def __init__(self, my_range: list, div: list, dont_div: list):\n",
    "        self.range = [i for i in range(my_range[0], my_range[1]+1)]\n",
    "        self.dont_div = dont_div\n",
    "        self.div = div\n",
    "        self.min = 0\n",
    "        self.max = 0\n",
    "  \n",
    "\n",
    "    def counting(self):\n",
    "        for i in self.range:\n",
    "            if not any(x for x in self.div if i%x!=0) and not any(x for x in self.dont_div if i%x==0):\n",
    "                if self.min==0:\n",
    "                    self.min = i\n",
    "                if self.max < i:\n",
    "                    self.max = i\n",
    "        return(int(str(self.min)+str(self.max)))\n",
    "\n",
    "third_question = SuitableNumbers([1045, 8963], [5, 7], [11, 13, 17, 19])\n",
    "third_question.counting()"
   ]
  },
  {
   "cell_type": "code",
   "execution_count": 56,
   "metadata": {},
   "outputs": [
    {
     "name": "stdout",
     "output_type": "stream",
     "text": [
      "15216440\n"
     ]
    }
   ],
   "source": [
    "count_of_suitable_numbers = 0\n",
    "max_of_suitable = 0\n",
    "for i in range(4723, 16555):\n",
    "    if i%5==0 and i%12==0 and i%11!=0 and i%17!=0 and i%19!=0 and i%23!=0:\n",
    "            count_of_suitable_numbers+=1\n",
    "            if i > max_of_suitable:\n",
    "                max_of_suitable = i\n",
    "print(count_of_suitable_numbers, max_of_suitable, sep=\"\")"
   ]
  },
  {
   "cell_type": "code",
   "execution_count": 35,
   "metadata": {},
   "outputs": [
    {
     "data": {
      "text/plain": [
       "False"
      ]
     },
     "execution_count": 35,
     "metadata": {},
     "output_type": "execute_result"
    }
   ],
   "source": [
    "not_divide_by = [7, 11, 19, 23]\n",
    "any(x for x in not_divide_by if x%14==0)"
   ]
  },
  {
   "cell_type": "code",
   "execution_count": 15,
   "metadata": {},
   "outputs": [
    {
     "name": "stdout",
     "output_type": "stream",
     "text": [
      "[('Alice', 100000), ('Carol', 122908)]\n"
     ]
    }
   ],
   "source": [
    "employees = {'Alice' : 100000,\n",
    "             'Bob' : 99817,\n",
    "             'Carol' : 122908,\n",
    "             'Frank' : 88123,\n",
    "             'Eve' : 93121}\n",
    "\n",
    "top_earners = []\n",
    "for key, val in employees.items():\n",
    "    if val >= 100000:\n",
    "        top_earners.append((key,val))\n",
    "print(top_earners)"
   ]
  },
  {
   "cell_type": "code",
   "execution_count": 16,
   "metadata": {},
   "outputs": [
    {
     "name": "stdout",
     "output_type": "stream",
     "text": [
      "[('Alice', 100000), ('Carol', 122908)]\n"
     ]
    }
   ],
   "source": [
    "employees = {'Alice' : 100000,\n",
    "             'Bob' : 99817,\n",
    "             'Carol' : 122908,\n",
    "             'Frank' : 88123,\n",
    "             'Eve' : 93121}\n",
    "\n",
    "top_earners = [(k, v) for k, v in employees.items() if v >= 100000]\n",
    "print(top_earners)"
   ]
  },
  {
   "cell_type": "code",
   "execution_count": 17,
   "metadata": {},
   "outputs": [
    {
     "name": "stdout",
     "output_type": "stream",
     "text": [
      "dict_items([('Alice', 100000), ('Bob', 99817), ('Carol', 122908), ('Frank', 88123), ('Eve', 93121)])\n"
     ]
    }
   ],
   "source": [
    "employees = {'Alice' : 100000,\n",
    "             'Bob' : 99817,\n",
    "             'Carol' : 122908,\n",
    "             'Frank' : 88123,\n",
    "             'Eve' : 93121}\n",
    "print(employees.items())"
   ]
  },
  {
   "cell_type": "code",
   "execution_count": 19,
   "metadata": {},
   "outputs": [
    {
     "name": "stdout",
     "output_type": "stream",
     "text": [
      "['We', 'iterate', 'over', 'all', 'words', 'x', 'and', 'add', 'them', 'to', 'the', 'list', 'if', 'they', 'have', 'more', 'than', 'three', 'character']\n"
     ]
    }
   ],
   "source": [
    "h = \"We iterate over all words x and add them to the list if they \\\n",
    "have more than three character\"\n",
    "k = h.split()\n",
    "print(k)"
   ]
  },
  {
   "cell_type": "code",
   "execution_count": 32,
   "metadata": {},
   "outputs": [
    {
     "name": "stdout",
     "output_type": "stream",
     "text": [
      "['CheapCompany', 'SosoCompany']\n"
     ]
    }
   ],
   "source": [
    "companies = {\n",
    "    'CoolCompany' : {'Alice' : 33, 'Bob' : 28, 'Frank' : 29},\n",
    "    'CheapCompany' : {'Ann' : 4, 'Lee' : 9, 'Chrisi' : 7},\n",
    "    'SosoCompany' : {'Esther' : 38, 'Cole' : 8, 'Paris' : 18}}\n",
    "\n",
    "illegal = [x for x in companies if any(i<9 for i in companies[x].values())]\n",
    "print(illegal)"
   ]
  },
  {
   "cell_type": "code",
   "execution_count": 26,
   "metadata": {},
   "outputs": [
    {
     "data": {
      "text/plain": [
       "'x²/2'"
      ]
     },
     "execution_count": 26,
     "metadata": {},
     "output_type": "execute_result"
    }
   ],
   "source": [
    "function_approximation_at_x_to_0 = {'eˣ': '1+x', 'sin x': 'x', '1-cos²x': 'x²/2'}\n",
    "function_approximation_at_x_to_0['1-cos²x']"
   ]
  },
  {
   "cell_type": "code",
   "execution_count": 4,
   "metadata": {},
   "outputs": [
    {
     "data": {
      "text/plain": [
       "<__main__.Note at 0x6275220>"
      ]
     },
     "execution_count": 4,
     "metadata": {},
     "output_type": "execute_result"
    }
   ],
   "source": [
    "Note('h', 'g')"
   ]
  },
  {
   "cell_type": "code",
   "execution_count": 37,
   "metadata": {},
   "outputs": [
    {
     "data": {
      "text/plain": [
       "True"
      ]
     },
     "execution_count": 37,
     "metadata": {},
     "output_type": "execute_result"
    }
   ],
   "source": [
    "any(x%2==0 for x in range(90, 105))"
   ]
  },
  {
   "cell_type": "code",
   "execution_count": 41,
   "metadata": {},
   "outputs": [
    {
     "data": {
      "text/plain": [
       "True"
      ]
     },
     "execution_count": 41,
     "metadata": {},
     "output_type": "execute_result"
    }
   ],
   "source": [
    "any(x%13==0 for x in range(90, 105))"
   ]
  },
  {
   "cell_type": "code",
   "execution_count": 40,
   "metadata": {},
   "outputs": [
    {
     "name": "stdout",
     "output_type": "stream",
     "text": [
      "[13, 26, 39, 52, 65, 78, 91, 104]\n"
     ]
    }
   ],
   "source": [
    "print([13*i for i in range(1, 9)])"
   ]
  },
  {
   "cell_type": "code",
   "execution_count": null,
   "metadata": {},
   "outputs": [],
   "source": [
    "def easy(s):\n",
    "    inp = s\n",
    "    n = 0\n",
    "    while s + n < 450:\n",
    "        s = s - 5\n",
    "        n = n + 25\n",
    "    return (inp, n)\n",
    "\n",
    "in_out = []\n",
    "for i in range(100, 400, 1):\n",
    "    in_out.append(easy(i))\n",
    "print(in_out)"
   ]
  },
  {
   "cell_type": "code",
   "execution_count": null,
   "metadata": {},
   "outputs": [],
   "source": [
    "наименьшее число, при котором 50 или меньше"
   ]
  },
  {
   "cell_type": "code",
   "execution_count": 253,
   "metadata": {},
   "outputs": [
    {
     "name": "stdout",
     "output_type": "stream",
     "text": [
      "[(-7000, 120), (-6990, 120), (-6980, 120), (-6970, 120), (-6960, 120), (-6950, 120), (-6940, 120), (-6930, 120), (-6920, 120), (-6910, 119), (-6900, 119), (-6890, 119), (-6880, 119), (-6870, 119), (-6860, 119), (-6850, 119), (-6840, 119), (-6830, 119), (-6820, 119), (-6810, 119), (-6800, 119), (-6790, 118), (-6780, 118), (-6770, 118), (-6760, 118), (-6750, 118), (-6740, 118), (-6730, 118), (-6720, 118), (-6710, 118), (-6700, 118), (-6690, 118), (-6680, 118), (-6670, 117), (-6660, 117), (-6650, 117), (-6640, 117), (-6630, 117), (-6620, 117), (-6610, 117), (-6600, 117), (-6590, 117), (-6580, 117), (-6570, 117), (-6560, 116), (-6550, 116), (-6540, 116), (-6530, 116), (-6520, 116), (-6510, 116), (-6500, 116), (-6490, 116), (-6480, 116), (-6470, 116), (-6460, 116), (-6450, 116), (-6440, 115), (-6430, 115), (-6420, 115), (-6410, 115), (-6400, 115), (-6390, 115), (-6380, 115), (-6370, 115), (-6360, 115), (-6350, 115), (-6340, 115), (-6330, 114), (-6320, 114), (-6310, 114), (-6300, 114), (-6290, 114), (-6280, 114), (-6270, 114), (-6260, 114), (-6250, 114), (-6240, 114), (-6230, 114), (-6220, 114), (-6210, 113), (-6200, 113), (-6190, 113), (-6180, 113), (-6170, 113), (-6160, 113), (-6150, 113), (-6140, 113), (-6130, 113), (-6120, 113), (-6110, 113), (-6100, 112), (-6090, 112), (-6080, 112), (-6070, 112), (-6060, 112), (-6050, 112), (-6040, 112), (-6030, 112), (-6020, 112), (-6010, 112)]\n"
     ]
    }
   ],
   "source": [
    "def easy(s):\n",
    "    inp = s\n",
    "    n = 0\n",
    "    while s < 110:\n",
    "        s=s+n\n",
    "        n=n+1\n",
    "    return(inp, n)\n",
    "\n",
    "in_out = []\n",
    "for i in range(-7000, -6000, 10):\n",
    "    in_out.append(easy(i))\n",
    "print(in_out)"
   ]
  },
  {
   "cell_type": "markdown",
   "metadata": {},
   "source": [
    "fkdlfkd"
   ]
  },
  {
   "cell_type": "code",
   "execution_count": 284,
   "metadata": {},
   "outputs": [
    {
     "name": "stdout",
     "output_type": "stream",
     "text": [
      "[(5, 46), (6, 48), (7, 60), (8, 66), (9, 78), (10, 80), (11, 92), (12, 96), (13, 108), (14, 114), (15, 126), (16, 130), (17, 142), (18, 144), (19, 156), (20, 160), (21, 172), (22, 178), (23, 190), (24, 192), (25, 204), (26, 210), (27, 222), (28, 226), (29, 238)]\n"
     ]
    }
   ],
   "source": [
    "def parity(dig: str) -> str:\n",
    "    ones = 0\n",
    "    for i in dig:\n",
    "        if i=='1':\n",
    "            ones+=1\n",
    "    if ones%2==0:\n",
    "        new_dig = dig+str(0)\n",
    "    else:\n",
    "        new_dig = dig+str(1)\n",
    "    return new_dig\n",
    "\n",
    "def algo(n):\n",
    "    first = bin(n)\n",
    "    second = str(first)+str(first)[len(first)-1]\n",
    "    third = parity(second)\n",
    "    fourth = parity(third)\n",
    "    fifth = int(fourth, 2)\n",
    "    return (n, fifth)\n",
    "\n",
    "num_and_result = []\n",
    "for i in range(5, 30):\n",
    "    num_and_result.append(algo(i))\n",
    "\n",
    "print(num_and_result)"
   ]
  },
  {
   "cell_type": "code",
   "execution_count": 290,
   "metadata": {},
   "outputs": [
    {
     "name": "stdout",
     "output_type": "stream",
     "text": [
      "[(30, 120), (31, 126), (32, 130), (33, 132), (34, 136), (35, 142), (36, 144), (37, 150), (38, 154), (39, 156), (40, 160), (41, 166), (42, 170), (43, 172), (44, 178), (45, 180), (46, 184), (47, 190), (48, 192), (49, 198)]\n"
     ]
    }
   ],
   "source": [
    "def parity(dig: str) -> str:\n",
    "    ones = 0\n",
    "    for i in dig:\n",
    "        if i=='1':\n",
    "            ones+=1\n",
    "    if ones%2==0:\n",
    "        new_dig = dig+str(0)\n",
    "    else:\n",
    "        new_dig = dig+str(1)\n",
    "    return new_dig\n",
    "\n",
    "def algo(n):\n",
    "    first = bin(n)\n",
    "    # second = str(first)+str(first)[len(first)-1]\n",
    "    third = parity(first)\n",
    "    fourth = parity(third)\n",
    "    fifth = int(fourth, 2)\n",
    "    return (n, fifth)\n",
    "\n",
    "num_and_result = []\n",
    "for i in range(30, 50):\n",
    "    num_and_result.append(algo(i))\n",
    "\n",
    "print(num_and_result)"
   ]
  },
  {
   "cell_type": "markdown",
   "metadata": {},
   "source": [
    "Everything in Python is an objects: functions, variables and so on. Objects can be written down as a stuff based on the blueprint that called class.\n",
    "\n",
    "For example, in the first row I have created a class called \"FriendlyAI\" that makes objects of FriendlyAI. One of this object is store in variable \"Replika\" and have an attribute 'name'. Argument that I gave to object of FriendlyAi name attribute is \"Mi\". \n",
    "\n",
    "The key purpose of modeling an object OOP is hiding internal realization (this is called encapsulation) ang give user list of some attributes (variables) and methods (functions) with which he can work. Abstraction give that level of details that is most appropriate to a given task. We can add to Replika's class tones of other functions as we want right now but it is better to use this high level of abstraction but just let it collected piece by piece from others independent classes. I had written down an example from second to fourth row."
   ]
  },
  {
   "cell_type": "code",
   "execution_count": 257,
   "metadata": {},
   "outputs": [
    {
     "name": "stdout",
     "output_type": "stream",
     "text": [
      "Hello, my name is Mi\n"
     ]
    }
   ],
   "source": [
    "# this is how class (blueprint) and object based on this class have been created\n",
    "class FriendlyAI:\n",
    "    def __init__(self, name):\n",
    "        self.name = name\n",
    "        print(f\"Hello, my name is {self.name}\")\n",
    "\n",
    "Replika = FriendlyAI(\"Mi\")"
   ]
  },
  {
   "cell_type": "code",
   "execution_count": 269,
   "metadata": {},
   "outputs": [
    {
     "name": "stdout",
     "output_type": "stream",
     "text": [
      "Hello, my name is Mi\n"
     ]
    }
   ],
   "source": [
    "class ComputerVisionRobot:\n",
    "    def __init__(self, pic):\n",
    "        self.pic = pic\n",
    "        \n",
    "    def detect(self):\n",
    "        return(f\"{self.pic} is a picture!\")\n",
    "    \n",
    "class CalculatorRobot:\n",
    "    def __init__(self, first_digit, second_digit):\n",
    "        self.first = first_digit\n",
    "        self.second = second_digit\n",
    "    \n",
    "    def summing(self):\n",
    "        return(self.first+self.second)\n",
    "    \n",
    "    def minus(self):\n",
    "        return(self.first-self.second)\n",
    "    \n",
    "class FriendlyAI:\n",
    "    def __init__(self, name):\n",
    "        self.name = name\n",
    "        print(f\"Hello, my name is {self.name}\")\n",
    "    \n",
    "    def i_will_detect_your_pic(self, pic):\n",
    "        self.type_of_CV = ComputerVisionRobot(pic).detect()\n",
    "        return self.type_of_CV\n",
    "    \n",
    "    def sum_two_num(self, num1, num2):\n",
    "        return f\"{self.name} says that {num1} + {num2} is {CalculatorRobot(num1, num2).summing()}\"\n",
    "    \n",
    "Replika = FriendlyAI(\"Mi\")"
   ]
  },
  {
   "cell_type": "code",
   "execution_count": 270,
   "metadata": {},
   "outputs": [
    {
     "data": {
      "text/plain": [
       "'car is a picture!'"
      ]
     },
     "execution_count": 270,
     "metadata": {},
     "output_type": "execute_result"
    }
   ],
   "source": [
    "Replika.i_will_detect_your_pic('car')"
   ]
  },
  {
   "cell_type": "code",
   "execution_count": 271,
   "metadata": {},
   "outputs": [
    {
     "data": {
      "text/plain": [
       "'Mi says that 5 + 6 is 11'"
      ]
     },
     "execution_count": 271,
     "metadata": {},
     "output_type": "execute_result"
    }
   ],
   "source": [
    "Replika.sum_two_num(5, 6)"
   ]
  },
  {
   "cell_type": "code",
   "execution_count": null,
   "metadata": {},
   "outputs": [],
   "source": []
  }
 ],
 "metadata": {
  "kernelspec": {
   "display_name": "Python 3",
   "language": "python",
   "name": "python3"
  },
  "language_info": {
   "codemirror_mode": {
    "name": "ipython",
    "version": 3
   },
   "file_extension": ".py",
   "mimetype": "text/x-python",
   "name": "python",
   "nbconvert_exporter": "python",
   "pygments_lexer": "ipython3",
   "version": "3.8.1"
  }
 },
 "nbformat": 4,
 "nbformat_minor": 4
}

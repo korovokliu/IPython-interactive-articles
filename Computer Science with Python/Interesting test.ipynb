{
 "cells": [
  {
   "cell_type": "code",
   "execution_count": 1,
   "metadata": {},
   "outputs": [
    {
     "name": "stdout",
     "output_type": "stream",
     "text": [
      "83902nahp2a\n",
      "sinsemilla\n",
      "num77\n",
      "pizza\n",
      "Первый способ 0.0013278999999997154\n",
      "83902nahp2a\n",
      "sinsemilla\n",
      "num77\n",
      "pizza\n",
      "Второй способ 0.00046809999999908314\n",
      "83902nahp2a\n",
      "sinsemilla\n",
      "num77\n",
      "pizza\n",
      "Третий способ 0.0006720000000015602\n"
     ]
    }
   ],
   "source": [
    "\"\"\"Проверим каждый способ на скорость\"\"\"\n",
    "import time\n",
    "\n",
    "ex = ['Birch sap has a sour taste',\n",
    "      '83902nahp2a', 'sinsemilla', 'num77',\n",
    "      'jorge21', 'pizza']\n",
    "\n",
    "start = time.perf_counter()\n",
    "def re_test(words):\n",
    "    import re\n",
    "    for i in words:\n",
    "        if re.search(r'[a-c5-7]$', i):\n",
    "            print(i)\n",
    "re_test(ex)\n",
    "finish = time.perf_counter()\n",
    "print(f\"Первый способ {finish - start}\")\n",
    "\n",
    "start = time.perf_counter()\n",
    "def ends_test(words):\n",
    "    for i in words:\n",
    "        if i.endswith(('a', 'b', 'c', '5', '6', '7')):\n",
    "            print(i)\n",
    "ends_test(ex)\n",
    "finish = time.perf_counter()\n",
    "print(f\"Второй способ {finish - start}\")\n",
    "\n",
    "start = time.perf_counter()\n",
    "def indx_test(words):\n",
    "    for i in words:\n",
    "        if i[-1] in [j for j in 'abc567']:\n",
    "            print(i)\n",
    "indx_test(ex)\n",
    "finish = time.perf_counter()\n",
    "print(f\"Третий способ {finish - start}\")"
   ]
  },
  {
   "cell_type": "code",
   "execution_count": 3,
   "metadata": {},
   "outputs": [
    {
     "name": "stdout",
     "output_type": "stream",
     "text": [
      "83902nahp2a\n",
      "sinsemilla\n",
      "num77\n",
      "pizza\n",
      "Wall time: 981 µs\n"
     ]
    }
   ],
   "source": [
    "%%time\n",
    "ex = ['Birch sap has a sour taste',\n",
    "      '83902nahp2a', 'sinsemilla', 'num77',\n",
    "      'jorge21', 'pizza']\n",
    "import re\n",
    "for i in ex:\n",
    "    if re.search(r'[a-c5-7]$', i):\n",
    "        print(i)"
   ]
  },
  {
   "cell_type": "code",
   "execution_count": null,
   "metadata": {},
   "outputs": [],
   "source": [
    "ex = ['Birch sap has a sour taste',\n",
    "      '83902nahp2a', 'sinsemilla', 'num77',\n",
    "      'jorge21', 'pizza']\n",
    "for i in words:\n",
    "        if i.endswith(('a', 'b', 'c', '5', '6', '7')):\n",
    "            print(i)"
   ]
  }
 ],
 "metadata": {
  "kernelspec": {
   "display_name": "Python 3",
   "language": "python",
   "name": "python3"
  },
  "language_info": {
   "codemirror_mode": {
    "name": "ipython",
    "version": 3
   },
   "file_extension": ".py",
   "mimetype": "text/x-python",
   "name": "python",
   "nbconvert_exporter": "python",
   "pygments_lexer": "ipython3",
   "version": "3.8.1"
  }
 },
 "nbformat": 4,
 "nbformat_minor": 4
}

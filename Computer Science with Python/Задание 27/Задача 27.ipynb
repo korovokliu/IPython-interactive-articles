{
 "cells": [
  {
   "cell_type": "markdown",
   "metadata": {},
   "source": [
    "## Алгоритм Евклида"
   ]
  },
  {
   "cell_type": "markdown",
   "metadata": {},
   "source": [
    "Чтобы узнать, сравнимы ли два числа по модулю k, достаточно проверить, делится ли их разность на k"
   ]
  },
  {
   "cell_type": "markdown",
   "metadata": {},
   "source": [
    "Алгоритм Евклида - алгоритм поиска наибольшего общего делителя (НОД) чисел a и b\n",
    "НОД(a, b) = НОД(b, a%b)"
   ]
  },
  {
   "cell_type": "markdown",
   "metadata": {},
   "source": [
    "1. Берем два числа. Наибольшее из этих чисел делим на наименьшее. Получается некий остаток. По алгоритму Евклида НОД исходных двух чисел находится между наименьшим числом и остатком от деления наибольшего на наименьшее.\n",
    "2. НОД новой пары ищем тем же способом: наибольшее делим на наименьшее, записываем остаток и ищем НОД уже у этого\n",
    "3. Последний ненулевой остаток после всех делений и будет НОДом исходных чисел"
   ]
  },
  {
   "cell_type": "markdown",
   "metadata": {},
   "source": [
    "Если $a>b$, то НОД(a, b) = НОД(a-b, b)\n",
    "Допустим, НОД(a, b) = d, НОД(a-b, b) = d₁\n",
    "Из этого определения запишем a⋮d и b⋮d, то их разность тоже делится на d: (a-b)⋮d. Но мы написали в условии, что НАИБОЛЬШИЙ общий делитель пары (a-b, b) - это d₁. Т.е. d₁ ≥ d. Окей, но попробуем пойти в обратную сторону. Мы определили d₁ как НОД(a-b, b), т.е.(a-b)⋮d₁ и b⋮d₁. Но из теории делимости мы знаем, что тождество будет сравнимо по тому же модулю, если мы добавим или вычтем числа, которые так же сравнимы по этому модулю (a≡b(mod m), c≡k(mod m) ⇔ a+c≡b+k(mod m)), т.е. сумма (a-b)+b также должна делиться на d₁: (a-b+b)⋮d₁ ⇔ a⋮d₁. Т.е. d₁ является делителем a и b. Мы определяли НОД(a, b) = d, т.е. d≥d₁.\n",
    "В итоге, у нас вышло следующее:"
   ]
  },
  {
   "cell_type": "code",
   "execution_count": 23,
   "metadata": {},
   "outputs": [
    {
     "name": "stdout",
     "output_type": "stream",
     "text": [
      "24\n",
      "720\n",
      "3.5849625007211565\n",
      "11.999979199604203\n"
     ]
    }
   ],
   "source": [
    "import math\n",
    "print(math.factorial(6-2))\n",
    "print(6*5*4*3*2)\n",
    "print(math.log(6*2, 2))\n",
    "print(2**3.58496)"
   ]
  },
  {
   "cell_type": "code",
   "execution_count": 4,
   "metadata": {},
   "outputs": [
    {
     "name": "stdout",
     "output_type": "stream",
     "text": [
      "19 -3\n",
      "-3 -2\n",
      "-3 -2\n",
      "-2 -1\n",
      "-2 -1\n",
      "-1 0\n"
     ]
    },
    {
     "data": {
      "text/plain": [
       "(-1, 0)"
      ]
     },
     "execution_count": 4,
     "metadata": {},
     "output_type": "execute_result"
    }
   ],
   "source": [
    "def find_nod(a, b):\n",
    "    while b!=0:\n",
    "        print(a, b)\n",
    "        a, b = b, a%b\n",
    "        print(a, b)\n",
    "    return (a, b)\n",
    "find_nod(19, -3)"
   ]
  },
  {
   "cell_type": "markdown",
   "metadata": {},
   "source": [
    "## Числа Фибоначчи"
   ]
  },
  {
   "cell_type": "markdown",
   "metadata": {},
   "source": [
    "Последовательность Фибоначчи - любое число, кроме первого и второго, является суммой двух предыдущих.\n",
    "0, 1, 0+1=1, 1+1=2, 1+2=3, 3+2=5, 3+5=8, 5+8=13...\n",
    "\n",
    "Если написать код в лоб, то выдаст ошибку, что превыщена глубина рекурсии, т.к. она бесконечно будет пытаться вызвать более глубоко вложенные функции f(n-1), и дойти до конца (первого элемента) просто не сможет, т.к. мы его не указывали."
   ]
  },
  {
   "cell_type": "code",
   "execution_count": 3,
   "metadata": {},
   "outputs": [
    {
     "ename": "RecursionError",
     "evalue": "maximum recursion depth exceeded",
     "output_type": "error",
     "traceback": [
      "\u001B[1;31m---------------------------------------------------------------------------\u001B[0m",
      "\u001B[1;31mRecursionError\u001B[0m                            Traceback (most recent call last)",
      "\u001B[1;32m<ipython-input-3-33ad63ca8225>\u001B[0m in \u001B[0;36m<module>\u001B[1;34m\u001B[0m\n\u001B[0;32m      3\u001B[0m \u001B[1;33m\u001B[0m\u001B[0m\n\u001B[0;32m      4\u001B[0m \u001B[1;32mif\u001B[0m \u001B[0m__name__\u001B[0m\u001B[1;33m==\u001B[0m\u001B[1;34m'__main__'\u001B[0m\u001B[1;33m:\u001B[0m\u001B[1;33m\u001B[0m\u001B[1;33m\u001B[0m\u001B[0m\n\u001B[1;32m----> 5\u001B[1;33m     \u001B[0mprint\u001B[0m\u001B[1;33m(\u001B[0m\u001B[0mfib\u001B[0m\u001B[1;33m(\u001B[0m\u001B[1;36m5\u001B[0m\u001B[1;33m)\u001B[0m\u001B[1;33m)\u001B[0m\u001B[1;33m\u001B[0m\u001B[1;33m\u001B[0m\u001B[0m\n\u001B[0m",
      "\u001B[1;32m<ipython-input-3-33ad63ca8225>\u001B[0m in \u001B[0;36mfib\u001B[1;34m(n)\u001B[0m\n\u001B[0;32m      1\u001B[0m \u001B[1;32mdef\u001B[0m \u001B[0mfib\u001B[0m\u001B[1;33m(\u001B[0m\u001B[0mn\u001B[0m\u001B[1;33m:\u001B[0m \u001B[0mint\u001B[0m\u001B[1;33m)\u001B[0m \u001B[1;33m->\u001B[0m \u001B[0mint\u001B[0m\u001B[1;33m:\u001B[0m\u001B[1;33m\u001B[0m\u001B[1;33m\u001B[0m\u001B[0m\n\u001B[1;32m----> 2\u001B[1;33m     \u001B[1;32mreturn\u001B[0m \u001B[0mfib\u001B[0m\u001B[1;33m(\u001B[0m\u001B[0mn\u001B[0m\u001B[1;33m-\u001B[0m\u001B[1;36m1\u001B[0m\u001B[1;33m)\u001B[0m \u001B[1;33m+\u001B[0m \u001B[0mfib\u001B[0m\u001B[1;33m(\u001B[0m\u001B[0mn\u001B[0m\u001B[1;33m)\u001B[0m\u001B[1;33m\u001B[0m\u001B[1;33m\u001B[0m\u001B[0m\n\u001B[0m\u001B[0;32m      3\u001B[0m \u001B[1;33m\u001B[0m\u001B[0m\n\u001B[0;32m      4\u001B[0m \u001B[1;32mif\u001B[0m \u001B[0m__name__\u001B[0m\u001B[1;33m==\u001B[0m\u001B[1;34m'__main__'\u001B[0m\u001B[1;33m:\u001B[0m\u001B[1;33m\u001B[0m\u001B[1;33m\u001B[0m\u001B[0m\n\u001B[0;32m      5\u001B[0m     \u001B[0mprint\u001B[0m\u001B[1;33m(\u001B[0m\u001B[0mfib\u001B[0m\u001B[1;33m(\u001B[0m\u001B[1;36m5\u001B[0m\u001B[1;33m)\u001B[0m\u001B[1;33m)\u001B[0m\u001B[1;33m\u001B[0m\u001B[1;33m\u001B[0m\u001B[0m\n",
      "... last 1 frames repeated, from the frame below ...\n",
      "\u001B[1;32m<ipython-input-3-33ad63ca8225>\u001B[0m in \u001B[0;36mfib\u001B[1;34m(n)\u001B[0m\n\u001B[0;32m      1\u001B[0m \u001B[1;32mdef\u001B[0m \u001B[0mfib\u001B[0m\u001B[1;33m(\u001B[0m\u001B[0mn\u001B[0m\u001B[1;33m:\u001B[0m \u001B[0mint\u001B[0m\u001B[1;33m)\u001B[0m \u001B[1;33m->\u001B[0m \u001B[0mint\u001B[0m\u001B[1;33m:\u001B[0m\u001B[1;33m\u001B[0m\u001B[1;33m\u001B[0m\u001B[0m\n\u001B[1;32m----> 2\u001B[1;33m     \u001B[1;32mreturn\u001B[0m \u001B[0mfib\u001B[0m\u001B[1;33m(\u001B[0m\u001B[0mn\u001B[0m\u001B[1;33m-\u001B[0m\u001B[1;36m1\u001B[0m\u001B[1;33m)\u001B[0m \u001B[1;33m+\u001B[0m \u001B[0mfib\u001B[0m\u001B[1;33m(\u001B[0m\u001B[0mn\u001B[0m\u001B[1;33m)\u001B[0m\u001B[1;33m\u001B[0m\u001B[1;33m\u001B[0m\u001B[0m\n\u001B[0m\u001B[0;32m      3\u001B[0m \u001B[1;33m\u001B[0m\u001B[0m\n\u001B[0;32m      4\u001B[0m \u001B[1;32mif\u001B[0m \u001B[0m__name__\u001B[0m\u001B[1;33m==\u001B[0m\u001B[1;34m'__main__'\u001B[0m\u001B[1;33m:\u001B[0m\u001B[1;33m\u001B[0m\u001B[1;33m\u001B[0m\u001B[0m\n\u001B[0;32m      5\u001B[0m     \u001B[0mprint\u001B[0m\u001B[1;33m(\u001B[0m\u001B[0mfib\u001B[0m\u001B[1;33m(\u001B[0m\u001B[1;36m5\u001B[0m\u001B[1;33m)\u001B[0m\u001B[1;33m)\u001B[0m\u001B[1;33m\u001B[0m\u001B[1;33m\u001B[0m\u001B[0m\n",
      "\u001B[1;31mRecursionError\u001B[0m: maximum recursion depth exceeded"
     ]
    }
   ],
   "source": [
    "def fib(n: int) -> int:\n",
    "    return fib(n-1) + fib(n)\n",
    "\n",
    "if __name__=='__main__':\n",
    "    print(fib(5))"
   ]
  },
  {
   "cell_type": "markdown",
   "metadata": {},
   "source": [
    "Но даже если мы укажем крайние случаи, на которых вызов более вложенных функций прекратится, этот алгоритм все равно будет неэффективным, т.к. каждый вызов будет вызывать два новых: fib(10) вызывает fib(9) и fib(8), в свою очередь fib(9) вызывает fib(8) и fib(7), а fib(8) вызывает fib(7) и fib(6) независимо от того, что fib(9) уже вызвал fib(7). Получится дерево, которое будет расти в геометрической прогесии."
   ]
  },
  {
   "cell_type": "code",
   "execution_count": 6,
   "metadata": {},
   "outputs": [
    {
     "name": "stdout",
     "output_type": "stream",
     "text": [
      "Wall time: 1min 6s\n"
     ]
    },
    {
     "data": {
      "text/plain": [
       "102334155"
      ]
     },
     "execution_count": 6,
     "metadata": {},
     "output_type": "execute_result"
    }
   ],
   "source": [
    "%%time\n",
    "def fib(n: int) -> int:\n",
    "    if n<2:\n",
    "        return n\n",
    "    return fib(n-2) + fib(n-1)\n",
    "fib(40)"
   ]
  },
  {
   "cell_type": "markdown",
   "metadata": {},
   "source": [
    "Выход, который поможет избежать повторных вызовов - мемоизация. "
   ]
  },
  {
   "cell_type": "code",
   "execution_count": 11,
   "metadata": {},
   "outputs": [
    {
     "name": "stdout",
     "output_type": "stream",
     "text": [
      "21\n"
     ]
    }
   ],
   "source": [
    "base_cases = {0: 0, 1: 1}\n",
    "    \n",
    "def fib(n):\n",
    "    if n not in memo:\n",
    "        memo[n] = fib(n-1) + fib(n-2)\n",
    "    return memo[n]\n",
    "\n",
    "if __name__=='__main__':\n",
    "    print(fib(8))"
   ]
  },
  {
   "cell_type": "markdown",
   "metadata": {},
   "source": [
    "<div style=\"background: #82ffc2; text-align: center; font-weight: bold; font-size: 110%;\">Примеры задач</div>\n",
    "1) Найдите количество слов длины 10, состоящих только из букв \"а\" и \"б\" и не содержащих в записи двух букв \"б\" подряд."
   ]
  },
  {
   "cell_type": "code",
   "execution_count": null,
   "metadata": {},
   "outputs": [],
   "source": [
    "def how_many(lenght: int) -> 10:\n",
    "    while lenght > 0:\n",
    "        "
   ]
  },
  {
   "cell_type": "markdown",
   "metadata": {},
   "source": [
    "2) Некто приобрел пару кроликов и поместил их в огороженный со всех сторон загон. Сколько кроликов будет через год, если считать, что каждый месяц пара дает в качестве приплода новую пару кроликов, которые со второго месяца жизни также начинают приносить приплод?"
   ]
  },
  {
   "cell_type": "code",
   "execution_count": null,
   "metadata": {},
   "outputs": [],
   "source": []
  },
  {
   "cell_type": "markdown",
   "metadata": {},
   "source": [
    "## Бинарный поиск"
   ]
  },
  {
   "cell_type": "markdown",
   "metadata": {},
   "source": [
    "Суть бинарного поиска: делить каждый раз массив пополам и сравнивать искомое значение и с двумя половинками. Для какой половинки условие выполнится, ту и продолжим делить пополам, пока нужное значение не вылезет.\n",
    "Недостатки: массив уже должен быть отсортирован"
   ]
  },
  {
   "cell_type": "code",
   "execution_count": null,
   "metadata": {},
   "outputs": [],
   "source": [
    "def binary_search(massiv: list, find: int):\n",
    "    first_index = 0\n",
    "    last_index = len(massiv) - 1 \n",
    "    while first_index <= last_index:\n",
    "        middle_index = (last_index - first_index)//2\n",
    "        if massiv[middle_index] > find:\n",
    "            last_index = middle_index\n",
    "        elif massiv[middle_index] < find:\n",
    "            first_index = middle_index\n",
    "        else:\n",
    "            return middle_index\n",
    "print(binary_search([i*2 for i in range(1, 33, 2)], 7))"
   ]
  },
  {
   "cell_type": "markdown",
   "metadata": {},
   "source": [
    "Другая реализация бинарного поиска:\n"
   ]
  },
  {
   "cell_type": "markdown",
   "metadata": {},
   "source": [
    "## Композиция отношений"
   ]
  },
  {
   "cell_type": "code",
   "execution_count": 32,
   "metadata": {},
   "outputs": [
    {
     "name": "stdout",
     "output_type": "stream",
     "text": [
      "[(1, '◻'), (1, '△'), (1, '⎄'), (1, '☆'), (3, '◻'), (3, '△')]\n"
     ]
    }
   ],
   "source": [
    "A = [1, 2, 3]\n",
    "B = ['x', 'y']\n",
    "С = ['◻','△','⎄','☆']\n",
    "\n",
    "R = [(1, 'x'), (1, 'y'), (3, 'x')] # подмножество A×B\n",
    "S = [('x', '◻'), ('x', '△'), ('y', '⎄'), ('y', '☆')] # подмножество B×C\n",
    "\n",
    "def composition(r: set, s: set) -> set:\n",
    "    composition = []\n",
    "    for i in R:\n",
    "        for j in S:\n",
    "            if i[1] == j[0]:\n",
    "                composition.append((i[0], j[1]))\n",
    "    return composition\n",
    "\n",
    "if __name__ == '__main__':\n",
    "    print(composition(R, S))"
   ]
  },
  {
   "cell_type": "markdown",
   "metadata": {},
   "source": [
    "Имеется набор данных, состоящий из положительных целых чисел. Необходимо выбрать из каждой пары ровно одно число так, чтобы сумма всех выбранных чисел не делилась на три, при этом была максималбно возможной. Первая строка - количество пар, остальные строки - сами пары."
   ]
  },
  {
   "cell_type": "markdown",
   "metadata": {},
   "source": [
    "Идея сделать в два захода.\n",
    "Нам известно количество пар. Но мы их будем сортировать, поэтому создаем список с кортежами: min_from_pair и max_from_pair. Внутри списка будут кортежи: первый элемент кортежа - индекс, второй элемент - значение. При чем, закидываем в список с меньшими только те числа, которые на 3 не делятся, не забывая при этом считать по порядку индексы. Соответсующие ключи не сдвигаются, просто выкидываются вместе со значением.\n",
    "\n",
    "Когда меньшие отсортировались от больших, большие складываем друг с другом и смотрим на остаток от деления на 3. Если 0 - выдаем число, если нет, переходим к следующему этапу.\n",
    "\n",
    "Нам нужно найти среди наименьших то число, которое на три не делится и будет самым большим среди наименьших. Для этого словарь с меньшими сортируем в порядке возрастания по второму элементу. Находим индекс наибольшего и меняем его местами с элементом под тем же номером во втором списке. PROFIT\n",
    "\n",
    "\n",
    "На первом этапе мы тупо отсеиваем числа: меньшие в паре в один список, большие в другой, при чем, мы записывам во вспомогательный список остаток от деления на 3.\n",
    "Если во вспомогательном списке остатки от деления на 3"
   ]
  },
  {
   "cell_type": "code",
   "execution_count": 3,
   "metadata": {},
   "outputs": [
    {
     "name": "stdout",
     "output_type": "stream",
     "text": [
      "num1 < num2: (5627, 5841)\n",
      "min_number_each_pair: [(1, 5627)]\n",
      "num1 < num2: (5544, 6520)\n",
      "num1 < num2: (1449, 3580)\n",
      "num1 < num2: (2984, 5984)\n",
      "min_number_each_pair: [(1, 5627), (4, 2984)]\n",
      "num1 > num2: (6164, 2583)\n",
      "max_number_each_pair: [(1, 5841), (2, 6520), (3, 3580), (4, 5984), (5, 6164)]\n",
      "num1 > num2: (9588, 3467)\n",
      "max_number_each_pair: [(1, 5841), (2, 6520), (3, 3580), (4, 5984), (5, 6164), (6, 9588)]\n",
      "num1 < num2: (1440, 8636)\n",
      "num1 < num2: (7706, 8023)\n",
      "min_number_each_pair: [(1, 5627), (4, 2984), (8, 7706)]\n",
      "num1 > num2: (6847, 6023)\n",
      "max_number_each_pair: [(1, 5841), (2, 6520), (3, 3580), (4, 5984), (5, 6164), (6, 9588), (7, 8636), (8, 8023), (9, 6847)]\n",
      "num1 < num2: (577, 1545)\n",
      "min_number_each_pair: [(1, 5627), (4, 2984), (8, 7706), (10, 577)]\n",
      "num1 > num2: (7361, 5893)\n",
      "max_number_each_pair: [(1, 5841), (2, 6520), (3, 3580), (4, 5984), (5, 6164), (6, 9588), (7, 8636), (8, 8023), (9, 6847), (10, 1545), (11, 7361)]\n",
      "num1 < num2: (4221, 5994)\n",
      "num1 < num2: (3118, 5054)\n",
      "min_number_each_pair: [(1, 5627), (4, 2984), (8, 7706), (10, 577), (13, 3118)]\n",
      "num1 < num2: (1546, 4062)\n",
      "min_number_each_pair: [(1, 5627), (4, 2984), (8, 7706), (10, 577), (13, 3118), (14, 1546)]\n",
      "num1 < num2: (780, 3433)\n",
      "num1 > num2: (6926, 2390)\n",
      "max_number_each_pair: [(1, 5841), (2, 6520), (3, 3580), (4, 5984), (5, 6164), (6, 9588), (7, 8636), (8, 8023), (9, 6847), (10, 1545), (11, 7361), (12, 5994), (13, 5054), (14, 4062), (15, 3433), (16, 6926)]\n",
      "num1 < num2: (3702, 6714)\n",
      "num1 < num2: (2278, 7180)\n",
      "min_number_each_pair: [(1, 5627), (4, 2984), (8, 7706), (10, 577), (13, 3118), (14, 1546), (18, 2278)]\n",
      "num1 > num2: (9156, 3466)\n",
      "max_number_each_pair: [(1, 5841), (2, 6520), (3, 3580), (4, 5984), (5, 6164), (6, 9588), (7, 8636), (8, 8023), (9, 6847), (10, 1545), (11, 7361), (12, 5994), (13, 5054), (14, 4062), (15, 3433), (16, 6926), (17, 6714), (18, 7180), (19, 9156)]\n",
      "num1 < num2: (2294, 8733)\n",
      "min_number_each_pair: [(1, 5627), (4, 2984), (8, 7706), (10, 577), (13, 3118), (14, 1546), (18, 2278), (20, 2294)]\n",
      "finally max_number_each_pair: [(1, 5841), (2, 6520), (3, 3580), (4, 5984), (5, 6164), (6, 9588), (7, 8636), (8, 8023), (9, 6847), (10, 1545), (11, 7361), (12, 5994), (13, 5054), (14, 4062), (15, 3433), (16, 6926), (17, 6714), (18, 7180), (19, 9156), (20, 8733)]\n",
      "sum_max: 5841\n",
      "sum_max: 12361\n",
      "sum_max: 15941\n",
      "sum_max: 21925\n",
      "sum_max: 28089\n",
      "sum_max: 37677\n",
      "sum_max: 46313\n",
      "sum_max: 54336\n",
      "sum_max: 61183\n",
      "sum_max: 62728\n",
      "sum_max: 70089\n",
      "sum_max: 76083\n",
      "sum_max: 81137\n",
      "sum_max: 85199\n",
      "sum_max: 88632\n",
      "sum_max: 95558\n",
      "sum_max: 102272\n",
      "sum_max: 109452\n",
      "sum_max: 118608\n",
      "sum_max: 127341\n",
      "old: [(1, 5841), (2, 6520), (3, 3580), (4, 5984), (5, 6164), (6, 9588), (7, 8636), (8, 8023), (9, 6847), (10, 1545), (11, 7361), (12, 5994), (13, 5054), (14, 4062), (15, 3433), (16, 6926), (17, 6714), (18, 7180), (19, 9156), (20, 8733)]\n",
      "new: [(8, 7706), (1, 5627), (13, 3118), (4, 2984), (20, 2294), (18, 2278), (14, 1546), (10, 577)]\n",
      "7\n",
      "ma[index_to_swap] = (8, 8023)\n",
      "new ma[index_to_swap] = (8, 7706)\n",
      "sum_max: 5841\n",
      "sum_max: 12361\n",
      "sum_max: 15941\n",
      "sum_max: 21925\n",
      "sum_max: 28089\n",
      "sum_max: 37677\n",
      "sum_max: 46313\n",
      "sum_max: 54019\n",
      "sum_max: 60866\n",
      "sum_max: 62411\n",
      "sum_max: 69772\n",
      "sum_max: 75766\n",
      "sum_max: 80820\n",
      "sum_max: 84882\n",
      "sum_max: 88315\n",
      "sum_max: 95241\n",
      "sum_max: 101955\n",
      "sum_max: 109135\n",
      "sum_max: 118291\n",
      "sum_max: 127024\n",
      "127024\n"
     ]
    }
   ],
   "source": [
    "f = open(r'C:\\Users\\Acer\\Downloads\\27-A.txt')\n",
    "leng = f.readline()\n",
    "min_number_each_pair = []\n",
    "max_number_each_pair = []\n",
    "\n",
    "def sorting(ma, mi):\n",
    "    print(f\"old: {ma}\")\n",
    "    new = sorted(mi, key=lambda value: value[1], reverse=True)\n",
    "    print(f\"new: {new}\")\n",
    "    index_to_swap = new[0][0] - 1\n",
    "    print(index_to_swap)\n",
    "    print(f\"ma[index_to_swap] = {ma[index_to_swap]}\")\n",
    "    ma[index_to_swap] = (ma[index_to_swap][0], new[0][1])\n",
    "    print(f\"new ma[index_to_swap] = {ma[index_to_swap]}\")\n",
    "    return ma\n",
    "\n",
    "count = 1\n",
    "for i in f:\n",
    "    num = i.split()\n",
    "    num1, num2 = int(num[0]), int(num[1])\n",
    "    if num1 > num2:\n",
    "        print(f\"num1 > num2: {num1, num2}\")\n",
    "        max_number_each_pair.append((count, num1))\n",
    "        print(f\"max_number_each_pair: {max_number_each_pair}\")\n",
    "    else:\n",
    "        max_number_each_pair.append((count, num2))\n",
    "        print(f\"num1 < num2: {num1, num2}\")\n",
    "        if num1%3 != 0:\n",
    "            min_number_each_pair.append((count, num1))\n",
    "            print(f\"min_number_each_pair: {min_number_each_pair}\")\n",
    "    count += 1\n",
    "\n",
    "def sum_all_max(a):\n",
    "    sum_max = 0\n",
    "    for i in a:\n",
    "        sum_max += i[1]\n",
    "        print(f\"sum_max: {sum_max}\")\n",
    "    return sum_max\n",
    "\n",
    "print(f\"finally max_number_each_pair: {max_number_each_pair}\")\n",
    "\n",
    "if sum_all_max(max_number_each_pair)%3 == 0:\n",
    "    max_number_each_pair = sorting(max_number_each_pair, min_number_each_pair)\n",
    "b = sum_all_max(max_number_each_pair)\n",
    "print(b)"
   ]
  },
  {
   "cell_type": "code",
   "execution_count": null,
   "metadata": {},
   "outputs": [],
   "source": [
    "for i in f:\n",
    "    spisok = i.split()\n",
    "    if int(spisok[0]) > int(spisok[1]):\n",
    "        a.append(spisok[0])\n",
    "    else:\n",
    "        a.append(spisok[1])\n",
    "    print(a)"
   ]
  },
  {
   "cell_type": "code",
   "execution_count": 4,
   "metadata": {},
   "outputs": [
    {
     "name": "stdout",
     "output_type": "stream",
     "text": [
      "399762084\n"
     ]
    }
   ],
   "source": [
    "f = open(r'C:\\Users\\Acer\\Downloads\\27-B.txt')\n",
    "leng = f.readline()\n",
    "min_number_each_pair = []\n",
    "max_number_each_pair = []\n",
    "\n",
    "def sorting(ma, mi):\n",
    "    new = sorted(mi, key=lambda value: value[1], reverse=True)\n",
    "    index_to_swap = new[0][0] - 1\n",
    "    ma[index_to_swap] = (ma[index_to_swap][0], new[0][1])\n",
    "    return ma\n",
    "\n",
    "count = 1\n",
    "for i in f:\n",
    "    num = i.split()\n",
    "    num1, num2 = int(num[0]), int(num[1])\n",
    "    if num1 > num2:\n",
    "        max_number_each_pair.append((count, num1))\n",
    "    else:\n",
    "        max_number_each_pair.append((count, num2))\n",
    "        if num1%3 != 0:\n",
    "            min_number_each_pair.append((count, num1))\n",
    "    count += 1\n",
    "\n",
    "def sum_all_max(a):\n",
    "    sum_max = 0\n",
    "    for i in a:\n",
    "        sum_max += i[1]\n",
    "    return sum_max\n",
    "\n",
    "if sum_all_max(max_number_each_pair)%3 == 0:\n",
    "    max_number_each_pair = sorting(max_number_each_pair, min_number_each_pair)\n",
    "b = sum_all_max(max_number_each_pair)\n",
    "print(b)"
   ]
  },
  {
   "cell_type": "markdown",
   "metadata": {},
   "source": [
    "Имеется набор данных, состоящий из пар положительных целых чисел. Необходимо выбрать из каждой пары ровно одно число так, чтобы сумма всех выбранных чисел не делилась на 3 и при этом была минимально возможной. Гарантируется, что искомую сумму получить можно. Программа должна напечатать одно число — минимально возможную сумму, соответствующую условиям задачи.\n",
    "\n",
    "Входные данные.\n",
    "\n",
    "Как в прошлый раз,"
   ]
  },
  {
   "cell_type": "markdown",
   "metadata": {},
   "source": [
    "Последовательность натуральных чисел характеризуется числом Х — наибольшим числом, кратным 14 и являющимся произведением двух элементов последовательности с различными номерами. Гарантируется, что хотя бы одно такое произведение в последовательности есть."
   ]
  },
  {
   "cell_type": "markdown",
   "metadata": {},
   "source": [
    "Если число получено произведением двух чисел, значит те два числа делятся либо на 7, либо на 2.\n",
    "\n",
    "Одна переменная будет для наибольшего числа, которое делится на 14 вместе с номером этого числа. Переменная будет обновляться каждый раз, когда найдено большее число. Параллельно с этим раскидываем по спискам числа делящиеся на 7 и на 2 так же вместе с номерами. После сортируем два списка в порядке убывания. Берем полученную переменную и делим на наибольшее число первом списке. Если не делится - идем к следующей, если делится - выписываем ее. Так же и для списка из 7 \n",
    "\n",
    "Берем полученную переменную и делим ее на 2 и на 7. Ищем в списке. Если таких переменных нет, или есть только \n",
    "\n",
    "При проходе раскидываем в три списка: делятся на 14, делятся на 7, делятся на 2.\n",
    "\n",
    "\n",
    "За первый проход выкидываем все числа, которые не деляться на 2 и на 7. "
   ]
  },
  {
   "cell_type": "code",
   "execution_count": 10,
   "metadata": {},
   "outputs": [
    {
     "name": "stdout",
     "output_type": "stream",
     "text": [
      "49350000\n"
     ]
    }
   ],
   "source": [
    "f = open(r'C:\\Users\\Acer\\Downloads\\27-B_2.txt', \"r\")\n",
    "m7 = 0  #самое большое число, которое делится на 7\n",
    "m2 =  0 #самое большое число, которое делится на 2\n",
    "m14 = 0\n",
    "max_all = 0\n",
    "for i in f:\n",
    "    if int(i)%7==0 and int(i)%2!=0 and int(i) > m7:\n",
    "        m7 = int(i)\n",
    "    elif int(i)%2==0 and int(i)%7 != 0 and int(i) > m2:\n",
    "        m2 = int(i)\n",
    "    elif int(i)%14 == 0 and int(i) > m14:\n",
    "        m14 = int(i)\n",
    "        if m14 > max_all:\n",
    "            max_all = m14\n",
    "    else:\n",
    "        if int(i) > max_all:\n",
    "            max_all = int(i)\n",
    "    \n",
    "if (m7*m2) < (m14*max_all):\n",
    "    result = m14*max_all\n",
    "else:\n",
    "    result = m7*m2\n",
    "print(result)"
   ]
  },
  {
   "cell_type": "code",
   "execution_count": 3,
   "metadata": {},
   "outputs": [
    {
     "name": "stdout",
     "output_type": "stream",
     "text": [
      "127552 0\n"
     ]
    }
   ],
   "source": [
    "find_sum_with_excel = 135532\n",
    "f = open('вспомогательный_файл.txt')\n",
    "min_num = []\n",
    "for i in f:\n",
    "    min_num.append(int(i))\n",
    "min_num.sort()\n",
    "for i in min_num:\n",
    "    if i%4==0:\n",
    "        new = find_sum_with_excel-i\n",
    "        break      \n",
    "print(new, new%4)"
   ]
  },
  {
   "cell_type": "code",
   "execution_count": null,
   "metadata": {},
   "outputs": [],
   "source": []
  }
 ],
 "metadata": {
  "kernelspec": {
   "display_name": "Python 3",
   "language": "python",
   "name": "python3"
  },
  "language_info": {
   "codemirror_mode": {
    "name": "ipython",
    "version": 3
   },
   "file_extension": ".py",
   "mimetype": "text/x-python",
   "name": "python",
   "nbconvert_exporter": "python",
   "pygments_lexer": "ipython3",
   "version": "3.8.1"
  }
 },
 "nbformat": 4,
 "nbformat_minor": 4
}

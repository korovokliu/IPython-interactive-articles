{
 "cells": [
  {
   "cell_type": "markdown",
   "id": "764cf153",
   "metadata": {},
   "source": [
    "## <span style=\"background: #8CE9FF;\">Параметрическое</span> обучение <span style=\"background: #FFED3D;\">с учителем</span>\n",
    "\n",
    "Исходя из <span style=\"background: #8CE9FF;\">значений <b>заранее заданных</b> парметров в массиве (положения регуляторов)</span> предсказываем <span style=\"background: #FFED3D;\">значение какой-то другой <b>конкретной</b> величины</span>"
   ]
  },
  {
   "cell_type": "markdown",
   "id": "225eb571",
   "metadata": {},
   "source": [
    "*Была идея хранить в namedtuple веса, но в этом нет смысла, потому что веса изменяются при обучении, а namedtuple для того и нужен, чтобы данные были неизменяемыми (и хешируемыми), иначе можно было бы юзать обычный словарь*"
   ]
  },
  {
   "cell_type": "code",
   "execution_count": 3,
   "id": "195b4571",
   "metadata": {},
   "outputs": [
    {
     "name": "stdout",
     "output_type": "stream",
     "text": [
      "Weights(experience=0.4, magica=0.2, stamina=0.1)\n"
     ]
    }
   ],
   "source": [
    "from collections import namedtuple\n",
    "\n",
    "Weights = namedtuple(\"Weights\", \"experience magica stamina\") # factory function\n",
    "uncorrected_weights_01 = Weights(0.4, 0.2, 0.1)\n",
    "print(uncorrected_weights_01)"
   ]
  },
  {
   "cell_type": "code",
   "execution_count": null,
   "id": "99dbe2ff",
   "metadata": {},
   "outputs": [],
   "source": []
  },
  {
   "cell_type": "code",
   "execution_count": null,
   "id": "880f4175",
   "metadata": {},
   "outputs": [],
   "source": [
    "weights = [0.4, 0.2, 0.1] # вес для каждой характеристики\n",
    "\n",
    "exp = [125, 1110, 255, 100]\n",
    "magica = [130, 630, 120, 70]\n",
    "stamina = [10, 700, 110, 40]\n",
    "\n",
    "def prediction(data, weights):\n",
    "    assert len(data) == len(weights)\n",
    "    \n",
    "    \n",
    "\n",
    "input_data = [exp[0], magica[0], stamina[0]]\n",
    "\n",
    "\n",
    "\n",
    "for i in range(len(a)):\n",
    "    "
   ]
  },
  {
   "cell_type": "code",
   "execution_count": null,
   "id": "58c7391d",
   "metadata": {},
   "outputs": [],
   "source": [
    "print(\"\\n\".join([\"{}{}\".format(i, chr(i), for )]))"
   ]
  },
  {
   "cell_type": "code",
   "execution_count": null,
   "id": "d61afb92",
   "metadata": {},
   "outputs": [],
   "source": [
    "class Character:\n",
    "    def __init__(self, experience, magica, stamina):\n",
    "        self.exp = experience\n",
    "        self.magica = magica\n",
    "        self.stam = stamina\n",
    "        \n",
    "    @property\n",
    "    def corrected_weight(self, weights: list[float]): -> list[float]\n",
    "        assert len(len(self.__dict__) == len(self.weights))\n",
    "        "
   ]
  },
  {
   "cell_type": "code",
   "execution_count": null,
   "id": "f9f10ecc",
   "metadata": {},
   "outputs": [],
   "source": [
    "Чтобы определеить точность предсказания "
   ]
  }
 ],
 "metadata": {
  "kernelspec": {
   "display_name": "Python 3",
   "language": "python",
   "name": "python3"
  },
  "language_info": {
   "codemirror_mode": {
    "name": "ipython",
    "version": 3
   },
   "file_extension": ".py",
   "mimetype": "text/x-python",
   "name": "python",
   "nbconvert_exporter": "python",
   "pygments_lexer": "ipython3",
   "version": "3.8.8"
  }
 },
 "nbformat": 4,
 "nbformat_minor": 5
}

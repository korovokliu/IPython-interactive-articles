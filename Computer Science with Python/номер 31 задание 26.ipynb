{
 "cells": [
  {
   "cell_type": "markdown",
   "metadata": {},
   "source": [
    "Системный администратор раз в неделю создаёт архив пользовательских файлов. Однако объём диска, куда он помещает архив, может быть меньше, чем суммарный объём архивируемых файлов. Известно, какой объём занимает файл каждого пользователя. По заданной информации об объёме файлов пользователей и свободном объёме на архивном диске определите максимальное число пользователей, чьи файлы можно сохранить в архиве, а также максимальный размер имеющегося файла, который может быть сохранён в архиве, при условии, что сохранены файлы максимально возможного числа пользователей.\n",
    "\n",
    "Входные данные.\n",
    "\n",
    "В первой строке входного файла находятся два числа: S — размер свободного места на диске (натуральное число, не превышающее 10 000) и N — количество пользователей (натуральное число, не превышающее 1000). В следующих N строках находятся значения объёмов файлов каждого пользователя (все числа натуральные, не превышающие 100), каждое в отдельной строке.\n",
    "Запишите в ответе два числа: сначала наибольшее число пользователей, чьи файлы могут быть помещены в архив, затем максимальный размер имеющегося файла, который может быть сохранён в архиве, при условии, что сохранены файлы максимально возможного числа пользователей.\n",
    "\n",
    "Пример входного файла:\n",
    "100 4\n",
    "80\n",
    "30\n",
    "50\n",
    "40\n",
    "При таких исходных данных можно сохранить файлы максимум двух пользователей.\n",
    "Возможные объёмы этих двух файлов 30 и 40, 30 и 50 или 40 и 50. Наибольший объём файла из перечисленных пар — 50, поэтому ответ для приведённого примера:\n",
    "2 50"
   ]
  },
  {
   "cell_type": "code",
   "execution_count": null,
   "metadata": {},
   "outputs": [],
   "source": [
    "Хотя мы брали по порядку, у нас на диске еще осталось место."
   ]
  },
  {
   "cell_type": "code",
   "execution_count": 19,
   "metadata": {},
   "outputs": [
    {
     "name": "stdout",
     "output_type": "stream",
     "text": [
      "сохранено 458, последний 39\n",
      "осталось места на диске: 0\n"
     ]
    }
   ],
   "source": [
    "f = open('27886_решегэ.txt')\n",
    "s = f.readline().split()\n",
    "disk_space = int(s[0])\n",
    "amount_of_users = int(s[1])\n",
    "weights = []\n",
    "able_to_contain = 0\n",
    "for i in f:\n",
    "    if i == f'{disk_space} {amount_of_users}':\n",
    "        print(i)\n",
    "    weights.append(int(i))\n",
    "    \n",
    "weights.sort()\n",
    "for i in weights:\n",
    "    if disk_space >= i:\n",
    "        able_to_contain+=1\n",
    "        disk_space-=i\n",
    "        last_saved = i\n",
    "    elif disk_space !=0:\n",
    "        disk_space+=i\n",
    "        find = False\n",
    "        max_fit = disk_space\n",
    "        while not find:\n",
    "            if max_fit in weights:\n",
    "                last_saved = max_fit\n",
    "                disk_space-=max_fit\n",
    "                find = True\n",
    "                break\n",
    "            else:\n",
    "                max_fit-=1\n",
    "    else:\n",
    "        print(f'сохранено {able_to_contain}, последний {last_saved}')\n",
    "        break\n",
    "print(f'осталось места на диске: {disk_space}')"
   ]
  },
  {
   "cell_type": "code",
   "execution_count": 1,
   "metadata": {},
   "outputs": [
    {
     "name": "stdout",
     "output_type": "stream",
     "text": [
      "568 50\n"
     ]
    }
   ],
   "source": [
    "m=[0]*6000\n",
    "with open('26_4_iS3bwY7.txt') as f:\n",
    "    s, n = [int(x) for x in next(f).split()]\n",
    "    for i in range(n):\n",
    "        m[i]=int(f.readline())\n",
    "        \n",
    "for i in range(n-1): # алгоритм какой-то сортировки\n",
    "    for j in range(n - i):\n",
    "        if m[j] > m[j + 1]:\n",
    "            m[j], m[j+1] = m[j+1], m[j] # вместо временной перенной можно \n",
    "# волпользоваться возможностью свапнуть значения, синтаксис питона позволяет это делать\n",
    "i=0\n",
    "m_sum=0\n",
    "while (m_sum <= s):\n",
    "    m_sum+=m[i]\n",
    "    i+=1\n",
    "m_sum-=m[i]\n",
    "imax=i-2\n",
    "for i in range(n,imax-1,-1):\n",
    "    if (m_sum - m[imax] + m[i] <= s):\n",
    "        maxim = m[i]\n",
    "        break\n",
    "print(imax, maxim)\n"
   ]
  },
  {
   "cell_type": "code",
   "execution_count": 30,
   "metadata": {},
   "outputs": [
    {
     "ename": "TypeError",
     "evalue": "'int' object is not callable",
     "output_type": "error",
     "traceback": [
      "\u001B[1;31m---------------------------------------------------------------------------\u001B[0m",
      "\u001B[1;31mTypeError\u001B[0m                                 Traceback (most recent call last)",
      "\u001B[1;32m<ipython-input-30-8001de05133a>\u001B[0m in \u001B[0;36m<module>\u001B[1;34m\u001B[0m\n\u001B[1;32m----> 1\u001B[1;33m \u001B[0msum\u001B[0m\u001B[1;33m(\u001B[0m\u001B[1;33m(\u001B[0m\u001B[1;36m10\u001B[0m\u001B[1;33m,\u001B[0m \u001B[1;36m2\u001B[0m\u001B[1;33m)\u001B[0m\u001B[1;33m)\u001B[0m\u001B[1;33m\u001B[0m\u001B[1;33m\u001B[0m\u001B[0m\n\u001B[0m",
      "\u001B[1;31mTypeError\u001B[0m: 'int' object is not callable"
     ]
    }
   ],
   "source": [
    "sum((10, 2))"
   ]
  },
  {
   "cell_type": "code",
   "execution_count": 21,
   "metadata": {},
   "outputs": [
    {
     "name": "stdout",
     "output_type": "stream",
     "text": [
      "360\n"
     ]
    }
   ],
   "source": [
    "import itertools \n",
    "\n",
    "a = list(itertools.permutations('ЗАПИСЬ', r=6)) # r то же, что и repeat - длина слова\n",
    "count = 0\n",
    "for x in a:\n",
    "    f = ['АЬ', 'ИЬ']\n",
    "    if x[0]!='Ь':\n",
    "        s = ''.join(x)\n",
    "        for forbidden in f:\n",
    "            if forbidden in s:\n",
    "                break\n",
    "        else:\n",
    "            count+=1\n",
    "print(count)"
   ]
  },
  {
   "cell_type": "code",
   "execution_count": 30,
   "metadata": {},
   "outputs": [
    {
     "name": "stdout",
     "output_type": "stream",
     "text": [
      "x y z w\n",
      "0 0 0 0\n",
      "0 0 1 0\n",
      "0 1 0 0\n",
      "0 1 0 1\n",
      "0 1 1 0\n",
      "0 1 1 1\n",
      "1 0 0 0\n",
      "1 0 0 1\n",
      "1 0 1 0\n",
      "1 1 0 0\n",
      "1 1 0 1\n",
      "1 1 1 0\n",
      "1 1 1 1\n"
     ]
    }
   ],
   "source": [
    "print('x y z w')\n",
    "for x in range(2):\n",
    "    for y in range(2):\n",
    "        for z in range(2):\n",
    "            for w in range(2):\n",
    "                if (((x and(not y)) <= ((not z) or (not w))) and ((w<=x) or y)):\n",
    "                    print(x, y, z, w)"
   ]
  },
  {
   "cell_type": "code",
   "execution_count": null,
   "metadata": {},
   "outputs": [],
   "source": []
  },
  {
   "cell_type": "code",
   "execution_count": 28,
   "metadata": {},
   "outputs": [
    {
     "name": "stdout",
     "output_type": "stream",
     "text": [
      "113\n",
      "123\n",
      "131\n",
      "132\n",
      "133\n",
      "200\n",
      "213\n",
      "224\n",
      "231\n",
      "234\n",
      "242\n",
      "243\n",
      "244\n",
      "311\n",
      "312\n",
      "313\n",
      "321\n",
      "324\n",
      "331\n",
      "335\n",
      "342\n",
      "345\n",
      "353\n",
      "354\n",
      "355\n",
      "422\n",
      "423\n",
      "424\n",
      "432\n",
      "435\n",
      "442\n",
      "446\n",
      "453\n",
      "456\n",
      "464\n",
      "465\n",
      "466\n",
      "533\n",
      "534\n",
      "535\n",
      "543\n",
      "546\n",
      "553\n",
      "557\n",
      "564\n",
      "567\n",
      "575\n",
      "576\n",
      "577\n",
      "644\n",
      "645\n",
      "646\n",
      "654\n",
      "657\n",
      "664\n",
      "668\n",
      "675\n",
      "678\n",
      "686\n",
      "687\n",
      "688\n",
      "755\n",
      "756\n",
      "757\n",
      "765\n",
      "768\n",
      "775\n",
      "779\n",
      "786\n",
      "789\n",
      "797\n",
      "798\n",
      "799\n",
      "866\n",
      "867\n",
      "868\n",
      "876\n",
      "879\n",
      "886\n",
      "897\n",
      "977\n",
      "978\n",
      "979\n",
      "987\n",
      "997\n"
     ]
    },
    {
     "ename": "KeyboardInterrupt",
     "evalue": "",
     "output_type": "error",
     "traceback": [
      "\u001B[1;31m---------------------------------------------------------------------------\u001B[0m",
      "\u001B[1;31mKeyboardInterrupt\u001B[0m                         Traceback (most recent call last)",
      "\u001B[1;32m<ipython-input-28-08d525020aa4>\u001B[0m in \u001B[0;36m<module>\u001B[1;34m\u001B[0m\n\u001B[0;32m     12\u001B[0m \u001B[0mx\u001B[0m \u001B[1;33m=\u001B[0m \u001B[1;36m100\u001B[0m\u001B[1;33m\u001B[0m\u001B[1;33m\u001B[0m\u001B[0m\n\u001B[0;32m     13\u001B[0m \u001B[1;32mwhile\u001B[0m \u001B[1;32mTrue\u001B[0m\u001B[1;33m:\u001B[0m\u001B[1;33m\u001B[0m\u001B[1;33m\u001B[0m\u001B[0m\n\u001B[1;32m---> 14\u001B[1;33m     \u001B[1;32mif\u001B[0m \u001B[0mf\u001B[0m\u001B[1;33m(\u001B[0m\u001B[0mx\u001B[0m\u001B[1;33m)\u001B[0m\u001B[1;33m==\u001B[0m\u001B[1;36m20\u001B[0m \u001B[1;32mand\u001B[0m \u001B[0mx\u001B[0m\u001B[1;33m<\u001B[0m\u001B[1;36m1000\u001B[0m\u001B[1;33m:\u001B[0m\u001B[1;33m\u001B[0m\u001B[1;33m\u001B[0m\u001B[0m\n\u001B[0m\u001B[0;32m     15\u001B[0m         \u001B[0mprint\u001B[0m\u001B[1;33m(\u001B[0m\u001B[0mx\u001B[0m\u001B[1;33m)\u001B[0m\u001B[1;33m\u001B[0m\u001B[1;33m\u001B[0m\u001B[0m\n\u001B[0;32m     16\u001B[0m     \u001B[0mx\u001B[0m\u001B[1;33m+=\u001B[0m\u001B[1;36m1\u001B[0m\u001B[1;33m\u001B[0m\u001B[1;33m\u001B[0m\u001B[0m\n",
      "\u001B[1;32m<ipython-input-28-08d525020aa4>\u001B[0m in \u001B[0;36mf\u001B[1;34m(N)\u001B[0m\n\u001B[0;32m      8\u001B[0m     \u001B[1;32melse\u001B[0m\u001B[1;33m:\u001B[0m\u001B[1;33m\u001B[0m\u001B[1;33m\u001B[0m\u001B[0m\n\u001B[0;32m      9\u001B[0m         \u001B[0mmn\u001B[0m \u001B[1;33m=\u001B[0m \u001B[0mint\u001B[0m\u001B[1;33m(\u001B[0m\u001B[0ma\u001B[0m\u001B[1;33m[\u001B[0m\u001B[1;36m0\u001B[0m\u001B[1;33m]\u001B[0m\u001B[1;33m+\u001B[0m\u001B[0ma\u001B[0m\u001B[1;33m[\u001B[0m\u001B[1;36m1\u001B[0m\u001B[1;33m]\u001B[0m\u001B[1;33m)\u001B[0m\u001B[1;33m\u001B[0m\u001B[1;33m\u001B[0m\u001B[0m\n\u001B[1;32m---> 10\u001B[1;33m     \u001B[1;32mreturn\u001B[0m \u001B[0mmx\u001B[0m\u001B[1;33m-\u001B[0m\u001B[0mmn\u001B[0m\u001B[1;33m\u001B[0m\u001B[1;33m\u001B[0m\u001B[0m\n\u001B[0m\u001B[0;32m     11\u001B[0m \u001B[1;33m\u001B[0m\u001B[0m\n\u001B[0;32m     12\u001B[0m \u001B[0mx\u001B[0m \u001B[1;33m=\u001B[0m \u001B[1;36m100\u001B[0m\u001B[1;33m\u001B[0m\u001B[1;33m\u001B[0m\u001B[0m\n",
      "\u001B[1;31mKeyboardInterrupt\u001B[0m: "
     ]
    }
   ],
   "source": [
    "def f(N):\n",
    "    N = str(N)\n",
    "    a = [N[0], N[1], N[2]]\n",
    "    a.sort()\n",
    "    mx = int(a[2]+a[1])\n",
    "    if a[0]=='0':\n",
    "        mn = int(a[1]+a[0])\n",
    "    else:\n",
    "        mn = int(a[0]+a[1])\n",
    "    return mx-mn\n",
    "\n",
    "x = 100\n",
    "while True:\n",
    "    if f(x)==20 and x<1000:\n",
    "        print(x)\n",
    "    x+=1"
   ]
  },
  {
   "cell_type": "markdown",
   "metadata": {},
   "source": [
    "\n",
    "\n",
    " Начинается всегда с Пети, т.к. Петя – первый игрок. Если Петя хотя бы одним ходом может получить победу (any() возвращает True, если хотя бы один элемент из списка/генератора/итератора True)"
   ]
  }
 ],
 "metadata": {
  "kernelspec": {
   "display_name": "Python 3",
   "language": "python",
   "name": "python3"
  },
  "language_info": {
   "codemirror_mode": {
    "name": "ipython",
    "version": 3
   },
   "file_extension": ".py",
   "mimetype": "text/x-python",
   "name": "python",
   "nbconvert_exporter": "python",
   "pygments_lexer": "ipython3",
   "version": "3.8.1"
  }
 },
 "nbformat": 4,
 "nbformat_minor": 4
}

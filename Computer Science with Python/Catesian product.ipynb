{
 "cells": [
  {
   "cell_type": "markdown",
   "metadata": {},
   "source": [
    "Скрин из **Jupyter notebook**, про который тебе рассказывала\n",
    "\n",
    "Хотя писать <span style=\"color: indigo;\"><i>print</i></span> в каждой ячейке очень не труЪ-программистский способ, <span style=\"background: yellow;\">я просто хотела показать, что умеет этот блокнот</span>"
   ]
  },
  {
   "cell_type": "code",
   "execution_count": 12,
   "metadata": {},
   "outputs": [
    {
     "name": "stdout",
     "output_type": "stream",
     "text": [
      "(A×B)×C = [((3, 'k'), 20), ((3, 'k'), 30), ((3, 'z'), 20), ((3, 'z'), 30), ((4, 'k'), 20), ((4, 'k'), 30), ((4, 'z'), 20), ((4, 'z'), 30), ((6, 'k'), 20), ((6, 'k'), 30), ((6, 'z'), 20), ((6, 'z'), 30)]\n"
     ]
    }
   ],
   "source": [
    "A = {3, 4, 6}\n",
    "B = {'k', 'z'}\n",
    "C = {20, 30}\n",
    "\n",
    "AB_C = [((a, b), c) for a in A for b in B for c in C]\n",
    "A_BC = [(a, (b, c)) for a in A for b in B for c in C]\n",
    "ABC = [(a, b, c) for a in A for b in B for c in C]\n",
    "\n",
    "print(f'(A×B)×C = {AB_C}')"
   ]
  },
  {
   "cell_type": "code",
   "execution_count": 13,
   "metadata": {},
   "outputs": [
    {
     "name": "stdout",
     "output_type": "stream",
     "text": [
      "A×(B×C)=[(3, ('k', 20)), (3, ('k', 30)), (3, ('z', 20)), (3, ('z', 30)), (4, ('k', 20)), (4, ('k', 30)), (4, ('z', 20)), (4, ('z', 30)), (6, ('k', 20)), (6, ('k', 30)), (6, ('z', 20)), (6, ('z', 30))]\n"
     ]
    }
   ],
   "source": [
    "print(f'A×(B×C)={A_BC}')"
   ]
  },
  {
   "cell_type": "code",
   "execution_count": 14,
   "metadata": {},
   "outputs": [
    {
     "name": "stdout",
     "output_type": "stream",
     "text": [
      "A×B×C = [(3, 'k', 20), (3, 'k', 30), (3, 'z', 20), (3, 'z', 30), (4, 'k', 20), (4, 'k', 30), (4, 'z', 20), (4, 'z', 30), (6, 'k', 20), (6, 'k', 30), (6, 'z', 20), (6, 'z', 30)]\n"
     ]
    }
   ],
   "source": [
    "print(f'A×B×C = {ABC}')"
   ]
  },
  {
   "cell_type": "code",
   "execution_count": 15,
   "metadata": {},
   "outputs": [
    {
     "name": "stdout",
     "output_type": "stream",
     "text": [
      "(A×B)×C = A×(B×C)? False\n"
     ]
    }
   ],
   "source": [
    "print(f'(A×B)×C = A×(B×C)? {AB_C == A_BC}')"
   ]
  },
  {
   "cell_type": "code",
   "execution_count": 16,
   "metadata": {},
   "outputs": [
    {
     "name": "stdout",
     "output_type": "stream",
     "text": [
      "A×(B×C) = ABC? False\n"
     ]
    }
   ],
   "source": [
    "print(f'A×(B×C) = ABC? {A_BC == ABC}')"
   ]
  },
  {
   "cell_type": "code",
   "execution_count": 17,
   "metadata": {},
   "outputs": [
    {
     "name": "stdout",
     "output_type": "stream",
     "text": [
      "A×(B×C) = ABC? False\n"
     ]
    }
   ],
   "source": [
    "print(f'A×(B×C) = ABC? {A_BC == ABC}')"
   ]
  },
  {
   "cell_type": "code",
   "execution_count": null,
   "metadata": {},
   "outputs": [],
   "source": []
  }
 ],
 "metadata": {
  "kernelspec": {
   "display_name": "Python 3",
   "language": "python",
   "name": "python3"
  },
  "language_info": {
   "codemirror_mode": {
    "name": "ipython",
    "version": 3
   },
   "file_extension": ".py",
   "mimetype": "text/x-python",
   "name": "python",
   "nbconvert_exporter": "python",
   "pygments_lexer": "ipython3",
   "version": "3.8.8"
  }
 },
 "nbformat": 4,
 "nbformat_minor": 4
}

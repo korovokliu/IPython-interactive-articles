{
 "cells": [
  {
   "cell_type": "code",
   "execution_count": 4,
   "id": "6b364620",
   "metadata": {},
   "outputs": [],
   "source": [
    "import bs4\n",
    "import requests"
   ]
  },
  {
   "cell_type": "code",
   "execution_count": null,
   "id": "c413562b",
   "metadata": {},
   "outputs": [],
   "source": [
    "import discum"
   ]
  },
  {
   "cell_type": "code",
   "execution_count": 3,
   "id": "930372cc",
   "metadata": {},
   "outputs": [],
   "source": [
    "set_cookies = {\n",
    "    'login': \"\",\n",
    "    'password': \"\"\n",
    "}\n",
    "headers = {'user-agent': 'Mozilla/5.0 (Windows NT 10.0; Win64; x64) AppleWebKit/537.36 (KHTML, like Gecko) Chrome/96.0.4664.110 Safari/537.36',\n",
    "          'sec-ch-ua-platform': \"Windows\",\n",
    "          'authorization': ''}\n",
    "proxies = {\n",
    "    'http': r\"http://10.10.1.10:3128\",\n",
    "    'https': r\"http://10.10.1.10:1080\"\n",
    "}"
   ]
  },
  {
   "cell_type": "code",
   "execution_count": 7,
   "id": "7178b9ac",
   "metadata": {},
   "outputs": [],
   "source": [
    "servers = {\n",
    "    \"solaxy\": r\"https://discord.com/channels/948163452357214278/948328161320529930\"\n",
    "}"
   ]
  },
  {
   "cell_type": "code",
   "execution_count": 8,
   "id": "85e53417",
   "metadata": {},
   "outputs": [],
   "source": [
    "r = requests.get(servers[\"solaxy\"],\n",
    "                headers=headers)"
   ]
  },
  {
   "cell_type": "code",
   "execution_count": 9,
   "id": "dcdbea18",
   "metadata": {},
   "outputs": [
    {
     "data": {
      "text/plain": [
       "<Response [200]>"
      ]
     },
     "execution_count": 9,
     "metadata": {},
     "output_type": "execute_result"
    }
   ],
   "source": [
    "r"
   ]
  },
  {
   "cell_type": "code",
   "execution_count": 10,
   "id": "4c59d0d7",
   "metadata": {},
   "outputs": [],
   "source": [
    "parser = bs4.BeautifulSoup(r.text, \"html.parser\")"
   ]
  },
  {
   "cell_type": "markdown",
   "id": "966f38bf",
   "metadata": {},
   "source": [
    "<img style=\"display: float; float: left; padding-right: 3px; width: 420px;\" src=\"01.png\"> С помощью метода `select` выберем пользователя. Заметим, что у пользователей "
   ]
  },
  {
   "cell_type": "code",
   "execution_count": null,
   "id": "ea076105",
   "metadata": {},
   "outputs": [],
   "source": [
    "users = parser.select()"
   ]
  },
  {
   "cell_type": "raw",
   "id": "bb32b772",
   "metadata": {},
   "source": [
    "authorization: NTI3MTM5MTg3NTQ0MjkzMzc3.YnEzvQ.EGbaAIdgKt4VA-NxxvGSrSkZzFY\n",
    "\n",
    "cookie: _ga=GA1.2.932089828.1646129596; __dcfduid=dadb97c0a6f711ec95790f61cb261b85; __sdcfduid=dadb97c1a6f711ec95790f61cb261b857d1e7a0f4ba71e324b05eaeebf265d0bd0101cbfea0fa40da84497347cf1154e; _gcl_au=1.1.450310534.1648059644; OptanonConsent=isIABGlobal=false&datestamp=Wed+Mar+23+2022+21%3A20%3A44+GMT%2B0300+(%D0%9C%D0%BE%D1%81%D0%BA%D0%B2%D0%B0%2C+%D1%81%D1%82%D0%B0%D0%BD%D0%B4%D0%B0%D1%80%D1%82%D0%BD%D0%BE%D0%B5+%D0%B2%D1%80%D0%B5%D0%BC%D1%8F)&version=6.17.0&hosts=&landingPath=NotLandingPage&groups=C0001%3A1%2CC0002%3A1%2CC0003%3A1&AwaitingReconsent=false; locale=ru; __cf_bm=fMKMJA2q0_LgPVOBYQujV1Gfhv2Gtv2m9Uo2xveDcCg-1651589530-0-AVVN1QQd0pBhojV4KkKrcPHFdXt/3C23/669OVpl8Ar07ZWEGiEQ940uZGHRBXHPk2ULyRzoACH/cdBE3ZnZFNV77AX85uTxYrsFfRKmrXRWH6jI9P7gHmoXN692LVe/hQ=="
   ]
  },
  {
   "cell_type": "code",
   "execution_count": null,
   "id": "7e065efe",
   "metadata": {},
   "outputs": [],
   "source": [
    "\"https://discord.com/channels/948163452357214278/948328161320529930\""
   ]
  }
 ],
 "metadata": {
  "kernelspec": {
   "display_name": "Python 3",
   "language": "python",
   "name": "python3"
  },
  "language_info": {
   "codemirror_mode": {
    "name": "ipython",
    "version": 3
   },
   "file_extension": ".py",
   "mimetype": "text/x-python",
   "name": "python",
   "nbconvert_exporter": "python",
   "pygments_lexer": "ipython3",
   "version": "3.8.8"
  },
  "latex_envs": {
   "LaTeX_envs_menu_present": true,
   "autoclose": false,
   "autocomplete": true,
   "bibliofile": "biblio.bib",
   "cite_by": "apalike",
   "current_citInitial": 1,
   "eqLabelWithNumbers": true,
   "eqNumInitial": 1,
   "hotkeys": {
    "equation": "Ctrl-E",
    "itemize": "Ctrl-I"
   },
   "labels_anchors": false,
   "latex_user_defs": false,
   "report_style_numbering": false,
   "user_envs_cfg": false
  }
 },
 "nbformat": 4,
 "nbformat_minor": 5
}

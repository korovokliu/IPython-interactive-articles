{
 "cells": [
  {
   "cell_type": "code",
   "execution_count": 4,
   "id": "701c4c9b",
   "metadata": {},
   "outputs": [],
   "source": [
    "import discum"
   ]
  },
  {
   "cell_type": "code",
   "execution_count": 6,
   "id": "ada870e3",
   "metadata": {},
   "outputs": [],
   "source": [
    "servers = {\n",
    "    \"solaxy\": {\"guild\": \"948163452357214278\", \"channel\": \"948325458611687544\"},\n",
    "    \"solspot\": {\"guild\": \"512333785338216465\", \"channel\": \"946899935352209438\"}\n",
    "}\n",
    "authorizations = {\n",
    "    \"my\": \"NTI3MTM5MTg3NTQ0MjkzMzc3.YnEzvQ.EGbaAIdgKt4VA-NxxvGSrSkZzFY\",\n",
    "    \"other1\": \"\"\n",
    "}\n",
    "# Для получения id серверов и каналов нужно включить режим разработчика"
   ]
  },
  {
   "cell_type": "markdown",
   "id": "cbf6847e",
   "metadata": {},
   "source": [
    "Как работает бот?\n",
    "\n",
    "<img style=\"display: float; float: left; padding-right: 2px; width: 400px; margin-right: 3px;\" src=\"002.png\">\n",
    "Есть три компонента: бот, дискорд, юзер\n",
    "\n",
    "1. юзер реагирует на сообщение, нажимая что-то в дисе (react)\n",
    "2. дискорд принял ответ от пользователя, отправляет сообщение боту добавить ему роль (event)\n",
    "3. бот назначает роль, посылает данные дискорду (add role)\n",
    "4. юзер получает уведомление от дискорда о получении роли (notify)"
   ]
  },
  {
   "cell_type": "markdown",
   "id": "0be3535a",
   "metadata": {},
   "source": [
    "Из `https://discord.com/developers/docs/topics/gateway` узнаем о следующей последовательности действий:\n",
    "1. Открываем вебсокет\n",
    "2. Получаем ответ (reply), состоящий из двух частей: identify ourselves и ping.\n",
    "3. Получаем ответ ready от дискорда и мы можем прослушивать соединение.\n",
    "\n",
    "Receiver \n",
    "1. get websocket message\n",
    "2. call a handler\n",
    "\n",
    "Sender\n",
    "1. get a message from queue\n",
    "2. send "
   ]
  },
  {
   "cell_type": "code",
   "execution_count": 9,
   "id": "e3fef67b",
   "metadata": {},
   "outputs": [],
   "source": [
    "import websockets # удобнее, чем ванильный модуль socket, т.к. позволяет легко\n",
    "# запускать запускать и слушать соединения в асинхронном режиме (там корутины, \n",
    "# вместо синхронных функций)\n",
    "import asyncio\n",
    "GATEWAY_URL = \"wss://gateway.discord.gg/?v=9&encoding=json\""
   ]
  },
  {
   "cell_type": "markdown",
   "id": "714e29ab",
   "metadata": {},
   "source": [
    "<img style=\"display: float; float: left; padding-right: 3px; width: 420px;\" src=\"001.png\"> Смотрим раздел Payloads (полезная нагрузка) - она отправляется при установлении соединения. Т.к. вся эта \"полезная нагрузка\" отправляется в формате JSON по вебсокету, удобно поместить список параметров в `@dataclass`"
   ]
  },
  {
   "cell_type": "code",
   "execution_count": 4,
   "id": "029e6bbd",
   "metadata": {},
   "outputs": [],
   "source": [
    "from dataclasses import dataclass\n",
    "\n",
    "@dataclass\n",
    "class GatewayMessage():\n",
    "    op: int\n",
    "    data: object\n",
    "    sequence: int\n",
    "    name: str"
   ]
  },
  {
   "cell_type": "markdown",
   "id": "08411f98",
   "metadata": {},
   "source": [
    "Написать просто `async with websockets.connect(GATEWAY_URL) as ws:` мы не можем, это должно быть внутри асинхронной функции."
   ]
  },
  {
   "cell_type": "code",
   "execution_count": 11,
   "id": "f266f0f0",
   "metadata": {},
   "outputs": [
    {
     "name": "stdout",
     "output_type": "stream",
     "text": [
      "{\"t\":null,\"s\":null,\"op\":10,\"d\":{\"heartbeat_interval\":41250,\"_trace\":[\"[\\\"gateway-prd-main-2ssv\\\",{\\\"micros\\\":0.0}]\"]}}\n"
     ]
    }
   ],
   "source": [
    "async def run_connection():\n",
    "    async with websockets.connect(GATEWAY_URL) as ws:\n",
    "        async for msg in ws:\n",
    "            print(msg)\n",
    "\n",
    "task1 = asyncio.create_task(run_connection())"
   ]
  },
  {
   "cell_type": "markdown",
   "id": "188f9c46",
   "metadata": {},
   "source": [
    "<img src=\"003.png\">\n",
    "Можно еще так написать, хз в чем отличие "
   ]
  },
  {
   "cell_type": "markdown",
   "id": "8296d48a",
   "metadata": {},
   "source": [
    "Пишем три важные составляющие любого соединения: receiver, sender, ping"
   ]
  },
  {
   "cell_type": "code",
   "execution_count": null,
   "id": "889c7f58",
   "metadata": {},
   "outputs": [],
   "source": []
  },
  {
   "cell_type": "code",
   "execution_count": 13,
   "id": "8e6c5558",
   "metadata": {},
   "outputs": [
    {
     "name": "stdout",
     "output_type": "stream",
     "text": [
      "Retrieving Discord's build number...\n",
      "Could not retrieve discord build number.\n",
      "invalid literal for int() with base 10: 'ull!=='\n",
      " [+] (<discum.start.login.Login->getXFingerprint) Get -> https://discord.com/api/v9/experiments\n",
      " [+] (<discum.start.login.Login->getXFingerprint) Response <- b'{\"fingerprint\": \"971363433494745088.JrwDrbEbXZAFRv92QYDTYaPZXCs\", \"assignments\": [[70411085, 0, 1, -1, 0], [16416918, 0, 1, -1, 0], [3816091942, 3, 0, -1, 0], [4130837190, 0, 10, -1, 0], [852550504, 3, 1, -1, 0], [2599708267, 0, 1, -1, 0], [1365487849, 6, 1, -1, 0], [3128009767, 0, 10, -1, 0], [2973729510, 2, 1, -1, 0], [2571931329, 1, 6, -1, 0], [1260103069, 0, 1, -1, 0], [2003494159, 1, 1, -1, 0], [2458926251, 1, 6, -1, 2], [4027800, 1, 6, -1, 3], [51193042, 0, 1, -1, 0], [2063302207, 1, 1, -1, 0], [2634540382, 3, 1, -1, 0], [427713714, 0, 1, -1, 0], [3316720711, 0, 1, -1, 1], [156590431, 0, 1, -1, 2], [1126477623, 0, 1, -1, 0], [2617218444, 4, 1, -1, 2], [3615263239, 0, 1, -1, 0], [414823706, 0, 1, -1, 0], [3035674767, 0, 1, -1, 0], [261678880, 0, 1, -1, 0], [1758928808, 2, 1, -1, 0], [144783748, 0, 1, -1, 0], [2311413706, 0, 1, -1, 0], [1304635016, 0, 1, -1, 0], [2031154483, 0, 1, -1, 0], [1609782151, 0, 1, -1, 2], [1047093347, 0, 1, -1, 2], [3354177721, 0, 1, -1, 0], [3643362751, 0, 1, -1, 0], [698017395, 0, 1, -1, 0], [902020832, 3, 3, -1, 1], [1503481915, 0, 1, -1, 2], [3346844407, 0, 1, -1, 0], [3753034466, 1, 2, -1, 0], [881221695, 1, 1, -1, 0], [105505141, 1, 1, -1, 1], [3921541483, 2, 1, -1, 0], [3125584553, 1, 1, -1, 0], [219203323, 1, 1, -1, 0], [2854861606, 0, 1, -1, 1], [203190011, 0, 1, -1, 0], [2416791266, 1, 1, -1, 0], [1740882580, 1, 1, -1, 0], [3526033165, 0, 1, -1, 0], [3699939463, 0, 1, -1, 2], [1913882179, 0, 1, -1, 2], [3884403666, 1, 1, -1, 0], [949804751, 3, 1, -1, 0], [2365882538, 1, 1, -1, 0], [2780619238, 1, 0, -1, 0], [2839301427, 1, 1, -1, 0], [2740541143, 1, 1, -1, 0], [1567199723, 0, 1, -1, 1], [2237617796, 0, 1, -1, 0], [2804024497, 0, 1, -1, 2], [2481496956, 0, 1, -1, 0], [1305004983, 0, 1, -1, 0], [4196771574, 6, 6, -1, 0], [3121542871, 1, 1, -1, 0], [934741861, 2, 1, -1, 1], [2639499196, 3, 1, -1, 1], [1926403380, 0, 1, -1, 0], [1175582167, 1, 1, -1, 0], [2012365622, 0, 0, -1, 0], [3615787841, 0, 1, -1, 0], [1369422507, 0, 1, -1, 0], [4257117014, 1, 1, -1, 0], [2191591221, 0, 1, -1, 0], [1860870966, 0, 1, -1, 0], [613690816, 2, 1, -1, 0], [754424255, 0, 1, -1, 0], [282861292, 0, 0, -1, 0], [2950595281, 2, 1, -1, 0], [4263969313, 2, 1, -1, 2], [2496945544, 0, 0, -1, 0], [3662016164, 3, 2, -1, 0], [2486607747, 0, 0, -1, 0], [604497254, 0, 0, -1, 0], [2736193736, 0, 1, -1, 0], [1138665623, 0, 1, -1, 0], [3542498455, 0, 1, -1, 0], [723256323, 0, 1, -1, 0], [3805175685, 0, 1, -1, 0], [3866818837, 0, 1, -1, 0], [3450899088, 1, 1, -1, 0], [334012295, 0, 1, -1, 0], [1685515200, 0, 7, -1, 0], [1748842958, 1, 1, -1, 0], [899439768, 1, 1, -1, 0], [1216567253, 0, 1, -1, 0], [4100056516, 0, 1, -1, 3], [3047034364, 0, 2, -1, 0], [799757083, 0, 3, -1, 0], [854704408, 0, 1, -1, 0], [1218854292, 0, 1, -1, 0], [1308053712, 0, 1, -1, 0], [1363066938, 3, 1, -1, 1], [3011681066, 0, 1, -1, 0], [1814483290, 0, 1, -1, 0], [3074844387, 0, 2, -1, 0], [2855612301, 0, 1, -1, 0], [4084522269, 0, 1, -1, 0], [1613012371, 0, 1, -1, 0], [3567821600, 0, 1, -1, 1], [3557480712, 0, 1, -1, 0], [3606428003, 0, 1, -1, 0], [2815803943, 0, 0, -1, 0], [4133365553, 0, 0, -1, 0], [3889077804, 2, 1, -1, 0], [4079214319, 2, 1, -1, 0], [2447247632, 4, 0, -1, 0], [1621989768, 0, 0, -1, 0], [191312409, 2, 1, -1, 0]]}'\n"
     ]
    }
   ],
   "source": [
    "bot = discum.Client(token=\"NTI3MTM5MTg3NTQ0MjkzMzc3.YnEzvQ.EGbaAIdgKt4VA-NxxvGSrSkZzFY\")"
   ]
  },
  {
   "cell_type": "code",
   "execution_count": 10,
   "id": "7255cadc",
   "metadata": {
    "scrolled": true
   },
   "outputs": [
    {
     "name": "stdout",
     "output_type": "stream",
     "text": [
      "Retrieving Discord's build number...\n",
      "Could not retrieve discord build number.\n",
      "invalid literal for int() with base 10: 'ull!=='\n",
      " [+] (<discum.start.login.Login->getXFingerprint) Get -> https://discord.com/api/v9/experiments\n",
      " [+] (<discum.start.login.Login->getXFingerprint) Response <- b'{\"fingerprint\": \"971332432223686696._MwAPdUb56o51ifpnwOM6zSvsS0\", \"assignments\": [[70411085, 0, 1, -1, 0], [16416918, 0, 1, -1, 0], [3816091942, 3, 2, -1, 0], [4130837190, 0, 10, -1, 0], [852550504, 3, 1, -1, 0], [2599708267, 0, 1, -1, 0], [1365487849, 6, 1, -1, 0], [3128009767, 0, 10, -1, 0], [2973729510, 2, 1, -1, 0], [2571931329, 1, 6, -1, 0], [1260103069, 0, 1, -1, 0], [2003494159, 1, 1, -1, 0], [2458926251, 1, 6, -1, 2], [4027800, 1, 6, -1, 3], [51193042, 0, 1, -1, 0], [2063302207, 1, 1, -1, 0], [2634540382, 3, 1, -1, 0], [427713714, 0, 1, -1, 0], [3316720711, 0, 1, -1, 1], [156590431, 0, 1, -1, 2], [1126477623, 0, 1, -1, 0], [2617218444, 4, 1, -1, 2], [3615263239, 0, 1, -1, 0], [414823706, 0, 1, -1, 0], [3035674767, 0, 1, -1, 0], [261678880, 0, 1, -1, 0], [1758928808, 2, 1, -1, 0], [144783748, 0, 1, -1, 0], [2311413706, 0, 1, -1, 0], [1304635016, 0, 1, -1, 0], [2031154483, 0, 1, -1, 0], [1609782151, 0, 1, -1, 2], [1047093347, 0, 1, -1, 2], [3354177721, 0, 1, -1, 0], [3643362751, 0, 1, -1, 0], [698017395, 0, 1, -1, 0], [902020832, 3, 3, -1, 1], [1503481915, 0, 1, -1, 2], [3346844407, 0, 1, -1, 0], [3753034466, 1, 2, -1, 0], [881221695, 1, 1, -1, 0], [105505141, 1, 1, -1, 1], [3921541483, 2, 1, -1, 0], [3125584553, 1, 1, -1, 0], [219203323, 1, 1, -1, 0], [2854861606, 0, 1, -1, 1], [203190011, 0, 1, -1, 0], [2416791266, 1, 1, -1, 0], [1740882580, 1, 1, -1, 0], [3526033165, 0, 1, -1, 0], [3699939463, 0, 1, -1, 2], [1913882179, 0, 1, -1, 2], [3884403666, 1, 1, -1, 0], [949804751, 3, 1, -1, 0], [2365882538, 1, 1, -1, 0], [2839301427, 1, 1, -1, 0], [2740541143, 1, 1, -1, 0], [1567199723, 0, 1, -1, 1], [2237617796, 0, 1, -1, 0], [2804024497, 0, 1, -1, 2], [2481496956, 0, 1, -1, 0], [1305004983, 0, 1, -1, 0], [4196771574, 6, 6, -1, 0], [3121542871, 1, 1, -1, 0], [934741861, 2, 1, -1, 1], [2639499196, 3, 1, -1, 1], [1926403380, 0, 1, -1, 0], [1175582167, 1, 1, -1, 0], [2012365622, 0, 2, -1, 0], [3615787841, 0, 1, -1, 0], [1369422507, 0, 1, -1, 0], [4257117014, 1, 0, -1, 0], [2191591221, 0, 1, -1, 0], [1860870966, 0, 1, -1, 0], [613690816, 2, 1, -1, 0], [754424255, 0, 0, -1, 0], [282861292, 0, 1, -1, 0], [2950595281, 2, 1, -1, 0], [4263969313, 2, 1, -1, 2], [2496945544, 0, 1, -1, 0], [3662016164, 3, 2, -1, 0], [2486607747, 0, 1, -1, 0], [604497254, 0, 1, -1, 0], [2736193736, 0, 1, -1, 0], [1138665623, 0, 1, -1, 0], [3542498455, 0, 1, -1, 0], [723256323, 0, 1, -1, 0], [3805175685, 0, 1, -1, 0], [3866818837, 0, 0, -1, 0], [3450899088, 1, 1, -1, 0], [334012295, 0, 1, -1, 0], [1685515200, 0, 7, -1, 0], [1748842958, 1, 1, -1, 0], [899439768, 1, 1, -1, 0], [1216567253, 0, 1, -1, 0], [4100056516, 0, 1, -1, 3], [3047034364, 0, 2, -1, 0], [799757083, 0, 3, -1, 0], [854704408, 0, 1, -1, 0], [1218854292, 0, 1, -1, 0], [1308053712, 0, 1, -1, 0], [1363066938, 3, 1, -1, 1], [3011681066, 0, 1, -1, 0], [1814483290, 0, 1, -1, 0], [3074844387, 0, 3, -1, 0], [2855612301, 0, 1, -1, 0], [4084522269, 0, 1, -1, 0], [1613012371, 0, 0, -1, 0], [3567821600, 0, 0, -1, 1], [3557480712, 0, 1, -1, 0], [3606428003, 0, 1, -1, 0], [2815803943, 0, 1, -1, 0], [3889077804, 2, 1, -1, 0], [4079214319, 2, 1, -1, 0], [1621989768, 0, 0, -1, 0], [191312409, 2, 1, -1, 0]]}'\n"
     ]
    }
   ],
   "source": [
    "bot = discum.Client(token=authorizations[\"my\"])"
   ]
  },
  {
   "cell_type": "code",
   "execution_count": 8,
   "id": "bbfb24c7",
   "metadata": {},
   "outputs": [
    {
     "name": "stdout",
     "output_type": "stream",
     "text": [
      " [+] (<discum.messages.messages.Messages->sendMessage) Post -> https://discord.com/api/v9/channels/616695996436447251/messages\n",
      " [+] (<discum.messages.messages.Messages->sendMessage) {\"content\": \"\\u0412\\u0430\\u043b\", \"tts\": false, \"nonce\": \"971330639888384000\"}\n",
      " [+] (<discum.messages.messages.Messages->sendMessage) Response <- b'{\"message\": \"Unknown Channel\", \"code\": 10003}'\n",
      " [+] (<discum.messages.messages.Messages->sendMessage) Post -> https://discord.com/api/v9/channels/616695996436447251/messages\n",
      " [+] (<discum.messages.messages.Messages->sendMessage) {\"content\": \"\\u044f \\u0433\", \"tts\": false, \"nonce\": \"971330644082688000\"}\n",
      " [+] (<discum.messages.messages.Messages->sendMessage) Response <- b'{\"message\": \"Unknown Channel\", \"code\": 10003}'\n",
      " [+] (<discum.messages.messages.Messages->sendMessage) Post -> https://discord.com/api/v9/channels/616695996436447251/messages\n",
      " [+] (<discum.messages.messages.Messages->sendMessage) {\"content\": \"\\u0434\\u0435 \", \"tts\": false, \"nonce\": \"971330644082688000\"}\n",
      " [+] (<discum.messages.messages.Messages->sendMessage) Response <- b'{\"message\": \"Unknown Channel\", \"code\": 10003}'\n",
      " [+] (<discum.messages.messages.Messages->sendMessage) Post -> https://discord.com/api/v9/channels/616695996436447251/messages\n",
      " [+] (<discum.messages.messages.Messages->sendMessage) {\"content\": \"\\u0442\\u044b \", \"tts\": false, \"nonce\": \"971330648276992000\"}\n",
      " [+] (<discum.messages.messages.Messages->sendMessage) Response <- b'{\"message\": \"Unknown Channel\", \"code\": 10003}'\n",
      " [+] (<discum.messages.messages.Messages->sendMessage) Post -> https://discord.com/api/v9/channels/616695996436447251/messages\n",
      " [+] (<discum.messages.messages.Messages->sendMessage) {\"content\": \"\\u0448\\u043b\\u044f\", \"tts\": false, \"nonce\": \"971330648276992000\"}\n",
      " [+] (<discum.messages.messages.Messages->sendMessage) Response <- b'{\"message\": \"Unknown Channel\", \"code\": 10003}'\n",
      " [+] (<discum.messages.messages.Messages->sendMessage) Post -> https://discord.com/api/v9/channels/616695996436447251/messages\n",
      " [+] (<discum.messages.messages.Messages->sendMessage) {\"content\": \"\\u0435\\u0448\\u044c\", \"tts\": false, \"nonce\": \"971330648276992000\"}\n",
      " [+] (<discum.messages.messages.Messages->sendMessage) Response <- b'{\"message\": \"Unknown Channel\", \"code\": 10003}'\n",
      " [+] (<discum.messages.messages.Messages->sendMessage) Post -> https://discord.com/api/v9/channels/616695996436447251/messages\n",
      " [+] (<discum.messages.messages.Messages->sendMessage) {\"content\": \"\\u0441\\u044f,\", \"tts\": false, \"nonce\": \"971330652471296000\"}\n",
      " [+] (<discum.messages.messages.Messages->sendMessage) Response <- b'{\"message\": \"Unknown Channel\", \"code\": 10003}'\n",
      " [+] (<discum.messages.messages.Messages->sendMessage) Post -> https://discord.com/api/v9/channels/616695996436447251/messages\n",
      " [+] (<discum.messages.messages.Messages->sendMessage) {\"content\": \" \\u044d\\u0442\", \"tts\": false, \"nonce\": \"971330652471296000\"}\n",
      " [+] (<discum.messages.messages.Messages->sendMessage) Response <- b'{\"message\": \"Unknown Channel\", \"code\": 10003}'\n",
      " [+] (<discum.messages.messages.Messages->sendMessage) Post -> https://discord.com/api/v9/channels/616695996436447251/messages\n",
      " [+] (<discum.messages.messages.Messages->sendMessage) {\"content\": \"\\u043e \\u0441\", \"tts\": false, \"nonce\": \"971330656665600000\"}\n",
      " [+] (<discum.messages.messages.Messages->sendMessage) Response <- b'{\"message\": \"Unknown Channel\", \"code\": 10003}'\n",
      " [+] (<discum.messages.messages.Messages->sendMessage) Post -> https://discord.com/api/v9/channels/616695996436447251/messages\n",
      " [+] (<discum.messages.messages.Messages->sendMessage) {\"content\": \"\\u043e\\u043e\\u0431\", \"tts\": false, \"nonce\": \"971330656665600000\"}\n",
      " [+] (<discum.messages.messages.Messages->sendMessage) Response <- b'{\"message\": \"Unknown Channel\", \"code\": 10003}'\n",
      " [+] (<discum.messages.messages.Messages->sendMessage) Post -> https://discord.com/api/v9/channels/616695996436447251/messages\n",
      " [+] (<discum.messages.messages.Messages->sendMessage) {\"content\": \"\\u0449\\u0435\\u043d\", \"tts\": false, \"nonce\": \"971330660859904000\"}\n",
      " [+] (<discum.messages.messages.Messages->sendMessage) Response <- b'{\"message\": \"Unknown Channel\", \"code\": 10003}'\n",
      " [+] (<discum.messages.messages.Messages->sendMessage) Post -> https://discord.com/api/v9/channels/616695996436447251/messages\n",
      " [+] (<discum.messages.messages.Messages->sendMessage) {\"content\": \"\\u0438\\u0435 \", \"tts\": false, \"nonce\": \"971330660859904000\"}\n",
      " [+] (<discum.messages.messages.Messages->sendMessage) Response <- b'{\"message\": \"Unknown Channel\", \"code\": 10003}'\n",
      " [+] (<discum.messages.messages.Messages->sendMessage) Post -> https://discord.com/api/v9/channels/616695996436447251/messages\n",
      " [+] (<discum.messages.messages.Messages->sendMessage) {\"content\": \"\\u043e\\u0442\\u043f\", \"tts\": false, \"nonce\": \"971330665054208000\"}\n",
      " [+] (<discum.messages.messages.Messages->sendMessage) Response <- b'{\"message\": \"Unknown Channel\", \"code\": 10003}'\n",
      " [+] (<discum.messages.messages.Messages->sendMessage) Post -> https://discord.com/api/v9/channels/616695996436447251/messages\n",
      " [+] (<discum.messages.messages.Messages->sendMessage) {\"content\": \"\\u0440\\u0430\\u0432\", \"tts\": false, \"nonce\": \"971330665054208000\"}\n",
      " [+] (<discum.messages.messages.Messages->sendMessage) Response <- b'{\"message\": \"Unknown Channel\", \"code\": 10003}'\n",
      " [+] (<discum.messages.messages.Messages->sendMessage) Post -> https://discord.com/api/v9/channels/616695996436447251/messages\n",
      " [+] (<discum.messages.messages.Messages->sendMessage) {\"content\": \"\\u043b\\u0435\\u043d\", \"tts\": false, \"nonce\": \"971330669248512000\"}\n",
      " [+] (<discum.messages.messages.Messages->sendMessage) Response <- b'{\"message\": \"Unknown Channel\", \"code\": 10003}'\n",
      " [+] (<discum.messages.messages.Messages->sendMessage) Post -> https://discord.com/api/v9/channels/616695996436447251/messages\n",
      " [+] (<discum.messages.messages.Messages->sendMessage) {\"content\": \"\\u043e \\u0447\", \"tts\": false, \"nonce\": \"971330669248512000\"}\n",
      " [+] (<discum.messages.messages.Messages->sendMessage) Response <- b'{\"message\": \"Unknown Channel\", \"code\": 10003}'\n",
      " [+] (<discum.messages.messages.Messages->sendMessage) Post -> https://discord.com/api/v9/channels/616695996436447251/messages\n",
      " [+] (<discum.messages.messages.Messages->sendMessage) {\"content\": \"\\u0435\\u0440\\u0435\", \"tts\": false, \"nonce\": \"971330669248512000\"}\n",
      " [+] (<discum.messages.messages.Messages->sendMessage) Response <- b'{\"message\": \"Unknown Channel\", \"code\": 10003}'\n",
      " [+] (<discum.messages.messages.Messages->sendMessage) Post -> https://discord.com/api/v9/channels/616695996436447251/messages\n",
      " [+] (<discum.messages.messages.Messages->sendMessage) {\"content\": \"\\u0437 \\u0436\", \"tts\": false, \"nonce\": \"971330673442816000\"}\n",
      " [+] (<discum.messages.messages.Messages->sendMessage) Response <- b'{\"message\": \"Unknown Channel\", \"code\": 10003}'\n",
      " [+] (<discum.messages.messages.Messages->sendMessage) Post -> https://discord.com/api/v9/channels/616695996436447251/messages\n",
      " [+] (<discum.messages.messages.Messages->sendMessage) {\"content\": \"\\u0443\\u043f\\u0443\", \"tts\": false, \"nonce\": \"971330673442816000\"}\n",
      " [+] (<discum.messages.messages.Messages->sendMessage) Response <- b'{\"message\": \"Unknown Channel\", \"code\": 10003}'\n",
      " [+] (<discum.messages.messages.Messages->sendMessage) Post -> https://discord.com/api/v9/channels/616695996436447251/messages\n",
      " [+] (<discum.messages.messages.Messages->sendMessage) {\"content\": \"\\u0442\\u0443\\u0440\", \"tts\": false, \"nonce\": \"971330677637120000\"}\n",
      " [+] (<discum.messages.messages.Messages->sendMessage) Response <- b'{\"message\": \"Unknown Channel\", \"code\": 10003}'\n",
      " [+] (<discum.messages.messages.Messages->sendMessage) Post -> https://discord.com/api/v9/channels/616695996436447251/messages\n",
      " [+] (<discum.messages.messages.Messages->sendMessage) {\"content\": \", \\u0431\", \"tts\": false, \"nonce\": \"971330677637120000\"}\n",
      " [+] (<discum.messages.messages.Messages->sendMessage) Response <- b'{\"message\": \"Unknown Channel\", \"code\": 10003}'\n",
      " [+] (<discum.messages.messages.Messages->sendMessage) Post -> https://discord.com/api/v9/channels/616695996436447251/messages\n",
      " [+] (<discum.messages.messages.Messages->sendMessage) {\"content\": \"\\u044b\\u0441\\u0442\", \"tts\": false, \"nonce\": \"971330677637120000\"}\n",
      " [+] (<discum.messages.messages.Messages->sendMessage) Response <- b'{\"message\": \"Unknown Channel\", \"code\": 10003}'\n",
      " [+] (<discum.messages.messages.Messages->sendMessage) Post -> https://discord.com/api/v9/channels/616695996436447251/messages\n",
      " [+] (<discum.messages.messages.Messages->sendMessage) {\"content\": \"\\u0440\\u0430 \", \"tts\": false, \"nonce\": \"971330681831424000\"}\n",
      " [+] (<discum.messages.messages.Messages->sendMessage) Response <- b'{\"message\": \"Unknown Channel\", \"code\": 10003}'\n",
      " [+] (<discum.messages.messages.Messages->sendMessage) Post -> https://discord.com/api/v9/channels/616695996436447251/messages\n",
      " [+] (<discum.messages.messages.Messages->sendMessage) {\"content\": \"\\u0432\\u043e\\u0432\", \"tts\": false, \"nonce\": \"971330681831424000\"}\n",
      " [+] (<discum.messages.messages.Messages->sendMessage) Response <- b'{\"message\": \"Unknown Channel\", \"code\": 10003}'\n",
      " [+] (<discum.messages.messages.Messages->sendMessage) Post -> https://discord.com/api/v9/channels/616695996436447251/messages\n",
      " [+] (<discum.messages.messages.Messages->sendMessage) {\"content\": \"\\u0437\\u0440\\u0430\", \"tts\": false, \"nonce\": \"971330686025728000\"}\n",
      " [+] (<discum.messages.messages.Messages->sendMessage) Response <- b'{\"message\": \"Unknown Channel\", \"code\": 10003}'\n",
      " [+] (<discum.messages.messages.Messages->sendMessage) Post -> https://discord.com/api/v9/channels/616695996436447251/messages\n",
      " [+] (<discum.messages.messages.Messages->sendMessage) {\"content\": \"\\u0449\\u0430\\u0439\", \"tts\": false, \"nonce\": \"971330686025728000\"}\n",
      " [+] (<discum.messages.messages.Messages->sendMessage) Response <- b'{\"message\": \"Unknown Channel\", \"code\": 10003}'\n",
      " [+] (<discum.messages.messages.Messages->sendMessage) Post -> https://discord.com/api/v9/channels/616695996436447251/messages\n",
      " [+] (<discum.messages.messages.Messages->sendMessage) {\"content\": \"\\u0441\\u044f \", \"tts\": false, \"nonce\": \"971330690220032000\"}\n",
      " [+] (<discum.messages.messages.Messages->sendMessage) Response <- b'{\"message\": \"Unknown Channel\", \"code\": 10003}'\n",
      " [+] (<discum.messages.messages.Messages->sendMessage) Post -> https://discord.com/api/v9/channels/616695996436447251/messages\n",
      " [+] (<discum.messages.messages.Messages->sendMessage) {\"content\": \"\\u043f\\u0430\\u0434\", \"tts\": false, \"nonce\": \"971330690220032000\"}\n",
      " [+] (<discum.messages.messages.Messages->sendMessage) Response <- b'{\"message\": \"Unknown Channel\", \"code\": 10003}'\n"
     ]
    }
   ],
   "source": [
    "s = 'Валя где ты шляешься, это сообщение отправлено через жупутур, быстра вовзращайся падла'\n",
    "for i in [s[i]+s[i+1]+s[i+2] for i in range(0, len(s)-2, 3)]:\n",
    "    \n",
    "    bot.sendMessage('616695996436447251', i)"
   ]
  },
  {
   "cell_type": "code",
   "execution_count": 9,
   "id": "045b19d0",
   "metadata": {},
   "outputs": [
    {
     "name": "stdout",
     "output_type": "stream",
     "text": [
      " [+] (<discum.messages.messages.Messages->sendMessage) Post -> https://discord.com/api/v9/channels/616695996436447251/messages\n",
      " [+] (<discum.messages.messages.Messages->sendMessage) {\"content\": \"Hello\", \"tts\": false, \"nonce\": \"971331575218176000\"}\n",
      " [+] (<discum.messages.messages.Messages->sendMessage) Response <- b'{\"message\": \"Unknown Channel\", \"code\": 10003}'\n"
     ]
    },
    {
     "data": {
      "text/plain": [
       "<Response [404]>"
      ]
     },
     "execution_count": 9,
     "metadata": {},
     "output_type": "execute_result"
    }
   ],
   "source": [
    "bot.sendMessage('616695996436447251', 'Hello')"
   ]
  },
  {
   "cell_type": "code",
   "execution_count": null,
   "id": "98ae8617",
   "metadata": {},
   "outputs": [],
   "source": []
  },
  {
   "cell_type": "code",
   "execution_count": null,
   "id": "af9cc62e",
   "metadata": {},
   "outputs": [],
   "source": [
    "def close_after_fetching(resp, guild_id):\n",
    "    if bot.gateway.finishedMemberFetching(guild_id):\n",
    "        lenmembersfetched = len(bot.gateway.session.guild(guild_id).members)  # this line is optional\n",
    "        print(str(lenmembersfetched)+' members fetched')\n",
    "        bot.gateway.removeCommand({'function': close_after_fetching, 'params': {'guild_id': guild_id}})\n",
    "        bot.gateway.close()"
   ]
  },
  {
   "cell_type": "code",
   "execution_count": null,
   "id": "85d1d290",
   "metadata": {},
   "outputs": [],
   "source": [
    "def get_members(guild_id, channel_id):\n",
    "    bot.gateway.fetchMembers(guild_id, channel_id, keep=\"all\", wait=1)  # get all user attributes, wait 1 second between requests\n",
    "    bot.gateway.command({'function': close_after_fetching, 'params': {'guild_id': guild_id}})\n",
    "    bot.gateway.run()\n",
    "    bot.gateway.resetSession()  # saves 10 seconds when gateway is run again\n",
    "    return bot.gateway.session.guild(guild_id).members"
   ]
  },
  {
   "cell_type": "code",
   "execution_count": null,
   "id": "5f275ffc",
   "metadata": {},
   "outputs": [],
   "source": [
    "members = get_members(guild_id='948163452357214278', channel_id='948325458611687544')\n",
    "memberslist = []\n",
    "\n",
    "for memberID in members:\n",
    "    memberslist.append(memberID)\n",
    "    print(memberID)\n",
    "\n",
    "f = open('users.txt', \"a\")\n",
    "for element in memberslist:\n",
    "    f.write(element + '\\n')\n",
    "f.close()"
   ]
  },
  {
   "cell_type": "code",
   "execution_count": null,
   "id": "986d43c6",
   "metadata": {},
   "outputs": [],
   "source": [
    "bot.getOauth2Tokens()"
   ]
  }
 ],
 "metadata": {
  "kernelspec": {
   "display_name": "venvkernelname",
   "language": "python",
   "name": "venvkernelname"
  },
  "language_info": {
   "codemirror_mode": {
    "name": "ipython",
    "version": 3
   },
   "file_extension": ".py",
   "mimetype": "text/x-python",
   "name": "python",
   "nbconvert_exporter": "python",
   "pygments_lexer": "ipython3",
   "version": "3.9.10"
  },
  "latex_envs": {
   "LaTeX_envs_menu_present": true,
   "autoclose": false,
   "autocomplete": true,
   "bibliofile": "biblio.bib",
   "cite_by": "apalike",
   "current_citInitial": 1,
   "eqLabelWithNumbers": true,
   "eqNumInitial": 1,
   "hotkeys": {
    "equation": "Ctrl-E",
    "itemize": "Ctrl-I"
   },
   "labels_anchors": false,
   "latex_user_defs": false,
   "report_style_numbering": false,
   "user_envs_cfg": false
  }
 },
 "nbformat": 4,
 "nbformat_minor": 5
}

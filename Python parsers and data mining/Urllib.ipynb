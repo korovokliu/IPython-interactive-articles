{
 "cells": [
  {
   "cell_type": "markdown",
   "id": "4daad37e",
   "metadata": {},
   "source": [
    "## GET запросы"
   ]
  },
  {
   "cell_type": "markdown",
   "id": "4ff17bb2",
   "metadata": {},
   "source": [
    "Для GET запроса достаточно функции **urlopen()** из модуля **urllib.request**:"
   ]
  },
  {
   "cell_type": "code",
   "execution_count": 8,
   "id": "e81e184f",
   "metadata": {},
   "outputs": [],
   "source": [
    "import urllib.request\n",
    "\n",
    "html_page = urllib.request.urlopen(\"https://vk.com\").read()"
   ]
  },
  {
   "cell_type": "markdown",
   "id": "e46ec601",
   "metadata": {},
   "source": [
    "*Как и в случае с методом **read()** у обычных файлов, поторный вызов этого метода приводит к чтению с того места, на котором остановился курсор, а не с самого начала. Поэтому сохранили результат чтения в переменную, чтобы работать с полученным текстом в дальнейшем без открытия ссылки заново*"
   ]
  },
  {
   "cell_type": "code",
   "execution_count": 92,
   "id": "1bf2f569",
   "metadata": {},
   "outputs": [
    {
     "name": "stdout",
     "output_type": "stream",
     "text": [
      "b'            <!DOCTYPE html>\\n      <html lang=\"ru\" class=\"vk vk_js_no vk_1x vk_flex_no r d h  vk_appAuth_no n vk_old  vk_schemes_no  \">\\n      <head>\\n              <meta charset=\"utf-8\">\\n        <meta name=\"viewport\" content=\"width=device-width, initial-scale=1.0, minimum-scale=1.0, maximum-scale=1.0, minimal-ui, user-scalable=no\" />\\n        <meta name=\"format-detection\" content=\"telephone=no\" />\\n        <meta http-equiv=\"X-UA-Compatible\" content=\"IE=edge\" />\\n        <meta name=\"MobileOptimized\" content=\"176\" />\\n        <meta name=\"HandheldFriendly\" content=\"True\" />\\n        <base id=\"base\">\\n        \\n        <meta name=\"description\" content=\"\\xd0\\x92\\xd0\\x9a\\xd0\\xbe\\xd0\\xbd\\xd1\\x82\\xd0\\xb0\\xd0\\xba\\xd1\\x82\\xd0\\xb5 \\xe2\\x80\\x93 \\xd1\\x83\\xd0\\xbd\\xd0\\xb8\\xd0\\xb2\\xd0\\xb5\\xd1\\x80\\xd1\\x81\\xd0\\xb0\\xd0\\xbb\\xd1\\x8c\\xd0\\xbd\\xd0\\xbe\\xd0\\xb5 \\xd1\\x81\\xd1\\x80\\xd0\\xb5\\xd0\\xb4\\xd1\\x81\\xd1\\x82\\xd0\\xb2\\xd0\\xbe \\xd0\\xb4\\xd0\\xbb\\xd1\\x8f \\xd0\\xbe\\xd0\\xb1\\xd1\\x89\\xd0\\xb5\\xd0\\xbd\\xd0\\xb8\\xd1\\x8f \\xd0\\xb8 \\xd0\\xbf\\xd0\\xbe\\xd0\\xb8\\xd1\\x81\\xd0\\xba\\xd0\\xb0 \\xd0\\xb4\\xd1\\x80\\xd1\\x83\\xd0\\xb7\\xd0\\xb5\\xd0\\xb9 \\xd0\\xb8 \\xd0\\xbe\\xd0\\xb4\\xd0\\xbd\\xd0\\xbe\\xd0\\xba\\xd0\\xbb\\xd0\\xb0\\xd1\\x81\\xd1\\x81\\xd0\\xbd\\xd0\\xb8\\xd0\\xba\\xd0\\xbe\\xd0\\xb2, \\xd0\\xba\\xd0\\xbe\\xd1\\x82\\xd0\\xbe\\xd1\\x80\\xd1\\x8b\\xd0\\xbc \\xd0\\xb5\\xd0\\xb6\\xd0\\xb5\\xd0\\xb4\\xd0\\xbd\\xd0\\xb5\\xd0\\xb2\\xd0\\xbd\\xd0\\xbe \\xd0\\xbf\\xd0\\xbe\\xd0\\xbb\\xd1\\x8c\\xd0\\xb7\\xd1\\x83\\xd1\\x8e\\xd1\\x82\\xd1\\x81\\xd1\\x8f \\xd0\\xb4\\xd0\\xb5\\xd1\\x81\\xd1\\x8f\\xd1\\x82\\xd0\\xba\\xd0\\xb8 \\xd0\\xbc\\xd0\\xb8\\xd0\\xbb\\xd0\\xbb\\xd0\\xb8\\xd0\\xbe\\xd0\\xbd\\xd0\\xbe\\xd0\\xb2 \\xd1\\x87\\xd0\\xb5\\xd0\\xbb\\xd0\\xbe\\xd0\\xb2\\xd0\\xb5\\xd0\\xba. \\xd0\\x9c\\xd1\\x8b \\xd1\\x85\\xd0\\xbe\\xd1\\x82\\xd0\\xb8\\xd0\\xbc, \\xd1\\x87\\xd1\\x82\\xd0\\xbe\\xd0\\xb1\\xd1\\x8b \\xd0\\xb4\\xd1\\x80\\xd1\\x83\\xd0\\xb7\\xd1\\x8c\\xd1\\x8f, \\xd0\\xbe\\xd0\\xb4\\xd0\\xbd\\xd0\\xbe\\xd0\\xba\\xd1\\x83\\xd1\\x80\\xd1\\x81\\xd0\\xbd\\xd0\\xb8\\xd0\\xba\\xd0\\xb8, \\xd0\\xbe\\xd0\\xb4\\xd0\\xbd\\xd0\\xbe\\xd0\\xba\\xd0\\xbb\\xd0\\xb0\\xd1\\x81\\xd1\\x81\\xd0\\xbd\\xd0\\xb8\\xd0\\xba\\xd0\\xb8, '\n"
     ]
    }
   ],
   "source": [
    "print(html_page[:1000])"
   ]
  },
  {
   "cell_type": "code",
   "execution_count": 2,
   "id": "4b695fb4",
   "metadata": {},
   "outputs": [
    {
     "data": {
      "text/plain": [
       "http.client.HTTPResponse"
      ]
     },
     "execution_count": 2,
     "metadata": {},
     "output_type": "execute_result"
    }
   ],
   "source": [
    "type(html_page)"
   ]
  },
  {
   "cell_type": "markdown",
   "id": "d29d148e",
   "metadata": {},
   "source": [
    "Заметим еще один полиморфизм: кроме метода **read()** для html-странички есть также метод **.decode()**, который превращает байтовое представление в строковое, аналогичный одноименному методу библиотеки xml"
   ]
  },
  {
   "cell_type": "code",
   "execution_count": 93,
   "id": "adb34c77",
   "metadata": {},
   "outputs": [
    {
     "name": "stdout",
     "output_type": "stream",
     "text": [
      "            <!DOCTYPE html>\n",
      "      <html lang=\"ru\" class=\"vk vk_js_no vk_1x vk_flex_no r d h  vk_appAuth_no n vk_old  vk_schemes_no  \">\n",
      "      <head>\n",
      "              <meta charset=\"utf-8\">\n",
      "        <meta name=\"viewport\" content=\"width=device-width, initial-scale=1.0, minimum-scale=1.0, maximum-scale=1.0, minimal-ui, user-scalable=no\" />\n",
      "        <meta name=\"format-detection\" content=\"telephone=no\" />\n",
      "        <meta http-equiv=\"X-UA-Compatible\" content=\"IE=edge\" />\n",
      "        <meta name=\"MobileOptimized\" content=\"176\" />\n",
      "        <meta name=\"HandheldFriendly\" content=\"True\" />\n",
      "        <base id=\"base\">\n",
      "        \n",
      "        <meta name=\"description\" content=\"ВКонтакте – универсальное средство для общения и поиска друзей и одноклассников, которым ежедневно пользуются десятки миллионов человек. Мы хотим, чтобы друзья, однокурсники, одноклассники, соседи и коллеги всегда оставались в контакте.\" />\n",
      "        <meta property=\"og:description\" content=\"ВКонтакте – универсальное средство для общения и поиска друзей\n"
     ]
    }
   ],
   "source": [
    "print(html_page.decode('utf-8')[:1000])"
   ]
  },
  {
   "cell_type": "markdown",
   "id": "07a6b7cd",
   "metadata": {},
   "source": [
    "-----------------"
   ]
  },
  {
   "cell_type": "markdown",
   "id": "3d19dbf4",
   "metadata": {},
   "source": [
    "## POST запросы"
   ]
  },
  {
   "cell_type": "markdown",
   "id": "3dd45100",
   "metadata": {},
   "source": [
    "POST запросы построил помимо URL сайта имеют ещё параметры.\n",
    "\n",
    "Например, запрос в виде https://pythonprogramming.net – это GET запрос, потому что не содержит параметров, а вот  https://pythonprogramming.net/?s=basic&submit=Search – POST запрос, т.к. у него есть список параметров (полученный после ввода в поле поиска слова basic)"
   ]
  },
  {
   "cell_type": "markdown",
   "id": "40358278",
   "metadata": {},
   "source": [
    "В urllib уже при создании простого POST запроса начинаются запарки: кроме модуля request нужен модуль для декодирования\n",
    "\n",
    "Алгоритм действий следующий:\n",
    "1. Записать основной url в одну переменную, а параметры запроса со значениями в другую переменную в виде словаря.\n",
    "2. Передать параметры функции **urlencode()**, которая правильно составит из них POST запрос (например, + между словами или %20 вместо пробела как в ссылке www.google.com/search?q=parsing+\"python%20programming\")\n",
    "3. Закодировать выданный **urlencode()** результат из utf-8 в тип bytes с помощью функции **encode()**\n",
    "4. Делаем наконец-то POST запрос через класс **Request** (вместо функции **urlopen()**)\n",
    "5. Получаем ответ сервера через urlopen()"
   ]
  },
  {
   "cell_type": "code",
   "execution_count": 104,
   "id": "21471905",
   "metadata": {},
   "outputs": [
    {
     "name": "stdout",
     "output_type": "stream",
     "text": [
      "-tutorials/\" class=\"waves-effect waves-light\" style=\"color:#000\">\n",
      "\t\t\t<div class=\"card-panel hoverable\" style=\"height:360px; background-color:#FFFFFF;\">\n",
      "\t\t\t\t<div class=\"card-image\">\n",
      "\t\t\t\t  <img class=\"responsive-img\" src=\"/static/images/categories/pygame-tutorials.png\" style=\"width:250px\">\n",
      "\t\t\t\t  <br><span class=\"card-title\"><strong>Game Development</strong></span>\n",
      "\t\t\t\t</div>\n",
      "\t\t\t\t<div class=\"card-content\">\n",
      "\t\t\t\t  <p>Create your own games with Python's PyGame library, or check out the multi-platform Kivy.</p>\n",
      "\t\t\t\t</div>\n",
      "\t\t\t\t<div class=\"card-action right-align\">\n",
      "\t\t\t\t  <a href=\"/game-development-tutorials/\" class=\"waves-effect waves-light btn\" style=\"color:#000000; background-color:#FFD166\">View</a>\n",
      "\t\t\t\t</div>\n",
      "            </div>\n",
      "            </a>\n",
      "\t\t</div>\n",
      "\n",
      "\n",
      "\n",
      "\t\t<div class=\"col l3 s12 m6\">\n",
      "\t\t\t<a href=\"/python-fundamental-tutorials/\" class=\"waves-effect waves-light\" style=\"color:#000\">\n",
      "\t\t\t<div class=\"card-panel hoverable\" style=\"height:360px; background-color:#FFFFFF;\">\n",
      "\t\t\t\t<div class=\"card-image\">\n",
      "\t\t\t\t  <img class=\"responsive-img\" src=\"/static/images/categories/python-3-basics.png\" style=\"width:250px\">\n",
      "\t\t\t\t  <br><span class=\"card-title\"><strong>Python Fundamentals</strong></span>\n",
      "\t\t\t\t</div>\n",
      "\n"
     ]
    }
   ],
   "source": [
    "import urllib.request\n",
    "\n",
    "url = r'https://pythonprogramming.net' # 1 - основная ссылка\n",
    "params = {'s': 'basic',  # 1 - параметры запроса\n",
    "         'submit': 'search'}\n",
    "data = urllib.parse.urlencode(params)  # 2 - составляем правильный запрос\n",
    "data = data.encode('utf-8') # 3 - кодируем из str в bytes\n",
    "req = urllib.request.Request(url, data) # 4 - делаем запрос\n",
    "resp = urllib.request.urlopen(req) # 5 - получаем ответ\n",
    "\n",
    "(print(resp.read().decode(\"utf-8\")[7500:8700]))"
   ]
  },
  {
   "cell_type": "markdown",
   "id": "014a4c84",
   "metadata": {},
   "source": [
    "---------------------"
   ]
  },
  {
   "cell_type": "markdown",
   "id": "058c346c",
   "metadata": {},
   "source": [
    "Далеко не все сайты разрешают роботам парсить их напрямую, вместо использования API. В частности, если мы попытаемся сделать запрос в гугл: "
   ]
  },
  {
   "cell_type": "code",
   "execution_count": 9,
   "id": "51a48a71",
   "metadata": {},
   "outputs": [
    {
     "name": "stdout",
     "output_type": "stream",
     "text": [
      "HTTP Error 403: Forbidden\n"
     ]
    }
   ],
   "source": [
    "try:\n",
    "    open_url = lambda url: urllib.request.urlopen(url).read()\n",
    "    print(open_url(\"https://www.google.com/search?q=test\"))\n",
    "except Exception as e:\n",
    "    print(e)"
   ]
  },
  {
   "cell_type": "markdown",
   "id": "cfcad19b",
   "metadata": {},
   "source": [
    "Получим ошибку, что доступ запрещен. Нам нужно сымитировать User-Agent (информацию о браузере, операционной системе и т.п.) и добавить эту инфу в заголовок запроса"
   ]
  },
  {
   "cell_type": "code",
   "execution_count": 10,
   "id": "f3bac872",
   "metadata": {},
   "outputs": [
    {
     "name": "stdout",
     "output_type": "stream",
     "text": [
      "b'<!doctype html><html itemscope=\"\" itemtype=\"http://schema.org/SearchResultsPage\" lang=\"ru\"><head><meta charset=\"UTF-8\"><meta content=\"origin\" name=\"referrer\"> <link href=\"/searchdomaincheck?format=opensearch\" title=\"\\xd0\\x9f\\xd0\\xbe\\xd0\\xb8\\xd1\\x81\\xd0\\xba \\xd0\\xb2 Google\" rel=\"search\" type=\"application/opensearchdescription+xml\"> <meta content=\"/images/branding/googleg/1x/googleg_standard_color_128dp.png\" itemprop=\"image\"><title>test - \\xd0\\x9f\\xd0\\xbe\\xd0\\xb8\\xd1\\x81\\xd0\\xba \\xd0\\xb2 Google</title><script nonce=\"Whi4tnW+leHcXwcOQKjqIw==\">(function(){window.google={kEI:\\'1bUgYaeLKo7M1sQP1NeIqA4\\',kEXPI:\\'31\\',kBL:\\'8pO8\\'};google.sn=\\'web\\';google.kHL=\\'ru\\';})();(function(){\\nvar f=this||self;var h,k=[];function l(a){for(var b;a&&(!a.getAttribute||!(b=a.getAttribute(\"eid\")));)a=a.parentNode;return b||h}function m(a){for(var b=null;a&&(!a.getAttribute||!(b=a.getAttribute(\"leid\")));)a=a.parentNode;return b}\\nfunction n(a,b,c,d,g){var e=\"\";c||-1!==b.search(\"&ei=\")||(e=\"&ei=\"+l(d),-1===b.search(\"&lei=\")&&(d=m(d))&&(e+=\"&lei=\"+d));d=\"\";!c&&f._cshid&&-1===b.search(\"&cshid'\n"
     ]
    }
   ],
   "source": [
    "try:\n",
    "    search_url = r\"https://www.google.com/search?q=test\"\n",
    "    headers = {}\n",
    "    headers['User-Agent'] = \"Mozilla/5.0 (Windows NT 10.0; Win64; x64) AppleWebKit/537.36 (KHTML, like Gecko) Chrome/64.0.3282.140 Safari/537.36 Edge/18.17763\"\n",
    "    head4req = lambda url, headers: urllib.request.Request(url, headers=headers)\n",
    "    print(open_url(head4req(search_url, headers))[0:1000])\n",
    "\n",
    "except Exception as e:\n",
    "    print(e)"
   ]
  },
  {
   "cell_type": "markdown",
   "id": "5d8b488e",
   "metadata": {},
   "source": [
    "----------------------"
   ]
  },
  {
   "cell_type": "markdown",
   "id": "4a3bf96e",
   "metadata": {},
   "source": [
    "## Обработка ошибок"
   ]
  },
  {
   "cell_type": "markdown",
   "id": "2f897921",
   "metadata": {},
   "source": [
    "В модуле error всего три класса ошибок: URLError, HTTPError, ContentTooShortError\n",
    "\n",
    "*(зачем они нужны, когда можно просто вызвать обычный класс Exception и проверить у него наличие атрибута code, имеющего значение 500?)*"
   ]
  },
  {
   "cell_type": "code",
   "execution_count": 5,
   "id": "c5add034",
   "metadata": {},
   "outputs": [],
   "source": [
    "import urllib.request\n",
    "from urllib.error import URLError, HTTPError, ContentTooShortError\n",
    "\n",
    "def download(url, num_retries=2):\n",
    "    print('Downloading:', url)\n",
    "    try:\n",
    "        html = urllib.request.urlopen(url).read()\n",
    "    except (URLError, HTTPError, ContentTooShortError) as e:\n",
    "        print('Download error:', e.reason)\n",
    "        html = None\n",
    "        if num_retries > 0:\n",
    "            if hasattr(e, 'code') and 500 <= e.code < 600: # recursively retry 5xx HTTP errors\n",
    "                return download(url, num_retries - 1)\n",
    "            elif hasattr(e, 'code') and e.code == 404:\n",
    "                print(404)\n",
    "    return html"
   ]
  },
  {
   "cell_type": "code",
   "execution_count": 6,
   "id": "9c775e3a",
   "metadata": {},
   "outputs": [
    {
     "name": "stdout",
     "output_type": "stream",
     "text": [
      "Downloading: http://httpstat.us/500\n",
      "Download error: Forbidden\n"
     ]
    }
   ],
   "source": [
    "download('http://httpstat.us/500')"
   ]
  },
  {
   "cell_type": "code",
   "execution_count": 7,
   "id": "dea9913b",
   "metadata": {},
   "outputs": [
    {
     "name": "stdout",
     "output_type": "stream",
     "text": [
      "Downloading: https://translate.google.com/nothing\n",
      "Download error: Forbidden\n"
     ]
    }
   ],
   "source": [
    "download('https://translate.google.com/nothing')"
   ]
  },
  {
   "cell_type": "markdown",
   "id": "bc85a93c",
   "metadata": {},
   "source": [
    "-----------------------"
   ]
  },
  {
   "cell_type": "markdown",
   "id": "c02b66d8",
   "metadata": {},
   "source": [
    "## robot.txt"
   ]
  },
  {
   "cell_type": "code",
   "execution_count": 67,
   "id": "c23ca508",
   "metadata": {},
   "outputs": [],
   "source": [
    "from urllib import robotparser\n",
    "robot_parser = robotparser.RobotFileParser()\n",
    "\n",
    "def prepare(robot_txt_url):\n",
    "    robot_parser.set_url(robot_txt_url)\n",
    "    robot_parser.read()\n",
    "    \n",
    "def is_allowed(target_url, user_agent=\"*\"):\n",
    "    return robot_parser.can_fetch(user_agent, target_url)"
   ]
  },
  {
   "cell_type": "code",
   "execution_count": 68,
   "id": "bbea3e43",
   "metadata": {},
   "outputs": [
    {
     "name": "stdout",
     "output_type": "stream",
     "text": [
      "True\n",
      "False\n"
     ]
    }
   ],
   "source": [
    "prepare(\"https://vk.com/robots.txt\")\n",
    "print(is_allowed(\"https://vk.com/physics_math?w=wall-51126445_88757\"))\n",
    "print(is_allowed(\"https://vk.com/im?sel=621050817\"))"
   ]
  },
  {
   "cell_type": "markdown",
   "id": "82a39998",
   "metadata": {},
   "source": [
    "*Почему True, если:*"
   ]
  },
  {
   "cell_type": "raw",
   "id": "9ea4b188",
   "metadata": {},
   "source": [
    "User-agent: *\n",
    "Disallow: /doc*_\n",
    "Disallow: /away.php\n",
    "Disallow: /im?\n",
    "Disallow: /search*&*&*&\n",
    "Disallow: *?w=story\n",
    "Disallow: *?w=wall"
   ]
  },
  {
   "cell_type": "code",
   "execution_count": null,
   "id": "e9c191db",
   "metadata": {},
   "outputs": [],
   "source": []
  }
 ],
 "metadata": {
  "_draft": {
   "nbviewer_url": "https://gist.github.com/a7a069f45cdf1b8191888a696ce22d7d"
  },
  "gist": {
   "data": {
    "description": "Urllib и Requests",
    "public": false
   },
   "id": "a7a069f45cdf1b8191888a696ce22d7d"
  },
  "kernelspec": {
   "display_name": "Python 3 (ipykernel)",
   "language": "python",
   "name": "python3"
  },
  "language_info": {
   "codemirror_mode": {
    "name": "ipython",
    "version": 3
   },
   "file_extension": ".py",
   "mimetype": "text/x-python",
   "name": "python",
   "nbconvert_exporter": "python",
   "pygments_lexer": "ipython3",
   "version": "3.8.12"
  }
 },
 "nbformat": 4,
 "nbformat_minor": 5
}
